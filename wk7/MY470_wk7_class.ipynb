{
 "cells": [
  {
   "cell_type": "markdown",
   "metadata": {
    "slideshow": {
     "slide_type": "slide"
    }
   },
   "source": [
    "### MY470 Computer Programming\n",
    "# Unit Testing, Exceptions, and Assertions in Python\n",
    "# GitHub Copilot\n",
    "### Week 7 Lab"
   ]
  },
  {
   "cell_type": "markdown",
   "metadata": {},
   "source": [
    "- why is each iteration in a loop its own path?\n",
    "- so for modularity, multiple chunks of code? because I can only run the chunks of code seperately, unlike in R where I can highlight what I want to run or only that part will be run\n",
    "- if my code runs very long but produces an output, suggestst that my solution is inefficient but not necessarily wrong?\n",
    "- woudl you recommend general except blocks?\n",
    "- difference btween try else vs if else, could also use if condition and then use print\n",
    "- when assert vs try and except\n",
    "- modularising by using different chunks of code?\n",
    "- glass box testing is I just look at the code"
   ]
  },
  {
   "cell_type": "markdown",
   "metadata": {
    "slideshow": {
     "slide_type": "slide"
    }
   },
   "source": [
    "## Testing\n",
    "Running a program to confirm it works as intended\n",
    "\n",
    "## Debugging\n",
    "Fixing a program that does not work as intended"
   ]
  },
  {
   "cell_type": "markdown",
   "metadata": {
    "slideshow": {
     "slide_type": "-"
    }
   },
   "source": [
    "**Note:** You should design your program to facilitate testing and debugging. You should break your program into components (this is *modularity*). You should *document* (comments & doc strings) constraints and expectations using function specification. "
   ]
  },
  {
   "cell_type": "markdown",
   "metadata": {},
   "source": [
    "- multiple chunks of code?\n",
    "- method for each test case, \n",
    "- codes does not address empty space \n",
    "- dont come up wit test cases you dont know the answer to\n",
    "- code into py file, modules laways come in py files, classes and functions that need to be tested, imported into unit test file\n",
    "- always testing for stuff specified in function specification, not something else, dont go crazy with unit tests for problem set, looking at function specification and testing the possible ranges\n",
    "- will exit once integer is returned, while loop ex 2, careful about while loop, only works because in function and everythign stops when something is returned, or have break statement, "
   ]
  },
  {
   "cell_type": "markdown",
   "metadata": {
    "slideshow": {
     "slide_type": "slide"
    }
   },
   "source": [
    "## Unit Testing\n",
    "\n",
    "Verifies that individual units of the code work as expected. You generally work with the smallest atomic element of the code, such as a function or a method in a Class.\n",
    "\n",
    "### Random Testing\n",
    "*Explore a large set of random input values.*\n",
    "\n",
    "### Black-Box Testing\n",
    "*Focus on function specification.* First, we test the boundary conditions (i.e. empty list), then we test all natural partitions (type, i.e. numeric), finally we test extremes (i.e. very large values).\n",
    "\n",
    "### Glass-Box Testing\n",
    "*Focus on the code.* Here, we are testing every possible path through the program, so it is easier to be more thorough. We test all branches including ```if``` statements, ```except``` clauses, ```for``` loops, ```while``` loops (including not entering the loop), and recursive calls. "
   ]
  },
  {
   "cell_type": "markdown",
   "metadata": {},
   "source": [
    "- black box testing for assignment, test for possible range of values within functin specification, dont test outside, boundary conditions, natural partitions\n",
    "- dont focus too much on glas box testing, do that while writing code, loop or recursion, "
   ]
  },
  {
   "cell_type": "markdown",
   "metadata": {
    "slideshow": {
     "slide_type": "-"
    }
   },
   "source": [
    "**It is good to combine the ideas of black-box and glass-box testing!** "
   ]
  },
  {
   "cell_type": "markdown",
   "metadata": {
    "slideshow": {
     "slide_type": "slide"
    }
   },
   "source": [
    "## Steps of Testing\n",
    "\n",
    "1. **Make sure code runs** — remove syntax or static semantic errors\n",
    "2. **Unit testing** — test individual functions and methods\n",
    "3. **Regression testing** — fix bugs and perform 2) again\n",
    "4. **Integration testing** — test the program as a whole"
   ]
  },
  {
   "cell_type": "markdown",
   "metadata": {
    "slideshow": {
     "slide_type": "fragment"
    }
   },
   "source": [
    "### If your test fails, what should you do?"
   ]
  },
  {
   "cell_type": "markdown",
   "metadata": {
    "slideshow": {
     "slide_type": "fragment"
    }
   },
   "source": [
    "**Option 1:** Fix the bug / error.\n",
    "\n",
    "**Option 2:** Rewrite the function specification."
   ]
  },
  {
   "cell_type": "markdown",
   "metadata": {
    "slideshow": {
     "slide_type": "slide"
    }
   },
   "source": [
    "## `.ipynb` and `.py`\n",
    "\n",
    "For Jupyter notebooks the file extension is `.ipynb` which stands for Interactive Python Notebook. We can't run these files in the command line. \n",
    "\n",
    "However, we can run python files, which have the extension `.py`.\n",
    "\n",
    "We can convert a Jupyter notebook to an `.py` file. To do this go to:\n",
    "\n",
    "    File > Save As > Format [Python]\n",
    "\n",
    "Note that when you download a jupyter notebook as a `.py` all the markdown is converted to comments."
   ]
  },
  {
   "cell_type": "markdown",
   "metadata": {},
   "source": [
    "- produce own iynb file for final and problem set 4, introduce new files in your repository, these woudl be .py file, \n",
    "- "
   ]
  },
  {
   "cell_type": "markdown",
   "metadata": {
    "slideshow": {
     "slide_type": "slide"
    }
   },
   "source": [
    "## Key Terms\n",
    "\n",
    "### Module \n",
    "Python files with a `.py` extension. The module is a simple Python file that contains collections of functions and global variables. Generally, a `.py` file is a **module** if it is made to be imported into another file and a `.py` file is a **script** if it is intended to be run directly.\n",
    "\n",
    "### Package\n",
    "A collection of modules within a directory. The directory contains Python modules as well as an `__init__.py` file by which the interpreter understands it as a Package. You don't have to write anything in `__init__.py` file but must be there in the directory.\n",
    "\n",
    "### Library\n",
    "A library is an umbrella term that loosely means \"a bundle of code.\" These can have tens or even hundreds of individual modules that can provide a wide range of functionality."
   ]
  },
  {
   "cell_type": "markdown",
   "metadata": {
    "slideshow": {
     "slide_type": "slide"
    }
   },
   "source": [
    "## Using the Terminal in VS Code\n",
    "\n",
    "Use the `Toggle Panel` button in the top right corner to display the lower panel. Select `TERMINAL` from it.\n",
    "\n",
    "The output in the Terminal shows the current working directory and the user. If the current working directory is not where the file you want to run is, you should change it:\n",
    "\n",
    "``` bash\n",
    "# Use \"cd\" to change your current directory to a new destination \n",
    "# So, to go to the \"MY470\" folder:\n",
    "cd Users/Milena/Documents/MY470\n",
    "\n",
    "# If your file path has a space in it, wrap the file path in quotes\n",
    "cd \"Users/Milena/Documents/MY 470\"\n",
    "```"
   ]
  },
  {
   "cell_type": "markdown",
   "metadata": {
    "slideshow": {
     "slide_type": "slide"
    }
   },
   "source": [
    "## Running Code in the Terminal in VS Code\n",
    "\n",
    "To run the code, you can press the triangle button in the upper right corner that says `Run Python File`.\n",
    "\n",
    "Alternatively, you can type `python` or `python3` followed by the name of the `.py` file in the command line in the Terminal panel. \n",
    "\n",
    "In either case, remember that you need to be in the directory of the file that you want to run or otherwise python will not be able to find it.\n",
    "\n",
    "\n",
    "``` bash\n",
    "# Run the python file\n",
    "> python3 test_leading.py\n",
    "\n",
    "```"
   ]
  },
  {
   "cell_type": "markdown",
   "metadata": {
    "slideshow": {
     "slide_type": "notes"
    }
   },
   "source": [
    "**The default python interpreter in VS Code may not be the Ananconda one, which means that you will not be able to access its installed packages and libraries.** If you want to change this, go to `Code > Preferences > Settings > Extensions > Python` and change the `Default Interpreter Path`."
   ]
  },
  {
   "cell_type": "markdown",
   "metadata": {
    "slideshow": {
     "slide_type": "slide"
    }
   },
   "source": [
    "## Structuring Your Programs with `.py` Files\n",
    "\n",
    "* Keep functions/classes that are logically related in the same `.py` file\n",
    "    * E.g. `tests.py`, `tools.py`, `plots.py`\n",
    "* Keep the main execution code in a `.ipynb` or `.py` file\n",
    "* Import modules to access functions/classes\n",
    "    "
   ]
  },
  {
   "cell_type": "code",
   "execution_count": 4,
   "metadata": {
    "slideshow": {
     "slide_type": "-"
    }
   },
   "outputs": [
    {
     "name": "stdout",
     "output_type": "stream",
     "text": [
      "[6, 8, 11, 15, 20]\n"
     ]
    }
   ],
   "source": [
    "# A module saved in the same directory\n",
    "import tools\n",
    "\n",
    "ls = [1, 2, 3, 4, 5]\n",
    "\n",
    "# Function from module\n",
    "tools.running_sum(ls)\n",
    "\n",
    "print(ls)"
   ]
  },
  {
   "cell_type": "markdown",
   "metadata": {
    "slideshow": {
     "slide_type": "slide"
    }
   },
   "source": [
    "## General Structure of `.py` Files\n",
    "\n",
    "``` python\n",
    "\n",
    "# Start with importing required modules\n",
    "import some_module\n",
    "\n",
    "# Define any required global variables\n",
    "GlOB_VAR = None\n",
    "\n",
    "# Start with main() function to define what to do if the file\n",
    "# is ran as a script.\n",
    "def main():\n",
    "    pass\n",
    "\n",
    "# Define classes and/or functions\n",
    "def your_function():\n",
    "    pass\n",
    "\n",
    "# End your code with this statement\n",
    "if __name__ == '__main__': \n",
    "    main()\n",
    "```"
   ]
  },
  {
   "cell_type": "markdown",
   "metadata": {},
   "source": [
    "- general structure, not just for testing\n",
    "- break your code into multiple .py files, grouping functions depending on what we do, reading the data as one module, merging data from diffferent sources, transforms data in different ways, one for plotting, one for analysis, way to break complex tasks into chunks \n",
    "- unit tests always separate, main file for importing everything \n",
    "- will have pynb and two py file, one for function and one for test, at least one for the test\n",
    "- for final exam, expected to have multiplle py files, bring htem into pynb file to produce output\n",
    "- py imports on top, want to tell the user what they need to run the programme, \n",
    "- global variables defined, fixed parameters used throughout, might change in idffrent runs of the programme, define that right after imports\n",
    "- main function typically, then whatever comes next are classes and methods or functions\n",
    "- name: if the name scope is main, then run this main function: would tell the programme what to do if you want to execute file as a script, if importing the file, then this variable is no longer main, it is the name of the module (instead of __main__), then this would be false and will not execute \n",
    "if run as module, then just read the rest, if importing as module, all global variables will also be imported, \n",
    "- run only if run as script, \n",
    "- main could be empty or basic functionality"
   ]
  },
  {
   "cell_type": "markdown",
   "metadata": {
    "slideshow": {
     "slide_type": "slide"
    }
   },
   "source": [
    "## Understanding `if __name__ == '__main__':`\n",
    "\n",
    "Whenever python runs a file it sets some special variables. `__name__` is one of these special variables.\n",
    "\n",
    "`__name__` is `__main__` if we run the file directly.\n",
    "\n",
    "If we import the file, `__name__` is set to the name of the python file, without the `.py` extension (i.e. `using_name`).\n",
    "\n",
    "We use this because there are cases where we want to run the code as the main file, and run different code if it is imported."
   ]
  },
  {
   "cell_type": "markdown",
   "metadata": {
    "slideshow": {
     "slide_type": "fragment"
    }
   },
   "source": [
    "Anything that comes after if `__name__ == '__main__':` will be run only when you explicitly run your file. \n",
    "\n",
    "If you call your file elsewhere (import) nothing under `__name__ == '__main__':` will be called.\n"
   ]
  },
  {
   "cell_type": "markdown",
   "metadata": {
    "slideshow": {
     "slide_type": "slide"
    }
   },
   "source": [
    "## Understanding `if __name__ == '__main__':`\n",
    "\n",
    "Assume that we have a file that is called `using_name.py`. The file contains the code below.\n",
    "\n",
    "``` python\n",
    "# Filename: using_name.py\n",
    "if __name__ == '__main__':\n",
    "    print('This program is being run by itself')\n",
    "else:\n",
    "    print('I am being imported from another module')\n",
    "```"
   ]
  },
  {
   "cell_type": "markdown",
   "metadata": {},
   "source": [
    "- question 1, the first print statement will be printed\n",
    "- when imported name, when we import it, if will be false, thus else will get printed, when import modules, might get warnings about versions, incompatability\n",
    "- every single module, dont call main from a module, main reserved for running it directly, dont want to touch main through a module, if oyu want to run main, then run it as a script or define function"
   ]
  },
  {
   "cell_type": "markdown",
   "metadata": {
    "slideshow": {
     "slide_type": "-"
    }
   },
   "source": [
    "#### Question 1\n",
    "\n",
    "If I were to run the files directly (below), what output would I see?\n",
    "```bash\n",
    "> python3 using_name.py\n",
    "```\n",
    "\n",
    "#### Question 2\n",
    "\n",
    "If I were to import the file into another (below), what output would I see?\n",
    "```\n",
    "import using_name\n",
    "```"
   ]
  },
  {
   "cell_type": "markdown",
   "metadata": {
    "slideshow": {
     "slide_type": "slide"
    }
   },
   "source": [
    "## Testing with `unittest`\n",
    "\n",
    "* Create a `.py` file (or several for more complex projects) for unit tests\n",
    "* Use a separate class for each function or method you are testing\n",
    "* Consult the documentation to find the assert method you should use\n",
    "* Do not define your own `main()`, use `unittest.main()` instead\n",
    "* **Do not include testing in the main program!**"
   ]
  },
  {
   "cell_type": "markdown",
   "metadata": {},
   "source": [
    "- dont write your own main for unit testing\n",
    "- def go to the documentation of the unti tests, different ways in which you can interact with data depending on what data are, assert true or false, compare floats, compare if something is empty, assertEqual, other methods you can use for different inputs and outputs\n",
    "- tutorials on youtube for how to use copilot\n",
    "\n",
    "- chat quite useful, if misunderstand a concept, use gopilot chat, \n",
    "- where you think they are helping you and making things worse, this is worst case scenario\n",
    "- have to edit tests produced by copilot, dont take it for granted \n",
    "- "
   ]
  },
  {
   "cell_type": "markdown",
   "metadata": {
    "slideshow": {
     "slide_type": "slide"
    }
   },
   "source": [
    "## Working with GitHub Copilot\n",
    "\n",
    "1. Make sure you have applied for free student access via [GitHub Education](https://education.github.com/discount_requests/application).\n",
    "2. Install the GitHub Copilot extension in VS Code and log in with your GitHub student account.\n",
    "3. Copilot icon should appear in bottom right corner when properly installed.\n",
    "4. Code and comment/documentation suggestions would pop up as you write. You can accept the suggestion with `Tab` and then edit if necessary."
   ]
  },
  {
   "cell_type": "markdown",
   "metadata": {
    "slideshow": {
     "slide_type": "slide"
    }
   },
   "source": [
    "## Best Practice with GitHub Copilot\n",
    "\n",
    "For best results, **provide context** with:\n",
    "\n",
    "1. Comments on module, function, or code\n",
    "2. Doctring of function\n",
    "3. Informative function and variable names\n",
    "4. Imports, open files, library documentation, etc."
   ]
  },
  {
   "cell_type": "markdown",
   "metadata": {},
   "source": [
    "- youtube videos by vs code or vloggers for advice, works better if you provide more ocntext, when writing comments well for yourself, will more easily understand what you are trying to do\n",
    "- docstrings for helping copilot understand what your fucntion is trying to do, dont take first suggestion you get, \n",
    "- the more prompts, the more you set up the environmnt, still have to review it\n",
    "- might as well write it yourself in the same time\n",
    "- harder to debug than write code"
   ]
  },
  {
   "cell_type": "markdown",
   "metadata": {
    "slideshow": {
     "slide_type": "fragment"
    }
   },
   "source": [
    "**Remember, you remain the pilot!** Copilot can assist you but you need to prompt it correctly and review and correct its suggestions."
   ]
  },
  {
   "cell_type": "markdown",
   "metadata": {
    "slideshow": {
     "slide_type": "-"
    }
   },
   "source": [
    "**It takes practice to learn how to prompt Copilot best, as well as to get used to its capabilities and pitfalls.** If it is more confusing/overwhelming than helpful, turn it off and write your code independently."
   ]
  },
  {
   "cell_type": "code",
   "execution_count": 1,
   "metadata": {
    "slideshow": {
     "slide_type": "slide"
    }
   },
   "outputs": [],
   "source": [
    "# Exercise 1: Using unittest, write all informative tests \n",
    "# for the program below. Save the program in a file called \n",
    "# leading.py and the tests in a file called test_leading.py. \n",
    "# Then run the tests.\n",
    "\n",
    "# What cases should we test for?\n",
    "\n",
    "def leading_substrings(s):\n",
    "    \"\"\"Take string s as input and return a list of all \n",
    "    the substrings that start from the beginning.\n",
    "    E.g., leading_substrings('bear') will return \n",
    "    ['b', 'be', 'bea', 'bear'].\n",
    "    \"\"\"\n",
    "    return [s[:i+1] for i in range(len(s))]\n"
   ]
  },
  {
   "cell_type": "markdown",
   "metadata": {},
   "source": [
    "move code into py file leading.py, run main function directly, separate py file to write out using unittest module write out unit tests for this one unit, one class with several methods that test different possible inpput values within functino specification, have string, how can this string perform, not asking what if int or other type, what kind of values coudl that string take and would your function work for different kinds of strings"
   ]
  },
  {
   "cell_type": "code",
   "execution_count": null,
   "metadata": {},
   "outputs": [],
   "source": [
    "# - assert, use asserts data type, use the built in assert erorrs, try and, try for processing input if you wnat to capture particular leves, then except \n",
    "#ä and name the error\n",
    "# errors will work regardless, can also let it fail using built in error, if you want to catch those erros and special treatment, \n",
    "# coudl be your unique custom warning, type error, if particiualr type of data, can pin point which type we are talking about, raise statemetn\n",
    "# be more specific to help user, can handle it using default value or ignoring it, or \n",
    "# for errors, use try except, dont want to print errors ususally\n",
    "# if you want to warn the user, can use warning tpye, raises message but code will continue running, with printing you dont watn to use that too much\n",
    "# "
   ]
  },
  {
   "cell_type": "code",
   "execution_count": null,
   "metadata": {
    "collapsed": true,
    "slideshow": {
     "slide_type": "slide"
    }
   },
   "outputs": [],
   "source": [
    "# Exercise 2: Rewrite the function below with \n",
    "# try and except to handle situations in which the user \n",
    "# does not enter an integer.\n",
    "\n",
    "def get_user_age():\n",
    "    \"\"\"Ask user to input their age and return the input \n",
    "    as an integer.\n",
    "    \"\"\"\n",
    "    s = input(\"Please enter your age: \")\n",
    "    return int(s)\n"
   ]
  },
  {
   "cell_type": "code",
   "execution_count": null,
   "metadata": {
    "collapsed": true,
    "slideshow": {
     "slide_type": "slide"
    }
   },
   "outputs": [],
   "source": [
    "# Exercise 3: Consider the function below. Rewrite the function \n",
    "# with try and except to handle the situation when the list \n",
    "# with the name provided doesn't exist in the dictionary yet, \n",
    "# instead of checking beforehand whether it does. Include else and \n",
    "# finally clauses to print the text as in the original function.\n",
    "\n",
    "def add_to_list_in_dict(dic, lname, element):\n",
    "    \"\"\"Add element to list with lname in dictionary dic.\"\"\"\n",
    "    \n",
    "    if lname not in dic:\n",
    "        dic[lname] = []\n",
    "        print('Added', lname, 'to dictionary')\n",
    "    else:\n",
    "        x = dic[lname]\n",
    "        print(lname, 'already has', len(x), 'items')\n",
    "        \n",
    "    dic[lname].append(element)\n",
    "    print('Item', element, 'successfully added to', lname)\n"
   ]
  }
 ],
 "metadata": {
  "celltoolbar": "Slideshow",
  "kernelspec": {
   "display_name": "Python 3 (ipykernel)",
   "language": "python",
   "name": "python3"
  },
  "language_info": {
   "codemirror_mode": {
    "name": "ipython",
    "version": 3
   },
   "file_extension": ".py",
   "mimetype": "text/x-python",
   "name": "python",
   "nbconvert_exporter": "python",
   "pygments_lexer": "ipython3",
   "version": "3.9.7"
  }
 },
 "nbformat": 4,
 "nbformat_minor": 2
}
