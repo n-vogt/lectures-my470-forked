{
 "cells": [
  {
   "cell_type": "markdown",
   "metadata": {
    "slideshow": {
     "slide_type": "slide"
    }
   },
   "source": [
    "### MY470 Computer Programming\n",
    "# Testing and Debugging in Python\n",
    "### Week 7 Lecture"
   ]
  },
  {
   "cell_type": "markdown",
   "metadata": {},
   "source": [
    "- he said we should not use the print statement in functions normally, but may for debugging"
   ]
  },
  {
   "cell_type": "markdown",
   "metadata": {
    "slideshow": {
     "slide_type": "slide"
    }
   },
   "source": [
    "## Overview\n",
    "\n",
    "* Testing\n",
    "    * Random, black-box, and glass-box testing\n",
    "    * Unit, regression, and integration testing\n",
    "* Debugging\n",
    "    * Overt and covert bugs\n",
    "    * Persistent and intermittent bugs\n",
    "    * Debugging strategies and techniques\n",
    "* Defensive programming\n",
    "    * Exceptions\n",
    "    * Assertions"
   ]
  },
  {
   "cell_type": "markdown",
   "metadata": {
    "slideshow": {
     "slide_type": "slide"
    }
   },
   "source": [
    "## Testing\n",
    "\n",
    "* Running a program to confirm that it works as intended\n",
    "\n",
    "## Debugging\n",
    "\n",
    "* Fixing a program that does not work as intended"
   ]
  },
  {
   "cell_type": "markdown",
   "metadata": {},
   "source": [
    "- Interconnected, doing one while doing the other simultaneously\n",
    "- **testing: whether the output we get or the functionality we assume actually happens**\n",
    "    - test as: written some code that takes an input and produces some output, can test whether for given input where you know the output, whether this output is returned\n",
    "    - more general: written some code and see whether the code actually runs or does it fail to execute\n",
    "- debugging: why did test fail\n",
    "- **those two things are iterative:** \n",
    "    - test: whether we have bug\n",
    "    - debugging: remove the bug\n",
    "        - need to check that there are now not more bugs\n",
    "        - or that debugging exercise actually worked \n",
    "        -> once debugged, go back to testing, might find another bug"
   ]
  },
  {
   "cell_type": "markdown",
   "metadata": {
    "slideshow": {
     "slide_type": "slide"
    }
   },
   "source": [
    "## Design Your Programs to Facilitate Testing and Debugging\n",
    "\n",
    "1. ⚙️ Break program into separate components (functions and classes)\n",
    "\n",
    "2. 📖 Document constraints using function specifications\n",
    "\n",
    "3. 📖 Document assumptions and logic using code comments"
   ]
  },
  {
   "cell_type": "markdown",
   "metadata": {},
   "source": [
    "- facilitates testing: easy to run tests that find bugs\n",
    "- facilitates debugging: easy for you to fix problem once diagnosed\n",
    "- **3 ground rules we want to enforce**\n",
    "    - (1) break our code up as much as possible -> diff functions, classes, module, making code more modular, more functional\n",
    "        - when testing, can test each of the things we have written\n",
    "        - if multiple functions, can write tests at much smaller level\n",
    "        - if not broken code up, difficult to test it at intermediate steps\n",
    "        - if broken code up nicely, modularised, easier to figure out where bugs lie \n",
    "    - (2) Commenting your Code, Docstrings \n",
    "        - document any constraints when using function\n",
    "        - if miswritten your code, code might not impose the right restrictions\n",
    "        - assumptions\n",
    "    - (3) ground rules: code is read many more times than it is written"
   ]
  },
  {
   "cell_type": "markdown",
   "metadata": {
    "slideshow": {
     "slide_type": "slide"
    }
   },
   "source": [
    "## Random Testing\n",
    "\n",
    "* Explore a large set of random values\n",
    "\n",
    "## Black-Box Testing\n",
    "\n",
    "* Focus on the specification\n",
    "\n",
    "## Glass-Box Testing\n",
    "\n",
    "* Focus on the code\n"
   ]
  },
  {
   "cell_type": "markdown",
   "metadata": {},
   "source": [
    "- Random Testing\n",
    "    - just feed stuff into your function and see whether what you get out is what you expect\n",
    "    - do it constantly, important\n",
    "- Black Box Testing\n",
    "    - dont need to see what happens in the code\n",
    "    - write programme, sits in black box, cannot see how it works, input and output should correspond, useful way to think about testing\n",
    "    - if we can write tests, if i put this in and i should get this out, we can test that, does not matter what happens on the inside, if code well written or not\n",
    "\n",
    "    - Test all natural partitions: if function takes int or float, interested in both pos and neg numbers, test on both, test on 0 as well, different parts of number line; on int and floats if your function takes both; \n",
    "    - test boundary conditions: not only for lists; boundary cases where there is unique input, does not matter what is in there, as long as single element\n",
    "    - test extremes: large neg numbers, incredibly close to 0, long string input vs short string"
   ]
  },
  {
   "cell_type": "markdown",
   "metadata": {
    "slideshow": {
     "slide_type": "slide"
    }
   },
   "source": [
    "## Black-Box Testing\n",
    "\n",
    "* Tester is presumed ignorant of the code\n",
    "* Focus on the specification\n",
    "* Robust to changes in the implementation\n",
    "\n",
    "### (1) Test all natural partitions\n",
    "\n",
    "*  E.g., for numbers, test a negative number, `0`, integer, and float (if in specification)\n",
    "\n",
    "### (2) Test boundary conditions\n",
    "\n",
    "* E.g., for lists, test for `[], ['one element'], [['list'], ['of'], ['lists']]`, and aliasing\n",
    "\n",
    "### (3) Test extremes\n",
    "\n",
    "* E.g., for numbers, test for very small, typical, and very large values\n"
   ]
  },
  {
   "cell_type": "markdown",
   "metadata": {
    "slideshow": {
     "slide_type": "slide"
    }
   },
   "source": [
    "## Example: Black-Box Testing\n",
    "\n",
    "```\n",
    "def sqrt(x, eps):\n",
    "    \"\"\"Assumes x, eps floats, x >= 0, eps > 0.\n",
    "    Returns res such that x - eps <= res*res <= x + eps.\n",
    "    \"\"\"\n",
    "```"
   ]
  },
  {
   "cell_type": "markdown",
   "metadata": {
    "slideshow": {
     "slide_type": "fragment"
    }
   },
   "source": [
    "| Case   | x  | eps   \n",
    "| :----: |:------:| :----------------------\n",
    "| boundary | 0         | 0.0001            \n",
    "| natural partition | 25    | 0.0001  \n",
    "| natural partition | 0.5    | 0.0001 \n",
    "| natural partition | 2    | 0.0001 \n",
    "| extreme | 2    | 0.5\\*\\*64\n",
    "| extreme | 0.5\\*\\*64  | 0.5\\*\\*64\n",
    "| extreme | 2\\*\\*64    | 0.5\\*\\*64\n",
    "| extreme | 0.5\\*\\*64  | 2\\*\\*64\n",
    "| extreme | 2\\*\\*64    | 2\\*\\*64\n"
   ]
  },
  {
   "cell_type": "markdown",
   "metadata": {},
   "source": [
    "- 25 normal value, square root of 5\n",
    "- decimal will operate differently\n",
    "- int that gives us decimal back\n",
    "=> 3 natural partitions\n",
    "- dont need to try for 25, 49 and 81\n",
    "- not necessarily super scientific approach\n",
    "- extreme values: whether typical value of x, very small value of x and big value of epsilon, big value of x and epsilon"
   ]
  },
  {
   "cell_type": "markdown",
   "metadata": {
    "slideshow": {
     "slide_type": "slide"
    }
   },
   "source": [
    "## Glass-Box Testing\n",
    "\n",
    "* **Focus on the code**\n",
    "* Easier to construct and make more thorough\n",
    "\n",
    "### Aim for path-complete glass-box tests — testing every possible path through the program\n",
    "\n",
    "* Test both branches of `if` statetments\n",
    "* Test  all `except` clauses\n",
    "* For `for` loops, test not entering loop, entering once, and entering multiple times\n",
    "* For `while` loops, test not entering loop, entering once, entering multiple times, and exiting the loop in every possible way\n",
    "* For recursive functions, test no recursive calls, one recursive call, and multiple recursive calls\n"
   ]
  },
  {
   "cell_type": "markdown",
   "metadata": {},
   "source": [
    "- **Glass box testing is the opposite: dont care too much about what we put in and get out, we care about whether each part of the code is working properly**\n",
    "- **dont care about the entire programme but smaller elements of the code**\n",
    "- **be extremely thorough in exploring al lthe different ways in which our programme can operate based on different starting values**\n",
    "- different paths in complex programmes: \n",
    "    - branching if statements\n",
    "    - for and while loops: any iterations represents different path\n",
    "    - path different how many iterations of while loop you run through, whether you branch off here or there\n",
    "    - test each of runs through the path\n",
    "- why this instead of black box testing?\n",
    "    - **if missed particular edge case, if black box not complete, cannot test everything with black box**\n",
    "    - making sure, on any potential run through (because black box incomplete), find out problems\n",
    "- **likewise, black box testing can help you when glass box testing is not complete** because can explore every space in programme but if not explored all, if not explored all possible types of inputs, with different input might fail\n",
    "- if branch: check all your branches\n",
    "- except: get ot that later, all except clauses\n",
    "- for loops: if you dont enter the loop, only enter one time, enter multiple times\n",
    "    - starting values matters a lot, indexing of that value matters\n",
    "- for while loop the same, also check existing\n",
    "- recusrive functions: doing it once, multiple times"
   ]
  },
  {
   "cell_type": "markdown",
   "metadata": {
    "slideshow": {
     "slide_type": "slide"
    }
   },
   "source": [
    "## Example: Glass-Box Testing\n",
    "\n",
    "```\n",
    "def abs(x):\n",
    "    \"\"\"Assumes x is an int.\n",
    "    Returns x if x >= 0 and -x otherwise.\n",
    "    \"\"\"\n",
    "    if x < -1:\n",
    "        return -x\n",
    "    else:\n",
    "        return x\n",
    "```"
   ]
  },
  {
   "cell_type": "markdown",
   "metadata": {
    "slideshow": {
     "slide_type": "fragment"
    }
   },
   "source": [
    "* Path complete test: 2 and -2\n",
    "* But `abs(-1)` returns `-1`!\n",
    "* Always combine with black-box testing!"
   ]
  },
  {
   "cell_type": "markdown",
   "metadata": {
    "slideshow": {
     "slide_type": "slide"
    }
   },
   "source": [
    "## Conducting Tests\n",
    "\n",
    "1. **Make sure code runs** — remove syntax or static semantic errors\n",
    "2. **Unit testing** — test individual functions and methods\n",
    "3. **Regression testing** — fix bugs and perform 2) again\n",
    "4. **Integration testing** — test the program as a whole\n",
    "\n",
    "\n",
    "## If test fails:\n",
    "\n",
    "* Fix bug in code\n",
    "* Modify specification"
   ]
  },
  {
   "cell_type": "markdown",
   "metadata": {},
   "source": [
    "- **HOW DO I DO UNIT TESTING?**"
   ]
  },
  {
   "cell_type": "markdown",
   "metadata": {},
   "source": [
    "Four broad things you want to do when testing\n",
    "- (1) Code runs, nothing that interrupts\n",
    "- (2) for every single unit of code (function and method in python), know whether htat specific unit operats as expected,\n",
    "    - BUT: provides no guarantee that jsut because the units work, that the entire thing works\n",
    "- (3) regression testing: iterative step from before: every time you debug, always introduce new bugs, check for regression, is your code regressing to a  place where new bug is affecting the code \n",
    "- (4) bring it all together, whether whole programme performs the way you expect it to"
   ]
  },
  {
   "cell_type": "markdown",
   "metadata": {},
   "source": [
    "- unit testing form of black box testing broadly speaking\n",
    "- but glass box testing, you do that from the beginning too eg for if clause"
   ]
  },
  {
   "cell_type": "markdown",
   "metadata": {
    "slideshow": {
     "slide_type": "slide"
    }
   },
   "source": [
    "## Example: Unit Testing"
   ]
  },
  {
   "cell_type": "code",
   "execution_count": 2,
   "metadata": {
    "collapsed": true,
    "slideshow": {
     "slide_type": "-"
    }
   },
   "outputs": [],
   "source": [
    "# Example taken from Gries et al. 2013. Practical Programming: An Introduction \n",
    "# to Computer Science Using Python 3\n",
    "\n",
    "def running_sum(ls):\n",
    "    \"\"\"Modify list ls so that it contains the running sums of its original items.\n",
    "    E.g., running_sum([1, 2, 3]) updates the list to [1, 3, 6].\n",
    "    \"\"\"\n",
    "    \n",
    "    for i in range(len(ls)):\n",
    "        ls[i] = ls[i - 1] + ls[i]\n"
   ]
  },
  {
   "cell_type": "code",
   "execution_count": null,
   "metadata": {},
   "outputs": [],
   "source": [
    "# His script in the lecture \n",
    "# tools.py document: This defines the function of itnerest, that is the thing we want to evaluate\n",
    "\n",
    "\n",
    "\n",
    "def main():\n",
    "    ls = [1, 2, 3]\n",
    "    running_sum(ls)\n",
    "    print(\"Running Sum of [1, 2, 3] is:\", ls) # THIS PRINT STATEMENT IS IMPORTANT, OTHERWISE YOU WILL NOT SEE ANYTHING IN THE TERMINAL\n",
    "\n",
    "def running_sum(ls):\n",
    "    for i in range(len(ls)):\n",
    "        ls[i] = ls[i - 1] + ls[i]\n",
    "\n",
    "if __name__ == \"__main__\": \n",
    "# if you call this file from the console (python tools.py), it will execute the main function:\n",
    "# and the main() function is defined in relation to running_sum(), it basically runs a test case of running_sum() function\n",
    "    main()\n",
    "# if someone runs this from terminal, all that will run is main(): main() is test case of running_sum() and will print that case\n",
    "# important because we might want to import tools.py into a different chunk of code. If we import it as a module, then if __name__ etc is ignored"
   ]
  },
  {
   "cell_type": "code",
   "execution_count": null,
   "metadata": {},
   "outputs": [],
   "source": [
    "# Now we want to see whether there are bugs in this function, that we have in its separate file and that we wil import\n",
    "# we want to test this function, define some tests, see whether there are bugs in it\n",
    "# file tests.py \n",
    "# importing 2 modules\n",
    "\n",
    "import unittest\n",
    "import tools # this is the module we just wrote above tools.py\n",
    "\n",
    "class TestRunningSum(unittest.TestCase): # definign TestRunningSum as class, use unittest here alone \n",
    "    # TestCase MUST BE CAMEL CASE\n",
    "    # this is our suit of tests we want to run on our running sum function\n",
    "    # producing all of this for the function we want to test\n",
    "    \"\"\"Tests for running_sum()\"\"\"\n",
    "    def test_running_sum_empty(self):\n",
    "        inputted = []\n",
    "        tools.running_sum(inputted) # our function comes from the tools module (tools.py document but now used as a module)\n",
    "        output_expected = [] # not derived from running the function but derived from what we know about the intention behind the function, want empty list to return empty list\n",
    "        self.assertEqual(output_expected, inputted, \"The list is empty.\")\n",
    "        # assertEqual from unittest package to check for equality \n",
    "        # put some documentation about the particular case\n",
    "        # self.assertEqual: check whether output of both ise equal\n",
    "        # the first one is what it should be equal to, the second is the quantity you put in as the input\n",
    "        # if assertion fails, you get back this string as your documentation\n",
    "\n",
    "    def test_running_sum_one(self):\n",
    "        inputted = [2] # 2 is a choice, might have consequences, so think about it\n",
    "        tools.running_sum(inputted)\n",
    "        output_expected = [2]\n",
    "        self.assertEqual(output_expected, inputted, \"The list contains one item.\")\n",
    "\n",
    "if __name__ == '__main__':\n",
    "    unittest.main() # why now here not just main() like in tools.py but with unittest in front?\n",
    "    # Corey Schafer: if run this model directly, then run the code within the conditional\n",
    "    # and this unittest.main() will run all of our tests\n",
    "\n",
    "# Each of these is a test you have defined given the function you want to test, all bespoke, you have written the test\n",
    "# your abiliy to figure out what the appropriate tests are and to figure out what the correct way of specifying is\n",
    "# could go wrong if tests insufficient\n"
   ]
  },
  {
   "cell_type": "markdown",
   "metadata": {},
   "source": [
    "- See lecture for him coding\n",
    "- output_expected = [] -> the expected performance of function, not derived from running the function and seeing what happends but what we know behind the intention of the function\n",
    "- self.assertEqual from unittest package to check for equality, check whether output of this particular method is going to be equal to the expected  output \n",
    "- but why: class TestRunningSum(unittest.TestCase) -> what does this argument mean? \n",
    "- if the assertion fails, we will get back this string as your documentation\n",
    "- **test a one item list -> we choose 2 -> this may have consequences so you have to think about it**\n",
    "\n",
    "- each of these is a test that you have defined given the function you want to test\n",
    "- these are all bespoke, you have written the test, does not come from python, they come form your ability to figure out what the correct tests are and how to specify them, can go all horribly wrong, all subject to error, be quite careful with this\n",
    "- if you make any more changes, you have to keep testing and keep iterating over the code \n",
    "- combinging both black and glass box testing "
   ]
  },
  {
   "cell_type": "markdown",
   "metadata": {
    "slideshow": {
     "slide_type": "fragment"
    }
   },
   "source": [
    "| Case   | List before  | List after   \n",
    "| :----: |:------:| :----------------------\n",
    "| Empty list | `[]`         | `[]`           \n",
    "| One-item list | `[2]`    | `[2]`  \n",
    "| Two-item list | `[2, 5]`    | `[2, 7]` \n",
    "| Multiple items, all negative | `[-1, -5, -3, -4]`    | `[-1, -6, -9, -13]` \n",
    "| Multiple items, all positive | `[4, 2, 3, 6]`    | `[4, 6, 9, 15]`\n",
    "| Multiple items, all zero | `[0, 0, 0, 0]`  | `[0, 0, 0, 0]`\n",
    "| Multiple items, mixed | `[4, 0, 2, -5]`    | `[4, 4, 6, 1]`"
   ]
  },
  {
   "cell_type": "markdown",
   "metadata": {
    "slideshow": {
     "slide_type": "slide"
    }
   },
   "source": [
    "## Example: Unit Testing with `unittest`\n",
    "\n",
    "https://docs.python.org/3/library/unittest.html\n",
    "\n",
    "See files `tools.py` and `tests.py`."
   ]
  },
  {
   "cell_type": "markdown",
   "metadata": {
    "slideshow": {
     "slide_type": "fragment"
    }
   },
   "source": [
    "![Test fails](figs/test_fails.png \"Test fails\")"
   ]
  },
  {
   "cell_type": "markdown",
   "metadata": {
    "slideshow": {
     "slide_type": "slide"
    }
   },
   "source": [
    "## Example: Unit Testing with `unittest`"
   ]
  },
  {
   "cell_type": "code",
   "execution_count": 4,
   "metadata": {
    "collapsed": true,
    "scrolled": true,
    "slideshow": {
     "slide_type": "-"
    }
   },
   "outputs": [],
   "source": [
    "# Modify the function in the file tools.py as shown below\n",
    "\n",
    "def running_sum(ls):\n",
    "    \"\"\"Modify list ls so that it contains the running sums of its original items.\n",
    "    E.g., running_sum([1, 2, 3]) updates the list to [1, 3, 6].\n",
    "    \"\"\"\n",
    "    for i in range(1, len(ls)):\n",
    "        ls[i] = ls[i - 1] + ls[i]\n",
    "        \n",
    "# Then run the tests again        "
   ]
  },
  {
   "cell_type": "markdown",
   "metadata": {
    "slideshow": {
     "slide_type": "fragment"
    }
   },
   "source": [
    "![Test ok](figs/test_ok.png \"Test ok\")"
   ]
  },
  {
   "cell_type": "markdown",
   "metadata": {
    "slideshow": {
     "slide_type": "slide"
    }
   },
   "source": [
    "## [Debugging](https://www.youtube.com/watch?v=ocwnns57cYQ)\n",
    "\n",
    ">Debugging  is twice as hard as writing the code in the first place.\n",
    ">Therefore, if  you write the code as cleverly as possible, you are, \n",
    ">by  definition,  not smart enough to debug it. \n",
    "\n",
    ">– *Brian W. Kernighan*"
   ]
  },
  {
   "cell_type": "markdown",
   "metadata": {},
   "source": [
    "- invocation against the impulse we have to write code in as compact as clever way as possible. All code is read many more times than writtne\n",
    "- if clever and tricky to demonstrate how good you are, will always have problems, kernel of truth\n",
    "- once issue has been detected, what that issue is?\n",
    "- test just told us that the function did not work as anticipated. HEre just pass or fail\n",
    "- debugging is looking at code and figuring out the problem\n",
    "- those two things are separate "
   ]
  },
  {
   "cell_type": "markdown",
   "metadata": {
    "slideshow": {
     "slide_type": "slide"
    }
   },
   "source": [
    "## Types of Bugs\n",
    "\n",
    "![Types of bugs](figs/bugs_types.png \"Types of bugs\")"
   ]
  },
  {
   "cell_type": "markdown",
   "metadata": {},
   "source": [
    "- overt: crashes your programme, that is very covert\n",
    "- covert: dont even know that something has gone wrong\n",
    "- many more steps between input and output, appears in much bigger programme, if we had not tested that small function, everything else might be wrong, was just a helper function\n",
    "- covert very common: every time you change your data, do anything to your data, give yourself the possibility of covert bug appearing becaues unless strong expectation of what your data should look like after manipulation, happens all the time"
   ]
  },
  {
   "cell_type": "markdown",
   "metadata": {
    "slideshow": {
     "slide_type": "slide"
    }
   },
   "source": [
    "## Types of Bugs\n",
    "\n",
    "![Challenges of bugs](figs/bugs_difficulty.png \"Challenges of bugs\")"
   ]
  },
  {
   "cell_type": "markdown",
   "metadata": {},
   "source": [
    "- even though overt, dont happen often: if testing incomplete and we dont test for edge case, can fail to detect intermittent bugs\n",
    "    - test did not pick up because bug is so intermittent\n",
    "- for data science: can keep doing your data science but everythign you get out is wrong that you are not even aware of \n",
    "- this is about testing, so how do you debug"
   ]
  },
  {
   "cell_type": "markdown",
   "metadata": {
    "slideshow": {
     "slide_type": "slide"
    }
   },
   "source": [
    "## How to Debug in Two Easy Steps\n",
    "\n",
    "1. Use `print()`\n",
    "2. Be systematic\n"
   ]
  },
  {
   "cell_type": "markdown",
   "metadata": {},
   "source": [
    "- so far discouraged you from using print() within functions, only in debugging context, not building your function to use print()"
   ]
  },
  {
   "cell_type": "markdown",
   "metadata": {
    "slideshow": {
     "slide_type": "slide"
    }
   },
   "source": [
    "## Debugging with `print()`\n",
    "\n",
    "### Version 1\n",
    "\n",
    "* Print when function is entered, print the parameters, print the results\n",
    "\n",
    "### Version 2\n",
    "\n",
    "* Put `print()` halfway in code and use bisection method to identify the problem"
   ]
  },
  {
   "cell_type": "markdown",
   "metadata": {},
   "source": [
    "- Version 1\n",
    "    - print all the parameters, inputs, results every time your programme executes any function\n",
    "    - can look through that log, in which intermediate step is something going wrong\n",
    "    - print at each step, a bit cumbersome\n",
    "- Version 2\n",
    "    - more algorithmic way, print halfway through code, if everything is clean, then bug in the second half, then again print 3/4 through and keep going like that \n",
    "    - would recommend that  "
   ]
  },
  {
   "cell_type": "markdown",
   "metadata": {
    "slideshow": {
     "slide_type": "slide"
    }
   },
   "source": [
    "## Systematic Debugging\n",
    "\n",
    "1. Compare input in successful and failing runs\n",
    "2. Formulate a hypothesis\n",
    "3. Design an experiment to test the hypothesis; use `print()`\n",
    "4. Keep record of your experiment\n",
    "5. Repeat"
   ]
  },
  {
   "cell_type": "markdown",
   "metadata": {},
   "source": [
    "- look at all successful and unsuccessful input-output pairs, what is common? \n",
    "- if only affecting cases where floats, already a clue\n",
    "- then formulate hypothesis, given what I am observing, what is my hypothesis about going wrong\n",
    "- design an experiment: if float or int, intermediate function which can only accpet the two or doing something to the floats, code as it is and code with a change, maybe change the function, then run the broken code and fixed code and compare the results\n",
    "- maybe progress but new bug\n",
    "- keep record, a lot is ad hoc if you dont keep record then lose track of what you have learned, write comments in code \n",
    "- repeat until solved the problem"
   ]
  },
  {
   "cell_type": "markdown",
   "metadata": {
    "slideshow": {
     "slide_type": "slide"
    }
   },
   "source": [
    "## Additional Debugging Strategies\n",
    "\n",
    "* Use `try` and `except` to identify which data give the error \n",
    "* Watch out for the usual suspects — aliasing, failure to reinitialize a variable, testing equality between two floats, improper indentation, misspelling variable name, etc.\n",
    "* Stop debugging and start documenting your code/explaining it to someone else\n",
    "* Re-write the code using another approach\n",
    "* Sleep on it"
   ]
  },
  {
   "cell_type": "markdown",
   "metadata": {},
   "source": [
    "- aliasing: think you are referring to something immutable but referring to something mutable and changing every time you iterate it\n",
    "- failure to reinitlise: dont want to reinitialise the kernel, initial value no longer the same, check by reinitialising\n",
    "- testing equality between floats, often find it is not True even though it should be True, avoid doing that in general\n",
    "- use natural code to explain what code is doing\n",
    "    - using in line comments \n",
    "    - explain it to someone else\n",
    "    - ChatGpt or CodePilot \n",
    "- entirely new approach\n"
   ]
  },
  {
   "cell_type": "markdown",
   "metadata": {
    "slideshow": {
     "slide_type": "slide"
    }
   },
   "source": [
    "## Obligatory Nerdy Joke about Debugging\n",
    "\n",
    ">A physicist, an engineer, and a programmer are in a car driving over a steep alpine pass when the brakes fail. The car is getting faster and faster, they are struggling to get round the corners and once or twice only the feeble crash barrier saves them from crashing down the side of the mountain. They are sure they are all going to die, when suddenly they spot an escape lane. They pull into the escape lane, and come safely to a halt.\n",
    ">\n",
    ">The physicist says: \"We need to model the friction in the brake pads and the resultant temperature rise, see if we can work out why they failed.\"\n",
    ">\n",
    ">The engineer says: \"I think I've got a few spanners in the back. I'll take a look and see if I can work out what's wrong.\"\n",
    ">\n",
    ">The programmer says: \"Why don't we get going again and see if it's reproducible?\"\n",
    "\n",
    "Source: https://www.quora.com/What-are-the-most-popular-computer-programming-jokes"
   ]
  },
  {
   "cell_type": "markdown",
   "metadata": {
    "slideshow": {
     "slide_type": "slide"
    }
   },
   "source": [
    "## Defensive Programming\n",
    "\n",
    "![Defensive programming](figs/defensive_programming.png \"Defensive programming\")"
   ]
  },
  {
   "cell_type": "markdown",
   "metadata": {
    "slideshow": {
     "slide_type": "slide"
    }
   },
   "source": [
    "## Defensive Programming\n",
    "\n",
    "Aims to improve programs in terms of:\n",
    "\n",
    "* Reduce number of bugs and problems\n",
    "* Make code more understandable\n",
    "* Make program behavior more predictable regardless of user input and actions\n",
    "\n",
    "Can be achieved with:\n",
    "\n",
    "* ⚙️ Modularizing programs (using functions and classes)\n",
    "* 📖 Documenting constraints (using function specifications)\n",
    "* Checking conditions on inputs and outputs (using **assertions** and handling **exceptions**)\n"
   ]
  },
  {
   "cell_type": "markdown",
   "metadata": {},
   "source": [
    "- push all our bugs into green quadrant = Defensive programming\n",
    "- when you produce code that if there are problems they are easily detectable and appear all the time\n",
    "- take actions that you assume the worst, there will always be bugs, make them likely to appear \n",
    "- every single person makes mistakes\n",
    "\n",
    "- more predictable: moving from intermittent to persistent bugs\n",
    "    - if robust to users doing weird things, then much more likely to be in space where bugs always occur\n",
    "\n",
    "3 Strategies\n",
    "- (1) Modularising programmes\n",
    "    - Using functions and classes to break down what we do do into small units so we can test them and read them\n",
    "- (2) Documeting code and constraints\n",
    "    - what should this function be able to ingest and what should the output look like if you ingest them\n",
    "- (3) Always checking conditions, if for given function must be int or string, should check that, can assert that and flag problem if not"
   ]
  },
  {
   "cell_type": "markdown",
   "metadata": {
    "slideshow": {
     "slide_type": "slide"
    }
   },
   "source": [
    "## Exceptions"
   ]
  },
  {
   "cell_type": "code",
   "execution_count": 6,
   "metadata": {
    "slideshow": {
     "slide_type": "-"
    }
   },
   "outputs": [
    {
     "ename": "IndexError",
     "evalue": "list index out of range",
     "output_type": "error",
     "traceback": [
      "\u001b[0;31m---------------------------------------------------------------------------\u001b[0m",
      "\u001b[0;31mIndexError\u001b[0m                                Traceback (most recent call last)",
      "\u001b[0;32m<ipython-input-6-00f53dd6e32a>\u001b[0m in \u001b[0;36m<module>\u001b[0;34m()\u001b[0m\n\u001b[1;32m      1\u001b[0m \u001b[0mlst\u001b[0m \u001b[0;34m=\u001b[0m \u001b[0;34m[\u001b[0m\u001b[0;36m1\u001b[0m\u001b[0;34m,\u001b[0m \u001b[0;36m2\u001b[0m\u001b[0;34m,\u001b[0m \u001b[0;36m3\u001b[0m\u001b[0;34m]\u001b[0m\u001b[0;34m\u001b[0m\u001b[0m\n\u001b[0;32m----> 2\u001b[0;31m \u001b[0mlst\u001b[0m\u001b[0;34m[\u001b[0m\u001b[0;36m3\u001b[0m\u001b[0;34m]\u001b[0m\u001b[0;34m\u001b[0m\u001b[0m\n\u001b[0m",
      "\u001b[0;31mIndexError\u001b[0m: list index out of range"
     ]
    }
   ],
   "source": [
    "lst = [1, 2, 3]\n",
    "lst[3]"
   ]
  },
  {
   "cell_type": "markdown",
   "metadata": {},
   "source": [
    "- IndexError in-built error in Python\n",
    "- Python much nicer about errors, points to the error, R has strange errors\n",
    "- in-built exception in Python"
   ]
  },
  {
   "cell_type": "code",
   "execution_count": 1,
   "metadata": {
    "slideshow": {
     "slide_type": "-"
    }
   },
   "outputs": [
    {
     "ename": "ZeroDivisionError",
     "evalue": "division by zero",
     "output_type": "error",
     "traceback": [
      "\u001b[0;31m---------------------------------------------------------------------------\u001b[0m",
      "\u001b[0;31mZeroDivisionError\u001b[0m                         Traceback (most recent call last)",
      "\u001b[0;32m<ipython-input-1-df982fec2812>\u001b[0m in \u001b[0;36m<module>\u001b[0;34m\u001b[0m\n\u001b[0;32m----> 1\u001b[0;31m \u001b[0;36m12\u001b[0m \u001b[0;34m/\u001b[0m \u001b[0;36m0\u001b[0m\u001b[0;34m\u001b[0m\u001b[0;34m\u001b[0m\u001b[0m\n\u001b[0m",
      "\u001b[0;31mZeroDivisionError\u001b[0m: division by zero"
     ]
    }
   ],
   "source": [
    "12 / 0"
   ]
  },
  {
   "cell_type": "markdown",
   "metadata": {
    "slideshow": {
     "slide_type": "fragment"
    }
   },
   "source": [
    "If an exception is **raised** and not **handled** — the program crashes."
   ]
  },
  {
   "cell_type": "markdown",
   "metadata": {},
   "source": [
    "- if you do not handle exceptions, the code breaks, the interpreter raises an exception, if you dont handle them, everything breaks\n",
    "- cannot print hello, everything is broken"
   ]
  },
  {
   "cell_type": "markdown",
   "metadata": {
    "slideshow": {
     "slide_type": "slide"
    }
   },
   "source": [
    "## Common Types of Exceptions\n",
    "\n",
    "* `SyntaxEror` — trying to execute something Python cannot parse\n",
    "* `IndexError` — trying to access beyond a sequence's length\n",
    "* `TypeError` — trying to use inappropriate type\n",
    "* `NameError` — referencing a non-existing variable\n",
    "* `AttributeError` — trying to access a non-existing attribute (for a class)\n",
    "* `ValueError` — trying to use inappropriate value \n",
    "* `IOError` — most often, file not found"
   ]
  },
  {
   "cell_type": "markdown",
   "metadata": {
    "slideshow": {
     "slide_type": "slide"
    }
   },
   "source": [
    "## Hierarchy of the Exception Classes"
   ]
  },
  {
   "cell_type": "code",
   "execution_count": null,
   "metadata": {
    "collapsed": true,
    "slideshow": {
     "slide_type": "-"
    }
   },
   "outputs": [],
   "source": [
    "BaseException\n",
    " +-- SystemExit\n",
    " +-- KeyboardInterrupt\n",
    " +-- GeneratorExit\n",
    " +-- Exception\n",
    "      +-- StopIteration\n",
    "      +-- StopAsyncIteration\n",
    "      +-- ArithmeticError\n",
    "      |    +-- FloatingPointError\n",
    "      |    +-- OverflowError\n",
    "      |    +-- ZeroDivisionError\n",
    "      +-- AssertionError\n",
    "      +-- AttributeError\n",
    "      +-- BufferError\n",
    "      +-- EOFError\n",
    "      +-- ImportError\n",
    "      +-- LookupError\n",
    "      |    +-- IndexError\n",
    "      |    +-- KeyError\n",
    "      +-- MemoryError\n",
    "      +-- NameError\n",
    "      |    +-- UnboundLocalError\n",
    "      +-- OSError\n",
    "      |    +-- BlockingIOError\n",
    "      |    +-- ChildProcessError\n",
    "      |    +-- ConnectionError\n",
    "      |    |    +-- BrokenPipeError\n",
    "      |    |    +-- ConnectionAbortedError\n",
    "      |    |    +-- ConnectionRefusedError\n",
    "      |    |    +-- ConnectionResetError\n",
    "      |    +-- FileExistsError\n",
    "      |    +-- FileNotFoundError\n",
    "      |    +-- InterruptedError\n",
    "      |    +-- IsADirectoryError\n",
    "      |    +-- NotADirectoryError\n",
    "      |    +-- PermissionError\n",
    "      |    +-- ProcessLookupError\n",
    "      |    +-- TimeoutError\n",
    "      +-- ReferenceError\n",
    "      +-- RuntimeError\n",
    "      |    +-- NotImplementedError\n",
    "      |    +-- RecursionError\n",
    "      +-- SyntaxError\n",
    "      |    +-- IndentationError\n",
    "      |         +-- TabError\n",
    "      +-- SystemError\n",
    "      +-- TypeError\n",
    "      +-- ValueError\n",
    "      |    +-- UnicodeError\n",
    "      |         +-- UnicodeDecodeError\n",
    "      |         +-- UnicodeEncodeError\n",
    "      |         +-- UnicodeTranslateError\n",
    "      +-- Warning\n",
    "           +-- DeprecationWarning\n",
    "           +-- PendingDeprecationWarning\n",
    "           +-- RuntimeWarning\n",
    "           +-- SyntaxWarning\n",
    "           +-- UserWarning\n",
    "           +-- FutureWarning\n",
    "           +-- ImportWarning\n",
    "           +-- UnicodeWarning\n",
    "           +-- BytesWarning\n",
    "           +-- ResourceWarning"
   ]
  },
  {
   "cell_type": "markdown",
   "metadata": {},
   "source": [
    "- Warnings are exceptions that will not crash your programme, pay attention to Warning\n",
    "    - Warning Strings interpreted as factors: your string you think of character string has been turned into different type of object, data is fine but need to treat it differently, otherwise problem\n",
    "    - read the warning"
   ]
  },
  {
   "cell_type": "markdown",
   "metadata": {
    "slideshow": {
     "slide_type": "slide"
    }
   },
   "source": [
    "## Handling All Exceptions with `try` and `except`\n",
    "\n",
    "* If you know that a line of code may raise an exception when executed — handle it!"
   ]
  },
  {
   "cell_type": "code",
   "execution_count": 1,
   "metadata": {
    "slideshow": {
     "slide_type": "-"
    }
   },
   "outputs": [
    {
     "name": "stdout",
     "output_type": "stream",
     "text": [
      "Cannot divide given values.\n",
      "None\n",
      "Hello World!\n"
     ]
    }
   ],
   "source": [
    "def div(a, b):\n",
    "    \"\"\"Returns the result from dividing a by b.\"\"\"\n",
    "    try:\n",
    "        return a / b\n",
    "    except:\n",
    "        print(\"Cannot divide given values.\")\n",
    "    \n",
    "x = div(2, 'b')\n",
    "print(x)\n",
    "print(\"Hello World!\") # can now still execute this despite the exception"
   ]
  },
  {
   "cell_type": "markdown",
   "metadata": {},
   "source": [
    "- if input 1 / q, it would crash\n",
    "- if it works, then done but if it fails, if tries and exception raised, then we move to except part \n",
    "- similar in terms of structure to if else clause\n",
    "- if you indent except too much, then assumes that it belongs to nested try "
   ]
  },
  {
   "cell_type": "markdown",
   "metadata": {
    "slideshow": {
     "slide_type": "slide"
    }
   },
   "source": [
    "## Handling Specific Exceptions with `try` and `except`\n",
    "\n",
    "* If you know that a line of code may raise an exception when executed — handle it!"
   ]
  },
  {
   "cell_type": "code",
   "execution_count": 4,
   "metadata": {
    "slideshow": {
     "slide_type": "-"
    }
   },
   "outputs": [
    {
     "name": "stdout",
     "output_type": "stream",
     "text": [
      "Function should be used with numerical types.\n",
      "None\n",
      "Function should be used with numerical types.\n"
     ]
    }
   ],
   "source": [
    "def div(a, b):\n",
    "    \"\"\"Returns the result from dividing a by b.\"\"\"\n",
    "    try:\n",
    "        return a / b\n",
    "    except ZeroDivisionError:\n",
    "        print(\"Division by zero is undefined.\")\n",
    "    except TypeError:\n",
    "        print(\"Function should be used with numerical types.\")\n",
    "    \n",
    "x = div(2, [1, 2, 3])\n",
    "print(x)\n",
    "\n",
    "div(4.8, \"a\")"
   ]
  },
  {
   "cell_type": "markdown",
   "metadata": {},
   "source": [
    "- if you want the same print out for multiple specific errors, can also just use commas\n",
    "    - except ZeroDivisionError, TypeError: \n",
    "- operating even though problem is code, dont want to string together huge project, **this is powerful when batch applying a process like web scraping, will be useful not to have your code break**, can then store exception in new list, have list of exceptions at the end\n",
    "- can mask problems \n",
    "- **named exceptions are risky: if you dont name all possible exceptions, and different error occurs you have not handled then you break too, can put except at the end for all those that are not handled**, if no final else then ambiguity about what is going to happen"
   ]
  },
  {
   "cell_type": "markdown",
   "metadata": {
    "slideshow": {
     "slide_type": "slide"
    }
   },
   "source": [
    "## `try`, `except`, `else`\n",
    "\n",
    "* Continue if no exception has been raised"
   ]
  },
  {
   "cell_type": "markdown",
   "metadata": {},
   "source": [
    "- Youtube: else runs code that needs to be executed if try clause does not raise an exception"
   ]
  },
  {
   "cell_type": "code",
   "execution_count": 10,
   "metadata": {
    "slideshow": {
     "slide_type": "-"
    }
   },
   "outputs": [
    {
     "name": "stdout",
     "output_type": "stream",
     "text": [
      "Cannot add val\n"
     ]
    }
   ],
   "source": [
    "def div_add(a, b, c):\n",
    "    \"\"\"Returns a/b + c.\"\"\"\n",
    "    try:\n",
    "        x = a / b\n",
    "    except:\n",
    "        print('Cannot divide', a, 'by', b)\n",
    "    else:\n",
    "        try:\n",
    "            return x + c\n",
    "        except:\n",
    "            print('Cannot add', c)\n",
    "        \n",
    "div_add(2, 4, 'val')"
   ]
  },
  {
   "cell_type": "markdown",
   "metadata": {},
   "source": [
    "- when he unnested the nest try/else statement: it means that irrespective of success/failure of first, it always tries the second part as well \n",
    "- -> this is less efficient because always asking for second part which you dont need"
   ]
  },
  {
   "cell_type": "markdown",
   "metadata": {
    "slideshow": {
     "slide_type": "slide"
    }
   },
   "source": [
    "## `try`, `except`, `finally`\n",
    "\n",
    "* Execute **always**, regardless of whether exception has been raised or handled and `return` called\n",
    "* Good for clean-up, e.g. closing a file"
   ]
  },
  {
   "cell_type": "markdown",
   "metadata": {},
   "source": [
    "- finally: always do this irrespective of success/failure of previous"
   ]
  },
  {
   "cell_type": "code",
   "execution_count": 11,
   "metadata": {
    "scrolled": false,
    "slideshow": {
     "slide_type": "-"
    }
   },
   "outputs": [
    {
     "name": "stdout",
     "output_type": "stream",
     "text": [
      "2.0\n",
      "This will always print.\n",
      "\n",
      "Division by zero is undefined.\n",
      "This will always print.\n",
      "\n",
      "This will always print.\n"
     ]
    },
    {
     "ename": "TypeError",
     "evalue": "unsupported operand type(s) for /: 'int' and 'str'",
     "output_type": "error",
     "traceback": [
      "\u001b[0;31m---------------------------------------------------------------------------\u001b[0m",
      "\u001b[0;31mTypeError\u001b[0m                                 Traceback (most recent call last)",
      "\u001b[0;32m<ipython-input-11-c411e9eb8a8c>\u001b[0m in \u001b[0;36m<module>\u001b[0;34m()\u001b[0m\n\u001b[1;32m     14\u001b[0m \u001b[0;34m\u001b[0m\u001b[0m\n\u001b[1;32m     15\u001b[0m \u001b[0mprint\u001b[0m\u001b[0;34m(\u001b[0m\u001b[0;34m)\u001b[0m\u001b[0;34m\u001b[0m\u001b[0m\n\u001b[0;32m---> 16\u001b[0;31m \u001b[0mdiv\u001b[0m\u001b[0;34m(\u001b[0m\u001b[0;36m2\u001b[0m\u001b[0;34m,\u001b[0m \u001b[0;34m'a'\u001b[0m\u001b[0;34m)\u001b[0m\u001b[0;34m\u001b[0m\u001b[0m\n\u001b[0m",
      "\u001b[0;32m<ipython-input-11-c411e9eb8a8c>\u001b[0m in \u001b[0;36mdiv\u001b[0;34m(a, b)\u001b[0m\n\u001b[1;32m      2\u001b[0m     \u001b[0;34m'''Returns the result from dividing a by b.'''\u001b[0m\u001b[0;34m\u001b[0m\u001b[0m\n\u001b[1;32m      3\u001b[0m     \u001b[0;32mtry\u001b[0m\u001b[0;34m:\u001b[0m\u001b[0;34m\u001b[0m\u001b[0m\n\u001b[0;32m----> 4\u001b[0;31m         \u001b[0mprint\u001b[0m\u001b[0;34m(\u001b[0m\u001b[0ma\u001b[0m\u001b[0;34m/\u001b[0m\u001b[0mb\u001b[0m\u001b[0;34m)\u001b[0m\u001b[0;34m\u001b[0m\u001b[0m\n\u001b[0m\u001b[1;32m      5\u001b[0m     \u001b[0;32mexcept\u001b[0m \u001b[0mZeroDivisionError\u001b[0m\u001b[0;34m:\u001b[0m\u001b[0;34m\u001b[0m\u001b[0m\n\u001b[1;32m      6\u001b[0m         \u001b[0mprint\u001b[0m\u001b[0;34m(\u001b[0m\u001b[0;34m\"Division by zero is undefined.\"\u001b[0m\u001b[0;34m)\u001b[0m\u001b[0;34m\u001b[0m\u001b[0m\n",
      "\u001b[0;31mTypeError\u001b[0m: unsupported operand type(s) for /: 'int' and 'str'"
     ]
    }
   ],
   "source": [
    "def div(a, b):\n",
    "    \"\"\"Prints the result from dividing a by b.\"\"\"\n",
    "    try:\n",
    "        print(a / b)\n",
    "    except ZeroDivisionError:\n",
    "        print(\"Division by zero is undefined.\")\n",
    "    finally:\n",
    "        print(\"This will always print.\")\n",
    "    \n",
    "div(2, 1)\n",
    "\n",
    "print()\n",
    "div(2, 0)\n",
    "\n",
    "print()\n",
    "div(2, 'a')\n"
   ]
  },
  {
   "cell_type": "markdown",
   "metadata": {
    "slideshow": {
     "slide_type": "slide"
    }
   },
   "source": [
    "## `try`, `except`, `finally`: Exercise\n",
    "\n",
    "What is the output of the given code? Why?\n",
    "\n",
    "```\n",
    "def myfunc():\n",
    "    try:\n",
    "        return 1\n",
    "    finally: \n",
    "        return 2\n",
    "    \n",
    "print(myfunc())\n",
    "```"
   ]
  },
  {
   "cell_type": "markdown",
   "metadata": {},
   "source": [
    "- just returns 2 because asking it to return 1, then returns 1 and then overridden by 2\n",
    "- if you want to get both (dont print, dont print within functions), save one as list and then append it to list and then return the entire list\n",
    "- else and finally should not be a problem"
   ]
  },
  {
   "cell_type": "markdown",
   "metadata": {
    "slideshow": {
     "slide_type": "slide"
    }
   },
   "source": [
    "## Raising Exceptions with `raise`\n",
    "\n",
    "**Instead of failing silently and double-guessing wrong inputs, alert user that something has gone wrong and stop execution!**\n",
    "\n",
    "\n",
    "```\n",
    "raise exceptionName(arguments)\n",
    "```\n",
    "\n"
   ]
  },
  {
   "cell_type": "markdown",
   "metadata": {
    "slideshow": {
     "slide_type": "-"
    }
   },
   "source": [
    "`exceptionName` can be:\n",
    "* a built-in exception such as `ValueError`\n",
    "* a custom exception defined as a subclass of the built-in class `Exception`\n",
    "\n",
    "`arguments` is typically a string as a single argument to describe why the exception is raised"
   ]
  },
  {
   "cell_type": "markdown",
   "metadata": {},
   "source": [
    "- you can also create new exception classes and raise them using keyword raise (protected keyword in python)\n",
    "- camel case becuase it is a class \n",
    "- can explicitly raise ValueError or define new customs exception that oyu defined as subclass of class Exception\n",
    "- arguments typcially strings that gets printed that describes why that exception was raised\n",
    "- when we run it it raises an error, which is what we told it to do "
   ]
  },
  {
   "cell_type": "code",
   "execution_count": null,
   "metadata": {},
   "outputs": [],
   "source": [
    "# Youtube: HOW You Should Be Using ASSERT In Python To Catch ERRORS\n",
    "def start_program(data: dict):\n",
    "    assert isinstance(data, dict), \"Invalid JSON\"\n",
    "    assert data, \"No data found...\"\n",
    "\n",
    "    print(\"data loaded successfully\")"
   ]
  },
  {
   "cell_type": "markdown",
   "metadata": {
    "slideshow": {
     "slide_type": "slide"
    }
   },
   "source": [
    "## Custom Exceptions\n",
    "\n",
    "* Define as a subclass of the built-in class `Exception`"
   ]
  },
  {
   "cell_type": "code",
   "execution_count": 12,
   "metadata": {
    "slideshow": {
     "slide_type": "-"
    }
   },
   "outputs": [
    {
     "ename": "ValidationException",
     "evalue": "Input cannot be validated",
     "output_type": "error",
     "traceback": [
      "\u001b[0;31m---------------------------------------------------------------------------\u001b[0m",
      "\u001b[0;31mValidationException\u001b[0m                       Traceback (most recent call last)",
      "\u001b[0;32m<ipython-input-12-939adea2c85b>\u001b[0m in \u001b[0;36m<module>\u001b[0;34m()\u001b[0m\n\u001b[1;32m      2\u001b[0m     \u001b[0;32mpass\u001b[0m\u001b[0;34m\u001b[0m\u001b[0m\n\u001b[1;32m      3\u001b[0m \u001b[0;34m\u001b[0m\u001b[0m\n\u001b[0;32m----> 4\u001b[0;31m \u001b[0;32mraise\u001b[0m \u001b[0mValidationException\u001b[0m\u001b[0;34m(\u001b[0m\u001b[0;34m'Input cannot be validated'\u001b[0m\u001b[0;34m)\u001b[0m\u001b[0;34m\u001b[0m\u001b[0m\n\u001b[0m",
      "\u001b[0;31mValidationException\u001b[0m: Input cannot be validated"
     ]
    }
   ],
   "source": [
    "class ValidationException(Exception):\n",
    "    pass\n",
    "\n",
    "raise ValidationException('Input cannot be validated')"
   ]
  },
  {
   "cell_type": "markdown",
   "metadata": {
    "slideshow": {
     "slide_type": "slide"
    }
   },
   "source": [
    "## Assertions\n",
    "\n",
    "```\n",
    "assert Boolean\n",
    "assert Boolean, argument\n",
    "```\n",
    "\n",
    "* If `False`, an `AssertionError` exception is raised\n",
    "* Useful for debugging \n",
    "* Good for defensive programming, e.g. confirming that arguments to a function are of appropriate type"
   ]
  },
  {
   "cell_type": "code",
   "execution_count": 13,
   "metadata": {
    "slideshow": {
     "slide_type": "-"
    }
   },
   "outputs": [
    {
     "ename": "AssertionError",
     "evalue": "Argument is not an integer",
     "output_type": "error",
     "traceback": [
      "\u001b[0;31m---------------------------------------------------------------------------\u001b[0m",
      "\u001b[0;31mAssertionError\u001b[0m                            Traceback (most recent call last)",
      "\u001b[0;32m<ipython-input-13-b4817955af7c>\u001b[0m in \u001b[0;36m<module>\u001b[0;34m()\u001b[0m\n\u001b[1;32m      2\u001b[0m     \u001b[0;32massert\u001b[0m \u001b[0mtype\u001b[0m\u001b[0;34m(\u001b[0m\u001b[0ma\u001b[0m\u001b[0;34m)\u001b[0m\u001b[0;34m==\u001b[0m\u001b[0mint\u001b[0m\u001b[0;34m,\u001b[0m \u001b[0;34m\"Argument is not an integer\"\u001b[0m\u001b[0;34m\u001b[0m\u001b[0m\n\u001b[1;32m      3\u001b[0m \u001b[0;34m\u001b[0m\u001b[0m\n\u001b[0;32m----> 4\u001b[0;31m \u001b[0mgive_me_int\u001b[0m\u001b[0;34m(\u001b[0m\u001b[0;34m'b'\u001b[0m\u001b[0;34m)\u001b[0m\u001b[0;34m\u001b[0m\u001b[0m\n\u001b[0m",
      "\u001b[0;32m<ipython-input-13-b4817955af7c>\u001b[0m in \u001b[0;36mgive_me_int\u001b[0;34m(a)\u001b[0m\n\u001b[1;32m      1\u001b[0m \u001b[0;32mdef\u001b[0m \u001b[0mgive_me_int\u001b[0m\u001b[0;34m(\u001b[0m\u001b[0ma\u001b[0m\u001b[0;34m)\u001b[0m\u001b[0;34m:\u001b[0m\u001b[0;34m\u001b[0m\u001b[0m\n\u001b[0;32m----> 2\u001b[0;31m     \u001b[0;32massert\u001b[0m \u001b[0mtype\u001b[0m\u001b[0;34m(\u001b[0m\u001b[0ma\u001b[0m\u001b[0;34m)\u001b[0m\u001b[0;34m==\u001b[0m\u001b[0mint\u001b[0m\u001b[0;34m,\u001b[0m \u001b[0;34m\"Argument is not an integer\"\u001b[0m\u001b[0;34m\u001b[0m\u001b[0m\n\u001b[0m\u001b[1;32m      3\u001b[0m \u001b[0;34m\u001b[0m\u001b[0m\n\u001b[1;32m      4\u001b[0m \u001b[0mgive_me_int\u001b[0m\u001b[0;34m(\u001b[0m\u001b[0;34m'b'\u001b[0m\u001b[0;34m)\u001b[0m\u001b[0;34m\u001b[0m\u001b[0m\n",
      "\u001b[0;31mAssertionError\u001b[0m: Argument is not an integer"
     ]
    }
   ],
   "source": [
    "def give_me_int(a):\n",
    "    assert type(a) == int, \"Argument is not an integer\"\n",
    "\n",
    "give_me_int('b')"
   ]
  },
  {
   "cell_type": "markdown",
   "metadata": {},
   "source": [
    "- if you know that your function takes certain kinds of objects as inputs, you can check that early, check that early so that you dont have any problems that cascade through your code without you realising it\n",
    "- **assert a statement that you want to be true**, otherwise AssertionError with message\n",
    "- assertions good way of doing it \n",
    "- just write assert and whatever your Boolean claim is\n",
    "- you asserted that this was the case and it was not the case, thus AssertionError\n",
    "\n",
    "- **so when would I use this vs try and except?**\n",
    "- useful for debugging exercise, put a bunch of them in, and see whether come claim that must be true is not true \n",
    "- typically use these in cases where there is impossibiltiy if code working properly that claim is false or true, if it is the case that this input is float and impossible that my code should ever take float, useful use case of this, if it is float, assert error"
   ]
  },
  {
   "cell_type": "markdown",
   "metadata": {},
   "source": [
    "Chat GPT: Try-except vs assert: \n",
    "In Python, **both try-except and assert are mechanisms used to handle errors and enforce conditions, but they are suited to different use cases**. Here's a breakdown of when to use each:\n",
    "\n",
    "1. try-except Block\n",
    "- Purpose:\n",
    "    - The try-except block is used to **handle exceptions that may arise during the execution of a program**. \n",
    "    - This is useful for handling runtime errors or situations where an operation might fail under certain conditions. \n",
    "    - It allows your program to recover gracefully from errors, log them, or take corrective actions.\n",
    "\n",
    "- When to use it:\n",
    "    - **When you expect an error might occur**: If you're performing an operation that could potentially fail due to external factors (e.g., network requests, file I/O, database access), you use try-except to catch the specific error and decide how to respond.\n",
    "    - **To handle exceptions or errors that are out of your control**, such as file not found, division by zero, or other unpredictable conditions.\n",
    "    - **When you want to recover from an error**: Instead of crashing, you can catch the error, log it, show a user-friendly message, or even attempt a fallback operation."
   ]
  },
  {
   "cell_type": "code",
   "execution_count": null,
   "metadata": {},
   "outputs": [],
   "source": [
    "try:\n",
    "    result = 10 / int(input(\"Enter a number: \"))\n",
    "except ZeroDivisionError:\n",
    "    print(\"Cannot divide by zero.\")\n",
    "except ValueError:\n",
    "    print(\"Invalid input! Please enter a number.\")\n",
    "else:\n",
    "    print(f\"Result is {result}\")\n"
   ]
  },
  {
   "cell_type": "markdown",
   "metadata": {},
   "source": [
    "2. assert Statement\n",
    "- Purpose:\n",
    "    - **The assert statement is used to check if a condition is true**. \n",
    "    - **If the condition is false, it raises an AssertionError.** \n",
    "    - Assertions are typically **used during development and debugging** to ensure that certain conditions hold true in the code, and they can be turned off globally when the code is run in optimized mode (with the -O flag).\n",
    "\n",
    "When to use it:\n",
    "- To check invariants or assumptions in your code that should always be true (e.g., \"this variable should never be None\").\n",
    "- **For debugging and testing**: Use assert to make sure certain conditions are met during development or **in unit tests.**\n",
    "- For internal consistency checks: **If a condition is something that should never happen (i.e., it indicates a bug or programming error), assert can be used to catch it early.**\n",
    "- To document expectations in code: When you want to ensure that certain conditions hold true at specific points in your program and make it clear to developers."
   ]
  },
  {
   "cell_type": "code",
   "execution_count": null,
   "metadata": {},
   "outputs": [],
   "source": [
    "def divide(a, b):\n",
    "    assert b != 0, \"Division by zero is not allowed\"  # This will trigger an error if b is 0\n",
    "    return a / b"
   ]
  },
  {
   "cell_type": "markdown",
   "metadata": {},
   "source": [
    "Key Differences:\n",
    "\n",
    "- 1. Error Handling vs. Debugging:\n",
    "    - try-except is used for handling runtime errors that could arise due to external factors or invalid input.\n",
    "    - **assert is used for debugging and internal consistency checks**, asserting conditions that should never be violated during normal execution.\n",
    "\n",
    "- 2. Control Flow:\n",
    "    - try-except provides a way to gracefully handle errors and **allows your program to continue running even if an error occurs.**\n",
    "    - **assert is intended to stop execution when a condition is violated, indicating a bug in the program.**\n",
    "\n",
    "- 3. Impact on Production Code:\n",
    "    - assert statements can be disabled in optimized Python runs (with the -O flag), so they should not be relied upon for production error handling.\n",
    "    - try-except is always active and should be used for handling real exceptions in production code.\n"
   ]
  },
  {
   "cell_type": "markdown",
   "metadata": {},
   "source": [
    "When to use which:\n",
    "\n",
    "- 1. Use try-except for runtime error handling where you expect things might go wrong (e.g., user input, file I/O, external resources).\n",
    "- 2. **Use assert for debugging or when you want to enforce a condition that should never fail in your code and should be caught immediately if it does.**\n",
    "\n",
    "Example Scenario:\n",
    "- try-except: You’re reading a file. The file might not exist or there might be permission issues, so you wrap the operation in try-except to handle these cases gracefully.\n",
    "- assert: You’re implementing a function that calculates the square root of a number. You might use assert to ensure that the input is non-negative, as a negative number is an invalid input for the square root.\n",
    "\n",
    "Summary:\n",
    "- try-except: Used for error handling at runtime when an operation may fail or an exception might occur.\n",
    "- assert: Used for debugging and ensuring certain conditions are met during development, and typically for things that should never fail under normal conditions."
   ]
  },
  {
   "cell_type": "markdown",
   "metadata": {
    "slideshow": {
     "slide_type": "slide"
    }
   },
   "source": [
    "## Testing and Debugging in Python\n",
    "\n",
    "* Debugging is an essential part of programming\n",
    "* Efficient debugging takes experience\n",
    "\n",
    "* Including a testing suite is essential for releasing modules and packages to the public\n",
    "* But you should always \"informally\" test your code while programming. This will ultimately reduce debugging!\n"
   ]
  },
  {
   "cell_type": "markdown",
   "metadata": {},
   "source": [
    "- more time debugging than writing code\n",
    "- test always your code as you write it\n",
    "    - as you write code, test as you go, use the same principles, test function, put it into new script and see whether tiny function working\n",
    "    - unit testing: should write your unit tests before you write your function, see what he said here "
   ]
  },
  {
   "cell_type": "markdown",
   "metadata": {
    "slideshow": {
     "slide_type": "fragment"
    }
   },
   "source": [
    "-------\n",
    "\n",
    "* **Lab**: Working with .py files, practicing unit testing, exceptions, and assertions. GitHub Copilot.\n",
    "* **Next week**: R"
   ]
  },
  {
   "cell_type": "markdown",
   "metadata": {
    "slideshow": {
     "slide_type": "slide"
    }
   },
   "source": [
    "## Work on PS4 with GitHub Copilot\n",
    "\n",
    "1. Unit tests are important but tedious to write\n",
    "2. GitHub Copilot is a new AI tool that can assist you by autocompleting code\n",
    "3. First, make sure you **claim your GitHub student benefits from [GitHub Education](https://education.github.com/discount_requests/application)**. These give you free access to Copilot.\n",
    "4. Then, i**nstall the GitHub Copilot extension in VS Code**. It will ask you for your GitHub log in so that it gets activated.\n",
    "5. We will demo and give further advice in class."
   ]
  },
  {
   "cell_type": "markdown",
   "metadata": {},
   "source": [
    "- using Github Copilot, for things like unit testing, copilot where useful, for things like unit testing, helpful because dry to write, copilot can help, AI assisstant that works in VS code that writes and completes code\n",
    "- BE VERY WARY OF THE CODE IT PRODUCES: very useful, very prone to making mistakes and doing things it should not be doing\n",
    "- claim it\n",
    "- CAN DO THE SAME THING IN R STUDIO"
   ]
  }
 ],
 "metadata": {
  "celltoolbar": "Slideshow",
  "kernelspec": {
   "display_name": "Python 3 (ipykernel)",
   "language": "python",
   "name": "python3"
  },
  "language_info": {
   "codemirror_mode": {
    "name": "ipython",
    "version": 3
   },
   "file_extension": ".py",
   "mimetype": "text/x-python",
   "name": "python",
   "nbconvert_exporter": "python",
   "pygments_lexer": "ipython3",
   "version": "3.12.4"
  }
 },
 "nbformat": 4,
 "nbformat_minor": 2
}
