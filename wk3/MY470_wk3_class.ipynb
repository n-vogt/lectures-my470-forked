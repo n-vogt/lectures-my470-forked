{
 "cells": [
  {
   "cell_type": "markdown",
   "metadata": {
    "slideshow": {
     "slide_type": "slide"
    }
   },
   "source": [
    "### MY470 Computer Programming\n",
    "# For-Loops and List Comprehensions in Python\n",
    "### Week 3 Lab"
   ]
  },
  {
   "cell_type": "markdown",
   "metadata": {
    "slideshow": {
     "slide_type": "slide"
    }
   },
   "source": [
    "## Control Flow and Indentation"
   ]
  },
  {
   "cell_type": "markdown",
   "metadata": {
    "slideshow": {
     "slide_type": "-"
    }
   },
   "source": [
    "```\n",
    "for i in list: \n",
    "    # inside the for-loop\n",
    "    if something is TRUE:\n",
    "        # inside the if statement\n",
    "        do something\n",
    "    else:\n",
    "        # inside the else statement\n",
    "        do something\n",
    "    # inside the for-loop, but not in the if or else statement anymore\n",
    "    do something  \n",
    "# outside of the for-loop\n",
    "do something\n",
    "```"
   ]
  },
  {
   "cell_type": "markdown",
   "metadata": {
    "slideshow": {
     "slide_type": "slide"
    }
   },
   "source": [
    "## Understanding Errors in `for`-Loops\n",
    "\n",
    "### General SyntaxError\n",
    "The line with for must end in a colon `:`, otherwise you will get a ```SyntaxError```. For example:\n",
    "```\n",
    "File \"<ipython-input-3-16abb556f86c>\", line 2\n",
    "    for i in names_list\n",
    "                       ^\n",
    "SyntaxError: invalid syntax\n",
    "```\n",
    "\n",
    "### SyntaxError: EOF \n",
    "If you don't finish the loop, or don't end the code properly (e.g., Python was expecting more, such as a close bracket) you will get a EOF error.\n",
    "\n",
    "The ```SyntaxError: unexpected EOF while parsing``` error occurs when the end of your source code is reached before all code is executed. This happens when you make a mistake in the structure, or syntax, of your code. EOF stands for End of File. This represents the last character in a Python program.\n",
    "```\n",
    "File \"<ipython-input-4-d5c917508587>\", line 2\n",
    "    for i in names_list:\n",
    "                        ^\n",
    "SyntaxError: unexpected EOF while parsing\n",
    "```\n",
    "\n",
    "### IndentationError\n",
    "The cause of the ```IndentationError: unexpected indent``` error is indenting your code too far, or using too many tabs and spaces to indent a line of code. \n",
    "```\n",
    "  File \"<ipython-input-5-5fb67888032f>\", line 3\n",
    "    print(i)\n",
    "    ^\n",
    "IndentationError: expected an indented block\n",
    "```\n",
    "If you aren't indenting correctly, a function will likely turn red instead of green."
   ]
  },
  {
   "cell_type": "markdown",
   "metadata": {},
   "source": [
    "**Start with empty list and then append different items based on condition!**\\\n",
    "**- instead of changing items in already populated list, create empty list and populate it with append**\n",
    "- What is the difference here between append and extend? Thought that the only difference is that with append, a list of numbers gets appended as a list vs extend? \n",
    "- Do not replace items because less efficient, iterating over it twice instead of once\n",
    "- Do not modify the list you are iterating over (like iterating over elements and then changing/replacing those elements), creates unpredictable behaviour\n",
    "\n",
    "for i in range(len(ls)):  dont do this, instead of changing the items, append\n",
    "    ls[i] = 3\n",
    "print(ls)\n",
    "\n",
    "--\n",
    "- for i in ls:\n",
    "    i = 3 \n",
    "    want to iteratre over and replace every single element with 3, what happens here, take each i and assign it to new variable i\n",
    "- this would work if mutable, but integers in this case are not mutable!\n",
    "- This i is not the same as the i in the list, just redefining\n",
    "- **Do not iterate over indeces of lists as in: range(len(ls))**\n"
   ]
  },
  {
   "cell_type": "code",
   "execution_count": 25,
   "metadata": {
    "collapsed": true,
    "slideshow": {
     "slide_type": "slide"
    }
   },
   "outputs": [
    {
     "name": "stdout",
     "output_type": "stream",
     "text": [
      "[1, 2, 'boo', 4, 5, 'boo', 7, 8, 'boo', 10, 11, 'boo', 13, 14, 'boo', 16, 17, 'boo', 19, 20, 'boo', 22, 23, 'boo', 25, 26, 'boo', 28, 29, 'boo', 31, 32, 'boo', 34, 35, 'boo', 37, 38, 'boo', 40, 41, 'boo', 43, 44, 'boo', 46, 47, 'boo', 49, 50, 'boo', 52, 53, 'boo', 55, 56, 'boo', 58, 59, 'boo', 61, 62, 'boo', 64, 65, 'boo', 67, 68, 'boo', 70, 71, 'boo', 73, 74, 'boo', 76, 77, 'boo', 79, 80, 'boo', 82, 83, 'boo', 85, 86, 'boo', 88, 89, 'boo', 91, 92, 'boo', 94, 95, 'boo', 97, 98, 'boo', 100]\n",
      "[None, None, None, None, None, None, None, None, None, None, None, None, None, None, None, None, None, None, None, None, None, None, None, None, None, None, None, None, None, None, None, None, None]\n",
      "[1, 2, 'boo', 4, 5, 'boo', 7, 8, 'boo', 10, 11, 'boo', 13, 14, 'boo', 16, 17, 'boo', 19, 20, 'boo', 22, 23, 'boo', 25, 26, 'boo', 28, 29, 'boo', 31, 32, 'boo', 34, 35, 'boo', 37, 38, 'boo', 40, 41, 'boo', 43, 44, 'boo', 46, 47, 'boo', 49, 50, 'boo', 52, 53, 'boo', 55, 56, 'boo', 58, 59, 'boo', 61, 62, 'boo', 64, 65, 'boo', 67, 68, 'boo', 70, 71, 'boo', 73, 74, 'boo', 76, 77, 'boo', 79, 80, 'boo', 82, 83, 'boo', 85, 86, 'boo', 88, 89, 'boo', 91, 92, 'boo', 94, 95, 'boo', 97, 98, 'boo', 100]\n"
     ]
    }
   ],
   "source": [
    "# Exercise 1: Create a list that contains all integers from 1 to 100 (inclusive), \n",
    "# except that it has the string 'boo' for every integer that is divisible by 3 \n",
    "# Your list should look like: [1, 2, 'boo', 4, 5, 'boo', 7, 8, 'boo', 10, ...]\n",
    "\n",
    "empty = []\n",
    "for i in range(1, 101):\n",
    "    if i % 3 == 0:\n",
    "        empty.append(\"boo\")\n",
    "    else:\n",
    "        empty.append(i)\n",
    "print(empty)\n",
    "\n",
    "# my attempt at list comprehension: Only prints out None None None \n",
    "empty_2 = [] \n",
    "print([empty_2.append(\"boo\") for i in range(1, 101) if i % 3 == 0]) # WRONG\n",
    "\n",
    "# her solution: IF ELSE HAS DIFFERENT SYNTAX IN LIST COMPREHENSIONS\n",
    "print([\"boo\" if i % 3 == 0 else i for i in range(1, 101)])\n",
    "\n",
    "\n",
    "# for number in numbers:\n",
    "#      if number % 3 == 0:\n",
    "#         list.remove(number)\n",
    "#         list.insert(index(number), \"boo\")\n",
    "# replace is for strings \n",
    "# list[i] = \"\" is for lists \n",
    "# numbers = list(range(1, 101))\n",
    "# # for i in numbers:\n",
    "# #     if i %3 == 0:\n",
    "# #         numbers[i] = \"boo\"\n",
    "# # print(numbers)\n",
    "# for i in numbers:\n",
    "#     if i %3 == 0:\n",
    "#         numbers.remove(i)\n",
    "#         numbers.insert(i, \"boo\")\n",
    "# print(numbers)\n",
    "   \n",
    "\n",
    "\n",
    "# s = []\n",
    "# for i in range(1, 101):\n",
    "#     if i % 3 ==0:\n",
    "#         ls.append(\"boo\")\n",
    "#     else:\n",
    "#         ls.append(i)\n",
    "# print(ls)\n"
   ]
  },
  {
   "cell_type": "markdown",
   "metadata": {},
   "source": [
    "- For loop is inefficient\n",
    "**- List comprehensions: Anything that is built in, like list comprehensions or functions, always more efficient than anything that you can code yourself**\n",
    "- Running list\n",
    "- When you use else, syntax changes for list comprehensions "
   ]
  },
  {
   "cell_type": "code",
   "execution_count": 16,
   "metadata": {
    "collapsed": true,
    "slideshow": {
     "slide_type": "-"
    }
   },
   "outputs": [
    {
     "name": "stdout",
     "output_type": "stream",
     "text": [
      "[2, 8, 10, 3, 5, 4, 7, 3.33]\n",
      "\n",
      "288\n",
      "[2, 8, 10, 4, 2, 8, 10, 4, 2, 8, 10, 4, 2, 8, 10, 4, 2, 8, 10, 4, 2, 8, 10, 4, 2, 8, 10, 4, 2, 8, 10, 4, 2, 8, 10, 4, 2, 8, 10, 4, 2, 8, 10, 4, 2, 8, 10, 4]\n",
      "\n",
      "24\n",
      "\n",
      "[2, 8, 10, 4]\n"
     ]
    },
    {
     "data": {
      "text/plain": [
       "24"
      ]
     },
     "execution_count": 16,
     "metadata": {},
     "output_type": "execute_result"
    }
   ],
   "source": [
    "# Exercise 2: Sum the even integers from the list below.\n",
    "lst = [1, 3, 2, 4.5, 7, 8, 10, 3, 5, 4, 7, 3.33]\n",
    "\n",
    "# False:\n",
    "for i in lst:\n",
    "    if i % 2 != 0:\n",
    "        lst.remove(i)\n",
    "print(lst) # do not understand why values like 7 remain in the list. \n",
    "print()\n",
    "\n",
    "# This is correct, but: If I go over this iteration more than once, the values of the output change, always adds 24\n",
    "lstst_new = []\n",
    "for i in lst:\n",
    "    if i %2 == 0:\n",
    "        lst_new.append(i)\n",
    "print(sum(lst_new))\n",
    "print(lst_new)  \n",
    "\n",
    "print()\n",
    "\n",
    "# her inefficient solution, inefficient because we are using a for loop\n",
    "summ = 0 # running list, we start with 0 and then add i to this, get sum in the end\n",
    "for i in lst:\n",
    "    if i % 2 == 0:\n",
    "        summ += i\n",
    "    else:\n",
    "        pass\n",
    "print(summ)\n",
    "print()\n",
    "\n",
    "# efficient solution with list comprehension\n",
    "newls = [i for i in lst if i % 2 == 0] # only keeps the items that are divisble by 2\n",
    "print(newls)\n",
    "sum(newls) # this is faster\n",
    "\n",
    "\n",
    "# for number in lst:\n",
    "#     if number % 2 == 0:\n",
    "#         lst.append(number)\n",
    "# print(sum(lst))\n",
    "\n",
    "# for number in lst:\n",
    "#     if number % 2 != 0:\n",
    "#         lst.remove(number)\n",
    "# print(lst) # why is it giving me the wrong output?\n",
    "\n",
    "\n",
    "\n",
    "\n"
   ]
  },
  {
   "cell_type": "markdown",
   "metadata": {
    "slideshow": {
     "slide_type": "slide"
    }
   },
   "source": [
    "## List Comprehensions\n",
    "\n",
    "Create a new list based on another one.\n",
    "\n",
    "List comprehensions are generally more compact and faster than normal loops for creating a list. However, we should avoid writing very long list comprehensions in one line to ensure that code is legible.\n",
    "\n",
    "With a for-loop: \n",
    "\n",
    "```\n",
    "newlst = []\n",
    "for i in lst:\n",
    "    if something is TRUE:\n",
    "        j = do something to i\n",
    "        newlst.append(j)\n",
    "```    \n",
    "\n",
    "With a list comprehension: \n",
    "\n",
    "```\n",
    "newlst = [do something to i for i in lst if something is TRUE] \n",
    "\n",
    "Video Bro Code:\n",
    "List comprehensions = A concise way to create lists; compact and easier to read than traditional loops\n",
    "[expression for value in iterable if condition]\n",
    "```"
   ]
  },
  {
   "cell_type": "code",
   "execution_count": 21,
   "metadata": {
    "collapsed": true,
    "slideshow": {
     "slide_type": "slide"
    }
   },
   "outputs": [
    {
     "name": "stdout",
     "output_type": "stream",
     "text": [
      "[1, 9, 4, 20.25, 49, 64, 100, 9, 25, 16, 49, 11.0889]\n",
      "[1, 9, 4, 49, 64, 100, 9, 25, 16, 49]\n"
     ]
    },
    {
     "data": {
      "text/plain": [
       "49"
      ]
     },
     "execution_count": 21,
     "metadata": {},
     "output_type": "execute_result"
    }
   ],
   "source": [
    "# Exercise 3: Using a list comprehension, create a new list containing \n",
    "# the squares of the integers in the list below \n",
    "lst = [1, 3, 2, 4.5, 7, 8, 10, 3, 5, 4, 7, 3.33]\n",
    "# is i**2 and i*i the same? Yes\n",
    "\n",
    "# WRONG: WE ONLY WANT THE INTEGERS, HIDDEN CONDITION, I did it for all numbers\n",
    "newlst = [i*i for i in lst] \n",
    "print(newlst)\n",
    "# solution\n",
    "print([i**2 for i in lst if type(i) == int])\n"
   ]
  },
  {
   "cell_type": "code",
   "execution_count": 27,
   "metadata": {
    "collapsed": true,
    "slideshow": {
     "slide_type": "-"
    }
   },
   "outputs": [
    {
     "name": "stdout",
     "output_type": "stream",
     "text": [
      "[(0, 6), (1, 5), (2, 4), (3, 3)]\n",
      "[(6, 0), (5, 1), (4, 2), (3, 3)]\n",
      "[(0, 6), (1, 5), (2, 4), (3, 3)]\n"
     ]
    }
   ],
   "source": [
    "# Exercise 4: Consider the lists x and y below. Using a list comprehension,\n",
    "# create a list that contains all combinations of (elem_x, elem_y) \n",
    "# such that elem_x + elem_y = 6\n",
    "# Your answer should look as follows: [(0, 6), (1, 5), (2, 4), (3, 3)]\n",
    "x = [0, 1, 2, 3]\n",
    "y = [3, 4, 5, 6]\n",
    "mylist = [(i,j) for i in x for j in y if i+j == 6] # my solution\n",
    "print(mylist)\n",
    "# can also iterate in different order, then get the results in another order\n",
    "print([(j,i) for i in x for j in y if i+j == 6])\n",
    "\n",
    "# her for loop solution (but inefficient)\n",
    "ls = []\n",
    "for i in x:\n",
    "    for j in y:\n",
    "        if i + j ==6:\n",
    "            ls.append((i, j))\n",
    "print(ls)\n",
    " \n"
   ]
  },
  {
   "cell_type": "markdown",
   "metadata": {},
   "source": [
    "Nested List Comprehensions: Python Basics Tutorial"
   ]
  },
  {
   "cell_type": "code",
   "execution_count": 31,
   "metadata": {},
   "outputs": [
    {
     "name": "stdout",
     "output_type": "stream",
     "text": [
      "27\n",
      "['A1a', 'A1b', 'A1c', 'A2a', 'A2b', 'A2c', 'A3a', 'A3b', 'A3c', 'B1a', 'B1b', 'B1c', 'B2a', 'B2b', 'B2c', 'B3a', 'B3b', 'B3c', 'C1a', 'C1b', 'C1c', 'C2a', 'C2b', 'C2c', 'C3a', 'C3b', 'C3c']\n",
      "['A1a', 'A1b', 'A1c', 'A2a', 'A2b', 'A2c', 'A3a', 'A3b', 'A3c', 'B1a', 'B1b', 'B1c', 'B2a', 'B2b', 'B2c', 'B3a', 'B3b', 'B3c', 'C1a', 'C1b', 'C1c', 'C2a', 'C2b', 'C2c', 'C3a', 'C3b', 'C3c']\n"
     ]
    },
    {
     "data": {
      "text/plain": [
       "27"
      ]
     },
     "execution_count": 31,
     "metadata": {},
     "output_type": "execute_result"
    }
   ],
   "source": [
    "x = \"ABC\"\n",
    "y = \"123\" # these are all strings, thus he can add them together below with + \n",
    "z = \"abc\"\n",
    "comb = []\n",
    "for i in x:\n",
    "    for j in y:\n",
    "        for k in z:\n",
    "            comb.append(i + j + k) # whatever you want to have happen at the end, in list comprehension it goes right to the beginning\n",
    "print(3*3*3) # or: 3**3\n",
    "print(comb)\n",
    "\n",
    "comb2 = [i + j + k for i in x for j in y for k in z]\n",
    "print(comb2)\n",
    "len(comb2)"
   ]
  },
  {
   "cell_type": "markdown",
   "metadata": {},
   "source": [
    "Nested list comprehensions:\n",
    "\n",
    "- Use another range to create a sequence where the beginning varies \n",
    "- list(range(i, 4)): What varies is the beginning of the list, use another range to determine how the beginning of the list varies\n",
    "- notice the pattern, can rewrite the first part to be nested list comprehension\n",
    "- **either list comprehension to create a list or list(range(i, 4)), i.e. either list comprehension or built in function**\n",
    "    - list() faster but more limited, creates list object out of same values, list comprehension more general\n",
    "- **Question of legibility: in final exam rewarded if we use list comprehensions instead of nested loops**\n",
    "- can nest non-scalar object as much as you want, but with mutability things get complicated\n",
    "- to index element in sublist: ls[0]][3]"
   ]
  },
  {
   "cell_type": "code",
   "execution_count": 33,
   "metadata": {
    "collapsed": true,
    "slideshow": {
     "slide_type": "-"
    }
   },
   "outputs": [
    {
     "name": "stdout",
     "output_type": "stream",
     "text": [
      "[0, 1, 2, 3]\n",
      "[[0, 1, 2, 3], [1, 2, 3], [2, 3], [3]]\n"
     ]
    }
   ],
   "source": [
    "# Exercise 5: Using nested list comprehensions and range(), create a list \n",
    "# that looks as follows: [[0, 1, 2, 3], [1, 2, 3], [2, 3], [3]]\n",
    "\n",
    "print([i for i in range (4)]) # prints out a list with 0, 1, 2, 3\n",
    "# But I do not want i always as my expression, what is it that I want to be returned?\n",
    "\n",
    "# her solution, but I do not understand it\n",
    "l = [[j for j in range(x, 4)] for x in range(4)] # want another x inside the first range() function\n",
    "print(l)\n",
    "\n",
    "\n",
    "\n"
   ]
  },
  {
   "cell_type": "markdown",
   "metadata": {
    "slideshow": {
     "slide_type": "slide"
    }
   },
   "source": [
    "## Iterating over Dictionaries"
   ]
  },
  {
   "cell_type": "markdown",
   "metadata": {},
   "source": [
    "- by default for loop iterates over the keys, but we can be explicit about this with .keys()\n",
    "- .values()\n",
    "- .items(), you get tuple of key and value pairs\n",
    "- if you want key and value to be returned seperately, use print(key) and print(value) in separate lines\n",
    "- **o not assume that sets or dicts are ordered, need element in dict that has this key, DONT SPECIFY BY ITS INDEX/POSITION**\n",
    "    if collection, then no guarantee that items are ordered\n",
    "- **for tuple, stringa nd list, the first 10 items is meaningful, but not meaningful for dict and set, specify keys by name**"
   ]
  },
  {
   "cell_type": "code",
   "execution_count": 12,
   "metadata": {
    "slideshow": {
     "slide_type": "-"
    }
   },
   "outputs": [
    {
     "name": "stdout",
     "output_type": "stream",
     "text": [
      "a\n",
      "b\n",
      "c\n",
      "\n",
      "apple\n",
      "beetle\n",
      "cat\n",
      "apple\n",
      "beetle\n",
      "cat\n",
      "\n",
      "('a', 'apple')\n",
      "('b', 'beetle')\n",
      "('c', 'cat')\n",
      "\n",
      "a : apple\n",
      "b : beetle\n",
      "c : cat\n"
     ]
    }
   ],
   "source": [
    "letters = {'a':'apple', 'b': 'beetle', 'c': 'cat'}\n",
    "\n",
    "for i in letters:  # equivalent to: for i in letters.keys(): by default it iterates over the keys, but can be explicit about it with .keys()\n",
    "    print(i)\n",
    "\n",
    "print()\n",
    "for i in letters:\n",
    "    print(letters[i])\n",
    "# equivalent to:\n",
    "for i in letters.values(): \n",
    "    print(i)\n",
    "\n",
    "print()\n",
    "for i in letters.items(): \n",
    "    print(i)\n",
    "    \n",
    "print()\n",
    "for i, j in letters.items(): \n",
    "    print(i, \":\", j)\n",
    "    "
   ]
  },
  {
   "cell_type": "code",
   "execution_count": 7,
   "metadata": {
    "collapsed": true,
    "slideshow": {
     "slide_type": "slide"
    }
   },
   "outputs": [],
   "source": [
    "# Exercise 6: Using a dictionary comprehension, create a new dictionary that\n",
    "# contains the keys from dictionary letters that are strings, with the value for\n",
    "# each key assigned to be an empty list\n",
    "# The new dictionary should look as follows: {'a':[], 'b':[], 'c':[], 'd':[]}\n",
    "\n",
    "letters = {'a':'apple', 'b': 'beetle', 'c': 'cat'}\n",
    "\n",
    "letters = {'a': 'apple', 4: None, 'b': 'beetle', 'c': 'cat', 2: None, 'd': 'diamond'}\n",
    "\n",
    "# Answer: Dictionary comprehensions are constructed analogously to list comprehensions\n",
    "ans = {i: [] for i in letters if type(i) == str}\n",
    "print(ans)\n",
    "\n",
    "letters = {'a':'apple', 4: None, 'b': 'beetle', 'c': 'cat', 2: None, 'd': 'diamond'}\n",
    "\n",
    "# assign empty list, want the keys thus .keys(), and condition that type of i is tring\n"
   ]
  },
  {
   "cell_type": "code",
   "execution_count": 8,
   "metadata": {
    "collapsed": true,
    "slideshow": {
     "slide_type": "-"
    }
   },
   "outputs": [],
   "source": [
    "# Exercise 7: Now, distribute the words from the list below to the new dictionary\n",
    "# according to their first letter\n",
    "\n",
    "dic = {'a': [], 'b': [], 'c': [], 'd': []}\n",
    "wordlst = ['a', 'be', 'an', 'the', 'can', 'do', 'did', 'to', 'been']\n",
    "# index value with key, append the relevant strings for each letter, here this mutability is desirable, iterate over data once and allocate elements\n",
    "# to their position, wnat to assign each element to its key, if the first element of my string, append \n",
    "\n",
    "# going over eac helemetn in data, if first letter not in my dic, then initialise with empty list, \n",
    "# different between extend and append , for extend you ahve to do loop in a loop, for extend you use an additional loop \n",
    "# extend is less efficient \n",
    "#\n",
    "# set default method give me this key but if it does not exist create it and give it a particular value, \n"
   ]
  },
  {
   "cell_type": "markdown",
   "metadata": {
    "slideshow": {
     "slide_type": "slide"
    }
   },
   "source": [
    "## Best Practice: Beware of Iterating over Unordered Collections\n",
    "\n",
    "* **(In Python 3.6 dictionaries are now implemented as ordered but you should not rely on this!)**\n",
    "* For unordered collections, the ordering of elements is determined by how the elements are stored in memory\n",
    "\n",
    "My notes:\n",
    "- If you transform a list into a set, items will be saved in a different order, will not be in the order in which you have fed the elements\n",
    "- do not assume that set and dictionary have been ordered\n",
    "    - **with set we usually just ask whether something is in the set with the 'in' membership opreator**\n",
    "    - **index a dictionary with key names, not with index number**\n",
    "- **for tuples, lists and strings, you can find the position, here it is meaningful to say \"give me the first 10 items\" -> ASSIGNMENT**\n",
    "- (tuple is a collection which is ordered and unchangeable)\n"
   ]
  },
  {
   "cell_type": "code",
   "execution_count": 11,
   "metadata": {
    "slideshow": {
     "slide_type": "-"
    }
   },
   "outputs": [
    {
     "name": "stdout",
     "output_type": "stream",
     "text": [
      "List: [1, 2, 4, 8, 1, 2]\n",
      "Set: [8, 1, 2, 4]\n"
     ]
    }
   ],
   "source": [
    "lst = [1, 2, 4, 8, 1, 2]\n",
    "st = set(lst)\n",
    "\n",
    "print(\"List:\", [i for i in lst])    \n",
    "print(\"Set:\", [i for i in st]) \n"
   ]
  },
  {
   "cell_type": "markdown",
   "metadata": {
    "slideshow": {
     "slide_type": "slide"
    }
   },
   "source": [
    "## Best Practice: Avoid Mutating a List When Iterating over It\n"
   ]
  },
  {
   "cell_type": "markdown",
   "metadata": {},
   "source": [
    "- **Do not mofiy something you are iterating over, especially if modifying the current or future items**\n",
    "- if list from 0-9 and you pop item, then list getting shorter, iterating over something that is different after the first iteration\n",
    "- **if you do need something like that, just create second list by duplicating the first and change the second index in there**"
   ]
  },
  {
   "cell_type": "code",
   "execution_count": 10,
   "metadata": {
    "slideshow": {
     "slide_type": "-"
    }
   },
   "outputs": [
    {
     "name": "stdout",
     "output_type": "stream",
     "text": [
      "0 [1, 2, 3, 4, 5, 6, 7, 8, 9]\n",
      "3 [1, 2, 4, 5, 6, 7, 8, 9]\n",
      "6 [1, 2, 4, 5, 7, 8, 9]\n",
      "8 [1, 2, 4, 5, 7, 9]\n"
     ]
    },
    {
     "ename": "IndexError",
     "evalue": "pop index out of range",
     "output_type": "error",
     "traceback": [
      "\u001b[0;31m---------------------------------------------------------------------------\u001b[0m",
      "\u001b[0;31mIndexError\u001b[0m                                Traceback (most recent call last)",
      "\u001b[0;32m<ipython-input-10-368f10c34dd9>\u001b[0m in \u001b[0;36m<module>\u001b[0;34m()\u001b[0m\n\u001b[1;32m      1\u001b[0m \u001b[0mlst\u001b[0m \u001b[0;34m=\u001b[0m \u001b[0;34m[\u001b[0m\u001b[0mi\u001b[0m \u001b[0;32mfor\u001b[0m \u001b[0mi\u001b[0m \u001b[0;32min\u001b[0m \u001b[0mrange\u001b[0m\u001b[0;34m(\u001b[0m\u001b[0;36m10\u001b[0m\u001b[0;34m)\u001b[0m\u001b[0;34m]\u001b[0m\u001b[0;34m\u001b[0m\u001b[0m\n\u001b[1;32m      2\u001b[0m \u001b[0;32mfor\u001b[0m \u001b[0mi\u001b[0m \u001b[0;32min\u001b[0m \u001b[0mlst\u001b[0m\u001b[0;34m:\u001b[0m\u001b[0;34m\u001b[0m\u001b[0m\n\u001b[0;32m----> 3\u001b[0;31m     \u001b[0mpopped\u001b[0m \u001b[0;34m=\u001b[0m \u001b[0mlst\u001b[0m\u001b[0;34m.\u001b[0m\u001b[0mpop\u001b[0m\u001b[0;34m(\u001b[0m\u001b[0mi\u001b[0m\u001b[0;34m)\u001b[0m\u001b[0;34m\u001b[0m\u001b[0m\n\u001b[0m\u001b[1;32m      4\u001b[0m     \u001b[0mprint\u001b[0m\u001b[0;34m(\u001b[0m\u001b[0mpopped\u001b[0m\u001b[0;34m,\u001b[0m \u001b[0mlst\u001b[0m\u001b[0;34m)\u001b[0m\u001b[0;34m\u001b[0m\u001b[0m\n",
      "\u001b[0;31mIndexError\u001b[0m: pop index out of range"
     ]
    }
   ],
   "source": [
    "lst = [i for i in range(10)]\n",
    "for i in lst:\n",
    "    popped = lst.pop(i)\n",
    "    print(popped, lst)\n",
    "# you give index to pop, in first iteration i is 0, i the secon diteration, i should be 1, but now it is no longer 1 but 2 in the index, but 2 is the hrid element\n",
    "# first line in output, ahve already poped the 0, thus it is no longer there in the first line of the output\n"
   ]
  }
 ],
 "metadata": {
  "celltoolbar": "Slideshow",
  "kernelspec": {
   "display_name": "Python 3 (ipykernel)",
   "language": "python",
   "name": "python3"
  },
  "language_info": {
   "codemirror_mode": {
    "name": "ipython",
    "version": 3
   },
   "file_extension": ".py",
   "mimetype": "text/x-python",
   "name": "python",
   "nbconvert_exporter": "python",
   "pygments_lexer": "ipython3",
   "version": "3.12.4"
  }
 },
 "nbformat": 4,
 "nbformat_minor": 2
}
