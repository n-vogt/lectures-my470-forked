{
 "cells": [
  {
   "cell_type": "markdown",
   "metadata": {
    "slideshow": {
     "slide_type": "slide"
    }
   },
   "source": [
    "### MY470 Computer Programming\n",
    "# For-Loops and List Comprehensions in Python\n",
    "### Week 3 Lab"
   ]
  },
  {
   "cell_type": "markdown",
   "metadata": {
    "slideshow": {
     "slide_type": "slide"
    }
   },
   "source": [
    "## Control Flow and Indentation"
   ]
  },
  {
   "cell_type": "markdown",
   "metadata": {
    "slideshow": {
     "slide_type": "-"
    }
   },
   "source": [
    "```\n",
    "for i in list: \n",
    "    # inside the for-loop\n",
    "    if something is TRUE:\n",
    "        # inside the if statement\n",
    "        do something\n",
    "    else:\n",
    "        # inside the else statement\n",
    "        do something\n",
    "    # inside the for-loop, but not in the if or else statement anymore\n",
    "    do something  \n",
    "# outside of the for-loop\n",
    "do something\n",
    "```"
   ]
  },
  {
   "cell_type": "markdown",
   "metadata": {
    "slideshow": {
     "slide_type": "slide"
    }
   },
   "source": [
    "## Understanding Errors in `for`-Loops\n",
    "\n",
    "### General SyntaxError\n",
    "The line with for must end in a colon `:`, otherwise you will get a ```SyntaxError```. For example:\n",
    "```\n",
    "File \"<ipython-input-3-16abb556f86c>\", line 2\n",
    "    for i in names_list\n",
    "                       ^\n",
    "SyntaxError: invalid syntax\n",
    "```\n",
    "\n",
    "### SyntaxError: EOF \n",
    "If you don't finish the loop, or don't end the code properly (e.g., Python was expecting more, such as a close bracket) you will get a EOF error.\n",
    "\n",
    "The ```SyntaxError: unexpected EOF while parsing``` error occurs when the end of your source code is reached before all code is executed. This happens when you make a mistake in the structure, or syntax, of your code. EOF stands for End of File. This represents the last character in a Python program.\n",
    "```\n",
    "File \"<ipython-input-4-d5c917508587>\", line 2\n",
    "    for i in names_list:\n",
    "                        ^\n",
    "SyntaxError: unexpected EOF while parsing\n",
    "```\n",
    "\n",
    "### IndentationError\n",
    "The cause of the ```IndentationError: unexpected indent``` error is indenting your code too far, or using too many tabs and spaces to indent a line of code. \n",
    "```\n",
    "  File \"<ipython-input-5-5fb67888032f>\", line 3\n",
    "    print(i)\n",
    "    ^\n",
    "IndentationError: expected an indented block\n",
    "```\n",
    "If you aren't indenting correctly, a function will likely turn red instead of green."
   ]
  },
  {
   "cell_type": "code",
   "execution_count": 25,
   "metadata": {
    "collapsed": true,
    "slideshow": {
     "slide_type": "slide"
    }
   },
   "outputs": [
    {
     "name": "stdout",
     "output_type": "stream",
     "text": [
      "[1, 2, 'boo', 4, 5, 'boo', 7, 8, 'boo', 10, 11, 'boo', 13, 14, 'boo', 16, 17, 'boo', 19, 20, 'boo', 22, 23, 'boo', 25, 26, 'boo', 28, 29, 'boo', 31, 32, 'boo', 34, 35, 'boo', 37, 38, 'boo', 40, 41, 'boo', 43, 44, 'boo', 46, 47, 'boo', 49, 50, 'boo', 52, 53, 'boo', 55, 56, 'boo', 58, 59, 'boo', 61, 62, 'boo', 64, 65, 'boo', 67, 68, 'boo', 70, 71, 'boo', 73, 74, 'boo', 76, 77, 'boo', 79, 80, 'boo', 82, 83, 'boo', 85, 86, 'boo', 88, 89, 'boo', 91, 92, 'boo', 94, 95, 'boo', 97, 98, 'boo', 100]\n"
     ]
    }
   ],
   "source": [
    "# Exercise 1: Create a list that contains all integers from 1 to 100 (inclusive), \n",
    "# except that it has the string 'boo' for every integer that is divisible by 3 \n",
    "# Your list should look like: [1, 2, 'boo', 4, 5, 'boo', 7, 8, 'boo', 10, ...]\n",
    "\n",
    "# numbers = print(list(range(1, 101)))\n",
    "# print(numbers)\n",
    "# type(numbers)\n",
    "\n",
    "# for number in numbers:\n",
    "#      if number % 3 == 0:\n",
    "#         list.remove(number)\n",
    "#         list.insert(index(number), \"boo\")\n",
    "\n",
    "\n",
    "# replace is for strings \n",
    "# list[i] = \"\" is for lists \n",
    "\n",
    "# numbers = list(range(1, 101))\n",
    "\n",
    "# # for i in numbers:\n",
    "# #     if i %3 == 0:\n",
    "# #         numbers[i] = \"boo\"\n",
    "# # print(numbers)\n",
    "\n",
    "# for i in numbers:\n",
    "#     if i %3 == 0:\n",
    "#         numbers.remove(i)\n",
    "#         numbers.insert(i, \"boo\")\n",
    "# print(numbers)\n",
    "   \n",
    "\n",
    "range(1, 101) \n",
    "# start with empty list and keep appending given conditions\n",
    "ls = []\n",
    "for i in range(1, 101):\n",
    "    if i % 3 ==0:\n",
    "        ls.append(\"boo\")\n",
    "    else:\n",
    "        ls.append(i)\n",
    "print(ls)\n",
    "\n",
    "# start with empty list and the repopulate, dont replace because less efficeint, iterating twice instead of once \n",
    "# dont modify list oyu are iterating over, creates unpredictable behaviour \n",
    "# dont change what you are iterating over, \n",
    "# iterating over the leemtns and then trying to replace the elements but this is wrong\n",
    "for i in ls:\n",
    "    i = 3 # want to iteratre over and replace every single element with 3, what happens here, take each i and assign it to new variable i\n",
    "    # but this i is not the same as th eposition in the list, just redefining \n",
    "    # would work if mutable, but integers in thise case are not mutable\n",
    "    # dont do this, iterate over indeces of the lsit -> range(len(ls))\n",
    "\n",
    "for i in range(len(ls)): # dont do this, instead of changing the items, append\n",
    "    ls[i] = 3\n",
    "print(ls)\n"
   ]
  },
  {
   "cell_type": "code",
   "execution_count": 16,
   "metadata": {
    "collapsed": true,
    "slideshow": {
     "slide_type": "-"
    }
   },
   "outputs": [
    {
     "name": "stdout",
     "output_type": "stream",
     "text": [
      "24\n",
      "[2, 8, 10, 4]\n"
     ]
    }
   ],
   "source": [
    "# Exercise 2: Sum the even integers from the list below.\n",
    "lst = [1, 3, 2, 4.5, 7, 8, 10, 3, 5, 4, 7, 3.33]\n",
    "\n",
    "# for number in lst:\n",
    "#     if number % 2 == 0:\n",
    "#         lst.append(number)\n",
    "# print(sum(lst))\n",
    "\n",
    "# for number in lst:\n",
    "#     if number % 2 != 0:\n",
    "#         lst.remove(number)\n",
    "# print(lst) # why is it giving me the wrong output?\n",
    "\n",
    "lst_new = []\n",
    "for i in lst:\n",
    "    if i %2 == 0:\n",
    "        lst_new.append(i)\n",
    "print(sum(lst_new))\n",
    "print(lst_new)  \n",
    "\n",
    "# her solution\n",
    "sum() # give sequence of numeric types and gives us the sum, \n",
    "# create new list \n",
    "summ = 0 # running list start with sum of 0 and now iterate over list\n",
    "# keeping running sum, using for loop but these are inefficient\n",
    "# list comprehension, anything that is built in always faster than code you can write, dont reinvent the wheel if function or method that does it\n",
    "\n",
    "newls = [i for i in lst if i % 2 == 0]\n",
    "sum(newls) # this is faster\n",
    "\n",
    "# when you use else, syntax changes for lsit comprehensions\n",
    "\n"
   ]
  },
  {
   "cell_type": "markdown",
   "metadata": {
    "slideshow": {
     "slide_type": "slide"
    }
   },
   "source": [
    "## List Comprehensions\n",
    "\n",
    "Create a new list based on another one.\n",
    "\n",
    "List comprehensions are generally more compact and faster than normal loops for creating a list. However, we should avoid writing very long list comprehensions in one line to ensure that code is legible.\n",
    "\n",
    "With a for-loop: \n",
    "\n",
    "```\n",
    "newlst = []\n",
    "for i in lst:\n",
    "    if something is TRUE:\n",
    "        j = do something to i\n",
    "        newlst.append(j)\n",
    "```    \n",
    "\n",
    "With a list comprehension: \n",
    "\n",
    "```\n",
    "newlst = [do something to i for i in lst if something is TRUE] \n",
    "\n",
    "Video Bro Code:\n",
    "List comprehensions = A concise way to create lists; compact and easier to read than traditional loops\n",
    "[expression for value in iterable if condition]\n",
    "```"
   ]
  },
  {
   "cell_type": "code",
   "execution_count": 18,
   "metadata": {
    "collapsed": true,
    "slideshow": {
     "slide_type": "slide"
    }
   },
   "outputs": [
    {
     "name": "stdout",
     "output_type": "stream",
     "text": [
      "[1, 9, 4, 20.25, 49, 64, 100, 9, 25, 16, 49, 11.0889]\n"
     ]
    }
   ],
   "source": [
    "# Exercise 3: Using a list comprehension, create a new list containing \n",
    "# the squares of the integers in the list below \n",
    "lst = [1, 3, 2, 4.5, 7, 8, 10, 3, 5, 4, 7, 3.33]\n",
    "newlst = [i*i for i in lst]\n",
    "print(newlst)\n",
    "\n",
    "# ONLY FOR INTEGERS, I did it for all numbers\n",
    "# is i**2 and i*i the same?\n"
   ]
  },
  {
   "cell_type": "code",
   "execution_count": 28,
   "metadata": {
    "collapsed": true,
    "slideshow": {
     "slide_type": "-"
    }
   },
   "outputs": [
    {
     "name": "stdout",
     "output_type": "stream",
     "text": [
      "[(0, 6), (1, 5), (2, 4), (3, 3)]\n"
     ]
    }
   ],
   "source": [
    "# Exercise 4: Consider the lists x and y below. Using a list comprehension,\n",
    "# create a list that contains all combinations of (elem_x, elem_y) \n",
    "# such that elem_x + elem_y = 6\n",
    "# Your answer should look as follows: [(0, 6), (1, 5), (2, 4), (3, 3)]\n",
    "\n",
    "x = [0, 1, 2, 3]\n",
    "y = [3, 4, 5, 6]\n",
    "\n",
    "# combin = [for x[element_x], y[element_y] in x, y]\n",
    "\n",
    "mylist = [(i,j) for i in x for j in y if i+j == 6] # my solution\n",
    "# can also iterate in different order, then get the results in another order\n",
    "print(mylist)\n",
    "\n",
    "# her solution\n",
    "\n",
    " \n"
   ]
  },
  {
   "cell_type": "code",
   "execution_count": 35,
   "metadata": {
    "collapsed": true,
    "slideshow": {
     "slide_type": "-"
    }
   },
   "outputs": [
    {
     "name": "stdout",
     "output_type": "stream",
     "text": [
      "[[0, 1, 2, 3], [1, 2, 3], [2, 3], [3]]\n"
     ]
    }
   ],
   "source": [
    "# Exercise 5: Using nested list comprehensions and range(), create a list \n",
    "# that looks as follows: [[0, 1, 2, 3], [1, 2, 3], [2, 3], [3]]\n",
    "# in every subequent element, we start from the second number, can use range to create sequence but the beginning varies\n",
    "list(range(i, 4)) # what varies is the beginning of the list, use another range to determine how the beginning of the first range varies\n",
    "# notice the pattern, \n",
    "# can rewrite the first part to be nested lsit comprehension,  \n",
    "# nums = range(4)\n",
    "# mylist = [print(nums) for num in nums]\n",
    "# print(mylist)\n",
    "\n",
    "l = [[j for j in range(x, 4)] for x in range(4)] # want another x inside the first range() function\n",
    "print(l)\n",
    "\n",
    "# either list comprehension to create a list or list(range(i, 4)) -> either lst comprehension or built in function\n",
    "# list() faster but more limited, creates list object ouf of same values, list comprehensions more general\n",
    "# question of legibility, in this case no difference, for the final exam, rewarded if we use list comprehension instead of nested loops\n",
    "# can nest non scalar object as much as you want, but with mutability things get complicated\n",
    "# ls[0][3] or [-1] ? \n",
    "\n",
    "\n",
    "\n"
   ]
  },
  {
   "cell_type": "markdown",
   "metadata": {
    "slideshow": {
     "slide_type": "slide"
    }
   },
   "source": [
    "## Iterating over Dictionaries"
   ]
  },
  {
   "cell_type": "code",
   "execution_count": 12,
   "metadata": {
    "slideshow": {
     "slide_type": "-"
    }
   },
   "outputs": [
    {
     "name": "stdout",
     "output_type": "stream",
     "text": [
      "a\n",
      "b\n",
      "c\n",
      "\n",
      "apple\n",
      "beetle\n",
      "cat\n",
      "apple\n",
      "beetle\n",
      "cat\n",
      "\n",
      "('a', 'apple')\n",
      "('b', 'beetle')\n",
      "('c', 'cat')\n",
      "\n",
      "a : apple\n",
      "b : beetle\n",
      "c : cat\n"
     ]
    }
   ],
   "source": [
    "letters = {'a':'apple', 'b': 'beetle', 'c': 'cat'}\n",
    "\n",
    "# if collection, no guarantee that items are ordered\n",
    "# #by default it iter\n",
    "\n",
    "for i in letters:  # equivalent to: for i in letters.keys(): by default it iterates over the keys, but can be explicit about it with .keys()\n",
    "    # or .values # WITH ITEMS, YOU GET TUPLE OF KEY AND VALUE PAIRS\n",
    "    # if you want them sepaertely, print(key), print(value) in separate lines\n",
    "    # dont assume that sets or dicts are ordered, be disciplined, need element in dict that has this key, dont specify it by its index/position\n",
    "    # for tuple, string, list first 10 is meaningful, not meaningful for dict and set, specify keys by name\n",
    "    print(i)\n",
    "\n",
    "print()\n",
    "for i in letters:\n",
    "    print(letters[i])\n",
    "# equivalent to:\n",
    "for i in letters.values(): \n",
    "    print(i)\n",
    "\n",
    "print()\n",
    "for i in letters.items(): \n",
    "    print(i)\n",
    "    \n",
    "print()\n",
    "for i, j in letters.items(): \n",
    "    print(i, \":\", j)\n",
    "    "
   ]
  },
  {
   "cell_type": "code",
   "execution_count": 7,
   "metadata": {
    "collapsed": true,
    "slideshow": {
     "slide_type": "slide"
    }
   },
   "outputs": [],
   "source": [
    "# Exercise 6: Using a dictionary comprehension, create a new dictionary that\n",
    "# contains the keys from dictionary letters that are strings, with the value for\n",
    "# each key assigned to be an empty list\n",
    "# The new dictionary should look as follows: {'a':[], 'b':[], 'c':[], 'd':[]}\n",
    "\n",
    "letters = {'a':'apple', 4: None, 'b': 'beetle', 'c': 'cat', 2: None, 'd': 'diamond'}\n",
    "\n"
   ]
  },
  {
   "cell_type": "code",
   "execution_count": 8,
   "metadata": {
    "collapsed": true,
    "slideshow": {
     "slide_type": "-"
    }
   },
   "outputs": [],
   "source": [
    "# Exercise 7: Now, distribute the words from the list below to the new dictionary\n",
    "# according to their first letter\n",
    "\n",
    "dic = {'a': [], 'b': [], 'c': [], 'd': []}\n",
    "wordlst = ['a', 'be', 'an', 'the', 'can', 'do', 'did', 'to', 'been']\n",
    "\n"
   ]
  },
  {
   "cell_type": "markdown",
   "metadata": {
    "slideshow": {
     "slide_type": "slide"
    }
   },
   "source": [
    "## Best Practice: Beware of Iterating over Unordered Collections\n",
    "\n",
    "* (In Python 3.6 dictionaries are now implemented as ordered but you should not rely on this!)\n",
    "* For unordered collections, the ordering of elements is determined by how the elements are stored in memory\n"
   ]
  },
  {
   "cell_type": "code",
   "execution_count": 11,
   "metadata": {
    "slideshow": {
     "slide_type": "-"
    }
   },
   "outputs": [
    {
     "name": "stdout",
     "output_type": "stream",
     "text": [
      "List: [1, 2, 4, 8, 1, 2]\n",
      "Set: [8, 1, 2, 4]\n"
     ]
    }
   ],
   "source": [
    "lst = [1, 2, 4, 8, 1, 2]\n",
    "st = set(lst)\n",
    "\n",
    "print(\"List:\", [i for i in lst])    \n",
    "print(\"Set:\", [i for i in st]) \n",
    "# dont come in same order, if you trnasform list into set, saved in memory in different order, will not be in order in which you have fed the elements\n",
    "# dotn assume that set and dict has been ordered, with set we usually dont index sets, just ask whether something is in set\n",
    "# index dict by the key names and with set, check \n",
    "# dont assume set or dict are ordered\n",
    "#tuples, list and strings, you can find the position, thus meaningful to say give me the first 10 -> ASSIGNMENT\n"
   ]
  },
  {
   "cell_type": "markdown",
   "metadata": {
    "slideshow": {
     "slide_type": "slide"
    }
   },
   "source": [
    "## Best Practice: Avoid Mutating a List When Iterating over It\n"
   ]
  },
  {
   "cell_type": "code",
   "execution_count": 10,
   "metadata": {
    "slideshow": {
     "slide_type": "-"
    }
   },
   "outputs": [
    {
     "name": "stdout",
     "output_type": "stream",
     "text": [
      "0 [1, 2, 3, 4, 5, 6, 7, 8, 9]\n",
      "3 [1, 2, 4, 5, 6, 7, 8, 9]\n",
      "6 [1, 2, 4, 5, 7, 8, 9]\n",
      "8 [1, 2, 4, 5, 7, 9]\n"
     ]
    },
    {
     "ename": "IndexError",
     "evalue": "pop index out of range",
     "output_type": "error",
     "traceback": [
      "\u001b[0;31m---------------------------------------------------------------------------\u001b[0m",
      "\u001b[0;31mIndexError\u001b[0m                                Traceback (most recent call last)",
      "\u001b[0;32m<ipython-input-10-368f10c34dd9>\u001b[0m in \u001b[0;36m<module>\u001b[0;34m()\u001b[0m\n\u001b[1;32m      1\u001b[0m \u001b[0mlst\u001b[0m \u001b[0;34m=\u001b[0m \u001b[0;34m[\u001b[0m\u001b[0mi\u001b[0m \u001b[0;32mfor\u001b[0m \u001b[0mi\u001b[0m \u001b[0;32min\u001b[0m \u001b[0mrange\u001b[0m\u001b[0;34m(\u001b[0m\u001b[0;36m10\u001b[0m\u001b[0;34m)\u001b[0m\u001b[0;34m]\u001b[0m\u001b[0;34m\u001b[0m\u001b[0m\n\u001b[1;32m      2\u001b[0m \u001b[0;32mfor\u001b[0m \u001b[0mi\u001b[0m \u001b[0;32min\u001b[0m \u001b[0mlst\u001b[0m\u001b[0;34m:\u001b[0m\u001b[0;34m\u001b[0m\u001b[0m\n\u001b[0;32m----> 3\u001b[0;31m     \u001b[0mpopped\u001b[0m \u001b[0;34m=\u001b[0m \u001b[0mlst\u001b[0m\u001b[0;34m.\u001b[0m\u001b[0mpop\u001b[0m\u001b[0;34m(\u001b[0m\u001b[0mi\u001b[0m\u001b[0;34m)\u001b[0m\u001b[0;34m\u001b[0m\u001b[0m\n\u001b[0m\u001b[1;32m      4\u001b[0m     \u001b[0mprint\u001b[0m\u001b[0;34m(\u001b[0m\u001b[0mpopped\u001b[0m\u001b[0;34m,\u001b[0m \u001b[0mlst\u001b[0m\u001b[0;34m)\u001b[0m\u001b[0;34m\u001b[0m\u001b[0m\n",
      "\u001b[0;31mIndexError\u001b[0m: pop index out of range"
     ]
    }
   ],
   "source": [
    "lst = [i for i in range(10)]\n",
    "for i in lst:\n",
    "    popped = lst.pop(i)\n",
    "    print(popped, lst)\n",
    "\n",
    "# dont modify something that you are iterating over, esp if modifying the current item or future items\n",
    "# have list from 0 to 9, dont do this, we pop item, the issue is when you do that, the list is getting shorter and shorter, \n",
    "# iterating over something that is now different after teh first iteration# the indices change, the second element will no longer be that index\n",
    "# dont change what you are iterating over, if you need do something like that just create second lists, duplciate the list and change the second index in there\n",
    "# you give index to pop, in first iteration i is 0, i the secon diteration, i should be 1, but now it is no longer 1 but 2 in the index, but 2 is the hrid element\n",
    "# first line in output, ahve already poped the 0, thus it is no longer there in the first line of the output\n"
   ]
  }
 ],
 "metadata": {
  "celltoolbar": "Slideshow",
  "kernelspec": {
   "display_name": "Python 3 (ipykernel)",
   "language": "python",
   "name": "python3"
  },
  "language_info": {
   "codemirror_mode": {
    "name": "ipython",
    "version": 3
   },
   "file_extension": ".py",
   "mimetype": "text/x-python",
   "name": "python",
   "nbconvert_exporter": "python",
   "pygments_lexer": "ipython3",
   "version": "3.12.4"
  }
 },
 "nbformat": 4,
 "nbformat_minor": 2
}
