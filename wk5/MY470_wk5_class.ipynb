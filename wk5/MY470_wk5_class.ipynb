{
 "cells": [
  {
   "cell_type": "markdown",
   "metadata": {
    "slideshow": {
     "slide_type": "slide"
    }
   },
   "source": [
    "### MY470 Computer Programming\n",
    "# Programming in Teams\n",
    "### Week 5 Lab"
   ]
  },
  {
   "cell_type": "markdown",
   "metadata": {},
   "source": [
    "- **Methods are just functions atteched to objects**"
   ]
  },
  {
   "cell_type": "markdown",
   "metadata": {
    "slideshow": {
     "slide_type": "slide"
    }
   },
   "source": [
    "## Classes"
   ]
  },
  {
   "cell_type": "markdown",
   "metadata": {},
   "source": [
    "- template for defining your own classes\n",
    "- init method unless you are inheriting, \n",
    "- self refers to current instance of the class, anything we do with particular object, attributes object specific, method will be called on this instance of the class = object\n",
    "- dont forget docstrings"
   ]
  },
  {
   "cell_type": "code",
   "execution_count": null,
   "metadata": {
    "slideshow": {
     "slide_type": "-"
    }
   },
   "outputs": [],
   "source": [
    "class MyClass(object):\n",
    "    \"\"\"DocString to define class.\"\"\" \n",
    "    # DocString, not comments. DocStrings are for users, and will travel with the class.\n",
    "    # Information about the implemention (not abstraction) giving concrete meaning \n",
    "    # to the abstract methods.   \n",
    "    \n",
    "    # Special Method: Always FIRST\n",
    "    def __init__(self, vals):\n",
    "        \"\"\"Create a new instance from class.\"\"\"\n",
    "        \n",
    "        # \"__\" is two underscores. \n",
    "        # A constructor method is a special function that creates an instance of the class.\n",
    "        # Any initalising you would like to do with your class object.\n",
    "        # Data attributes are defined here with the \"self.\" prefix\n",
    "        self.vals = vals\n",
    "    \n",
    "    def class_methods(self, arg):\n",
    "        \"\"\"DocString to describe method.\"\"\"\n",
    "        \n",
    "        # Some methods that do something. Get() and set() methods are common.\n",
    "        # Self is used to represent the instance of the class. \n",
    "        # When working out the structure we can originally just leave \"pass\".\n",
    "        pass\n",
    "    \n",
    "    # Special Method: Always LAST\n",
    "    def __str__(self): \n",
    "        \"\"\"Return a string representation of object.\"\"\"\n",
    "        \n",
    "        # Define here how you want the Class Instance to be printed. \n",
    "        # Otherwise, you will get the location (where the Class Instance is stored)\n",
    "        return sorted(self.vals)\n",
    "\n",
    "c1 = MyClass(\"hello\")\n",
    "print(c1)"
   ]
  },
  {
   "cell_type": "markdown",
   "metadata": {
    "slideshow": {
     "slide_type": "slide"
    }
   },
   "source": [
    "## Iterables\n",
    "\n",
    "When you create a list, you can read its items one by one. Reading its items one by one is called iteration."
   ]
  },
  {
   "cell_type": "code",
   "execution_count": null,
   "metadata": {
    "slideshow": {
     "slide_type": "-"
    }
   },
   "outputs": [],
   "source": [
    "mylist = [x*x for x in range(3)]\n",
    "for i in mylist:\n",
    "    print(i)"
   ]
  },
  {
   "cell_type": "markdown",
   "metadata": {},
   "source": [
    "- range, list, string are iterables\n",
    "- generator creates an iterable, implicit object where it has the rules of obtaining the parts, **pointer telling you where you are, pointer moves every time you call the next element on it, next element called using for loop**\n",
    "- **diff is brackets compared to list comprehensions**\n",
    "- list comprehension has generator in it, but creates lists while generator creates different kind of object\n",
    "p**rint(mygenerator) -> special generator object, can go over it, get every element**\n",
    "- in squre brackets for list comprehension, we call generator and save values in list, **that is what the square brackets say, holding all those values in memory**\n",
    "- with generator, we generate the rules for generator values, have to explicitly call it, if we call generator once, we cannot call it again, with list the object is there, we can iterate over it over and over again\n",
    "- **Advantage: save memory space, only rule and pointer, two values it needs to hold, but - Downside: if we have to iterate repeatedly over it, save it in object**"
   ]
  },
  {
   "cell_type": "markdown",
   "metadata": {
    "slideshow": {
     "slide_type": "-"
    }
   },
   "source": [
    "`mylist` is an iterable. When you use a list comprehension, you create a list, and so an iterable. Everything you can use ```for... in...``` on is an iterable: lists, strings, collections, files...\n",
    "\n",
    "\n",
    "These iterables are handy because you can read them as much as you wish. **However, you store all the values in memory and this is not always what you want when you have a lot of values**\n"
   ]
  },
  {
   "cell_type": "markdown",
   "metadata": {
    "slideshow": {
     "slide_type": "slide"
    }
   },
   "source": [
    "## Generators\n",
    "\n",
    "[Source](https://stackoverflow.com/questions/231767/what-does-the-yield-keyword-do)\n",
    "\n",
    "Generators are iterators, a kind of iterable **you can only iterate over once**. Generators do not store all the values in memory, they generate the values on the fly.\n"
   ]
  },
  {
   "cell_type": "markdown",
   "metadata": {},
   "source": [
    "https://www.youtube.com/watch?v=tmeKsb2Fras\n",
    "- **you run the generator by calling its next() method**\n",
    "- **the most common use case for a generator is to define an iterator of a class** \n",
    "- **you might also use a generator for reading from a file**"
   ]
  },
  {
   "cell_type": "code",
   "execution_count": null,
   "metadata": {
    "slideshow": {
     "slide_type": "-"
    }
   },
   "outputs": [],
   "source": [
    "mygenerator = (x*x for x in range(3))\n",
    "\n",
    "for i in mygenerator:\n",
    "    print(i)"
   ]
  },
  {
   "cell_type": "markdown",
   "metadata": {
    "slideshow": {
     "slide_type": "-"
    }
   },
   "source": [
    "The syntax is the same except you used ```()``` instead of ```[]```. BUT, you cannot perform ```for i in mygenerator``` a second time since generators can only be used once: they calculate 0, then forget about it and calculate 1, and end calculating 4, one by one."
   ]
  },
  {
   "cell_type": "code",
   "execution_count": null,
   "metadata": {
    "slideshow": {
     "slide_type": "-"
    }
   },
   "outputs": [],
   "source": [
    "for i in mygenerator:\n",
    "    print(i)"
   ]
  },
  {
   "cell_type": "code",
   "execution_count": null,
   "metadata": {},
   "outputs": [],
   "source": [
    "test_gen = (i for i in range(10))\n",
    "print(test_gen)\n",
    "for i in test_gen:\n",
    "    print(i, end = \"\")"
   ]
  },
  {
   "cell_type": "code",
   "execution_count": null,
   "metadata": {},
   "outputs": [],
   "source": [
    "for i in test_gen:\n",
    "    yield i # error: yield outside function"
   ]
  },
  {
   "cell_type": "markdown",
   "metadata": {
    "slideshow": {
     "slide_type": "slide"
    }
   },
   "source": [
    "## Yield\n",
    "\n",
    "```yield``` is a keyword that is used like ```return```, except the function will return a generator.\n"
   ]
  },
  {
   "cell_type": "code",
   "execution_count": null,
   "metadata": {
    "slideshow": {
     "slide_type": "-"
    }
   },
   "outputs": [],
   "source": [
    "def createGenerator():\n",
    "    mylist = range(3)\n",
    "    for i in mylist:\n",
    "        yield i*i\n",
    "\n",
    "mygenerator = createGenerator() # create a generator\n",
    "print(mygenerator) # mygenerator is an object!\n",
    "\n",
    "for i in mygenerator:\n",
    "    print(i)"
   ]
  },
  {
   "cell_type": "code",
   "execution_count": null,
   "metadata": {},
   "outputs": [],
   "source": [
    "def gen():\n",
    "    for i in range(10):\n",
    "        print (i)\n",
    "# gen() # so why does it give me all the values straight away?\n",
    "c = gen()\n",
    "print(c)"
   ]
  },
  {
   "cell_type": "markdown",
   "metadata": {},
   "source": [
    "- any time you calll yield in function, it gives you one value at a time, yield only returns value, return -> exit function, with yield we remember the next value, once you call it again it gives you that value"
   ]
  },
  {
   "cell_type": "markdown",
   "metadata": {
    "slideshow": {
     "slide_type": "slide"
    }
   },
   "source": [
    "## Yield\n",
    "\n",
    "When you call the function, the code you have written in the function body does not run. The function only returns the generator object.\n",
    "\n",
    "**Then, your code will continue from where it left off each time ```for``` uses the generator.**"
   ]
  },
  {
   "cell_type": "code",
   "execution_count": 6,
   "metadata": {
    "slideshow": {
     "slide_type": "-"
    }
   },
   "outputs": [
    {
     "name": "stdout",
     "output_type": "stream",
     "text": [
      "This is printed first\n"
     ]
    },
    {
     "data": {
      "text/plain": [
       "1"
      ]
     },
     "execution_count": 6,
     "metadata": {},
     "output_type": "execute_result"
    }
   ],
   "source": [
    "def my_gen():\n",
    "    n = 1\n",
    "    print('This is printed first')\n",
    "    # Generator function contains yield statements\n",
    "    yield n\n",
    "\n",
    "    n += 1\n",
    "    print('This is printed second')\n",
    "    yield n\n",
    "\n",
    "    n += 1\n",
    "    print('This is printed at last')\n",
    "    yield n\n",
    "    \n",
    "# It returns an object but does not start execution immediately.\n",
    "a = my_gen()\n",
    "\n",
    "# We can iterate through the items using next().\n",
    "next(a)\n",
    "# next(a)"
   ]
  },
  {
   "cell_type": "markdown",
   "metadata": {},
   "source": [
    "- fake function yields a number every time you call it, if we call it with next, **next() implicitly is reserved function, is being called implicitly in a for loop, calling an iterator and possible to over every single element**\n",
    "- **print(next(a)) output changes every time we call it, if you call it four times, we only have 3 yields, thus we run out of values,**\n",
    "- return you exit the function while yield you can call it as many times as yield occurs in the function until it runs out of values, \n",
    "- **will need this for the asssignment**\n",
    "- generators dont create objets with memory, only rule to find the next value and pointer where we are, useful when we dont want to create copy of the data, some of the functions we have used would take generators, generator creates an iterable, \n",
    "- **sometimes can insert mygenerator as an argument, inside the function, if the function takes an iterable**\n",
    "- tuple vs generator, no tuple comprehensions"
   ]
  },
  {
   "cell_type": "code",
   "execution_count": 8,
   "metadata": {
    "slideshow": {
     "slide_type": "fragment"
    }
   },
   "outputs": [
    {
     "ename": "StopIteration",
     "evalue": "",
     "output_type": "error",
     "traceback": [
      "\u001b[0;31m---------------------------------------------------------------------------\u001b[0m",
      "\u001b[0;31mStopIteration\u001b[0m                             Traceback (most recent call last)",
      "Cell \u001b[0;32mIn[8], line 4\u001b[0m\n\u001b[1;32m      1\u001b[0m \u001b[38;5;66;03m# Once the function yields, the function is paused and the control is transferred to the caller.\u001b[39;00m\n\u001b[1;32m      2\u001b[0m \n\u001b[1;32m      3\u001b[0m \u001b[38;5;66;03m# Local variables and their states are remembered between successive calls.\u001b[39;00m\n\u001b[0;32m----> 4\u001b[0m \u001b[38;5;28mprint\u001b[39m(\u001b[38;5;28mnext\u001b[39m(a))\n\u001b[1;32m      5\u001b[0m \u001b[38;5;28mprint\u001b[39m(\u001b[38;5;28mnext\u001b[39m(a))\n",
      "\u001b[0;31mStopIteration\u001b[0m: "
     ]
    }
   ],
   "source": [
    "# Once the function yields, the function is paused and the control is transferred to the caller.\n",
    "\n",
    "# Local variables and their states are remembered between successive calls.\n",
    "print(next(a))\n",
    "print(next(a))"
   ]
  },
  {
   "cell_type": "code",
   "execution_count": null,
   "metadata": {
    "slideshow": {
     "slide_type": "fragment"
    }
   },
   "outputs": [],
   "source": [
    "# Finally, when the function terminates, StopIteration is raised automatically on further calls.\n",
    "# Generators can only be called once.\n",
    "next(a)"
   ]
  },
  {
   "cell_type": "markdown",
   "metadata": {
    "slideshow": {
     "slide_type": "notes"
    }
   },
   "source": [
    "\n",
    "So ...\n",
    "- The first time ```for``` calls the generator object created from your function, it will run the code in your function from the beginning until it hits ```yield```, then it'll return the first value of the loop. \n",
    "- Then, each subsequent call will run another iteration of the loop you have written in the function and return the next value. This will continue until the generator is considered empty, which happens when the function runs without hitting ```yield```. \n",
    "- That can be because the loop has come to an end, or because you no longer satisfy an ```if / else``` statement."
   ]
  },
  {
   "cell_type": "markdown",
   "metadata": {
    "slideshow": {
     "slide_type": "slide"
    }
   },
   "source": [
    "## GitHub as a Collaboration Tool\n",
    "\n",
    "1. Split the work.\n",
    "2. Clone repository locally.\n",
    "3. Create a branch to make changes. \n",
    "4. Open pull request to get feedback and improve iteratively.\n",
    "5. Finally, merge branch to master/main.\n",
    "6. You can use either VS Code or the browser for this and for managing issues.\n",
    "\n",
    "![GitHub branch](figs/github-branch.png \"GitHub branch\")\n"
   ]
  },
  {
   "cell_type": "markdown",
   "metadata": {},
   "source": [
    "- work locally and sync it on the cloud version, issue pull request to you pushing requesting the owner to pull, pull my changes, integrate my changes, \n",
    "- resolve the conflict before merging, not that advanced yet\n",
    "- break assignment into problems, 2-3, 4-5, hopefully no confflicts, testing code, can still write it without expecting certain outputs, can handcode the input, after merginng, make sure the whole thing runs\n"
   ]
  },
  {
   "cell_type": "markdown",
   "metadata": {
    "slideshow": {
     "slide_type": "slide"
    }
   },
   "source": [
    "## VS Code: Helpful Tutorials\n",
    "\n",
    "* [Creating branches](https://www.youtube.com/watch?v=i_23KUAEtUM)\n",
    "* [Pull requests](https://www.youtube.com/watch?v=LdSwWxVzUpo)\n",
    "* [Resolving merge conflicts](https://www.youtube.com/watch?v=HosPml1qkrg)\n",
    "* [Managing issues](https://leonardomontini.dev/manage-issues-vscode-github/)\n"
   ]
  },
  {
   "cell_type": "markdown",
   "metadata": {
    "slideshow": {
     "slide_type": "slide"
    }
   },
   "source": [
    "## VS Code: Create a New Branch\n",
    "\n",
    "\n",
    "![Create a new branch in VS Code](figs/vs_new_branch.png \"Create a new branch in VS Code\")"
   ]
  },
  {
   "cell_type": "markdown",
   "metadata": {
    "slideshow": {
     "slide_type": "slide"
    }
   },
   "source": [
    "## VS Code: After Committing Changes, Open Pull Request\n",
    "\n",
    "\n",
    "![Open pull request in VS Code](figs/vs_pull_request_1.png \"Open pull request in VS Code\")"
   ]
  },
  {
   "cell_type": "markdown",
   "metadata": {
    "slideshow": {
     "slide_type": "slide"
    }
   },
   "source": [
    "## VS Code: Pull Request Indicates How to Merge Branch\n",
    "\n",
    "\n",
    "![Pull request in VS Code](figs/vs_pull_request_2.png \"Pull request in VS Code\")"
   ]
  },
  {
   "cell_type": "markdown",
   "metadata": {
    "slideshow": {
     "slide_type": "slide"
    }
   },
   "source": [
    "## VS Code: Comment, Change, Merge\n",
    "\n",
    "\n",
    "![Merge pull request in VS Code](figs/vs_comment_merge.png \"erge pull request in VS Code\")"
   ]
  },
  {
   "cell_type": "markdown",
   "metadata": {
    "slideshow": {
     "slide_type": "slide"
    }
   },
   "source": [
    "## Browser: Create a New Branch When Uploading Changed File\n",
    "\n",
    "![Create a new branch](figs/branching.png \"Create a new branch\")"
   ]
  },
  {
   "cell_type": "markdown",
   "metadata": {
    "slideshow": {
     "slide_type": "slide"
    }
   },
   "source": [
    "## Browser: Open a Pull Request to Get Feedback (Automatically Directed There)\n",
    "\n",
    "![Open a pull request](figs/pull_request.png \"Open a pull request\")"
   ]
  },
  {
   "cell_type": "markdown",
   "metadata": {
    "slideshow": {
     "slide_type": "slide"
    }
   },
   "source": [
    "## Browser: You (and Later Your Partner) Can View Your Changes Highlighted\n",
    "\n",
    "![View changes](figs/changes.png \"View changes\")"
   ]
  },
  {
   "cell_type": "markdown",
   "metadata": {
    "slideshow": {
     "slide_type": "slide"
    }
   },
   "source": [
    "## Browser: Wait for Comments from Partner Before Merging\n",
    "\n",
    "![Merge after comments](figs/merge.png \"Merge after comments\")"
   ]
  },
  {
   "cell_type": "markdown",
   "metadata": {
    "slideshow": {
     "slide_type": "slide"
    }
   },
   "source": [
    "## Browser: Confirm Merge\n",
    "\n",
    "![Confirm merge](figs/confirm_merge.png \"Confirm merge\")"
   ]
  },
  {
   "cell_type": "markdown",
   "metadata": {
    "slideshow": {
     "slide_type": "slide"
    }
   },
   "source": [
    "## Browser: Open Issues to Discuss Problems and Ask Partner for Help\n",
    "\n",
    "![Open a new issue](figs/open_issue.png \"Open a new issue\")"
   ]
  },
  {
   "cell_type": "markdown",
   "metadata": {
    "slideshow": {
     "slide_type": "slide"
    }
   },
   "source": [
    "## Browser: Open Issues to Discuss Problems and Ask Partner for Help\n",
    "\n",
    "![Submit new issue](figs/submit_issue.png \"Submit new issue\")"
   ]
  },
  {
   "cell_type": "markdown",
   "metadata": {
    "slideshow": {
     "slide_type": "slide"
    }
   },
   "source": [
    "## Browser: Discuss and Close Issue When Resolved\n",
    "\n",
    "![Discuss](figs/discuss.png \"Discuss\")"
   ]
  },
  {
   "cell_type": "code",
   "execution_count": 9,
   "metadata": {
    "collapsed": true,
    "slideshow": {
     "slide_type": "slide"
    }
   },
   "outputs": [
    {
     "name": "stdout",
     "output_type": "stream",
     "text": [
      "Customer #1 ordered \"Scarcity: The True Cost of Not Having Enough\", \"Nudge: Improving Decisions About Health, Wealth and Happiness\" for £12.56\n"
     ]
    }
   ],
   "source": [
    "# Exercise 1: Work with the person next to you to design \n",
    "# classes to manage the products, customers, and purchase \n",
    "# orders for an online book store such as amazon.com. \n",
    "# Outline the data attributes and useful methods for \n",
    "# each class. You can discuss and create the outline together. \n",
    "\n",
    "# class Customers(object):\n",
    "#     def __init__(self, purchase):\n",
    "#         self.purchase = purchase\n",
    "\n",
    "#     def get_purchase(self):\n",
    "\n",
    "# Solution: This is only a partial solution, demonstrating \n",
    "# to you the application of class hierarchies and \n",
    "# information encapsualtion. Designing a proper class structure \n",
    "# is quite difficult and time-consuming.\n",
    "\n",
    "class Customer(object):\n",
    "    \"\"\"A class to represent a customer of the shop.\"\"\"\n",
    "    \n",
    "    next_unique_id = 1\n",
    "    \n",
    "    def __init__(self, name):\n",
    "        \"\"\"Create new customer.\"\"\"\n",
    "        self.customer_id = Customer.next_unique_id # Customer . next_unique_id here append it to Customer, because next unique id is class variable of Customer()\n",
    "        self.name = name\n",
    "        self.order_history = []\n",
    "        Customer.next_unique_id += 1\n",
    "    \n",
    "    def get_customer_id(self):\n",
    "        \"\"\"Return customer's unique id.\"\"\"\n",
    "        return self.customer_id\n",
    "    \n",
    "    def get_order_history(self):\n",
    "        \"\"\"Return customer's orders one at a time.\"\"\"\n",
    "        for i in self.order_history:\n",
    "            yield i\n",
    "            \n",
    "    def __str__(self):\n",
    "        return 'Customer #' + str(self.customer_id)\n",
    "    \n",
    "class Product(object):\n",
    "    \"\"\"A class to represent a product offered for sale\n",
    "    by the shop.\n",
    "    \"\"\"\n",
    "    \n",
    "    def __init__(self, name,):\n",
    "        \"\"\"Create new product.\"\"\"\n",
    "        self.name = name\n",
    "        self.price = None\n",
    "        self.dimensions = None\n",
    "        # self.dimension = dimension\n",
    "    \n",
    "    def get_name(self):\n",
    "        \"\"\"Get product name.\"\"\"\n",
    "        return self.name\n",
    "    \n",
    "    def change_name(self, new_name):\n",
    "        \"\"\"Change product name.\"\"\"\n",
    "        self.name = new_name\n",
    "    \n",
    "    def set_price(self, prc):\n",
    "        \"\"\"Set product price.\"\"\"\n",
    "        self.price = prc\n",
    "        \n",
    "    def get_price(self):\n",
    "        \"\"\"Get product price.\"\"\"\n",
    "        return self.price\n",
    "    \n",
    "    def set_dimensions(self, dims):\n",
    "        \"\"\"Set product dimensions as a string of the type:\n",
    "           w0.0 x l0.0 x h0.0 cm\n",
    "        \"\"\"\n",
    "        self.dimensions = dims\n",
    "        \n",
    "    def get_dimensions(self):\n",
    "        \"\"\"Get product dimensions. Returns a string of the type: \n",
    "           w0.0 x l0.0 x h0.0 cm\"\"\"\n",
    "        return self.dimensions\n",
    "    \n",
    "    def __str__(self):\n",
    "        return self.name\n",
    "        \n",
    "# Book subclass of Product\n",
    "class Book(Product):\n",
    "    \"\"\"A class to represent a book as a type of product.\n",
    "    The class is a subclass of the class Product.\n",
    "    \"\"\"\n",
    "    \n",
    "    def __init__(self, name):\n",
    "        \"\"\"Create new book.\"\"\"\n",
    "        Product.__init__(self, name)\n",
    "        self.num_pages = None\n",
    "        self.publisher = None\n",
    "        self.author = None\n",
    "        self.year = None\n",
    "        \n",
    "    # Define the usual get and set methods\n",
    "    # takes no arguments, cratey empty\n",
    "# ElectronicBook is subclass of Book    \n",
    "class ElectronicBook(Book):\n",
    "    \"\"\"A class to represent an electronic book as a type of book.\n",
    "    The class is a subclass of the class Book.\n",
    "    \"\"\"\n",
    "    \n",
    "    def __init__(self, name):\n",
    "        \"\"\"Create new electronic book.\"\"\"\n",
    "        Book.__init__(self, name)\n",
    "        self.filetype = None\n",
    "        self.link = None\n",
    "    \n",
    "    # Add additional get and set methods for e-book data attributes \n",
    "\n",
    "# PrintedBook is subclass of Book    \n",
    "class PrintedBook(Book):\n",
    "    \"\"\"A class to represent a printed book as a type of book.\n",
    "    The class is a subclass of the class Book.\n",
    "    \"\"\"\n",
    "    pass        \n",
    "\n",
    "\n",
    "class Order(object):\n",
    "    \"\"\"A class to represent a purchase order made by\n",
    "    a customer and consisting of one or more products.\n",
    "    \"\"\"\n",
    "    \n",
    "    def __init__(self, customer):\n",
    "        \"\"\"Create new purchase order.\"\"\"\n",
    "        self.customer = customer\n",
    "        self.products = []\n",
    "    \n",
    "    def add_product(self, product):\n",
    "        \"\"\"Add product to customer's purchase order.\"\"\"\n",
    "        self.products.append(product)\n",
    "        \n",
    "    def get_total_price(self):\n",
    "        \"\"\"Get the total price for the order.\"\"\"\n",
    "        # Notice that I use the method to get the product price\n",
    "        # and I do not access the data attribute directly\n",
    "        return sum([p.get_price() for p in self.products])\n",
    "    \n",
    "    def __str__(self):\n",
    "        return (str(self.customer) + ' ordered ' \n",
    "                   + ', '.join(['\"' + str(i) + '\"' for i in self.products]) \n",
    "                   + ' for £' + str(self.get_total_price()) )\n",
    "    \n",
    "\n",
    "# Create a new customer\n",
    "c1 = Customer('Milena Tsvetkova')\n",
    "\n",
    "# Create a couple of products\n",
    "b1 = PrintedBook('Scarcity: The True Cost of Not Having Enough')\n",
    "# Notice set_price is a method of the superclass Product. That's why we can\n",
    "# use it although we have not defined it in the subclass.\n",
    "b1.set_price(7.57)\n",
    "\n",
    "b2 = PrintedBook('Nudge: Improving Decisions About Health, Wealth and Happiness')\n",
    "b2.set_price(4.99)\n",
    "\n",
    "# Customer buys products, get order summary\n",
    "o1 = Order(c1)\n",
    "o1.add_product(b1)\n",
    "o1.add_product(b2)\n",
    "print(o1)\n"
   ]
  },
  {
   "cell_type": "code",
   "execution_count": null,
   "metadata": {
    "collapsed": true,
    "slideshow": {
     "slide_type": "-"
    }
   },
   "outputs": [],
   "source": [
    "# Exercise 2: Create a new repository in your account and upload \n",
    "# the class hierarchy you created. Add your partner as collaborator\n",
    "# (Settings -> Collaborators and teams -> Add people).\n",
    "# Practice cloning locally, creating a branch, making changes in the branch, \n",
    "# opening a pull request, commenting, and merging the pull request. \n",
    "\n",
    "# Solution: Use class slides for detailed instructions \n",
    "# on how to do this."
   ]
  },
  {
   "cell_type": "code",
   "execution_count": null,
   "metadata": {
    "collapsed": true,
    "slideshow": {
     "slide_type": "-"
    }
   },
   "outputs": [],
   "source": [
    "# Exercise 3: Open a new issue in your partner's repository. \n",
    "\n",
    "# Solution: Use class slides (including link to tutorial)\n",
    "# for detailed instructions on how to do this.\n",
    "\n",
    "for i in test_list:\n",
    "    for j in i:"
   ]
  }
 ],
 "metadata": {
  "celltoolbar": "Slideshow",
  "kernelspec": {
   "display_name": "Python 3 (ipykernel)",
   "language": "python",
   "name": "python3"
  },
  "language_info": {
   "codemirror_mode": {
    "name": "ipython",
    "version": 3
   },
   "file_extension": ".py",
   "mimetype": "text/x-python",
   "name": "python",
   "nbconvert_exporter": "python",
   "pygments_lexer": "ipython3",
   "version": "3.12.4"
  }
 },
 "nbformat": 4,
 "nbformat_minor": 2
}
