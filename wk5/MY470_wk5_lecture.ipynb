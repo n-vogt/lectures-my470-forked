{
 "cells": [
  {
   "cell_type": "markdown",
   "metadata": {
    "slideshow": {
     "slide_type": "slide"
    }
   },
   "source": [
    "### MY470 Computer Programming\n",
    "# ⚙️ Classes in Python\n",
    "### Week 5 Lecture"
   ]
  },
  {
   "cell_type": "markdown",
   "metadata": {},
   "source": [
    "https://www.youtube.com/watch?v=JeznW_7DlB0&t=1801s\n",
    "OOP in Python: how to create own customs object by making different classes in Python \n",
    "- print(type(\"hello\")) -> class string\n",
    "    - this string is an object of the type str, or class function = built in types (they work differently than other classes we work with later)\n",
    "    - these different data types are part of a class\n",
    "    - everything we work with in Python is an object of some kind of class\n",
    "    - **whenever you create something in python, you create object, whcih is an instance of a specific class**\n",
    "        - that class determines the way in which that object can interact with other things\n",
    "- we perform methods on objects (everything with dot etc is method acting on object)\n",
    "    - vs int object has no attribute upper\n",
    "- Class dog and now defining the operations a dog is able to do\n",
    "    - a method = function that goes inside of a class\n",
    "    - all of our methods start with a parameter called self\n",
    "    - d = Dog() assigning d to an instance of the class Dog (instance = Fall, Exemplar, Beispiel, Instanz), instantiating = creating new instance of class Dog\n",
    "        - d now is an object of type Dog\n",
    "        - d.bark() can call my defined method on my Dog object\n",
    "- __main__.Dog because class created in module \"main\"\n",
    "- upper case letter and camel case\n",
    "- can have the method print sth, can return sth, methods can take arguments\n",
    "- def __init__(self, name):\n",
    "    - special method: allows us to instantiate the object right when it is created\n",
    "    - this method will be called whenever we write a line like d = Dog(\"tim\") ~ passing in the name\n",
    "    - whenever we create a new Dog instance, will pass any arguments we have put in there, will pass that to that method\n",
    "    - we are passing in this name but we need to store this name in the Dog object somewhere\n",
    "    class Dog:\n",
    "        def __init__(self, name):\n",
    "            self.name = name (these dont need to match, we have created an attribute of the class Dog, which is name)\n",
    "            ->every time we create a new Dog object, we pass name \n",
    "- def get_name(self, ): self is always the first parameter because: need to invisbly pass the actual dog object so that we know which dog we are accessing when getting the name of the dog\n",
    "    return self.name\n",
    "    or \n",
    "    def get_age(self):\n",
    "        return self.age\n",
    "    vs\n",
    "    def set_age(self, age):\n",
    "        self.age = age\n",
    "- __init__(self, name, age) -> every time we define a dog, we need to give it a name and an age\n",
    "- we can modify attributes \n",
    "    - can create other methods that modify these attributes or create new attributes \n",
    "- we can modify and access these attributes from methods inside our class!!!\n",
    "    - powerful, allows us to access data thtat is stored within specific object and do different things with it based on how different methods are called\n",
    "    "
   ]
  },
  {
   "cell_type": "code",
   "execution_count": 8,
   "metadata": {},
   "outputs": [
    {
     "name": "stdout",
     "output_type": "stream",
     "text": [
      "<class '__main__.Dog'>\n",
      "Tim\n",
      "95.0\n"
     ]
    }
   ],
   "source": [
    "class Dog:\n",
    "    def __init__(self, name, age): # special method: allows us to instantiate/ create an instance of an object when it is created \n",
    "        # will be called whenever we write a line like d = Dog(\"tim\")\n",
    "        self.name = name # attribute\n",
    "        self.age = age # attribute\n",
    "    def get_name(self):\n",
    "        return self.name\n",
    "    def get_age(self): # defining methods = functions inside an object \n",
    "        return self.age\n",
    "    def set_age(self, age):\n",
    "        self.age = age \n",
    "\n",
    "d = Dog(\"Tim\", 44)\n",
    "print(type(d))\n",
    "d.set_age(23)\n",
    "d.get_age()\n",
    "\n",
    "class Student:\n",
    "    def __init__(self, name, age, grade):\n",
    "        self.name = name\n",
    "        self.age = age\n",
    "        self.grade = grade \n",
    "\n",
    "    def get_grade(self):\n",
    "        return self.grade\n",
    "\n",
    "class Course:\n",
    "    def __init__(self, name, max_students):\n",
    "        self.name = name\n",
    "        self.max_students = max_students\n",
    "        self.students = [] # have made an attribute and did not assign it to one parameter, that is totally fine\n",
    "        self.is_active = False # attributes are just whatever we decide to define\n",
    "\n",
    "    def add_student(self, student): # this student is actually instance of student object\n",
    "        if len(self.students) < self.max_students:\n",
    "            self.students.append(student) \n",
    "            return True # return True if student was added successfully\n",
    "        return False # if not \n",
    "    \n",
    "    def get_average_grade(self):\n",
    "        value = 0\n",
    "        for student in self.students:\n",
    "            value += student.get_grade() # could just type grade but he prefers using the method because\n",
    "            # say we were to change any attributes later, then this code would not break so long as this method was still named the same thing\n",
    "            return value / len(self.students)\n",
    "s1 = Student(\"Tim\", 19, 95)\n",
    "\n",
    "course = Course(\"Science\", 2)\n",
    "course.add_student(s1)\n",
    "print(course.students[0].name) # But i believe I sholud not write .name but rather define method that does get_name(self)\n",
    "print(course.get_average_grade())"
   ]
  },
  {
   "cell_type": "markdown",
   "metadata": {},
   "source": [
    "Inheritance\n",
    "Class Attributes\n"
   ]
  },
  {
   "cell_type": "markdown",
   "metadata": {
    "slideshow": {
     "slide_type": "slide"
    }
   },
   "source": [
    "## Overview\n",
    "\n",
    "* Object-oriented programming\n",
    "* Classes\n",
    "* Class inheritance and polymorphism\n",
    "* Encapsulation and information hiding\n",
    "* Generators\n",
    "* Team formation for PS3\n"
   ]
  },
  {
   "cell_type": "markdown",
   "metadata": {},
   "source": [
    "expression inside list comprehension is generator \n",
    "how could i have learned to speak another language fluently by now? Need to improve my French. "
   ]
  },
  {
   "cell_type": "markdown",
   "metadata": {
    "slideshow": {
     "slide_type": "slide"
    }
   },
   "source": [
    "## From Last Week: Decomposition and Abstraction\n",
    "\n",
    "* Decomposition creates structure\n",
    "* Abstraction hides detail\n",
    "\n",
    "![Decomposition and abstraction](figs/decomposition_abstraction.png \"Decomposition and abstraction\")"
   ]
  },
  {
   "cell_type": "markdown",
   "metadata": {
    "slideshow": {
     "slide_type": "slide"
    }
   },
   "source": [
    "## Achieving Decomposition and Abstraction\n",
    "\n",
    "* With functions\n",
    "* With **classes**"
   ]
  },
  {
   "cell_type": "markdown",
   "metadata": {
    "slideshow": {
     "slide_type": "slide"
    }
   },
   "source": [
    "## From Week 2: Objects\n",
    "\n",
    "### Python supports many different kinds of objects\n",
    "\n",
    "* `25`, `'LSE'`, `[1, 2, 7, 0]`, `range(10)` "
   ]
  },
  {
   "cell_type": "markdown",
   "metadata": {
    "slideshow": {
     "slide_type": "fragment"
    }
   },
   "source": [
    "### In fact, EVERYTHING in Python is an object\n",
    "\n",
    "* Objects have types (belong to classes)\n",
    "* Objects also have a set of procedures for interacting with them (methods)"
   ]
  },
  {
   "cell_type": "markdown",
   "metadata": {},
   "source": [
    "anything that you manipulate is an object htat belongs to a class, have procedures that oyu can operate with\n",
    "type is string\n",
    "but if you print print(type(s)), you see it is a class called string, then it says both class string and string, not just string\n",
    "\n",
    "class is an abstraction that allows us to model different data types \n",
    "\n",
    "OOP is paragigm is based on idea of objects, objects is data abstraction, objects have internal structure, attributes that you model and interact with, also have interface, outer layer with which we can guarantee and ocntorl how to interact with this object\n",
    "\n",
    "\n",
    "- are attributes waht is below init or all the methods, because that is waht the book is saying\n"
   ]
  },
  {
   "cell_type": "code",
   "execution_count": 8,
   "metadata": {
    "slideshow": {
     "slide_type": "-"
    }
   },
   "outputs": [
    {
     "name": "stdout",
     "output_type": "stream",
     "text": [
      "<class 'str'>\n",
      "SOME STRING\n"
     ]
    }
   ],
   "source": [
    "s = 'some string'\n",
    "print(type(s))\n",
    "print(s.upper())"
   ]
  },
  {
   "cell_type": "markdown",
   "metadata": {
    "slideshow": {
     "slide_type": "slide"
    }
   },
   "source": [
    "## Object-Oriented Programming\n",
    "\n",
    "A programming paradigm based on the concept of \"objects\"\n",
    "\n",
    "An object is a **data abstraction** that captures:\n",
    "\n",
    "* **Internal representation** (data attributes)\n",
    "* **Interface** for interacting with object (methods)\n"
   ]
  },
  {
   "cell_type": "markdown",
   "metadata": {},
   "source": [
    "so far procedural programming this is what we have been doing\n",
    "I did not do modularity for problem set 2\n",
    "\n",
    "data exists on the same space as the functiosn, can feed different data into different functions\n",
    "but with OOP: bundling the data with the functions\n",
    "a function that is part of the class or object is a method by definition\n",
    "\n",
    "methods belong to particular data type, string  and list methods, can only attach them to the object, \n",
    "when we define this data type, we put in certain functions and these methods allow us to operate on our objects\n"
   ]
  },
  {
   "cell_type": "markdown",
   "metadata": {
    "slideshow": {
     "slide_type": "slide"
    }
   },
   "source": [
    "## Procedural  vs. Object-Oriented Programming\n",
    "\n",
    "![Procedural vs. object-oriented programming](figs/procedural_object-oriented.png \"Procedural vs. object-oriented programming\")"
   ]
  },
  {
   "cell_type": "markdown",
   "metadata": {
    "slideshow": {
     "slide_type": "slide"
    }
   },
   "source": [
    "## Abstraction\n",
    "\n",
    "![Abstraction in science](figs/science_abstraction.png \"Abstraction in science\")"
   ]
  },
  {
   "cell_type": "markdown",
   "metadata": {},
   "source": [
    "half of our cells are bacterial cells, what is us is hard to define\n",
    "we manipulate and operate with certain concepts, \n",
    "2 weeks for problem set\n",
    "WHEN IS THE DEADLINE, "
   ]
  },
  {
   "cell_type": "markdown",
   "metadata": {
    "slideshow": {
     "slide_type": "slide"
    }
   },
   "source": [
    "## Data Abstraction With Classes\n"
   ]
  },
  {
   "cell_type": "code",
   "execution_count": 1,
   "metadata": {
    "slideshow": {
     "slide_type": "-"
    }
   },
   "outputs": [
    {
     "name": "stdout",
     "output_type": "stream",
     "text": [
      "Greta Thunberg 16\n"
     ]
    }
   ],
   "source": [
    "from datetime import date\n",
    "\n",
    "class Person(object):\n",
    "        \n",
    "    def __init__(self, f_name, l_name):\n",
    "        \"\"\"Creates a person using first and last names.\"\"\"\n",
    "        self.first_name = f_name\n",
    "        self.last_name = l_name\n",
    "        self.birthdate = None\n",
    "    \n",
    "    def get_name(self):\n",
    "        \"\"\"Gets self's full name.\"\"\"\n",
    "        return self.first_name + ' ' + self.last_name\n",
    "    \n",
    "    def get_age(self):\n",
    "        \"\"\"Gets self's age in years.\"\"\"\n",
    "        return date.today().year - self.birthdate.year\n",
    "    \n",
    "    def set_birthdate(self, dob):\n",
    "        \"\"\"Assumes dob is of type date.\n",
    "        Sets self's birthdate to dob.\n",
    "        \"\"\"\n",
    "        self.birthdate = dob\n",
    "    \n",
    "    def __str__(self):\n",
    "        \"\"\"Returns self's full name.\"\"\"\n",
    "        return self.first_name + ' ' + self.last_name\n",
    "    \n",
    "p1 = Person('Greta', 'Thunberg')\n",
    "p1.set_birthdate(date(2003, 1, 3))\n",
    "print(p1, p1.get_age())"
   ]
  },
  {
   "cell_type": "markdown",
   "metadata": {},
   "source": [
    "define as person, way to manage individual, visitor with certain properties, allows us to do certain things with this abstraction fo a person\n",
    "certain methods = indented of the definition of the class, these are methods not functions anymore\n",
    "\n",
    "special method init: all classes should have if properties, method that is called when we create an instance of this class -> Thunberg, p1 instance of the class person and i do this by giving certian required parameters, why is self not given \n",
    "maybe nto language because always reminding me of what I dont have? but what else\n",
    "\n",
    "every object of clas person has these attributes\n",
    "required first name and last name and assign them to the attributes of the object (self.first_name)\n",
    "for birth date we dont require teh attributes in teh (), thus we initialise by using None \n",
    "\n",
    "return first name and space with last name\n",
    "\n",
    "specificaiton also has to day, that birth date has to be i nthe format of \n",
    "\n",
    "str what is the string representation of our object, every time we need spring representaiton like when we pritn the object, this is waht it will do \n",
    "print(p1) I will get the string representation of my object = Greta Thunberg\n",
    "if strin method deleted, then we get the defauult behaviour of any class, says _main_.person object at 0x353 (location in memoery where held)\n",
    "\n",
    "init: definitn all atributees an object has: a person ahs 3 attributes, but to create an object we only need fista nd last, can define irthdays later \n",
    "\n",
    "init when create new object, when we create Greta Thunberg, we need init\n",
    "= creating an instance of a class, here a person\n",
    "\n",
    "if we want toperate with this object, we use the method and the way we use methods we use dot operator + the method\n",
    "get me the method that belongs to this object to interact with it ~ append for lsits, upper for strings\n",
    "\n",
    "instance of teh class person, different abstraction, can have multiple objects "
   ]
  },
  {
   "cell_type": "markdown",
   "metadata": {
    "slideshow": {
     "slide_type": "slide"
    }
   },
   "source": [
    "## Classes in Python\n",
    "\n",
    "* Data attributes — `first_name`, `last_name`, `birthdate`\n",
    "* Methods\n",
    "  * `get_name()`, `get_age()`, `set_birthdate()`\n",
    "  * `__init__()` — called when a class is instantiated\n",
    "  * `__str__()` — called by `print()` and `str()`\n",
    "  \n",
    "---\n",
    "\n",
    "* Operations\n",
    "  * Instantiation: `p1 = Person('Greta', 'Thunberg')` calls method `__init__()`\n",
    "  * Attribute/method reference: `p1.get_age()`"
   ]
  },
  {
   "cell_type": "markdown",
   "metadata": {
    "slideshow": {
     "slide_type": "slide"
    }
   },
   "source": [
    "## Classes vs. Objects\n",
    "\n",
    "* `Person` is a class\n",
    "* `p1` is an instance of the class `Person`; it is an object of type `Person`\n",
    "* Similarly, `str` is a class and `'Greta Thunberg'` is an object of type `str`\n",
    "\n",
    "![Class vs. object](figs/person_greta.png \"Class vs. object\")\n",
    "\n",
    "By Anders Hellberg - Own work, CC BY-SA 4.0, https://commons.wikimedia.org/w/index.php?curid=77270098\n",
    "\n"
   ]
  },
  {
   "cell_type": "markdown",
   "metadata": {
    "slideshow": {
     "slide_type": "slide"
    }
   },
   "source": [
    "## `self`\n",
    "\n",
    "```\n",
    "def set_birthdate(self, dob):\n",
    "    self.birthdate = dob\n",
    "```"
   ]
  },
  {
   "cell_type": "markdown",
   "metadata": {
    "slideshow": {
     "slide_type": "-"
    }
   },
   "source": [
    "* Variable that references the current instance of the class\n",
    "* The name is a convention\n",
    "* It's a *strong* convention — **Do not use any other variable name!**"
   ]
  },
  {
   "cell_type": "markdown",
   "metadata": {},
   "source": [
    "self everywhere, for first, then for every single metod, every time we refer to attribute of particular object, we also use self\n",
    "self is convention, dont name it something else \n",
    "\n",
    "self = current instance of the lcass, refers to current isntance of a class\n",
    "self refers to this obejct, thsi object first name\n",
    "anytime you refer to the attribtues of the object or the methods whcih you use to operate you have to use self "
   ]
  },
  {
   "cell_type": "markdown",
   "metadata": {
    "slideshow": {
     "slide_type": "slide"
    }
   },
   "source": [
    "## Class Operations: Method Reference\n",
    "\n",
    "```\n",
    "def get_age(self):\n",
    "    return date.today().year - self.birthdate.year\n",
    "```"
   ]
  },
  {
   "cell_type": "markdown",
   "metadata": {
    "slideshow": {
     "slide_type": "-"
    }
   },
   "source": [
    "* Methods are functions that are associated with a class\n",
    "* Two ways to call methods:\n",
    "  * `p1.get_age()`  **— Use this one!**\n",
    "  * `Person.get_age(p1)`"
   ]
  },
  {
   "cell_type": "markdown",
   "metadata": {},
   "source": [
    "method techncially belongs to a class, when we define ti with self as first agument = call this method on this first argumetn, call it on self \n",
    "these are alternative ways to do the same thing, butt \n",
    "never call method from class and pass object as argument instead get object, call the method with the dot operator, that is what we do \n",
    "\n",
    "any of these methods, "
   ]
  },
  {
   "cell_type": "markdown",
   "metadata": {
    "slideshow": {
     "slide_type": "slide"
    }
   },
   "source": [
    "## Special Methods\n",
    "\n",
    "* `__init__()` — called when a class is instantiated\n",
    "* `__str__()` — called by `print()` and `str()`\n",
    "* `__lt__()` — overloads the `<` operator\n",
    "* `__le__()` — overloads the `<=` operator\n",
    "* `__eq__()` — overloads the `==` operator\n",
    "* `__ne__()` — overloads the `!=` operator (defaults to opposite of `__eq__()`)\n",
    "* `__gt__()` — overloads the `>` operator\n",
    "* `__ge__()` — overloads the `>=` operator"
   ]
  },
  {
   "cell_type": "markdown",
   "metadata": {},
   "source": [
    "often default behaviour\n",
    "any class we define inherits them, but if we want to voerwrite this default behavoiur, have to use this particular name convention\n",
    "\n",
    "can redefine any kidn of comparison \n",
    "any time we call a function or anything htat relies on comparison, will use one of these methods\n",
    "sorting is typical, have to know for this waht is bigger or smaller\n",
    "\n"
   ]
  },
  {
   "cell_type": "markdown",
   "metadata": {
    "slideshow": {
     "slide_type": "fragment"
    }
   },
   "source": [
    "### Overloading provides access to other methods defined using the methods above\n",
    "\n",
    "* E.g. `sort()`"
   ]
  },
  {
   "cell_type": "code",
   "execution_count": 1,
   "metadata": {
    "slideshow": {
     "slide_type": "slide"
    }
   },
   "outputs": [
    {
     "name": "stdout",
     "output_type": "stream",
     "text": [
      "False\n",
      "['Taylor Swift', 'Greta Thunberg']\n"
     ]
    }
   ],
   "source": [
    "class Person(object):\n",
    "        \n",
    "    def __init__(self, f_name, l_name):\n",
    "        \"\"\"Creates a person using first and last names.\"\"\"\n",
    "        self.first_name = f_name\n",
    "        self.last_name = l_name\n",
    "        self.birthdate = None\n",
    "    \n",
    "    def get_name(self):\n",
    "        \"\"\"Gets self's full name.\"\"\"\n",
    "        return self.first_name + ' ' + self.last_name\n",
    "    \n",
    "    def get_age(self):\n",
    "        \"\"\"Gets self's age in years.\"\"\"\n",
    "        return date.today().year - self.birthdate.year\n",
    "    \n",
    "    def set_birthdate(self, dob):\n",
    "        \"\"\"Assumes dob is of type date.\n",
    "        Sets self's birthdate to dob.\n",
    "        \"\"\"\n",
    "        self.birthdate = dob\n",
    "    \n",
    "    def __str__(self):\n",
    "        \"\"\"Returns self's full name.\"\"\"\n",
    "        return self.get_name()\n",
    "    \n",
    "    def __lt__(self, other):\n",
    "        \"\"\"Returns True if self's last name precedes other's last name\n",
    "        in alphabethical order. If they are equal, compares first names.\n",
    "        \"\"\"\n",
    "        if self.last_name == other.last_name:\n",
    "            return self.first_name < other.first_name\n",
    "        return self.last_name < other.last_name\n",
    "    \n",
    "p1 = Person('Greta', 'Thunberg')\n",
    "p2 = Person('Taylor', 'Swift')\n",
    "print(p1 < p2)\n",
    "\n",
    "lst = sorted([p1, p2])\n",
    "print([str(i) for i in lst])"
   ]
  },
  {
   "cell_type": "markdown",
   "metadata": {},
   "source": [
    "to compare person, we will look, order them alphabetically, looking at last name and if last names are the same we start looking at the first names\n",
    "defaul behaviour: tell me whether last name is less than last name fo the other person, if we call the operator on the object, need second argument for comparison\n",
    "\n",
    "return whether it comes before or after, will be either True or False, \n",
    "\n",
    "behaves like a function, fi this is false this indented will never be evaluated\n",
    "\n",
    "have defined two people\n",
    "in my script it is still Taylor swift, need to pull change sbut dont do that \n",
    "\n",
    "if we want to sort these objects, if put them in a list, \n",
    "ask her when do i sorted vs sort\n",
    "sorted = returns list and the str representation of objects of type list gives you the location of the object in memory, \n",
    "13:35\n",
    "if we want string rerpesetnation, can use our own, given me str(i) for i in sorted[p1, p2], list comprehension\n",
    "\n",
    "anything after self is defined \n",
    "these methods, comparison works on two things "
   ]
  },
  {
   "cell_type": "markdown",
   "metadata": {
    "slideshow": {
     "slide_type": "slide"
    }
   },
   "source": [
    "## Class Operations: Attribute Reference\n",
    "\n",
    "```\n",
    "def __init__(self, f_name, l_name):\n",
    "    self.first_name = f_name\n",
    "    self.last_name = l_name\n",
    "    self.birthdate = None\n",
    "```"
   ]
  },
  {
   "cell_type": "markdown",
   "metadata": {},
   "source": [
    "method is attribute, avoid these def\n",
    "\n",
    "the methdos belong to the class/ethods in the same way attributes belong to the object\n",
    "in princple can acccesss them in the same way\n",
    "in teh same way we use dot operator to access teh attribute but you should never do that\n",
    "\n",
    "diff between attributes and methods\n",
    "attribues = properteis of object properties\n",
    "\n",
    "if outside of class definition, any other cal but where you define the class, the dont access the attributes direclty, don t use dot attribute\n",
    "but use method instead\n",
    "\n",
    "p1.get_name()\n",
    "if you only want first name, can do .split()[0], need to add this \n",
    "will have to use this method to interact with this object and then wahtever it igves you you have to transofrm it since string strin gmethod here in this case\n",
    "\n",
    "ahve to pay atention as to whether oyu are inside the class def or out side if out side dont access attributes directly \n",
    "\n",
    "if no method fo rinteracting with someting you need quite often then the right thing is to write it instead ofa ccesing attributes directyl \n",
    "\n",
    "provide flexible dev, can release product, provide interface adn can revise the internal structure but not break how user interacts with it, thus we want to seperate the attributes from the methods, methods we use to interact with the object\n",
    "attributes are what prog have designed to maanage teh data but users should not interact with it"
   ]
  },
  {
   "cell_type": "markdown",
   "metadata": {
    "slideshow": {
     "slide_type": "fragment"
    }
   },
   "source": [
    "### In Python, you have direct access to instance attributes but you shouldn't use it\n",
    "\n",
    "  * `p1.first_name`  **<— DO NOT EVER USE THIS ONE!** \n",
    "  * `p1.get_name()`  **<— Use this one instead**"
   ]
  },
  {
   "cell_type": "code",
   "execution_count": 4,
   "metadata": {
    "scrolled": true,
    "slideshow": {
     "slide_type": "-"
    }
   },
   "outputs": [
    {
     "data": {
      "text/plain": [
       "'Greta'"
      ]
     },
     "execution_count": 4,
     "metadata": {},
     "output_type": "execute_result"
    }
   ],
   "source": [
    "p1.get_name().split()[0]  # Or write a new method get_first_name()"
   ]
  },
  {
   "cell_type": "markdown",
   "metadata": {
    "slideshow": {
     "slide_type": "fragment"
    }
   },
   "source": [
    "Using methods to get instance attributes is essential for encapsulation and information hiding — two important goals of object-oriented programming."
   ]
  },
  {
   "cell_type": "markdown",
   "metadata": {
    "slideshow": {
     "slide_type": "slide"
    }
   },
   "source": [
    "## Classes: Exercise\n"
   ]
  },
  {
   "cell_type": "markdown",
   "metadata": {},
   "source": [
    "person class adn exercise is to add \n",
    "provide get method if you ever want to check what hte occupation of the object is, then you can use that method to find out what the occupation of the object is \n",
    "setting up new attribute\n",
    "self.cocupation = None\n",
    "def new method taht says set_occupation(self, occupation as an argument, w): will be string\n",
    "\"\"\" docstring to for this method, assumes that occupation is of type str\n",
    "self.occupation = occup\n",
    "does not return anything but changes attributes of the object\n",
    "\n",
    "if you want to get it , want to return it, then ahve to define get occupation method \n",
    "get_occupation(self):\n",
    "return self.occupation that is all there is, now this gets returned\n",
    "\n",
    "lot of start up cost, but purpose to that\n",
    "\n",
    "p1.set_occupation(\"activist\")\n",
    "print(p1.get_name()), \"-\", p1.get_occupatinon\n",
    "\n",
    "you always need brackets, if not accessing attribute directly which you should not do"
   ]
  },
  {
   "cell_type": "code",
   "execution_count": 1,
   "metadata": {
    "slideshow": {
     "slide_type": "-"
    }
   },
   "outputs": [],
   "source": [
    "# Update the class below to include the attribute occupation.\n",
    "# Then write a get method and a set method for occupation.\n",
    "\n",
    "class Person(object):\n",
    "        \n",
    "    def __init__(self, f_name, l_name):\n",
    "        \"\"\"Creates a person using first and last names.\"\"\"\n",
    "        self.first_name = f_name\n",
    "        self.last_name = l_name\n",
    "        self.birthdate = None\n",
    "    \n",
    "    def get_name(self):\n",
    "        \"\"\"Gets self's full name.\"\"\"\n",
    "        return self.first_name + ' ' + self.last_name\n",
    "    \n",
    "    def get_age(self):\n",
    "        \"\"\"Gets self's age in years.\"\"\"\n",
    "        return date.today().year - self.birthdate.year\n",
    "    \n",
    "    def set_birthdate(self, dob):\n",
    "        \"\"\"Assumes dob is of type date.\n",
    "        Sets self's birthdate to dob.\n",
    "        \"\"\"\n",
    "        self.birthdate = dob\n",
    "    \n",
    "    def __str__(self):\n",
    "        \"\"\"Returns self's full name.\"\"\"\n",
    "        return self.get_name()\n",
    "    \n",
    "    def __lt__(self, other):\n",
    "        \"\"\"Returns True if self's last name precedes other's last name\n",
    "        in alphabethical order. If they are equal, compares first names.\n",
    "        \"\"\"\n",
    "        if self.last_name == other.last_name:\n",
    "            return self.first_name < other.first_name\n",
    "        return self.last_name < other.last_name\n",
    "    \n",
    "p1 = Person('Greta', 'Thunberg')\n"
   ]
  },
  {
   "cell_type": "markdown",
   "metadata": {
    "slideshow": {
     "slide_type": "slide"
    }
   },
   "source": [
    "## Inheritance\n",
    "\n",
    "> **Q:** *What's the object-oriented way to become wealthy?*\n",
    "\n",
    "> **A:** *Inheritance.*"
   ]
  },
  {
   "cell_type": "markdown",
   "metadata": {
    "slideshow": {
     "slide_type": "slide"
    }
   },
   "source": [
    "## Inheritance = Erbe, Erbschaft\n",
    "\n",
    "* Allows to build hierarchies of related abstractions\n",
    "* **Subclasses** inherit data attributes and methods from their **superclasses** (classes that are higher in the hierarchy)\n",
    "* On top of the hierarchy is class `object`\n",
    "* Subclasses can:\n",
    "  * Add new data attributes and methods\n",
    "  * Override data attributes and methods of the superclass\n",
    "\n",
    "watch timothy on this "
   ]
  },
  {
   "cell_type": "markdown",
   "metadata": {},
   "source": [
    "Person inherited properties of superclass object, everyt thing in python is isntace from superclass object, ~ example of string representation\n",
    "convetnion in python is for classes to start with capital letter\n",
    "\n",
    "LSEPerson as sub class of superclass Person, first letter is capitalised, and Camel case, Capital and lowercase\n",
    "when we initialise we cal the init method of person,\n",
    "\n",
    "anytime you have to expand on class def, have to call on init, if not changing anyting then anything that exists for person also exists fo rLSEPerson\n",
    "can also compare an isntance of LSE person an instance of person: is p1 less than staff1\n",
    "recording at 14:11\n",
    "other person does not have an id number\n",
    "be careful about what you are cmoparing and at what level, the subclasses can have additional properties, they inherit everything from superclass but might have additional properties"
   ]
  },
  {
   "cell_type": "markdown",
   "metadata": {
    "slideshow": {
     "slide_type": "slide"
    }
   },
   "source": [
    "## Subclasses "
   ]
  },
  {
   "cell_type": "code",
   "execution_count": 2,
   "metadata": {
    "slideshow": {
     "slide_type": "-"
    }
   },
   "outputs": [
    {
     "name": "stdout",
     "output_type": "stream",
     "text": [
      "Milena Tsvetkova 1\n",
      "Friedrich Geiecke 2\n",
      "True\n",
      "True\n"
     ]
    },
    {
     "ename": "AttributeError",
     "evalue": "'Person' object has no attribute 'id_num'",
     "output_type": "error",
     "traceback": [
      "\u001b[0;31m---------------------------------------------------------------------------\u001b[0m",
      "\u001b[0;31mAttributeError\u001b[0m                            Traceback (most recent call last)",
      "\u001b[0;32m/var/folders/6z/6rb5shzx795cjdd60ph6_5300000gn/T/ipykernel_81184/475950358.py\u001b[0m in \u001b[0;36m<module>\u001b[0;34m\u001b[0m\n\u001b[1;32m     26\u001b[0m \u001b[0mprint\u001b[0m\u001b[0;34m(\u001b[0m\u001b[0mstaff1\u001b[0m \u001b[0;34m<\u001b[0m \u001b[0mstaff2\u001b[0m\u001b[0;34m)\u001b[0m\u001b[0;34m\u001b[0m\u001b[0;34m\u001b[0m\u001b[0m\n\u001b[1;32m     27\u001b[0m \u001b[0mprint\u001b[0m\u001b[0;34m(\u001b[0m\u001b[0mp1\u001b[0m \u001b[0;34m<\u001b[0m \u001b[0mstaff1\u001b[0m\u001b[0;34m)\u001b[0m\u001b[0;34m\u001b[0m\u001b[0;34m\u001b[0m\u001b[0m\n\u001b[0;32m---> 28\u001b[0;31m \u001b[0mprint\u001b[0m\u001b[0;34m(\u001b[0m\u001b[0mstaff1\u001b[0m \u001b[0;34m<\u001b[0m \u001b[0mp1\u001b[0m\u001b[0;34m)\u001b[0m\u001b[0;34m\u001b[0m\u001b[0;34m\u001b[0m\u001b[0m\n\u001b[0m",
      "\u001b[0;32m/var/folders/6z/6rb5shzx795cjdd60ph6_5300000gn/T/ipykernel_81184/475950358.py\u001b[0m in \u001b[0;36m__lt__\u001b[0;34m(self, other)\u001b[0m\n\u001b[1;32m     16\u001b[0m     \u001b[0;32mdef\u001b[0m \u001b[0m__lt__\u001b[0m\u001b[0;34m(\u001b[0m\u001b[0mself\u001b[0m\u001b[0;34m,\u001b[0m \u001b[0mother\u001b[0m\u001b[0;34m)\u001b[0m\u001b[0;34m:\u001b[0m\u001b[0;34m\u001b[0m\u001b[0;34m\u001b[0m\u001b[0m\n\u001b[1;32m     17\u001b[0m         \u001b[0;34m\"\"\"Returns True if self's id number is smaller than other's id number.\"\"\"\u001b[0m\u001b[0;34m\u001b[0m\u001b[0;34m\u001b[0m\u001b[0m\n\u001b[0;32m---> 18\u001b[0;31m         \u001b[0;32mreturn\u001b[0m \u001b[0mself\u001b[0m\u001b[0;34m.\u001b[0m\u001b[0mid_num\u001b[0m \u001b[0;34m<\u001b[0m \u001b[0mother\u001b[0m\u001b[0;34m.\u001b[0m\u001b[0mid_num\u001b[0m\u001b[0;34m\u001b[0m\u001b[0;34m\u001b[0m\u001b[0m\n\u001b[0m\u001b[1;32m     19\u001b[0m \u001b[0;34m\u001b[0m\u001b[0m\n\u001b[1;32m     20\u001b[0m \u001b[0mstaff1\u001b[0m \u001b[0;34m=\u001b[0m \u001b[0mLSEPerson\u001b[0m\u001b[0;34m(\u001b[0m\u001b[0;34m'Milena'\u001b[0m\u001b[0;34m,\u001b[0m \u001b[0;34m'Tsvetkova'\u001b[0m\u001b[0;34m)\u001b[0m\u001b[0;34m\u001b[0m\u001b[0;34m\u001b[0m\u001b[0m\n",
      "\u001b[0;31mAttributeError\u001b[0m: 'Person' object has no attribute 'id_num'"
     ]
    }
   ],
   "source": [
    "class LSEPerson(Person):\n",
    "    \n",
    "    # This is a class variable\n",
    "    next_id_num = 1 # unique identifiication number\n",
    "        \n",
    "    def __init__(self, f_name, l_name):\n",
    "        \"\"\"Creates an LSE person using first and last names.\"\"\"\n",
    "        Person.__init__(self, f_name, l_name)\n",
    "        self.id_num = LSEPerson.next_id_num\n",
    "        LSEPerson.next_id_num += 1\n",
    "    \n",
    "    def get_id_num(self):\n",
    "        \"\"\"Gets self's unique LSE number.\"\"\"\n",
    "        return self.id_num\n",
    "    \n",
    "    def __lt__(self, other):\n",
    "        \"\"\"Returns True if self's id number is smaller than other's id number.\"\"\"\n",
    "        return self.id_num < other.id_num\n",
    "\n",
    "staff1 = LSEPerson('Milena', 'Tsvetkova')\n",
    "print(staff1, staff1.get_id_num())\n",
    "\n",
    "staff2 = LSEPerson('Friedrich', 'Geiecke')\n",
    "print(staff2, staff2.get_id_num())\n",
    "\n",
    "print(staff1 < staff2)\n",
    "print(p1 < staff1)\n",
    "print(staff1 < p1)"
   ]
  },
  {
   "cell_type": "markdown",
   "metadata": {
    "slideshow": {
     "slide_type": "slide"
    }
   },
   "source": [
    "## Polymorphism\n",
    "\n",
    "* An expression can do different things depending on the objects it applies to\n",
    "* Enabled by overriding inherited methods\n",
    "* Helps reduce code"
   ]
  },
  {
   "cell_type": "markdown",
   "metadata": {},
   "source": [
    "+ with different behaviours depending on data type\n",
    "if you go to open source, someone has defined it how we have what + means\n",
    "can certain expression can behave differently depending on the object it is working with\n",
    "\n",
    "two other subclasses of LSE person: staff, and student\n",
    "for staff we have admin and acad\n",
    "and for student we ahve undergrad and grad\n",
    "can have all kidns of hierarchies, \n",
    "prof1 is academic, if we print the type of prof1, we get class \"_main_.Acad\", this is how wefined it \n",
    "print(isinstance(prof1, LSE person)) this is true, assess hierachies\n",
    "\n",
    "dont understand the hierarchy \n",
    "ask her about modularity\n",
    "\n",
    "why is class, they are just underneath each other, how is their a hierarchy, their order is durcheinander?\n",
    "\n",
    "why is department a string"
   ]
  },
  {
   "cell_type": "markdown",
   "metadata": {
    "slideshow": {
     "slide_type": "slide"
    }
   },
   "source": [
    "## Inheritance Hierarchies "
   ]
  },
  {
   "cell_type": "code",
   "execution_count": 13,
   "metadata": {
    "scrolled": true,
    "slideshow": {
     "slide_type": "-"
    }
   },
   "outputs": [
    {
     "name": "stdout",
     "output_type": "stream",
     "text": [
      "<class '__main__.Acad'>\n",
      "True\n",
      "True\n",
      "False\n"
     ]
    }
   ],
   "source": [
    "class Staff(LSEPerson):\n",
    "    pass\n",
    "\n",
    "class Admin(Staff):\n",
    "    pass\n",
    "\n",
    "class Acad(Staff):\n",
    "    pass\n",
    "\n",
    "class Student(LSEPerson):\n",
    "    pass\n",
    "\n",
    "class Undergrad(Student):\n",
    "    pass\n",
    "\n",
    "class Grad(Student):\n",
    "    pass\n",
    "    \n",
    "prof1 = Acad('Angelina', 'Jolie')\n",
    "\n",
    "print(type(prof1))\n",
    "print(isinstance(prof1, Acad))\n",
    "print(isinstance(prof1, Staff))\n",
    "print(isinstance(prof1, Student))"
   ]
  },
  {
   "cell_type": "markdown",
   "metadata": {
    "slideshow": {
     "slide_type": "slide"
    }
   },
   "source": [
    "## Inheritance: Exercise\n",
    "\n",
    "Edit the relevant code in this notebook to add properties `department` and `salary`, as well as the associated `get()` and `set()` methods, to describe all relevant classes. "
   ]
  },
  {
   "cell_type": "code",
   "execution_count": null,
   "metadata": {
    "slideshow": {
     "slide_type": "-"
    }
   },
   "outputs": [],
   "source": []
  },
  {
   "cell_type": "markdown",
   "metadata": {
    "slideshow": {
     "slide_type": "slide"
    }
   },
   "source": [
    "## Encapsulation and Information Hiding\n",
    "\n",
    "![Encapsulation and infromation hiding](figs/encapsulation.png \"Encapsulation and infromation hiding\")\n",
    "\n",
    "### Encapsulation\n",
    "\n",
    "* The bundling of data attributes and the methods for operating on them\n",
    "\n",
    "### Information hiding\n",
    "\n",
    "* Allows changing the class definition without affecting its external behavior\n",
    "\n",
    "### Encapsulation and information hiding keep class attributes and methods safe from outside interference and misuse.\n"
   ]
  },
  {
   "cell_type": "markdown",
   "metadata": {
    "slideshow": {
     "slide_type": "slide"
    }
   },
   "source": [
    "## Information Hiding in Python\n",
    "\n",
    "* Use naming conventions to make data attributes and methods invisible outside the class\n",
    "* Convention: Begin name with `__` but do not end with it"
   ]
  },
  {
   "cell_type": "code",
   "execution_count": 14,
   "metadata": {
    "collapsed": true,
    "slideshow": {
     "slide_type": "-"
    }
   },
   "outputs": [],
   "source": [
    "class InfoHiding(object):\n",
    "    def __init__(self):\n",
    "        self.visible = 'Look at me'\n",
    "        self.__visible__ = 'Look at me too'\n",
    "        self.__invisible = 'Do not look at me directly'\n",
    "        \n",
    "    def print_visible(self):\n",
    "        print(self.visible)\n",
    "    \n",
    "    def print_invisible(self):\n",
    "        print(self.__invisible)\n",
    "        \n",
    "    def __invisible_print_invisible(self):\n",
    "        print(self.__invisible)\n",
    "        \n",
    "    def __visible_print_invisible__(self):\n",
    "        print(self.__invisible)\n",
    "\n",
    "test = InfoHiding()"
   ]
  },
  {
   "cell_type": "markdown",
   "metadata": {
    "slideshow": {
     "slide_type": "slide"
    }
   },
   "source": [
    "## Information Hiding in Python"
   ]
  },
  {
   "cell_type": "code",
   "execution_count": 15,
   "metadata": {
    "slideshow": {
     "slide_type": "-"
    }
   },
   "outputs": [
    {
     "name": "stdout",
     "output_type": "stream",
     "text": [
      "Look at me\n",
      "Look at me too\n"
     ]
    },
    {
     "ename": "AttributeError",
     "evalue": "'InfoHiding' object has no attribute '__invisible'",
     "output_type": "error",
     "traceback": [
      "\u001b[0;31m---------------------------------------------------------------------------\u001b[0m",
      "\u001b[0;31mAttributeError\u001b[0m                            Traceback (most recent call last)",
      "\u001b[0;32m<ipython-input-15-6e8545b30eba>\u001b[0m in \u001b[0;36m<module>\u001b[0;34m()\u001b[0m\n\u001b[1;32m      1\u001b[0m \u001b[0mprint\u001b[0m\u001b[0;34m(\u001b[0m\u001b[0mtest\u001b[0m\u001b[0;34m.\u001b[0m\u001b[0mvisible\u001b[0m\u001b[0;34m)\u001b[0m\u001b[0;34m\u001b[0m\u001b[0m\n\u001b[1;32m      2\u001b[0m \u001b[0mprint\u001b[0m\u001b[0;34m(\u001b[0m\u001b[0mtest\u001b[0m\u001b[0;34m.\u001b[0m\u001b[0m__visible__\u001b[0m\u001b[0;34m)\u001b[0m\u001b[0;34m\u001b[0m\u001b[0m\n\u001b[0;32m----> 3\u001b[0;31m \u001b[0mprint\u001b[0m\u001b[0;34m(\u001b[0m\u001b[0mtest\u001b[0m\u001b[0;34m.\u001b[0m\u001b[0m__invisible\u001b[0m\u001b[0;34m)\u001b[0m\u001b[0;34m\u001b[0m\u001b[0m\n\u001b[0m",
      "\u001b[0;31mAttributeError\u001b[0m: 'InfoHiding' object has no attribute '__invisible'"
     ]
    }
   ],
   "source": [
    "print(test.visible)\n",
    "print(test.__visible__)\n",
    "print(test.__invisible)\n"
   ]
  },
  {
   "cell_type": "code",
   "execution_count": 16,
   "metadata": {
    "slideshow": {
     "slide_type": "-"
    }
   },
   "outputs": [
    {
     "name": "stdout",
     "output_type": "stream",
     "text": [
      "Look at me\n",
      "Do not look at me directly\n",
      "Do not look at me directly\n"
     ]
    },
    {
     "ename": "AttributeError",
     "evalue": "'InfoHiding' object has no attribute '__invisible_print_invisible'",
     "output_type": "error",
     "traceback": [
      "\u001b[0;31m---------------------------------------------------------------------------\u001b[0m",
      "\u001b[0;31mAttributeError\u001b[0m                            Traceback (most recent call last)",
      "\u001b[0;32m<ipython-input-16-bbce7b1bc4db>\u001b[0m in \u001b[0;36m<module>\u001b[0;34m()\u001b[0m\n\u001b[1;32m      2\u001b[0m \u001b[0mtest\u001b[0m\u001b[0;34m.\u001b[0m\u001b[0mprint_invisible\u001b[0m\u001b[0;34m(\u001b[0m\u001b[0;34m)\u001b[0m\u001b[0;34m\u001b[0m\u001b[0m\n\u001b[1;32m      3\u001b[0m \u001b[0mtest\u001b[0m\u001b[0;34m.\u001b[0m\u001b[0m__visible_print_invisible__\u001b[0m\u001b[0;34m(\u001b[0m\u001b[0;34m)\u001b[0m\u001b[0;34m\u001b[0m\u001b[0m\n\u001b[0;32m----> 4\u001b[0;31m \u001b[0mtest\u001b[0m\u001b[0;34m.\u001b[0m\u001b[0m__invisible_print_invisible\u001b[0m\u001b[0;34m(\u001b[0m\u001b[0;34m)\u001b[0m\u001b[0;34m\u001b[0m\u001b[0m\n\u001b[0m",
      "\u001b[0;31mAttributeError\u001b[0m: 'InfoHiding' object has no attribute '__invisible_print_invisible'"
     ]
    }
   ],
   "source": [
    "test.print_visible()\n",
    "test.print_invisible()\n",
    "test.__visible_print_invisible__()\n",
    "test.__invisible_print_invisible()\n"
   ]
  },
  {
   "cell_type": "markdown",
   "metadata": {
    "slideshow": {
     "slide_type": "slide"
    }
   },
   "source": [
    "## Information Hiding and Subclasses"
   ]
  },
  {
   "cell_type": "code",
   "execution_count": 17,
   "metadata": {
    "slideshow": {
     "slide_type": "-"
    }
   },
   "outputs": [
    {
     "ename": "AttributeError",
     "evalue": "'SubClass' object has no attribute '_SubClass__invisible'",
     "output_type": "error",
     "traceback": [
      "\u001b[0;31m---------------------------------------------------------------------------\u001b[0m",
      "\u001b[0;31mAttributeError\u001b[0m                            Traceback (most recent call last)",
      "\u001b[0;32m<ipython-input-17-b223680b57bf>\u001b[0m in \u001b[0;36m<module>\u001b[0;34m()\u001b[0m\n\u001b[1;32m      4\u001b[0m         \u001b[0mprint\u001b[0m\u001b[0;34m(\u001b[0m\u001b[0mself\u001b[0m\u001b[0;34m.\u001b[0m\u001b[0m__invisible\u001b[0m\u001b[0;34m)\u001b[0m\u001b[0;34m\u001b[0m\u001b[0m\n\u001b[1;32m      5\u001b[0m \u001b[0;34m\u001b[0m\u001b[0m\n\u001b[0;32m----> 6\u001b[0;31m \u001b[0msub_test\u001b[0m \u001b[0;34m=\u001b[0m \u001b[0mSubClass\u001b[0m\u001b[0;34m(\u001b[0m\u001b[0;34m)\u001b[0m\u001b[0;34m\u001b[0m\u001b[0m\n\u001b[0m",
      "\u001b[0;32m<ipython-input-17-b223680b57bf>\u001b[0m in \u001b[0;36m__init__\u001b[0;34m(self)\u001b[0m\n\u001b[1;32m      2\u001b[0m     \u001b[0;32mdef\u001b[0m \u001b[0m__init__\u001b[0m\u001b[0;34m(\u001b[0m\u001b[0mself\u001b[0m\u001b[0;34m)\u001b[0m\u001b[0;34m:\u001b[0m\u001b[0;34m\u001b[0m\u001b[0m\n\u001b[1;32m      3\u001b[0m         \u001b[0mInfoHiding\u001b[0m\u001b[0;34m.\u001b[0m\u001b[0m__init__\u001b[0m\u001b[0;34m(\u001b[0m\u001b[0mself\u001b[0m\u001b[0;34m)\u001b[0m\u001b[0;34m\u001b[0m\u001b[0m\n\u001b[0;32m----> 4\u001b[0;31m         \u001b[0mprint\u001b[0m\u001b[0;34m(\u001b[0m\u001b[0mself\u001b[0m\u001b[0;34m.\u001b[0m\u001b[0m__invisible\u001b[0m\u001b[0;34m)\u001b[0m\u001b[0;34m\u001b[0m\u001b[0m\n\u001b[0m\u001b[1;32m      5\u001b[0m \u001b[0;34m\u001b[0m\u001b[0m\n\u001b[1;32m      6\u001b[0m \u001b[0msub_test\u001b[0m \u001b[0;34m=\u001b[0m \u001b[0mSubClass\u001b[0m\u001b[0;34m(\u001b[0m\u001b[0;34m)\u001b[0m\u001b[0;34m\u001b[0m\u001b[0m\n",
      "\u001b[0;31mAttributeError\u001b[0m: 'SubClass' object has no attribute '_SubClass__invisible'"
     ]
    }
   ],
   "source": [
    "class SubClass(InfoHiding):\n",
    "    def __init__(self):\n",
    "        InfoHiding.__init__(self)\n",
    "        print(self.__invisible)\n",
    "\n",
    "sub_test = SubClass()"
   ]
  },
  {
   "cell_type": "markdown",
   "metadata": {
    "slideshow": {
     "slide_type": "slide"
    }
   },
   "source": [
    "## In Practice, Information Hiding Convention in Python Is Rarely Used \n",
    "\n",
    "* Without it users may rely on attributes that are not necessarily part of the specification of the class\n",
    "* Without it users may also change these attributes in undesirable ways"
   ]
  },
  {
   "cell_type": "code",
   "execution_count": 18,
   "metadata": {
    "slideshow": {
     "slide_type": "-"
    }
   },
   "outputs": [
    {
     "name": "stdout",
     "output_type": "stream",
     "text": [
      "[1, 2, 3, 4, 5, 6]\n"
     ]
    }
   ],
   "source": [
    "class Course(object):\n",
    "    \n",
    "    def __init__(self, student_list):\n",
    "        self.students = student_list\n",
    "        self.grades = {}\n",
    "    \n",
    "course1 = Course([1, 2, 3])\n",
    "course2 = Course([4, 5, 6])\n",
    "\n",
    "all_students = course1.students\n",
    "all_students.extend(course2.students)\n",
    "\n",
    "print(course1.students)\n"
   ]
  },
  {
   "cell_type": "markdown",
   "metadata": {
    "slideshow": {
     "slide_type": "slide"
    }
   },
   "source": [
    "## In Practice, Information Hiding in Python Requires Discipline!\n",
    "\n",
    "* Do not directly access data attributes from outside the class in which they are defined\n",
    "* Return copies of mutable objects rather than the objects themselves"
   ]
  },
  {
   "cell_type": "markdown",
   "metadata": {
    "slideshow": {
     "slide_type": "slide"
    }
   },
   "source": [
    "## ⚡️ Speed Considerations"
   ]
  },
  {
   "cell_type": "code",
   "execution_count": 19,
   "metadata": {
    "slideshow": {
     "slide_type": "-"
    }
   },
   "outputs": [
    {
     "name": "stdout",
     "output_type": "stream",
     "text": [
      "[1, 2, 3, 4, 5, 6, 7, 8, 9, 10]\n"
     ]
    }
   ],
   "source": [
    "class Course(object):\n",
    "    \n",
    "    def __init__(self, student_list):\n",
    "        self.students = student_list\n",
    "        self.grades = {}\n",
    "    \n",
    "    def get_students(self):\n",
    "        return self.students[:] # Creates a copy of a list already in memory\n",
    "    \n",
    "    def add_grade(self, student, grade):\n",
    "        self.grades[student] = grade\n",
    "    \n",
    "course1 = Course([i for i in range(1, 11)])\n",
    "for i in course1.get_students():\n",
    "    course1.add_grade(i, 100)\n",
    "    \n",
    "print(course1.get_students()) "
   ]
  },
  {
   "cell_type": "markdown",
   "metadata": {
    "slideshow": {
     "slide_type": "slide"
    }
   },
   "source": [
    "## ⚡️ Generators with `yield`"
   ]
  },
  {
   "cell_type": "code",
   "execution_count": 20,
   "metadata": {
    "slideshow": {
     "slide_type": "-"
    }
   },
   "outputs": [
    {
     "name": "stdout",
     "output_type": "stream",
     "text": [
      "<generator object Course.get_students at 0x103e08830>\n"
     ]
    }
   ],
   "source": [
    "class Course(object):\n",
    "    \n",
    "    def __init__(self, student_list):\n",
    "        self.students = student_list\n",
    "        self.grades = {}\n",
    "    \n",
    "    def get_students(self):\n",
    "        for i in self.students:\n",
    "            yield i\n",
    "    \n",
    "    def add_grade(self, student, grade):\n",
    "        self.grades[student] = grade\n",
    "    \n",
    "course1 = Course([i for i in range(1, 11)])\n",
    "for i in course1.get_students():\n",
    "    course1.add_grade(i, 100)\n",
    "    \n",
    "print(course1.get_students())"
   ]
  },
  {
   "cell_type": "markdown",
   "metadata": {
    "slideshow": {
     "slide_type": "slide"
    }
   },
   "source": [
    "## When to Use Classes\n",
    "\n",
    "* Methods require look-up so are a bit slower than functions"
   ]
  },
  {
   "cell_type": "code",
   "execution_count": 21,
   "metadata": {
    "slideshow": {
     "slide_type": "-"
    }
   },
   "outputs": [
    {
     "data": {
      "text/plain": [
       "mappingproxy({'__dict__': <attribute '__dict__' of 'Person' objects>,\n",
       "              '__doc__': None,\n",
       "              '__init__': <function __main__.Person.__init__>,\n",
       "              '__lt__': <function __main__.Person.__lt__>,\n",
       "              '__module__': '__main__',\n",
       "              '__str__': <function __main__.Person.__str__>,\n",
       "              '__weakref__': <attribute '__weakref__' of 'Person' objects>,\n",
       "              'get_age': <function __main__.Person.get_age>,\n",
       "              'get_name': <function __main__.Person.get_name>,\n",
       "              'set_birthdate': <function __main__.Person.set_birthdate>})"
      ]
     },
     "execution_count": 21,
     "metadata": {},
     "output_type": "execute_result"
    }
   ],
   "source": [
    "Person.__dict__"
   ]
  },
  {
   "cell_type": "markdown",
   "metadata": {
    "slideshow": {
     "slide_type": "fragment"
    }
   },
   "source": [
    "* Designing classes properly can be quite time-consuming"
   ]
  },
  {
   "cell_type": "markdown",
   "metadata": {
    "slideshow": {
     "slide_type": "fragment"
    }
   },
   "source": [
    "* In general, data scientists are less likely to implement classes\n",
    "* However, most modules and packages that data scientists use make heavy use of object-oriented programming"
   ]
  },
  {
   "cell_type": "markdown",
   "metadata": {
    "slideshow": {
     "slide_type": "fragment"
    }
   },
   "source": [
    "* **If you are building a reusable and extendable code to share with others and/or release publicly, use classes!**"
   ]
  },
  {
   "cell_type": "markdown",
   "metadata": {
    "slideshow": {
     "slide_type": "slide"
    }
   },
   "source": [
    "## Classes in Python\n",
    "\n",
    "* Reusable abstractions\n",
    "* Reduce development time for large projects\n",
    "* Allow to maintain and update programs without disruptions for users\n",
    "* Help produce more reliable programs\n",
    "* Essential for developing user applications"
   ]
  },
  {
   "cell_type": "markdown",
   "metadata": {
    "slideshow": {
     "slide_type": "fragment"
    }
   },
   "source": [
    "-------\n",
    "\n",
    "* **Lab**: Collaborative programming\n",
    "* **Week 6**: No lecture or class! But I am still available for regular office hours.\n",
    "* **Problem Set 3**: Due at 12:00 noon on Monday, November 6th"
   ]
  },
  {
   "cell_type": "markdown",
   "metadata": {
    "slideshow": {
     "slide_type": "slide"
    }
   },
   "source": [
    "## Collaborative Programming\n",
    "\n",
    "* Most programming is collaborative\n",
    "* Functions and classes allow us to:\n",
    "  1. Design programs\n",
    "  2. Divide work\n",
    "  3. Write code simultaneously\n",
    "  4. Merge contributions  \n",
    "* Problem Set 3 will be done in groups of two\n",
    "* Pairs will be formed randomly"
   ]
  },
  {
   "cell_type": "markdown",
   "metadata": {
    "slideshow": {
     "slide_type": "slide"
    }
   },
   "source": [
    "## Work on Problem Set 3 in Pairs\n",
    "\n",
    "1. You will get e-mail notification from GitHub that you have been added to a team\n",
    "2. The team will give you and your partner write access to a new repo\n",
    "3. Go to GitHub and look for repo `https://github.com/lse-my470/ps-3-[team name]`"
   ]
  },
  {
   "cell_type": "markdown",
   "metadata": {
    "slideshow": {
     "slide_type": "slide"
    }
   },
   "source": [
    "## What Happens Next\n",
    "\n",
    "* Each of you should clone the team repository locally\n",
    "* Open an issue to contact your partner if you prefer to communicate privately\n",
    "* Work separately on a branch and open a pull request when ready to merge\n",
    "* Merge your contributions and close any open issues before final push\n",
    "\n",
    "### We will discuss how to use GitHub for collaboration in class"
   ]
  },
  {
   "cell_type": "markdown",
   "metadata": {},
   "source": [
    "evidence that you have used the capabilties to work together no github, allows simultaneous work for teams of prog and scientists, can branch work on your own version and then merge and combine your togeter\n",
    "review each other's code, essential for open soft ware development\n",
    "ask for something to be reviewed and if yes can be merged\n",
    "issues: \n",
    "deadline nov 11th, in two weeks from now the assignment is due\n",
    "evidence for use of collaborative tools, pull requests merge them"
   ]
  }
 ],
 "metadata": {
  "celltoolbar": "Slideshow",
  "kernelspec": {
   "display_name": "Python 3 (ipykernel)",
   "language": "python",
   "name": "python3"
  },
  "language_info": {
   "codemirror_mode": {
    "name": "ipython",
    "version": 3
   },
   "file_extension": ".py",
   "mimetype": "text/x-python",
   "name": "python",
   "nbconvert_exporter": "python",
   "pygments_lexer": "ipython3",
   "version": "3.12.4"
  }
 },
 "nbformat": 4,
 "nbformat_minor": 2
}
