{
 "cells": [
  {
   "cell_type": "markdown",
   "metadata": {
    "slideshow": {
     "slide_type": "slide"
    }
   },
   "source": [
    "### MY470 Computer Programming\n",
    "# Order of Growth\n",
    "### Week 9 Lab"
   ]
  },
  {
   "cell_type": "markdown",
   "metadata": {},
   "source": [
    "- the list not exhaustive\n",
    "- log: every time we double or factor of 10, run time increases by 1\n",
    "    - rgardless of where you start at\n",
    "- linear: as we add extra n, need to add n extra time units\n",
    "- **log linear: sorting**\n",
    "- polynomial: inefficient, hard to compute, if quadratic still double for large data, **typically with nested loops**\n",
    "- exponential unfeasible\n",
    "\n",
    "\n",
    "- we always keep dominant term, polynominal dominates the logarithmic, **important to remember the order in which they come**\n",
    "- benchmarking: can do this for any poiece of code, record time, run the code and record the time afterwards, \n",
    "    - to make benchmarking more reliable, run it multiple times if possible\n",
    "- execution time also contingent on other processes\n",
    "- module timeit but problem that you have to feed code as strings, include setup which varies depending on what we re doing, \n",
    "\n",
    "- sum() is apparently also O(n)"
   ]
  },
  {
   "cell_type": "markdown",
   "metadata": {
    "slideshow": {
     "slide_type": "slide"
    }
   },
   "source": [
    "![Big-O Comparison](figs/big-o-table.png \"Big-O Comparison\")"
   ]
  },
  {
   "cell_type": "markdown",
   "metadata": {},
   "source": [
    "**What is the usual big O of a while loop?**"
   ]
  },
  {
   "cell_type": "code",
   "execution_count": null,
   "metadata": {},
   "outputs": [],
   "source": [
    "for i in range(100):\n",
    "    for e1 in L:\n",
    "        if e1==e:\n",
    "            return True\n",
    "    return False"
   ]
  },
  {
   "cell_type": "code",
   "execution_count": null,
   "metadata": {},
   "outputs": [],
   "source": [
    "# (1) Simple loop with a constant condition\n",
    "i = 0\n",
    "while i < n:\n",
    "    i += 1\n",
    "\n",
    "# Analysis: The loop runs as long as i < n. Each time through the loop, i is incremented by 1, so the loop will execute n times.\n",
    "# Time complexity: Since the loop executes n times and the body of the loop runs in constant time, the overall time complexity is O(n)."
   ]
  },
  {
   "cell_type": "code",
   "execution_count": null,
   "metadata": {},
   "outputs": [],
   "source": [
    "# (2) Loop with a condition that changes more slowly\n",
    "i = 1\n",
    "while i < n: # every time the size of the input doubles, the algorithm performs one additional step\n",
    "    i *= 2\n",
    "# Analysis: In this case, i is doubled after each iteration. The loop will run as long as i is less than n, \n",
    "# and since i is doubling, the number of iterations is proportional to the logarithm of n.\n",
    "# Time complexity: The loop will execute approximately log(n) times, so the time complexity is O(log n)."
   ]
  },
  {
   "cell_type": "code",
   "execution_count": null,
   "metadata": {},
   "outputs": [],
   "source": [
    "# (3) Nested loops\n",
    "i = 0\n",
    "while i < n:\n",
    "    j = 0\n",
    "    while j < n:\n",
    "        j += 1\n",
    "    i += 1\n",
    "# Analysis: Here, you have a nested while loop, with both the outer and inner loops running n times.\n",
    "# Time complexity: Since the inner loop runs n times for each iteration of the outer loop, the total number of iterations is n * n = n^2, \n",
    "# so the time complexity is O(n^2)."
   ]
  },
  {
   "cell_type": "code",
   "execution_count": null,
   "metadata": {},
   "outputs": [],
   "source": [
    "# (4) Loop with an incrementing variable\n",
    "i = 0\n",
    "while i < n:\n",
    "    i += i + 1\n",
    "\n",
    "# Analysis: Here, i grows exponentially, as it's incremented by i + 1 on each iteration. The value of i increases very quickly (e.g., 1, 3, 7, 15,...).\n",
    "# Time complexity: The number of iterations is proportional to the logarithm of n because i doubles or grows faster on each iteration. \n",
    "# So the time complexity is O(log n)."
   ]
  },
  {
   "cell_type": "markdown",
   "metadata": {},
   "source": [
    "Summary: The key to determining the Big-O of a while loop is to understand how the loop’s condition changes with each iteration and how many iterations are needed before the condition is no longer met.\n",
    "- O(1): If the loop runs a constant number of times (e.g., a fixed number of iterations).\n",
    "- O(n): If the loop runs n times.\n",
    "- O(log n): If the loop's condition changes in a way that cuts the problem size down exponentially (e.g., doubling a variable each time).\n",
    "- O(n^2): If there are nested loops that both run n times."
   ]
  },
  {
   "cell_type": "markdown",
   "metadata": {},
   "source": [
    "## Understanding O(log n)\n",
    "\n",
    "- The logarithmic time complexity, O(log n), describes **an algorithm whose execution time grows much more slowly as the input size (n) increases.** \n",
    "- O(log n) happens **when the problem size is halved (or reduced by some constant factor) at each step.** \n",
    "- Essentially, **with each step, you \"reduce the problem\" significantly**, and this leads to fewer total steps as n increases.\n",
    "\n",
    "### Example 1 Doubling or Halving the Problem\n",
    "Let’s look at an example where we reduce the problem size by half in each step. Imagine you have a number, and at each step, you divide it by 2. The question is: how many times do you need to divide by 2 until you get to 1?"
   ]
  },
  {
   "cell_type": "code",
   "execution_count": null,
   "metadata": {},
   "outputs": [],
   "source": [
    "n = 16\n",
    "steps = 0\n",
    "while n > 1:\n",
    "    n //= 2  # Integer division by 2\n",
    "    steps += 1\n",
    "print(steps)\n",
    "\n",
    "# How the loop runs:\n",
    "# Step 1: n = 16, divide by 2 → n = 8, steps = 1\n",
    "# Step 2: n = 8, divide by 2 → n = 4, steps = 2\n",
    "# Step 3: n = 4, divide by 2 → n = 2, steps = 3\n",
    "# Step 4: n = 2, divide by 2 → n = 1, steps = 4\n",
    "\n",
    "# This took 4 steps. If n started at 32, it would have taken 5 steps. If n was 64, it would have taken 6 steps, and so on.\n",
    "# As you can see, doubling the size of n only increases the number of steps by 1.\n"
   ]
  },
  {
   "cell_type": "markdown",
   "metadata": {},
   "source": [
    "### Why log n and not just n?\n",
    "- If an algorithm has a time complexity of O(n), that means that the time it takes to run increases directly with the size of the input. For example, if n = 10, it takes 10 steps; if n = 1000, it takes 1000 steps.\n",
    "- **But O(log n) means the time doesn't grow linearly. Instead, it grows much slower.** So **if you were to double the input size, the number of steps would increase only slightly.** If you think of this in terms of halving the problem (like in the example above), you can see that the number of operations required to solve a large problem is much smaller than for linear growth."
   ]
  },
  {
   "cell_type": "markdown",
   "metadata": {},
   "source": [
    "### Example 2: Binary Search (A Classic Example of O(log n))\n",
    "One of the best-known examples of an algorithm with O(log n) complexity is binary search. Binary search is an algorithm used to find an element in a sorted list (or array) by repeatedly dividing the search space in half."
   ]
  },
  {
   "cell_type": "code",
   "execution_count": null,
   "metadata": {},
   "outputs": [],
   "source": [
    "def binary_search(arr, target):\n",
    "    left, right = 0, len(arr) - 1\n",
    "    while left <= right:\n",
    "        mid = (left + right) // 2  # Find middle index\n",
    "        if arr[mid] == target:\n",
    "            return mid  # Found the target\n",
    "        elif arr[mid] < target:\n",
    "            left = mid + 1  # Narrow down to the right half\n",
    "        else:\n",
    "            right = mid - 1  # Narrow down to the left half\n",
    "    return -1  # Target not found\n",
    "\n",
    "# How it works:\n",
    "# Initial state: You start with the entire array (let’s say it has n elements).\n",
    "# Step 1: You check the middle element. If it’s the target, you're done. If it's not, you either search the left half or the right half.\n",
    "# Step 2: You now have half the array to search through. The next time you check the middle, it’s again halving the remaining search space.\n",
    "# Step 3: Repeat this process: every time, you're cutting the number of elements you have to look at by half.\n",
    "\n",
    "# Why this is O(log n):\n",
    "# If the list has 16 elements, the search goes like this:\n",
    "# First check: mid = 8 (half the list).\n",
    "# Second check: mid = 4 or 12 (half of the remaining list).\n",
    "# Third check: mid = 2, 6, 10, or 14.\n",
    "# And so on, until you find the target or the search space is empty."
   ]
  },
  {
   "cell_type": "markdown",
   "metadata": {},
   "source": [
    "- If you have an array of size n, binary search will take log₂(n) comparisons to either find the target or determine it's not in the array. \n",
    "- So, if you have 1000 elements, it will take roughly log₂(1000) ≈ 10 steps to search through the entire list. \n",
    "- **Compare that to a linear search, which would take 1000 steps in the worst case.**\n",
    "\n",
    "## General rule for O(log n)\n",
    "\n",
    "- The key characteristic of O(log n) time complexity is that **with each iteration, you reduce the problem size significantly**, **typically by half, which leads to a very slow increase in the number of steps required as the input size increases**\n",
    "\n",
    "- To put it simply:\n",
    "    - If you double n, you only increase the number of steps by 1.\n",
    "    - If you double n again, you increase the steps by just another 1.\n",
    "- This makes O(log n) very efficient for large input sizes compared to linear time O(n) or quadratic time O(n²).\n",
    "\n",
    "### Another example of O(log n): Finding Powers of 2 (Exponentiation by Squaring)\n",
    "- Exponentiation by squaring is an efficient algorithm to calculate large powers of a number in logarithmic time."
   ]
  },
  {
   "cell_type": "code",
   "execution_count": null,
   "metadata": {},
   "outputs": [],
   "source": [
    "def power(x, n):\n",
    "    result = 1\n",
    "    while n > 0:\n",
    "        if n % 2 == 1:  # If n is odd\n",
    "            result *= x\n",
    "        x *= x  # Square the base\n",
    "        n //= 2  # Divide n by 2 (integer division)\n",
    "    return result\n",
    "\n",
    "# Example usage\n",
    "print(power(2, 10))  # Output: 1024 (2^10)\n",
    "\n",
    "# Explanation: In this example, the exponent n is halved in each iteration (n //= 2), and the base x is squared. \n",
    "# This reduces the number of multiplications needed, and the time complexity is O(log n) \n",
    "# because the number of times the loop runs is proportional to the logarithm of n.\n",
    "\n",
    "# Exponentiation by Squaring: The exponent n is halved in each step, reducing the number of multiplications."
   ]
  },
  {
   "cell_type": "markdown",
   "metadata": {},
   "source": [
    "## Understanding O(n log n)\n",
    "\n",
    "- The O(n log n) time complexity is a combination of O(n) and O(log n). \n",
    "- It arises in algorithms that **involve iterating through a collection of elements (O(n))** and, **at each step, performing an operation that takes logarithmic time (O(log n)).**\n",
    "\n",
    "### General Intuition\n",
    "- (1): O(n) means an operation that grows linearly with the size of the input. If you have an array of size n, it takes n operations to process each element.\n",
    "- (2): O(log n) means an operation that grows logarithmically, where each step reduces the problem size significantly (usually by half).\n",
    "- ==> When you multiply these two together, you get O(n log n), which indicates that you perform a linear amount of work (O(n)) and, for each piece of work, you do something logarithmic (O(log n)).\n",
    "\n",
    "### Summary of o(n log n)\n",
    "- (1) O(n log n) arises when an algorithm processes each element once (O(n)) \n",
    "- (2) and **performs some logarithmic operation on each element (e.g., splitting, merging, partitioning, or rebalancing).**\n",
    "- The main idea behind O(n log n) is that you’re combining a linear process with a logarithmic process, and this is common in divide-and-conquer algorithms, where the input is recursively divided into smaller parts (log n) and each part is processed linearly (n).\n",
    "\n",
    "### Example 1: Merge Sort (Divide and Conquer)\n",
    "\n",
    "- (1): Divide: The array is repeatedly divided in half until each subarray has only one element.\n",
    "- (2): Conquer: These subarrays are then merged back together in sorted order.\n",
    "- ==> At each level of the recursion, you're dividing the array into two halves, which takes logarithmic time (O(log n) levels). Then, at each level, you perform linear work (O(n)) to merge the subarrays."
   ]
  },
  {
   "cell_type": "code",
   "execution_count": null,
   "metadata": {},
   "outputs": [],
   "source": [
    "# Merge Sort Code Example\n",
    "def merge_sort(arr):\n",
    "    if len(arr) <= 1:\n",
    "        return arr\n",
    "    # Find the middle of the array\n",
    "    mid = len(arr) // 2\n",
    "    # Recursively split the array into two halves\n",
    "    left = merge_sort(arr[:mid])\n",
    "    right = merge_sort(arr[mid:])\n",
    "    \n",
    "    return merge(left, right)\n",
    "\n",
    "# Divide: In each recursive call, the array is divided into two parts. There are log n levels of division, as each division halves the array size.\n",
    "\n",
    "def merge(left, right):\n",
    "    sorted_arr = []\n",
    "    i = j = 0\n",
    "    # Merge the two sorted halves\n",
    "    while i < len(left) and j < len(right):\n",
    "        if left[i] < right[j]:\n",
    "            sorted_arr.append(left[i])\n",
    "            i += 1\n",
    "        else:\n",
    "            sorted_arr.append(right[j])\n",
    "            j += 1\n",
    "    # Add any remaining elements\n",
    "    sorted_arr.extend(left[i:])\n",
    "    sorted_arr.extend(right[j:])\n",
    "    return sorted_arr\n",
    "\n",
    "# Merge: At each level, the merging step requires linear time (O(n)) to combine the subarrays.\n",
    "\n",
    "# Example usage\n",
    "arr = [38, 27, 43, 3, 9, 82, 10]\n",
    "sorted_arr = merge_sort(arr)\n",
    "print(sorted_arr)\n",
    "\n",
    "# Thus, the total time complexity is O(n log n), where:\n",
    "# n is the total number of elements being sorted.\n",
    "# log n is the number of levels of recursion (because the array is halved each time\n"
   ]
  },
  {
   "cell_type": "markdown",
   "metadata": {},
   "source": [
    "### Example 2: Quick Sort (Another Divide and Conquer Algorithm)\n",
    "\n",
    "Quick Sort is another famous sorting algorithm that also has an average time complexity of O(n log n). It works by:\n",
    "\n",
    "Choosing a pivot: Select a pivot element from the array.\n",
    "Partitioning: Rearrange the array so that elements smaller than the pivot come before it, and elements larger than the pivot come after it.\n",
    "Recursively sorting: Recursively apply the same strategy to the subarrays on either side of the pivot.\n",
    "\n",
    "On average, Quick Sort divides the problem size into two roughly equal parts, leading to a logarithmic number of recursive calls (log n), and at each level, it processes all n elements (O(n) work per level)."
   ]
  },
  {
   "cell_type": "code",
   "execution_count": null,
   "metadata": {},
   "outputs": [],
   "source": [
    "def quick_sort(arr):\n",
    "    if len(arr) <= 1:\n",
    "        return arr\n",
    "    pivot = arr[len(arr) // 2]\n",
    "    left = [x for x in arr if x < pivot]\n",
    "    middle = [x for x in arr if x == pivot]\n",
    "    right = [x for x in arr if x > pivot]\n",
    "    return quick_sort(left) + middle + quick_sort(right)\n",
    "\n",
    "# Example usage\n",
    "arr = [38, 27, 43, 3, 9, 82, 10]\n",
    "sorted_arr = quick_sort(arr)\n",
    "print(sorted_arr)\n"
   ]
  },
  {
   "cell_type": "markdown",
   "metadata": {
    "slideshow": {
     "slide_type": "slide"
    }
   },
   "source": [
    "## Runtime: Benchmarking\n",
    "\n",
    "Use `time` module:\n",
    "\n",
    "1. Save time immediately before code\n",
    "2. Save time immediately after code\n",
    "3. Estimate 2 – 1"
   ]
  },
  {
   "cell_type": "code",
   "execution_count": null,
   "metadata": {
    "slideshow": {
     "slide_type": "-"
    }
   },
   "outputs": [],
   "source": [
    "import time\n",
    "\n",
    "ls = list(range(100000))\n",
    "\n",
    "start = time.time()\n",
    "ls.count(99999)\n",
    "end = time.time()\n",
    "print(end - start)"
   ]
  },
  {
   "cell_type": "markdown",
   "metadata": {
    "slideshow": {
     "slide_type": "slide"
    }
   },
   "source": [
    "## Benchmarking: Repeat to Time More Accurately\n",
    "\n",
    "* Execution time can be affected by other processes running simultaneously\n",
    "* Execution time can depend on the order of execution (randomize execution order)"
   ]
  },
  {
   "cell_type": "code",
   "execution_count": null,
   "metadata": {
    "slideshow": {
     "slide_type": "fragment"
    }
   },
   "outputs": [],
   "source": [
    "# Do it yourself\n",
    "ls = list(range(100000))\n",
    "\n",
    "res = 0\n",
    "for i in range(100):\n",
    "    start = time.time()\n",
    "    ls.count(99999)\n",
    "    end = time.time()\n",
    "    res += end - start\n",
    "print(res / 100)\n",
    "\n",
    "# Use a module\n",
    "from timeit import timeit \n",
    "timeit(stmt='ls.count(99999)', setup='ls = list(range(100000))', number=100) / 100"
   ]
  },
  {
   "cell_type": "markdown",
   "metadata": {},
   "source": [
    "- inefficiency in code\n",
    "- compare one version of code to another, would know which one is faster, comparative, wont transfer to another other machine, compiler, programming language, just for your setup which code might be faster\n",
    "- more consistent results than before"
   ]
  },
  {
   "cell_type": "code",
   "execution_count": null,
   "metadata": {
    "collapsed": true,
    "slideshow": {
     "slide_type": "fragment"
    }
   },
   "outputs": [],
   "source": [
    "### R code ###\n",
    "\n",
    "require(microbenchmark)\n",
    "\n",
    "ls <- seq(0, 99999)\n",
    "microbenchmark(sum(ls == 99999))\n",
    "\n",
    "# Unit: microseconds\n",
    "#             expr     min      lq     mean  median       uq      max neval\n",
    "# sum(ls == 99999) 368.309 416.865 684.3047 559.569 706.2215 3955.864   100"
   ]
  },
  {
   "cell_type": "markdown",
   "metadata": {},
   "source": [
    "- microbenchmark package in R\n",
    "- def sequence as before, here seq is inclusive, we create vector that tells us whether the number is 99999 or not, create true and false vector, will be false false false until last element when it is true and then we sum\n",
    "-> number of times this value appears in our vector which is the same as the count method, this is the R way to do this\n",
    "- unit is microseconds, while in python by defualt we get seconds, on average 227 microseconds, roughly the same as with python, can multiply sec estimate by 1 million, R faster, \n",
    "- "
   ]
  },
  {
   "cell_type": "markdown",
   "metadata": {
    "slideshow": {
     "slide_type": "slide"
    }
   },
   "source": [
    "## Runtime: Order of Growth\n",
    "\n",
    "* Consider the worst-case scenario\n",
    "* Look at:\n",
    "    * Function and method calls \n",
    "    * Recursive calls\n",
    "    * Loops\n",
    "* **(1) Keep the term with the largest growth rate**\n",
    "* **(2) Drop any constants from the remaining term**"
   ]
  },
  {
   "cell_type": "markdown",
   "metadata": {},
   "source": [
    "- String methods in week 2: \n",
    "    - replace() -> is a loop since the function has to go through every single character in the worst case (if it is not there), would replace it if it exists\n",
    "    vs\n",
    "    - rstrip() not a loop, just starts at the end or beginning (lstrip), once it encounters a word or chr that is not the one then it will stop? How do these functions work?\n",
    "- both of these are O(n)?? maybe wrong\n",
    "\n",
    "- strign methods in week 2: replace is a loop since the function goes through every single character and look for it and then replaces it if it exists, rstrip is not a loop, just starts at the beginning or end and once it enocunters a word or chr that is not hte one you are looking for it will stop\n",
    "- both of these are O(n), since worst case scenario, if stripping a new chr, every new line chr is a new line, worst case is where we have to touch every thing, same as replace but in terms of actual benchmarking performance rstrip more efficient most of the time than replace\n",
    "- recursive calls: a function calling itself\n",
    "- loops: everything with loop usually big o(n)?? yes see exerise 2, there two simple loops\n"
   ]
  },
  {
   "cell_type": "markdown",
   "metadata": {
    "slideshow": {
     "slide_type": "slide"
    }
   },
   "source": [
    "**Exercise 1**: The following functions show the average number of operations required to perform some algorithm on a list of length $n$. Give the Big-O notation for the time complexity of each algorithm:\n",
    "\n",
    "a) $4n^2 + 2n + 2$\n",
    "\n",
    "b) $n + \\log n$\n",
    "\n",
    "c) $n \\log n$\n",
    "\n",
    "d) 3"
   ]
  },
  {
   "cell_type": "markdown",
   "metadata": {},
   "source": [
    "- a) nsquared: only keep dominant term, get rid of constants\n",
    "- b) n: go back to table, n dominates log n, get rid of log n, here end up with linear\n",
    "- c): n times log n: big o would be n log n, this is log linear, **cannot get rid of multiplication, can get rid of addition** but not multiplication, this is its own class\n",
    "- d) big o of 1 o(1)"
   ]
  },
  {
   "cell_type": "markdown",
   "metadata": {},
   "source": [
    "- quiz will look like this\n",
    "- look through code and give order of growth, that is for time complexity and in one sentence explain the logic, can count the steps, or narrative statement tere is loop and the number of steps in loop depends on length of input, so that not guessing randomly\n",
    "- dont have to write any code in the assignment"
   ]
  },
  {
   "cell_type": "markdown",
   "metadata": {},
   "source": [
    "Exercise 2 - My answer\n",
    "Two loops that loop over the length of the list. Both touch each item. Thus we have ///// 2*O(n) //// -> O(n), the order of growth is linear\n",
    "- WRONG IT IS O(2*L) - In Big-O notation, we drop the constant factor (since 2 is a constant), so the total time complexity -> O(l)"
   ]
  },
  {
   "cell_type": "markdown",
   "metadata": {},
   "source": [
    "ChatGPT: \n",
    "- Since both loops are independent and occur sequentially\n",
    "Independent:\n",
    "- The two loops do not depend on each other in terms of the operations they perform. The first loop sums the elements, and the second loop calculates the product of the elements. The two operations are separate in terms of logic; one doesn't affect the other.\n",
    "- Specifically, there is **no data or condition that connects the first loop to the second loop. The first loop completes before the second loop starts.**\n",
    "\n",
    "Sequentially:\n",
    "- The loops are executed one after the other, not concurrently or in parallel.\n",
    "- In terms of time complexity, this means that the execution time of the second loop adds to the execution time of the first loop. **The loops don't run simultaneously, so we add the time taken by each loop.**"
   ]
  },
  {
   "cell_type": "markdown",
   "metadata": {},
   "source": [
    "Her solution: Solution: O(n), where n is len(ls). The fact that there are two loops over the list is irrelevant as we ignore constants."
   ]
  },
  {
   "cell_type": "code",
   "execution_count": 4,
   "metadata": {
    "collapsed": true,
    "slideshow": {
     "slide_type": "slide"
    }
   },
   "outputs": [],
   "source": [
    "# Exercise 2: Give the order of growth for the function \n",
    "# and explain your reasoning in a couple of sentences.\n",
    "\n",
    "def sum_product(ls):\n",
    "    summ, product = 0, 1\n",
    "    for i in range(len(ls)): # O(l), l is the length of the list\n",
    "        summ += ls[i] # this is 0(1) and we do that l times \n",
    "        # each operation inside the loop (summ += ls[i]) is constant time O(1), so the total time for this loop is O(l).\n",
    "    for j in range(len(ls)): # O(l); this also runs len(ls) times, which is O(l).\n",
    "        product *= ls[j] # O(1) for each iteration\n",
    "        # each operation inside the loop (product *= ls[j]) is also constant time O(1), so the total time for this loop is O(l).\n",
    "    return summ, product \n",
    "\n",
    "# Since both loops are independent and occur sequentially, the total time complexity is O(2*l)\n",
    "\n",
    "\n",
    "\n",
    "\n",
    "# Your answer: \n",
    "# two loops, list, given the input, might depend on the lenght of list, without any docstring, adding the leements of list, since \n",
    "# concatenation or, initialising with int, numeric list, list of numeric types, sum of product that is constant\n",
    "# secodn we do the same, number of basic steps, two steps, n is length of list, n again for second loop, n legnth of list, \n",
    "# 2+2n, in terms of big o notation this wlill be Oh(n) n is lenght of ls, MKE SURE YOU SPECIFIY WHAT N IS, n is length of list here \n",
    "# ignore the size of numeric types\n",
    "#the timpe complexity of function is o(n) where n is the lenght or the size of the ls, list ls, \n",
    "# the function iterates over the list twice but we ignore constantshence it is o(n), matehamtical not expected just intution, ONE OR TWO SENTENCES AS ANSWER\n",
    "# LOOK AT ANSWER, EXPECT OCRRECT ANSWER, EXPECT DEFINITION OF WHAT N IS AND EXPECT EXPLANATION, THREE ELEMENTS WE EXPECT "
   ]
  },
  {
   "cell_type": "markdown",
   "metadata": {},
   "source": [
    "Exercise 3 - ChatGPT: \n",
    "- The second loop (for j in lb) iterates over the list lb, which has a length of m. **So, for each iteration of the outer loop, the inner loop runs O(m) times.**\n",
    "- **Since the outer loop runs O(l) times and for each iteration of the outer loop the inner loop runs O(m) times, the total number of operations will be the product of O(l) and O(m).** -> O(l*m)"
   ]
  },
  {
   "cell_type": "markdown",
   "metadata": {},
   "source": [
    "Her solution:\n",
    "- Solution: O(ab), where a is len(la) and b is len(lb). The function has two different inputs and its runtime depends on the length of both."
   ]
  },
  {
   "cell_type": "code",
   "execution_count": null,
   "metadata": {
    "collapsed": true,
    "scrolled": true,
    "slideshow": {
     "slide_type": "-"
    }
   },
   "outputs": [],
   "source": [
    "# Exercise 3: Give the order of growth for the function \n",
    "# and explain your reasoning in a couple of sentences.\n",
    "\n",
    "def combine(la, lb):\n",
    "    for i in la: # O(l) where l is length of la\n",
    "        # The first loop (for i in la) iterates over the list la, which has a length of l. Therefore, this loop runs O(l) times.\n",
    "        for j in lb: # O(m) where m is length of lb\n",
    "        # The second loop (for j in lb) iterates over the list lb, which has a length of m. So, for each iteration of the outer loop, the inner loop runs O(m) times.\n",
    "            if i < j: # O(1)\n",
    "                print(i, '-', j) # O(1)\n",
    "            # Inside the inner loop, the operations if i < j and print(i, '-', j) each take constant time, O(1).\n",
    "                # ==> O(l*m)\n",
    "print(combine(\"abc\", \"def\"))"
   ]
  },
  {
   "cell_type": "markdown",
   "metadata": {},
   "source": [
    "- two inputs, nested loop, all it does is print, space complexity this is big o of 1, but  in terms fo time complexity we are iterating\n",
    "- two inputs, important, no informaiton on hwo they vary, assume they are independent, a and b\n",
    "- big o of ab O(ab) where a is the lenght of ab and b is the lenght of lb. if two inputs, make sure that check whether it depends on boht, sometimes it might not, iterate over first and for each element in the first one iterating over second one, if we double1 \n",
    "- the function has two different inputs, and for each element in the first we iterate over each element in the second. \n",
    "- metniodns nested loops, has two inputs and that is why\n",
    "- use single letter for size of input, the size of these inputs we call them a and b\n",
    "- could have an expression, cannot call thsi quadratic but the product of tow ,no particular name for this, dependso on the product of the size of two inputs\n",
    "- simplified classes we have, dont have to categorise everything you see, could have any kind of expression, not linear, depends on product, thsu more complex dont feel obliged to fit it into of these basic classes, anything is aloowed\n",
    "- linear in the size of the input elements"
   ]
  },
  {
   "cell_type": "markdown",
   "metadata": {},
   "source": [
    "Exercise 4 - Her solution: I did not get that right, I thought it is O(1)\n",
    "Solution: **The runtime is the number of digits in the number.**\n",
    "A number with d digits is of size up to 10^d. If n = 10^d,\n",
    "then d = log n. Hence, the runtime is O(log n).\n",
    "\n",
    "- I thought each term in the function is O(1), is that true?\n",
    "- but we have a while loop here? So are while loops different from for loops?"
   ]
  },
  {
   "cell_type": "code",
   "execution_count": 8,
   "metadata": {
    "collapsed": true,
    "slideshow": {
     "slide_type": "-"
    }
   },
   "outputs": [
    {
     "data": {
      "text/plain": [
       "6"
      ]
     },
     "execution_count": 8,
     "metadata": {},
     "output_type": "execute_result"
    }
   ],
   "source": [
    "# Exercise 4: Give the order of growth for the function \n",
    "# and explain your reasoning in a couple of sentences.\n",
    "\n",
    "def sum_digits(n):\n",
    "    \"\"\"Take positive integer n and sum its digits.\"\"\"\n",
    "    summ = 0 # This is a simple assignment and takes constant time: O(1).\n",
    "    while n > 0:\n",
    "        # In each iteration, n is reduced by a factor of 10 (because of n = int(n / 10)), \n",
    "        # so the number of iterations is proportional to the number of digits in n\n",
    "        # If n has d digits, then the loop will run d times, where d = O(log n) (since the number of digits in n is logarithmic with respect to n).#\n",
    "        # The while loop runs O(log n) times because the number of iterations is determined by how many digits are in n, \n",
    "        # and the number of digits d is proportional to the logarithm of n.\n",
    "        summ += int(n % 10) # 0(1)\n",
    "        #This operation extracts the last digit of n and adds it to summ. \n",
    "        # The modulo operation (n % 10) and the addition are both constant time operations: O(1).\n",
    "        n = int(n / 10) # O(1)\n",
    "        # This divides n by 10 and updates n. The division and assignment are also constant time operations: O(1).\n",
    "    return summ # O(1)\n",
    "\n",
    "sum_digits(51)\n"
   ]
  },
  {
   "cell_type": "markdown",
   "metadata": {},
   "source": [
    "- take int n, sums its digits, at every step key we are scaling by 10, divide number by 10, if 5 digit number we have 5 steps apart from first assignment, 5 operations, if we have 10 digit number then 10 steps, \n",
    "- log complexity if we double the number we get an extra step, incrase 10 fold and one extra step\n",
    "- run time is the 0(log n), here n is the integer itself, ehre it is clear what n is, dont need to specify it, size of integer\n",
    "- if we multiply the input by 10, we add one extra step, logic: run time depends on the number of digits in n. \n",
    "- a number with d digits is of size up to 10 to the power of d, if number has 2 digits it will be up to 99, 10 to the power of 2 is 100\n",
    "- 10^d -1. if n equals 10^d, roughly equal to that, then d = log n, dont need matehtmical explanation but, at every step scaling downwe iterate d times hence log n times, when we scale the number by ten, we add an extra step"
   ]
  },
  {
   "cell_type": "markdown",
   "metadata": {},
   "source": [
    "here loop but scales them differently, have to multiply by 10, 9\n",
    "from 99\n",
    "- watch out for iteratio over each element or are you skipping and how, if skip by every tother this does not matter, but here scaling at every step, "
   ]
  },
  {
   "cell_type": "code",
   "execution_count": null,
   "metadata": {},
   "outputs": [],
   "source": [
    "if loop first intutiion is linear, but that is what we had here, but could also be nested, could depend on two diffferent inputs, this was, express as functio of both and not quadratic"
   ]
  },
  {
   "cell_type": "markdown",
   "metadata": {},
   "source": [
    "Exercise 5 - Her solution\n",
    "Solution: \n",
    "- The runtime is O(x^2). The code runs a total of:\n",
    "x + (x-1) + (x-2) + ... + 1 + 0 steps. \n",
    "- The sum of the first x integer numbers can be expressed as x * (x + 1) / 2, so O(x^2).\n",
    "- If you don't know the formula, you just need to notice that there are two nested loops that both depend linearly on size of x."
   ]
  },
  {
   "cell_type": "markdown",
   "metadata": {},
   "source": [
    "ChatGPT - Exercise 5\n",
    "- Outer loop (for i in range(x)):\n",
    "    - This loop iterates x times because i ranges from 0 to x-1. So, the outer loop runs in O(x) time.\n",
    "- Inner loop (for j in reversed(range(i, x))):\n",
    "    - The inner loop depends on i. For each value of i, the inner loop iterates over j from i to x-1.\n",
    "    - The length of the range for j is x - i. Therefore, for each iteration of i, the inner loop runs O(x - i) times.\n",
    "- Inside the inner loop (a = a + i + j):\n",
    "    - The operation inside the inner loop is a constant-time operation, O(1).\n",
    "- Now, let's compute the total number of operations by summing the iterations of the inner loop for each iteration of the outer loop:\n",
    "    - or i = 0, the inner loop runs x times (because reversed(range(0, x)) has x elements).\n",
    "    - For i = 1, the inner loop runs x - 1 times.\n",
    "    - The total number of iterations is the sum of these values: (x(x+1)) / 2 -> O(x**2)\n",
    "- The total time complexity of this code is O(x^2) because the number of operations is proportional to the sum of the first x integers, which scales quadratically with x.\n"
   ]
  },
  {
   "cell_type": "markdown",
   "metadata": {},
   "source": [
    "3. Why is the iterator creation O(1) and not O(n)?\n",
    "When you call reversed(), Python doesn't need to iterate through the sequence. Instead, it simply creates an iterator object that will know how to access each element in reverse order when you start iterating over it. It does not copy or create a new list of the reversed elements.\n",
    "\n",
    "The iterator itself is just a mechanism that knows the current position in the sequence and can give you the next element when you request it."
   ]
  },
  {
   "cell_type": "code",
   "execution_count": null,
   "metadata": {},
   "outputs": [],
   "source": [
    "# Exercise 5: Give the order of growth for the code \n",
    "# and explain your reasoning in a couple of sentences.\n",
    "\n",
    "a = 0; \n",
    "for i in range(x): # O(x) where x is the lenght of the range \n",
    "    for j in reversed(range(i, x)): # O(x-i), again linearly depending on length of range + reverse each item\n",
    "        # so if the list is longer we need to reverse more, if the range is longer by 1 item, one item more to touch \n",
    "        # so this is quadratic O(x**2), this is the dominant term\n",
    "        # Or why is it not O(x) * O(x*x) and thus O(x**3)\n",
    "        a = a + i + j\n",
    "        \n",
    "a = 0\n",
    "for i in range(x):                 # O(x) - loop over i from 0 to x-1\n",
    "    for j in reversed(range(i, x)):  # O(x - i) - loop over j from i to x-1\n",
    "        a = a + i + j                # O(1) - constant time operation\n"
   ]
  },
  {
   "cell_type": "markdown",
   "metadata": {},
   "source": [
    "- 2 loops, iterate over x, from current x to the end again but in reversed order, in both cases depend on x, the number items we are iterating over, only one unknown, \n",
    "- 0(x^2), clear what x = n, if input is clear \n",
    "- if x 10 then i is 0\n",
    "- the sum of first n pos integers is \n",
    "for the first value we "
   ]
  },
  {
   "cell_type": "code",
   "execution_count": null,
   "metadata": {},
   "outputs": [],
   "source": [
    "# Exercise 6: Give the order of growth for the function \n",
    "# and explain your reasoning in a couple of sentences.\n",
    "\n",
    "def factorial(n):\n",
    "    \"\"\"Takes non-negative integer n and returns the factorial n!,\n",
    "    where n! = n * (n-1) * (n-2) ... * 2 * 1\n",
    "    \"\"\"\n",
    "    if n == 0:\n",
    "        return 1\n",
    "    else:\n",
    "        return n * factorial(n-1)\n",
    "        \n",
    "# This is recursion and recrusion is uually exponential "
   ]
  },
  {
   "cell_type": "markdown",
   "metadata": {},
   "source": [
    "- run time of recursion function: no loop, thi is the same function, recursion means we keep repeating keep making call until we get call, only one call to itself, given n, every next, the number of calls we have is n, if we icnrease n by 2, if double the input then twice as many calls, so it will be linera in this case, jus tlookign at loops not enoug, if recursion need to know what is happenign, LOOK AT RECURSION FUNCTIONS AND HOW IT WORKS, SEE EARLIER WEEKS"
   ]
  },
  {
   "cell_type": "markdown",
   "metadata": {},
   "source": [
    "Exercise 7"
   ]
  },
  {
   "cell_type": "markdown",
   "metadata": {},
   "source": [
    "My Question to ChatGPT: What is the time complexity of list()?\n",
    "In Python, the time complexity of list() depends on the context in which it is used:\n",
    "- (1) Creating an empty list\n",
    "    - list() (i.e., list() with no arguments) creates an empty list.\n",
    "    - Time complexity: O(1) (constant time), since it just creates an empty list object.\n",
    "- (2) Converting an iterable (e.g., tuple, set, or generator) to a list:\n",
    "    - list(iterable) converts an iterable into a list.\n",
    "    - **Time complexity: O(n), where n is the number of elements in the iterable. This is because each element in the iterable needs to be copied into the new list.**\n",
    "- in summary. If you're calling list() with an iterable, it's O(n), where n is the number of elements in the iterable.\n",
    "\n",
    "What is the time complexity of set()?\n",
    "The time complexity of set() in Python depends on how it is used:\n",
    "- (1) Creating an empty set:\n",
    "    - set() creates an empty set.\n",
    "    - Time complexity: O(1) (constant time), because it just initializes an empty set object.\n",
    "- (2) Creating a set from an iterable:\n",
    "    - set(iterable) creates a set from an existing iterable (e.g., list, tuple, string, etc.).\n",
    "    - Time complexity: O(n), where n is the number of elements in the iterable. This is because each element must be hashed and inserted into the set, which takes constant time on average for each element, assuming the hash function is efficient.\n",
    "    - Building a set from an iterable: When you create a set from an iterable (e.g., set([1, 2, 3])), Python will iterate over each element of the iterable and attempt to insert it into the set. The overall time complexity is O(n), where n is the number of elements in the iterable being passed to set(). This is because each insertion is O(1) on average, and there are n elements to insert.\n",
    "- in summary: set(iterable) where iterable has n elements: O(n)"
   ]
  },
  {
   "cell_type": "markdown",
   "metadata": {},
   "source": [
    "Chat GPT's solution for Exercise 7\n"
   ]
  },
  {
   "cell_type": "code",
   "execution_count": null,
   "metadata": {},
   "outputs": [],
   "source": [
    "lst = [] \n",
    "for i, j in data:                 # O(n) where n is the length of data\n",
    "    lst.append(int(i))            # O(1) for each append, O(n) in total for all\n",
    "    unique_authors = list(set(lst))  # O(k) where k is the length of lst (up to n)\n",
    "    unique_authors.sort()          # O(k log k) for sorting, where k is the length of unique_authors\n"
   ]
  },
  {
   "cell_type": "markdown",
   "metadata": {},
   "source": [
    "Exercise 7 - Her solution:\n",
    "Solution: \n",
    "- The complexity of the code is O(n^2 log n), where n is the length of coauthors. \n",
    "- The code calls the set function and sorts the list n times, which results in n * (n + n log n) steps, since sorting is on the order of n log n (assuming \n",
    "the worst-case scenario where each edge introduces a unique author). \n",
    "- However, we worry only about the dominant term so this gives us O(n^2 log n). \n",
    "- If we un-indent the last statement, we will reduce the complexity to O(n^2). \n",
    "- If we were to also remove the set transformation outside of the loop, the complexity is further reduced to O(n log n), dictated by the sorting. \n",
    "- We can further reduce the actual runtime of the code by replacing the loop with a list comprehension.\n",
    "\n",
    "lst = [int(i) for i, j in coauthors] \n",
    "unique_authors = list(set(lst))\n",
    "unique_authors.sort()\n",
    "So, the overall time complexity is the sum of the individual complexities: O(m) + O(n) + O(n log n)\n",
    "Since 𝑛 ≤ 𝑚, we can simplify the total time complexity: (m + n log n)\n",
    "worst case\n",
    "In the worst case, where all elements in coauthors are unique, \n",
    "𝑛\n",
    "=\n",
    "𝑚\n",
    "n=m, and the overall complexity becomes: O(mlogm)"
   ]
  },
  {
   "cell_type": "code",
   "execution_count": null,
   "metadata": {
    "collapsed": true,
    "slideshow": {
     "slide_type": "slide"
    }
   },
   "outputs": [],
   "source": [
    "# Exercise 7: This is code submitted by a student for Problem 2 \n",
    "# in Problem Set 1. Given an edge list of coauthors in data, \n",
    "# the task was to create a sorted list of all unique authors. \n",
    "# What is the order of growth of this code? What is wrong here? \n",
    "# How would you rewrite the code to make it more efficient?\n",
    "\n",
    "lst = [] # O(1)\n",
    "for i,j in data: # O(n)? But I have two variables?\n",
    "    lst.append(int(i)) # appending to list is O(1)\n",
    "    unique_authors = list(set(lst)) # O(n)\n",
    "    \n",
    "    \n",
    "    \n",
    "    #                               THERE WAS SOMETHING ABOUT THE LIST FUNCTION\n",
    "    # set() probably has to go over each item to check if unique, so I assume therefore O(n)\n",
    "    # and list() is also O(n), thus this line is O(n**2)\n",
    "    unique_authors.sort() # sorting is log linear -> O(n log n)\n",
    "    # so my guess: O(n log n) * O(n**2) * for loop with two variables\n",
    "\n",
    "    # n + n + n log n\n",
    "    "
   ]
  },
  {
   "cell_type": "markdown",
   "metadata": {},
   "source": [
    "- lenght of data is n, lets assume that. first iterate over all data, thus n, \n",
    "- appendign to list is constant, not touching anything before that can ignore that \n",
    "- going over wole list, hashing it to make set out of it, transofrming it into alist thusindexing thus two loops here, tough tevery elemento thash into set, and then going again and idnexign it into a lsit, thsi is n squared so far\n",
    "- sorting the list = n log n, log linear\n",
    "number of steps\n",
    "T(n) = n*(1 this is constant + 2n (two operatiosn that depend on length of list + n log n))\n",
    "- extrem uneffizient\n",
    "- remove the two last terms out of the list, dont need to keep reindexing, \n",
    "\n",
    "big o of n squared n squared dominates over n log n, 11:18\n",
    "- n log n \n",
    "- indentation can change order of growth\n",
    "11:18 s i sn log n since it dominates n"
   ]
  },
  {
   "cell_type": "markdown",
   "metadata": {},
   "source": [
    "sorting is n log n\n",
    "- list is o(n): have two loops, set goes over every element and then it has to transform them to combine them into a new data structure, that is one loop, \n",
    "- no benchmarking for test"
   ]
  },
  {
   "cell_type": "code",
   "execution_count": 7,
   "metadata": {
    "collapsed": true,
    "slideshow": {
     "slide_type": "slide"
    }
   },
   "outputs": [],
   "source": [
    "# Exercise 8: Compare the execution time for loops \n",
    "# between R and Python using Exercise 4.\n"
   ]
  },
  {
   "cell_type": "markdown",
   "metadata": {},
   "source": [
    "- calling function we defined above, tell python where teh function is, import it from main, still have to import it from main\n",
    "- code converts it into microseconds, \n",
    "- using for loop is faster in python by far by the order of 10, but better ways to do this, "
   ]
  },
  {
   "cell_type": "code",
   "execution_count": null,
   "metadata": {
    "collapsed": true,
    "slideshow": {
     "slide_type": "-"
    }
   },
   "outputs": [],
   "source": [
    "# Exercise 9: Create a function to multiply each element of a \n",
    "# vector `v` by a scalar `m` in R with and without a for-loop\n",
    "# and compare their execution time.\n",
    "\n",
    "### R code ###\n",
    "multiply <- function (v, m) {\n",
    "  # Write with a for-loop\n",
    "}\n",
    "\n",
    "multiply2 <- function(v, m) {\n",
    "  # Write without a for-loop\n",
    "}\n",
    " "
   ]
  }
 ],
 "metadata": {
  "kernelspec": {
   "display_name": "Python 3 (ipykernel)",
   "language": "python",
   "name": "python3"
  },
  "language_info": {
   "codemirror_mode": {
    "name": "ipython",
    "version": 3
   },
   "file_extension": ".py",
   "mimetype": "text/x-python",
   "name": "python",
   "nbconvert_exporter": "python",
   "pygments_lexer": "ipython3",
   "version": "3.12.4"
  }
 },
 "nbformat": 4,
 "nbformat_minor": 2
}
