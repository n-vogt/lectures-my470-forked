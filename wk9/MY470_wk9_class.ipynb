{
 "cells": [
  {
   "cell_type": "markdown",
   "metadata": {
    "slideshow": {
     "slide_type": "slide"
    }
   },
   "source": [
    "### MY470 Computer Programming\n",
    "# Order of Growth\n",
    "### Week 9 Lab"
   ]
  },
  {
   "cell_type": "markdown",
   "metadata": {},
   "source": [
    "- list not exhaustive\n",
    "- log: every timewe double or factor of 10, run time increases by 1\n",
    "    - rgardless of where you start aat\n",
    "- linear: as we add extra n, need to add extra time unit\n",
    "- log linear: sortign is log linear, \n",
    "- polynomial: inefficient, hard to compute, if quadratic still doable for large data, typically with nested loops\n",
    "- exponential unfeasible\n",
    "- always keep dominant term, polynominal dominates the logarithmic, important to remember the order in which they come\n",
    "- benchmarking: can do this for any poiece of code, record time, run the code and record the time afterwards, \n",
    "- to make benchmarking more reliable, run it multiple times if possible, \n",
    "- execution time also contingent on other processes\n",
    "- module timeit but problem that you have to feed code as strings, include setup which varies depending on what we re doing, "
   ]
  },
  {
   "cell_type": "markdown",
   "metadata": {
    "slideshow": {
     "slide_type": "slide"
    }
   },
   "source": [
    "![Big-O Comparison](figs/big-o-table.png \"Big-O Comparison\")"
   ]
  },
  {
   "cell_type": "markdown",
   "metadata": {
    "slideshow": {
     "slide_type": "slide"
    }
   },
   "source": [
    "## Runtime: Benchmarking\n",
    "\n",
    "Use `time` module:\n",
    "\n",
    "1. Save time immediately before code\n",
    "2. Save time immediately after code\n",
    "3. Estimate 2 – 1"
   ]
  },
  {
   "cell_type": "code",
   "execution_count": 2,
   "metadata": {
    "slideshow": {
     "slide_type": "-"
    }
   },
   "outputs": [
    {
     "name": "stdout",
     "output_type": "stream",
     "text": [
      "0.0008790493011474609\n"
     ]
    }
   ],
   "source": [
    "import time\n",
    "\n",
    "ls = list(range(100000))\n",
    "\n",
    "start = time.time()\n",
    "ls.count(99999)\n",
    "end = time.time()\n",
    "print(end - start)"
   ]
  },
  {
   "cell_type": "markdown",
   "metadata": {
    "slideshow": {
     "slide_type": "slide"
    }
   },
   "source": [
    "## Benchmarking: Repeat to Time More Accurately\n",
    "\n",
    "* Execution time can be affected by other processes running simultaneously\n",
    "* Execution time can depend on the order of execution (randomize execution order)"
   ]
  },
  {
   "cell_type": "code",
   "execution_count": 3,
   "metadata": {
    "slideshow": {
     "slide_type": "fragment"
    }
   },
   "outputs": [
    {
     "name": "stdout",
     "output_type": "stream",
     "text": [
      "0.0008678531646728516\n"
     ]
    },
    {
     "data": {
      "text/plain": [
       "0.0008166161800181726"
      ]
     },
     "execution_count": 3,
     "metadata": {},
     "output_type": "execute_result"
    }
   ],
   "source": [
    "# Do it yourself\n",
    "ls = list(range(100000))\n",
    "\n",
    "res = 0\n",
    "for i in range(100):\n",
    "    start = time.time()\n",
    "    ls.count(99999)\n",
    "    end = time.time()\n",
    "    res += end - start\n",
    "print(res / 100)\n",
    "\n",
    "# Use a module\n",
    "from timeit import timeit \n",
    "timeit(stmt='ls.count(99999)', setup='ls = list(range(100000))', number=100) / 100"
   ]
  },
  {
   "cell_type": "markdown",
   "metadata": {},
   "source": [
    "- inefficiency in code\n",
    "- compare one version of code to another, would know which one is faster, comparative, wont transfer to naother machine, compiler, programming language, just ofr your setup which code might be faster\n",
    "- more consistent results than before"
   ]
  },
  {
   "cell_type": "code",
   "execution_count": null,
   "metadata": {
    "collapsed": true,
    "slideshow": {
     "slide_type": "fragment"
    }
   },
   "outputs": [],
   "source": [
    "### R code ###\n",
    "\n",
    "require(microbenchmark)\n",
    "\n",
    "ls <- seq(0, 99999)\n",
    "microbenchmark(sum(ls == 99999))\n",
    "\n",
    "# Unit: microseconds\n",
    "#             expr     min      lq     mean  median       uq      max neval\n",
    "# sum(ls == 99999) 368.309 416.865 684.3047 559.569 706.2215 3955.864   100"
   ]
  },
  {
   "cell_type": "markdown",
   "metadata": {},
   "source": [
    "- microbenchmark package in R\n",
    "- def sequence as before, here seq is inclusive, we create vector that tells us whether the number is 99999 or not, create true and false vector, will be false false false until last element when it is true and then we sum\n",
    "-> number of times this value appears in our vector which is the same as the count method, this is the R way to do this\n",
    "- unit is microseconds, while in python by defualt we get seconds, on average 227 microseconds, roughly the same as with python, can multiply sec estimate by 1 million, R faster, \n",
    "- "
   ]
  },
  {
   "cell_type": "markdown",
   "metadata": {
    "slideshow": {
     "slide_type": "slide"
    }
   },
   "source": [
    "## Runtime: Order of Growth\n",
    "\n",
    "* Consider the worst-case scenario\n",
    "* Look at:\n",
    "    * Function and method calls \n",
    "    * Recursive calls\n",
    "    * Loops\n",
    "* Keep the term with the largest growth rate\n",
    "* Drop any constants from the remaining term"
   ]
  },
  {
   "cell_type": "markdown",
   "metadata": {},
   "source": [
    "- strign methods in week 2: replace is a loop since the function goes through every single character and look for it and then replaces it if it exists, rstrip is not a loop, just starts at the beginning or end and once it enocunters a word or chr that is not hte one you are looking for it will stop\n",
    "- both of these are O(n), since worst case scenario, if stripping a new chr, every new line chr is a new line, worst case is where we have to touch every thing, same as replace but in terms of actual benchmarkign perofrmance rstrip mroe efficient most of the time thatn replace\n",
    "- recursive calls: calling a function, function itself, \n",
    "- loops: everythign with loop usually big o(n)?? yes see exerise 2, there two simple loops\n",
    "- which time module should we use?\n",
    "- using copilot correclty?"
   ]
  },
  {
   "cell_type": "markdown",
   "metadata": {
    "slideshow": {
     "slide_type": "slide"
    }
   },
   "source": [
    "**Exercise 1**: The following functions show the average number of operations required to perform some algorithm on a list of length $n$. Give the Big-O notation for the time complexity of each algorithm:\n",
    "\n",
    "a) $4n^2 + 2n + 2$\n",
    "\n",
    "b) $n + \\log n$\n",
    "\n",
    "c) $n \\log n$\n",
    "\n",
    "d) 3"
   ]
  },
  {
   "cell_type": "markdown",
   "metadata": {},
   "source": [
    "- a nsquared: only keep dominant term, get rid of constants\n",
    "- b) n: go back to table, n dominates log n, get rid of log n, here end up with linear\n",
    "- c): n times log n: big o would be n log n, this is log linear, cannot get rid of multiplication, can get rid of addition but not multiplication, this its own class\n",
    "- d) big o of 1 o(1)"
   ]
  },
  {
   "cell_type": "markdown",
   "metadata": {},
   "source": [
    "- quiz will look like this, there were docstrings int he quiz\n",
    "look through code and give order of growth, that is for time complexits and in one sentence xplain the logic, can count the steps, or narrative statement tere is loop and the number of steps in loop depends on length of input, so that not guessing randomly\n",
    "- dont ahve to write any code in the assignment"
   ]
  },
  {
   "cell_type": "code",
   "execution_count": 4,
   "metadata": {
    "collapsed": true,
    "slideshow": {
     "slide_type": "slide"
    }
   },
   "outputs": [],
   "source": [
    "# Exercise 2: Give the order of growth for the function \n",
    "# and explain your reasoning in a couple of sentences.\n",
    "\n",
    "def sum_product(ls):\n",
    "    summ, product = 0, 1\n",
    "    for i in range(len(ls)):\n",
    "        summ += ls[i]\n",
    "    for j in range(len(ls)):\n",
    "        product *= ls[j]\n",
    "    return summ, product   \n",
    "\n",
    "# Your answer: \n",
    "# two loops, list, given the input, might depend on the lenght of list, without any docstring, adding the leements of list, since \n",
    "# concatenation or, initialising with int, numeric list, list of numeric types, sum of product that is constant\n",
    "# secodn we do the same, number of basic steps, two steps, n is length of list, n again for second loop, n legnth of list, \n",
    "# 2+2n, in terms of big o notation this wlill be Oh(n) n is lenght of ls, MKE SURE YOU SPECIFIY WHAT N IS, n is length of list here \n",
    "# ignore the size of numeric types\n",
    "#the timpe complexity of function is o(n) where n is the lenght or the size of the ls, list ls, \n",
    "# the function iterates over the list twice but we ignore constantshence it is o(n), matehamtical not expected just intution, ONE OR TWO SENTENCES AS ANSWER\n",
    "# LOOK AT ANSWER, EXPECT OCRRECT ANSWER, EXPECT DEFINITION OF WHAT N IS AND EXPECT EXPLANATION, THREE ELEMENTS WE EXPECT "
   ]
  },
  {
   "cell_type": "markdown",
   "metadata": {},
   "source": [
    "- 2 loops but not nested loops\n",
    "- but quadratic does not exist as its own "
   ]
  },
  {
   "cell_type": "code",
   "execution_count": 5,
   "metadata": {
    "collapsed": true,
    "scrolled": true,
    "slideshow": {
     "slide_type": "-"
    }
   },
   "outputs": [],
   "source": [
    "# Exercise 3: Give the order of growth for the function \n",
    "# and explain your reasoning in a couple of sentences.\n",
    "\n",
    "def combine(la, lb):\n",
    "    for i in la:\n",
    "        for j in lb:\n",
    "            if i < j:\n",
    "                print(i, '-', j)\n",
    "\n",
    "# Your answer: \n",
    "# so this would be quadratic but quadratic does not exist as its own category?\n",
    "#\n",
    "#\n",
    "#"
   ]
  },
  {
   "cell_type": "markdown",
   "metadata": {},
   "source": [
    "- two inputs, nested loop, all it does is print, space complexity this is big o of 1, but  in terms fo time complexity we are iterating\n",
    "- two inputs, important, no informaiton on hwo they vary, assume they are independent, a and b\n",
    "- big o of ab O(ab) where a is the lenght of ab and b is the lenght of lb. if two inputs, make sure that check whether it depends on boht, sometimes it might not, iterate over first and for each element in the first one iterating over second one, if we double1 \n",
    "- the function has two different inputs, and for each element in the first we iterate over each element in the second. \n",
    "- metniodns nested loops, has two inputs and that is why\n",
    "- use single letter for size of input, the size of these inputs we call them a and b\n",
    "- could have an expression, cannot call thsi quadratic but the product of tow ,no particular name for this, dependso on the product of the size of two inputs\n",
    "- simplified classes we have, dont have to categorise everything you see, could have any kind of expression, not linear, depends on product, thsu more complex dont feel obliged to fit it into of these basic classes, anything is aloowed\n",
    "- linear in the size of the input elements"
   ]
  },
  {
   "cell_type": "code",
   "execution_count": 6,
   "metadata": {
    "collapsed": true,
    "slideshow": {
     "slide_type": "-"
    }
   },
   "outputs": [],
   "source": [
    "# Exercise 4: Give the order of growth for the function \n",
    "# and explain your reasoning in a couple of sentences.\n",
    "\n",
    "def sum_digits(n):\n",
    "    \"\"\"Take positive integer n and sum its digits.\"\"\"\n",
    "    summ = 0\n",
    "    while n > 0:\n",
    "        summ += int(n % 10)\n",
    "        n = int(n / 10)\n",
    "    return summ\n",
    "\n",
    "# Your answer: \n",
    "#\n",
    "#\n",
    "#\n",
    "#"
   ]
  },
  {
   "cell_type": "markdown",
   "metadata": {},
   "source": [
    "- take int n, sums its digits, at every step key we are scaling by 10, divide number by 10, if 5 digit number we have 5 steps apart from first assignment, 5 operations, if we have 10 digit number then 10 steps, \n",
    "- log complexity if we double the number we get an extra step, incrase 10 fold and one extra step\n",
    "- run time is the 0(log n), here n is the integer itself, ehre it is clear what n is, dont need to specify it, size of integer\n",
    "- if we multiply the input by 10, we add one extra step, logic: run time depends on the number of digits in n. \n",
    "- a number with d digits is of size up to 10 to the power of d, if number has 2 digits it will be up to 99, 10 to the power of 2 is 100\n",
    "- 10^d -1. if n equals 10^d, roughly equal to that, then d = log n, dont need matehtmical explanation but, at every step scaling downwe iterate d times hence log n times, when we scale the number by ten, we add an extra step"
   ]
  },
  {
   "cell_type": "markdown",
   "metadata": {},
   "source": [
    "here loop but scales them differently, have to multiply by 10, 9\n",
    "from 99\n",
    "- watch out for iteratio over each element or are you skipping and how, if skip by every tother this does not matter, but here scaling at every step, "
   ]
  },
  {
   "cell_type": "code",
   "execution_count": null,
   "metadata": {},
   "outputs": [],
   "source": [
    "here loop "
   ]
  },
  {
   "cell_type": "code",
   "execution_count": null,
   "metadata": {},
   "outputs": [],
   "source": [
    "if loop first intutiion is linear, but that is what we had here, but could also be nested, could depend on two diffferent inputs, this was, express as functio of both and not quadratic"
   ]
  },
  {
   "cell_type": "code",
   "execution_count": null,
   "metadata": {},
   "outputs": [],
   "source": []
  },
  {
   "cell_type": "code",
   "execution_count": null,
   "metadata": {},
   "outputs": [],
   "source": [
    "# Exercise 5: Give the order of growth for the code \n",
    "# and explain your reasoning in a couple of sentences.\n",
    "\n",
    "a = 0;\n",
    "for i in range(x):\n",
    "    for j in reversed(range(i, x)):\n",
    "        a = a + i + j\n",
    "        \n",
    "# Your answer: \n",
    "#\n",
    "#\n",
    "#\n",
    "#"
   ]
  },
  {
   "cell_type": "markdown",
   "metadata": {},
   "source": [
    "- 2 loops, iterate over x, from current x to the end again but in reversed order, in both cases depend on x, the number items we are iterating over, only one unknown, \n",
    "- 0(x^2), clear what x = n, if input is clear \n",
    "- if x 10 then i is 0\n",
    "- the sum of first n pos integers is \n",
    "for the first value we "
   ]
  },
  {
   "cell_type": "code",
   "execution_count": null,
   "metadata": {},
   "outputs": [],
   "source": [
    "# Exercise 6: Give the order of growth for the function \n",
    "# and explain your reasoning in a couple of sentences.\n",
    "\n",
    "def factorial(n):\n",
    "    \"\"\"Takes non-negative integer n and returns the factorial n!,\n",
    "    where n! = n * (n-1) * (n-2) ... * 2 * 1\n",
    "    \"\"\"\n",
    "    if n == 0:\n",
    "        return 1\n",
    "    else:\n",
    "        return n * factorial(n-1)\n",
    "        \n",
    "# Your answer: \n",
    "#\n",
    "#\n",
    "#\n",
    "#"
   ]
  },
  {
   "cell_type": "markdown",
   "metadata": {},
   "source": [
    "- run time of recursion function: no loop, thi is the same function, recursion means we keep repeating keep making call until we get call, only one call to itself, given n, every next, the number of calls we have is n, if we icnrease n by 2, if double the input then twice as many calls, so it will be linera in this case, jus tlookign at loops not enoug, if recursion need to know what is happenign, LOOK AT RECURSION FUNCTIONS AND HOW IT WORKS, SEE EARLIER WEEKS"
   ]
  },
  {
   "cell_type": "code",
   "execution_count": null,
   "metadata": {
    "collapsed": true,
    "slideshow": {
     "slide_type": "slide"
    }
   },
   "outputs": [],
   "source": [
    "# Exercise 7: This is code submitted by a student for Problem 2 \n",
    "# in Problem Set 1. Given an edge list of coauthors in data, \n",
    "# the task was to create a sorted list of all unique authors. \n",
    "# What is the order of growth of this code? What is wrong here? \n",
    "# How would you rewrite the code to make it more efficient?\n",
    "\n",
    "lst = [] \n",
    "for i,j in data:\n",
    "    lst.append(int(i)) \n",
    "    unique_authors = list(set(lst)) # not initialised before? can do that i pyhton?\n",
    "    unique_authors.sort()\n",
    "    "
   ]
  },
  {
   "cell_type": "markdown",
   "metadata": {},
   "source": [
    "- lenght of data is n, lets assume that. first iterate over all data, thus n, \n",
    "- appendign to list is constant, not touching anything before that can ignore that \n",
    "- going over wole list, hashing it to make set out of it, transofrming it into alist thusindexing thus two loops here, tough tevery elemento thash into set, and then going again and idnexign it into a lsit, thsi is n squared so far\n",
    "- sorting the list = n log n, log linear\n",
    "number of steps\n",
    "T(n) = n*(1 this is constant + 2n (two operatiosn that depend on length of list + n log n))\n",
    "- extrem uneffizient\n",
    "- remove the two last terms out of the list, dont need to keep reindexing, \n",
    "\n",
    "big o of n squared n squared dominates over n log n, 11:18\n",
    "- n log n \n",
    "- indentation can change order of growth\n",
    "11:18 s i sn log n since it dominates n"
   ]
  },
  {
   "cell_type": "markdown",
   "metadata": {},
   "source": [
    "sorting is n log n\n",
    "- list is o(n): have two loops, set goes over every element and then it has to transform them to combine them into a new data structure, that is one loop, \n",
    "- no benchmarking for test"
   ]
  },
  {
   "cell_type": "code",
   "execution_count": 7,
   "metadata": {
    "collapsed": true,
    "slideshow": {
     "slide_type": "slide"
    }
   },
   "outputs": [],
   "source": [
    "# Exercise 8: Compare the execution time for loops \n",
    "# between R and Python using Exercise 4.\n"
   ]
  },
  {
   "cell_type": "markdown",
   "metadata": {},
   "source": [
    "- calling function we defined above, tell python where teh function is, import it from main, still have to import it from main\n",
    "- code converts it into microseconds, \n",
    "- using for loop is faster in python by far by the order of 10, but better ways to do this, "
   ]
  },
  {
   "cell_type": "code",
   "execution_count": null,
   "metadata": {
    "collapsed": true,
    "slideshow": {
     "slide_type": "-"
    }
   },
   "outputs": [],
   "source": [
    "# Exercise 9: Create a function to multiply each element of a \n",
    "# vector `v` by a scalar `m` in R with and without a for-loop\n",
    "# and compare their execution time.\n",
    "\n",
    "### R code ###\n",
    "multiply <- function (v, m) {\n",
    "  # Write with a for-loop\n",
    "}\n",
    "\n",
    "multiply2 <- function(v, m) {\n",
    "  # Write without a for-loop\n",
    "}\n",
    " "
   ]
  }
 ],
 "metadata": {
  "kernelspec": {
   "display_name": "Python 3 (ipykernel)",
   "language": "python",
   "name": "python3"
  },
  "language_info": {
   "codemirror_mode": {
    "name": "ipython",
    "version": 3
   },
   "file_extension": ".py",
   "mimetype": "text/x-python",
   "name": "python",
   "nbconvert_exporter": "python",
   "pygments_lexer": "ipython3",
   "version": "3.9.7"
  }
 },
 "nbformat": 4,
 "nbformat_minor": 2
}
