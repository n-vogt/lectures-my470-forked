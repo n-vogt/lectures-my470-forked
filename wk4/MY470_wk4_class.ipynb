{
 "cells": [
  {
   "cell_type": "markdown",
   "metadata": {
    "slideshow": {
     "slide_type": "slide"
    }
   },
   "source": [
    "### MY470 Computer Programming\n",
    "# Writing and Calling Functions in Python\n",
    "### Week 4 Lab"
   ]
  },
  {
   "cell_type": "markdown",
   "metadata": {
    "slideshow": {
     "slide_type": "slide"
    }
   },
   "source": [
    "## Defining and Calling Functions\n",
    "\n",
    "### Defining a function\n",
    "\n",
    "```\n",
    "def *function_name*(*list of parameters*):\n",
    "    *body of function*\n",
    "```\n",
    "\n",
    "### Calling a function\n",
    "\n",
    "```\n",
    "*function_name*(*arguments*)\n",
    "```\n",
    "\n",
    "### Functions can take 0 or more arguments and return 1 or more values!\n",
    "\n",
    "### If a function does not have `return` statement, it returns `None`."
   ]
  },
  {
   "cell_type": "markdown",
   "metadata": {},
   "source": [
    "- colon and indentation\n",
    "- either None, scalar or non-scalar such as a tuple or list\n",
    "- if you want to return more than one, list those with comma or put them in object like list or set or tuple \n",
    "- return has special syntax, dont use brackets unlike in R \n",
    "- "
   ]
  },
  {
   "cell_type": "markdown",
   "metadata": {},
   "source": [
    "Bro Code: \n",
    "Function = A block of reusable code. place () after the function name to invoke it. \n",
    "\n",
    "return = statement used to end a function and send a result back to the caller. "
   ]
  },
  {
   "cell_type": "markdown",
   "metadata": {
    "slideshow": {
     "slide_type": "slide"
    }
   },
   "source": [
    "## Functions Take Arguments by Reference"
   ]
  },
  {
   "cell_type": "code",
   "execution_count": 2,
   "metadata": {
    "slideshow": {
     "slide_type": "-"
    }
   },
   "outputs": [
    {
     "name": "stdout",
     "output_type": "stream",
     "text": [
      "[1, 2, 3, 0]\n"
     ]
    }
   ],
   "source": [
    "def change_list(alist):\n",
    "    alist.append(0) # takes a list and appends 0 as a last element. taht is all it does, it returns None or dont have to mention it, \n",
    "\n",
    "mylist = [1, 2, 3]\n",
    "change_list(mylist)\n",
    "print(mylist)"
   ]
  },
  {
   "cell_type": "markdown",
   "metadata": {},
   "source": [
    "- **this function change_list has no return statement: if I print the function, then it returns None**\n",
    "- **if function modified in place as is the case here, then do not assign the result to new variable and then wanting to do things with it**\n",
    "- function specification always \n",
    "- **can do things with an object that are outside the function by calling the name of the object**\n"
   ]
  },
  {
   "cell_type": "code",
   "execution_count": 5,
   "metadata": {
    "scrolled": true,
    "slideshow": {
     "slide_type": "fragment"
    }
   },
   "outputs": [
    {
     "name": "stdout",
     "output_type": "stream",
     "text": [
      "[1, 2, 3]\n"
     ]
    }
   ],
   "source": [
    "def zero_list(alist):\n",
    "    \"\"\"Takes a list and returns another list of the same length \n",
    "    that looks like [0, 0, 0, ...]. # here we promised to return something, so we are missing the return statement\n",
    "    \"\"\"\n",
    "    alist = [0]*len(alist)  # Creates a new local reference for alist\n",
    "    return alist # inlcudes this \n",
    "# i would be explicit to change my variable names because it gets confusing, name it newlist, to make clear that you are not modifying in place\n",
    "# but that this is something else \n",
    "# \n",
    "mylist = [1, 2, 3]\n",
    "zero_list(mylist)\n",
    "print(mylist)"
   ]
  },
  {
   "cell_type": "markdown",
   "metadata": {},
   "source": [
    "- **When modifying in place, change variable names to something new like newlist to make that clear**\n",
    "- above we are not modifying in place\n",
    "- hre defining variable in local scope but then we do not return anything so it is gone\n",
    "- whenever assignment = in function, it is only local\n",
    "- when return statement:    \n",
    "    - **(1) IF FUNCTION MODIFIES IN PLACE, THE DO NOT RETURN ANYTHING**\n",
    "    - **(2) IF YOUR FUNCTION PROMISES TO RETURN SOMETHING, THEN IT SHOULD RETURN SOMETHING**\n",
    "if it prints or if it makes some kind of change of global scale ??? then you dont have to have a return statement"
   ]
  },
  {
   "cell_type": "code",
   "execution_count": 7,
   "metadata": {},
   "outputs": [
    {
     "data": {
      "text/plain": [
       "0"
      ]
     },
     "execution_count": 7,
     "metadata": {},
     "output_type": "execute_result"
    }
   ],
   "source": [
    "3*[0]\n",
    "3*0"
   ]
  },
  {
   "cell_type": "code",
   "execution_count": 14,
   "metadata": {
    "collapsed": true,
    "slideshow": {
     "slide_type": "fragment"
    }
   },
   "outputs": [
    {
     "name": "stdout",
     "output_type": "stream",
     "text": [
      "[0, 0, 0, 0, 0]\n"
     ]
    }
   ],
   "source": [
    "# Exercise 1: Rewrite the function definition and call above \n",
    "# to accomplish what the function intends to do.\n",
    "\n",
    "def zero_list(lis):\n",
    "    print(len(lis)*[0])\n",
    "    \n",
    "zero_list([1, 2, 3, 4, 5])\n"
   ]
  },
  {
   "cell_type": "markdown",
   "metadata": {
    "slideshow": {
     "slide_type": "slide"
    }
   },
   "source": [
    "## Using Docstrings (String Literals) to Specify Functions\n"
   ]
  },
  {
   "cell_type": "markdown",
   "metadata": {},
   "source": [
    "- Always start with function specification, also for yourself: What does it return \n",
    "    - common when just outlining structure to just write \"pass\" = do nothing but dont break my syntax for now, can move on to define my other functions\n",
    "    - **FUNCTION SPECIFICATION SHOULD BE INDENTED, IS THE FIRST THING THAT COMES AFTER THE DEF STATEMENT, by tradition double quotes**\n",
    "    - call help(f) to see the docstring \n",
    "    - **\n",
    "- comments: **comment your code, comments for readers, docstrings for programmers, dont need to explain the code per se but rather what its function is**\n",
    "    - **comment your code sparingly but in informative way and use docstrings, otherwise penalised**\n"
   ]
  },
  {
   "cell_type": "code",
   "execution_count": 4,
   "metadata": {
    "scrolled": true,
    "slideshow": {
     "slide_type": "-"
    }
   },
   "outputs": [
    {
     "name": "stdout",
     "output_type": "stream",
     "text": [
      "Help on function f in module __main__:\n",
      "\n",
      "f(x, y)\n",
      "    Demonstrates the importance of providing specification for functions.\n",
      "    Assumes x and y any type.\n",
      "    Returns nothing.\n",
      "\n"
     ]
    }
   ],
   "source": [
    "def f(x, y):\n",
    "    \"\"\"Demonstrates the importance of providing specification for functions.\n",
    "    Assumes x and y any type.\n",
    "    Returns nothing.\n",
    "    \"\"\"\n",
    "    pass\n",
    "\n",
    "help(f)"
   ]
  },
  {
   "cell_type": "markdown",
   "metadata": {
    "slideshow": {
     "slide_type": "fragment"
    }
   },
   "source": [
    "![Commenting](figs/commenting.jpg \"Commenting\")"
   ]
  },
  {
   "cell_type": "markdown",
   "metadata": {
    "slideshow": {
     "slide_type": "slide"
    }
   },
   "source": [
    "## Using Functions Instead of Copy-Pasting Code"
   ]
  },
  {
   "cell_type": "code",
   "execution_count": 5,
   "metadata": {
    "slideshow": {
     "slide_type": "-"
    }
   },
   "outputs": [
    {
     "name": "stdout",
     "output_type": "stream",
     "text": [
      "Alan Turing was a mathematician.\n",
      "Richard Feynman was a physicist.\n",
      "Marie Curie was a chemist.\n",
      "Charles Darwin was a biologist.\n",
      "Ada Lovelace was a mathematician.\n",
      "Werner Heisenberg was a physicist.\n"
     ]
    }
   ],
   "source": [
    "# Consider the following code:\n",
    "\n",
    "# Print the name and profession of famous dead scientists:\n",
    "print('Alan Turing was a mathematician.')\n",
    "print('Richard Feynman was a physicist.')\n",
    "print('Marie Curie was a chemist.')\n",
    "print('Charles Darwin was a biologist.')\n",
    "print('Ada Lovelace was a mathematician.')\n",
    "print('Werner Heisenberg was a physicist.')"
   ]
  },
  {
   "cell_type": "markdown",
   "metadata": {},
   "source": [
    "- Use dictionary here, name as the key and profession as the value, write statement for each key value pair\n",
    "- or loop with function, depends on the level of abstraction you want\n",
    "- if part of the object, you can break it by the comma??\n",
    "- all this function does is print, thus no need to return anything else\n",
    "\n",
    "- dict.items() you get key value paris as a tuple ()\n",
    "- if you **preface the string with an f, you can feed it in curly brackets**\n",
    "- if more modula, then a/an dependong on whether the next word starts with a vowel, this is more modular, can seperate the data from the function more, can choose at what level you want to abstract\n"
   ]
  },
  {
   "cell_type": "code",
   "execution_count": 2,
   "metadata": {
    "collapsed": true,
    "slideshow": {
     "slide_type": "-"
    }
   },
   "outputs": [
    {
     "name": "stdout",
     "output_type": "stream",
     "text": [
      "Alan Turing was a mathematician.\n",
      "Richard Feyman was a physicist.\n",
      "Angela Merkel was a chancellor.\n"
     ]
    }
   ],
   "source": [
    "# Exercise 2: Rewrite the code using a function and a suitable data structure.\n",
    "def name_profession(first, last, profession):\n",
    "    print(f\"{first} {last} was a {profession}.\")\n",
    "name_profession(\"Angela\", \"Merkel\", \"chancellor\")\n",
    "\n",
    "\n",
    "# if part of object, you can break by the comma\n",
    "# all this functoin does is print, does not need to return anything else\n",
    "scientists = {'Alan Turing': 'mathematician', 'Richard Feyman': 'physicist'}\n",
    "\n",
    "def print_professions2(profdic):\n",
    "    \"\"\"Takes a dictionary of {Name: Profession} and prints\n",
    "    'Name was a profession for each key-value pair.\n",
    "    Returns None\"\"\"\n",
    "    for name, prof in scientists.items():\n",
    "        print(f'{name} was a {prof}.')\n",
    "print_professions2(scientists)"
   ]
  },
  {
   "cell_type": "markdown",
   "metadata": {
    "slideshow": {
     "slide_type": "slide"
    }
   },
   "source": [
    "## Using Functions to Improve Legibility and Modularity"
   ]
  },
  {
   "cell_type": "code",
   "execution_count": 8,
   "metadata": {
    "slideshow": {
     "slide_type": "-"
    }
   },
   "outputs": [
    {
     "name": "stdout",
     "output_type": "stream",
     "text": [
      "8.860022573334675\n"
     ]
    }
   ],
   "source": [
    "# Consider the following code:\n",
    "\n",
    "# You are given two points in 2-D space\n",
    "x = (1, 1)\n",
    "y = (5, 4)\n",
    "\n",
    "# Calculate the area of the circle if one of the points is the circle center \n",
    "# and the other is on the perimeter and then calculate the side of the square \n",
    "# with the same area\n",
    "r_sq = (x[0] - y[0])**2 + (x[1] - y[1])**2\n",
    "area = 3.14*r_sq\n",
    "sq_side = area**0.5\n",
    "print(sq_side)\n",
    "\n",
    "\n",
    "\n"
   ]
  },
  {
   "cell_type": "markdown",
   "metadata": {},
   "source": [
    "- distance between two points very common function, so might as well write function\n",
    "- question of at what level you want to abstract \n",
    "- **she would suggest to use more function, call all the functions in one function later**\n",
    "- write one function for each line of code so 3 here\n",
    "- **BELOW WHAT WE NEED TO DO FOR THE LAST TASK IN THE ASSIGNMENT, CREATE MULTIPLE FUNCTIONS**\n",
    "- for your assignment you can import, but the square root is also to the power of 0.5, you can use module in assignment\n",
    "- in assignment you have to generalise the solution, also **argument names can be more general, x and y**\n",
    "- **here we need return because we use the value in the next line, cannot just print**\n",
    "- printing is for us to see, the computer can do nothing with this \n",
    "- return value and then feed it to the next function\n",
    "\n",
    "- **if descriptive function names, dont need to comment your code**\n",
    "- **modularity: trade off between modularity and legibility vs efficiency given unnecessary operations** but now we can take code and apply it to different problems, **ideally functions as generalisation but if not make that clear in the specification**\n",
    "    - **modularity: change function according to different contexts\n",
    "    - **modular = break problem into blackboxes and then recombine them, about structuring a problem**\n",
    "    - **goal behind modularity: find a problem, encapsulate them in function so that you can recombine them for new solutions, can give it different data, the more generalisable the more widely we can use them**"
   ]
  },
  {
   "cell_type": "code",
   "execution_count": 9,
   "metadata": {
    "collapsed": true,
    "slideshow": {
     "slide_type": "-"
    }
   },
   "outputs": [],
   "source": [
    "# Exercise 3: Rewrite the code above using functions \n",
    "# to make it easier to read.\n",
    "\n",
    "# for your assignment you can import, the power of one half is the square root, you can use module for srq root in the assignment\n",
    "# in assignment, you have to generalise the solution there, not for two dimensions this si our solution for this problem here, p1, p2 have, x and y not goot\n",
    "# names, [1] for y coordinate, in assignment for n dimensions generalisation\n",
    "# here we need return, will use value in the next line, can not just print, print is for us to see but not for the computer to see \n",
    "# result value, return value and then feed it to the next function \n",
    "\n",
    "\n",
    "\n",
    "\n",
    "\n",
    "\n",
    "\n"
   ]
  },
  {
   "cell_type": "markdown",
   "metadata": {
    "slideshow": {
     "slide_type": "slide"
    }
   },
   "source": [
    "## Using Functions Inside List Comprehensions"
   ]
  },
  {
   "cell_type": "markdown",
   "metadata": {},
   "source": [
    "- functions come in handy here\n",
    "- list comprehensions with if else can be confusing \n",
    "- **BELOW WE HAVE A RETURN STATEMENT BECAUSE WE WANT TO DO SOMETHING WITH THIS VALUE**"
   ]
  },
  {
   "cell_type": "code",
   "execution_count": 6,
   "metadata": {
    "slideshow": {
     "slide_type": "-"
    }
   },
   "outputs": [
    {
     "name": "stdout",
     "output_type": "stream",
     "text": [
      "[25, 16, 9, 4, 1, 0.0, 1.0, 1.4142135623730951, 1.7320508075688772, 2.0, 2.23606797749979]\n",
      "Help on function sq_or_sqrt in module __main__:\n",
      "\n",
      "sq_or_sqrt(x)\n",
      "    Assumes x is numeric. Returns the square of x if x is negative\n",
      "    and the square root of x if x is nonnegative.\n",
      "\n"
     ]
    },
    {
     "data": {
      "text/plain": [
       "[-5, -4, -3, -2, -1, 0, 1, 2, 3, 4, 5]"
      ]
     },
     "execution_count": 6,
     "metadata": {},
     "output_type": "execute_result"
    }
   ],
   "source": [
    "def sq_or_sqrt(x):\n",
    "    \"\"\"Assumes x is numeric. Returns the square of x if x is negative\n",
    "    and the square root of x if x is nonnegative.\n",
    "    \"\"\"\n",
    "    if x < 0:\n",
    "        return x**2\n",
    "    else:\n",
    "        return x**0.5 # return statement because we do something with this value\n",
    "\n",
    "lst = [sq_or_sqrt(i) for i in range(-5, 6)] # allows me to call this function on any kind of data in list comprehension\n",
    "# if else different confusing, less intuitive syntax, more reading than when you abstract the task, you break up the attention\n",
    "# function sinside the comprehension, shorts the code and chunk it up in different ways, more readable\n",
    "print(lst)\n",
    "help(sq_or_sqrt)\n",
    "\n",
    "# list comprehension with if else\n",
    "[i**2 if i<0 else i**0.5 for i in range(-5, 6)]\n",
    "\n",
    "list(range(-5, 6))\n",
    "\n"
   ]
  },
  {
   "cell_type": "markdown",
   "metadata": {},
   "source": [
    "- **Here we have a return statement because we want to do something with this value**\n",
    "- **when modifying in place, change list and then list still exists, dont/should not need to return anything, is confusing**\n",
    "- do I need a value that I later need to do something iwth, eg save it in the list or do I just need the output????\n",
    "- printing is for string representation of the object for us to see but not for the computer\n",
    "    - when you print a list, techncially what you print is a string that looks like a list, print renders it on the screen\n",
    "- **return gives an object, something oyu can operate on, is in memory**\n",
    "- method pop does return something and modifies in place but this is rare \n",
    "- dont print unnecessarily, if you have to call it often, cloaks up your screen, takes memory, only when checking your work\n",
    "- **most functions return something or modify in place, print very rare** function should do what you promised in the specification\n",
    "- **use new name for new object you create inside function**\n",
    "    - BUT THIS NAME IS LOCAL SO WHERE IS THE POINT??\n",
    "- my question about running something once and then correct soultion and then more than once then double etc. \n",
    "    - this is fine, run all instead of only the cell\n",
    "    - initialising and then append in the next cell\n",
    "    - one solution is to move the initialisation to the cell or to run from top\n",
    "    - would be fine if you run it once and you get the correct solution"
   ]
  },
  {
   "cell_type": "code",
   "execution_count": 7,
   "metadata": {
    "collapsed": true,
    "slideshow": {
     "slide_type": "-"
    }
   },
   "outputs": [
    {
     "name": "stdout",
     "output_type": "stream",
     "text": [
      "[None, None, 2, 178, None, 12, None, None, 12]\n"
     ]
    }
   ],
   "source": [
    "# Exercise 4: Using a function and a list comprehension, \n",
    "# create a new list that has the numbers from testlist \n",
    "# if they are positive and None otherwise\n",
    "\n",
    "testlist = [-1, 0, 2, 178, -17.2, 12, -2, -3, 12]\n",
    "def return_pos(lst):\n",
    "    lst = [i if i > 0 else None for i in lst]\n",
    "    return lst # The only way for Python not to return None is to return something else.\n",
    "    # or \n",
    "    if x > 0:\n",
    "        return x\n",
    "    return None # Can be explicit about returning None even if \n",
    "    \n",
    "print(return_pos(testlist))\n",
    "\n",
    "# her solution\n",
    "def pos_or_none(x):\n",
    "    \"\"\"\n",
    "    \"\"\"\n",
    "    if x > 0:\n",
    "        return x\n",
    "    return None # dont need else, will not be read because if x > 0 it will exit the function\n",
    "[pos_or_none(i) for i in testlist]\n",
    "\n",
    "\n",
    "\n",
    "\n"
   ]
  },
  {
   "cell_type": "markdown",
   "metadata": {},
   "source": [
    "- exercise 5 is for assignment question 2!!!\n",
    "    - iterate simultaenously over two lists\n",
    "    - range(len(ls)) assumes lists of same length, ~iterating over the indices \n",
    "    - \n",
    "    \n",
    "- since abstract, modularity is fine, dont need to say author but rather x or y, dont need to be specific about it, use more generic names for function input\n",
    "- she would write None and skip the Else statement, would explicitly return something thus be eplicit about it instead of relyon on default behaviour \n",
    "- will be penalised if we write: else: pass this is silly\n",
    "- x > 0 above would be the only thing we need, but she thinks it is nice to be explicit about it and mension else instead of relying on default behaviour\n",
    "- **RETURN X AND EXISTS THE FUNCTION, ONCE RETURN STATEMENT ENCOUNTERED IT EXISTS, would not even read the return None statement underneath**\n",
    "- if the other way around in the if else statement, should be the same, if otehr way then have to make sure that you have all the returns while here she could skip the second return statement, "
   ]
  },
  {
   "cell_type": "code",
   "execution_count": 16,
   "metadata": {
    "collapsed": true,
    "slideshow": {
     "slide_type": "-"
    }
   },
   "outputs": [
    {
     "data": {
      "text/plain": [
       "[None,\n",
       " -0.2,\n",
       " None,\n",
       " -0.5,\n",
       " -0.08333333333333333,\n",
       " -2.0,\n",
       " None,\n",
       " -4.0,\n",
       " None,\n",
       " None,\n",
       " 0.0,\n",
       " None,\n",
       " 0.0,\n",
       " 0.0,\n",
       " 0.0,\n",
       " None,\n",
       " 0.0,\n",
       " None,\n",
       " None,\n",
       " 0.4,\n",
       " None,\n",
       " 1.0,\n",
       " 0.16666666666666666,\n",
       " 4.0,\n",
       " None,\n",
       " 8.0,\n",
       " None,\n",
       " None,\n",
       " 35.6,\n",
       " None,\n",
       " 89.0,\n",
       " 14.833333333333334,\n",
       " 356.0,\n",
       " None,\n",
       " 712.0,\n",
       " None,\n",
       " None,\n",
       " -3.44,\n",
       " None,\n",
       " -8.6,\n",
       " -1.4333333333333333,\n",
       " -34.4,\n",
       " None,\n",
       " -68.8,\n",
       " None,\n",
       " None,\n",
       " 2.4,\n",
       " None,\n",
       " 6.0,\n",
       " 1.0,\n",
       " 24.0,\n",
       " None,\n",
       " 48.0,\n",
       " None,\n",
       " None,\n",
       " -0.4,\n",
       " None,\n",
       " -1.0,\n",
       " -0.16666666666666666,\n",
       " -4.0,\n",
       " None,\n",
       " -8.0,\n",
       " None,\n",
       " None,\n",
       " -0.6,\n",
       " None,\n",
       " -1.5,\n",
       " -0.25,\n",
       " -6.0,\n",
       " None,\n",
       " -12.0,\n",
       " None,\n",
       " None,\n",
       " 2.4,\n",
       " None,\n",
       " 6.0,\n",
       " 1.0,\n",
       " 24.0,\n",
       " None,\n",
       " 48.0,\n",
       " None]"
      ]
     },
     "execution_count": 16,
     "metadata": {},
     "output_type": "execute_result"
    }
   ],
   "source": [
    "# Exercise 5: Using a function and a list comprehension, create \n",
    "# a new list that includes the result from dividing each number \n",
    "# from testlist1 by the corresponding number in testlist2; \n",
    "# For the cases when the divisor is 0, the new list should include None\n",
    "\n",
    "testlist1 = [-1, 0, 2, 178, -17.2, 12, -2, -3, 12]\n",
    "testlist2 = [0, 5, 0, 2, 12, 0.5, 0, 0.25, 0]\n",
    "\n",
    "def div_lst(ls1, ls2):\n",
    "    ls3 = [None if j == 0 else i/j for i in ls1 for j in ls2] # What is wrong here?\n",
    "    return ls3 \n",
    "div_lst(testlist1, testlist2)\n",
    "\n",
    "# just like in assesment, I got too much output \n",
    "\n",
    "# her solution\n",
    "def divide_or_none(x, y):\n",
    "    if y != 0:\n",
    "        return x/y\n",
    "    return None \n",
    "\n",
    "[divide_or_none(testlist1[i], testlist2[i]) for i in range(len(testlist1))] # I SPOKE WITH HER ABOUT RANGE LEN AT THE END\n",
    "\n"
   ]
  },
  {
   "cell_type": "markdown",
   "metadata": {
    "slideshow": {
     "slide_type": "slide"
    }
   },
   "source": [
    "## Using Functions For General Cases"
   ]
  },
  {
   "cell_type": "markdown",
   "metadata": {},
   "source": [
    "- when flipped around it reads the same, have to consider empty spaces, have to get rid of them, remove white space, merge it together and then check whether it is palindrome\n",
    "- flip whole string and check whether the same, here suggest antoehr solution\n",
    "- more general case is more efficient, first letter same as the last one, second letter same as the second last one, the moment you see they dont match, then you dont have to check the rest, **dont need to check further that it is not a palindrome if they dont match, you exit the function the moment you realise it is not a palindrome**\n",
    "\n",
    "- iterate from the beginning and the end, compare them if same, move on to the next one, move on to the third and third the end and if different exit it is not a palindrome, **if they are the same, keep going until you run out of options**\n",
    "\n",
    "**- exercise for practicing more complex looping and conditionals**\n",
    "\n",
    "- replace empty space first, use while loop, keep track of l index and r index, have two pointers from the beginning, index is not the list because we count from 0 so one less, is the actual index\n",
    "- we **moving toward the middle from both ends**\n",
    "- if we meet pari that are not the same we return false and we exist , return exists \n",
    "\n",
    "**- abstraction is essence of task**, symmetry, not having to do anything, wont be palindrome in most cases and can stop once two letters dont mathc, only need one pair \n",
    "**- see lecture tasks for which we did not have time**\n",
    "- no new repositories just edit without changing names"
   ]
  },
  {
   "cell_type": "code",
   "execution_count": 7,
   "metadata": {
    "collapsed": true,
    "slideshow": {
     "slide_type": "-"
    }
   },
   "outputs": [],
   "source": [
    "# Exercise 6: Write a Python function that checks if a string \n",
    "# is a palindrome. A palindrome is a word or a phrase that reads \n",
    "# the same backward as forward. For example, redder, nurses run, dad...\n",
    "\n"
   ]
  }
 ],
 "metadata": {
  "celltoolbar": "Slideshow",
  "kernelspec": {
   "display_name": "Python 3 (ipykernel)",
   "language": "python",
   "name": "python3"
  },
  "language_info": {
   "codemirror_mode": {
    "name": "ipython",
    "version": 3
   },
   "file_extension": ".py",
   "mimetype": "text/x-python",
   "name": "python",
   "nbconvert_exporter": "python",
   "pygments_lexer": "ipython3",
   "version": "3.12.4"
  }
 },
 "nbformat": 4,
 "nbformat_minor": 2
}
