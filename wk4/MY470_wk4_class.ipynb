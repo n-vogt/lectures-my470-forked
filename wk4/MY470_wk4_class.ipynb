{
 "cells": [
  {
   "cell_type": "markdown",
   "metadata": {
    "slideshow": {
     "slide_type": "slide"
    }
   },
   "source": [
    "### MY470 Computer Programming\n",
    "# Writing and Calling Functions in Python\n",
    "### Week 4 Lab"
   ]
  },
  {
   "cell_type": "markdown",
   "metadata": {
    "slideshow": {
     "slide_type": "slide"
    }
   },
   "source": [
    "## Defining and Calling Functions\n",
    "\n",
    "### Defining a function\n",
    "\n",
    "```\n",
    "def *function_name*(*list of parameters*):\n",
    "    *body of function*\n",
    "```\n",
    "\n",
    "### Calling a function\n",
    "\n",
    "```\n",
    "*function_name*(*arguments*)\n",
    "```\n",
    "\n",
    "### Functions can take 0 or more arguments and return 1 or more values!\n",
    "\n",
    "### If a function does not have `return` statement, it returns `None`."
   ]
  },
  {
   "cell_type": "markdown",
   "metadata": {},
   "source": [
    "- colon and indentation\n",
    "- either None, scalar or non-scalar such as a tuple or list\n",
    "- if you want to return more than one, list those with comma or put them in object like list or set or tuple \n",
    "- return has special syntax, dont use brackets unlike in R \n",
    "- "
   ]
  },
  {
   "cell_type": "markdown",
   "metadata": {},
   "source": [
    "Bro Code: \n",
    "Function = A block of reusable code. place () after the function name to invoke it. \n",
    "\n",
    "return = statement used to end a function and send a result back to the caller. "
   ]
  },
  {
   "cell_type": "markdown",
   "metadata": {
    "slideshow": {
     "slide_type": "slide"
    }
   },
   "source": [
    "## Functions Take Arguments by Reference"
   ]
  },
  {
   "cell_type": "code",
   "execution_count": 2,
   "metadata": {
    "slideshow": {
     "slide_type": "-"
    }
   },
   "outputs": [
    {
     "name": "stdout",
     "output_type": "stream",
     "text": [
      "[1, 2, 3, 0]\n"
     ]
    }
   ],
   "source": [
    "def change_list(alist):\n",
    "    alist.append(0) # takes a list and appends 0 as a last element. taht is all it does, it returns None or dont have to mention it, \n",
    "\n",
    "mylist = [1, 2, 3]\n",
    "change_list(mylist)\n",
    "print(mylist)"
   ]
  },
  {
   "cell_type": "markdown",
   "metadata": {},
   "source": [
    "- defined only in local scope\n",
    "- when oyu pass object, it is passed by reference, can do things to object that are outside by calling the name fo the object\n",
    "- can modify the list in place\n",
    "- my list has been modified \n",
    "- this functio has no return statement, if i print the function o fmy list, then it returns None\n",
    "- function specifciation important: have to explicitly say what your function does\n",
    "- if modifies in place, then dont assign the result to new variable and then wanting to do things with it\n",
    "- x = change list (mylist) print(x) will return None \n",
    "- if assignment within the list, "
   ]
  },
  {
   "cell_type": "code",
   "execution_count": 5,
   "metadata": {
    "scrolled": true,
    "slideshow": {
     "slide_type": "fragment"
    }
   },
   "outputs": [
    {
     "name": "stdout",
     "output_type": "stream",
     "text": [
      "[1, 2, 3]\n"
     ]
    }
   ],
   "source": [
    "def zero_list(alist):\n",
    "    \"\"\"Takes a list and returns another list of the same length \n",
    "    that looks like [0, 0, 0, ...]. # here we promised to return something, so we are missing the return statement\n",
    "    \"\"\"\n",
    "    alist = [0]*len(alist)  # Creates a new local reference for alist\n",
    "    return alist # inlcudes this \n",
    "# i would be explicit to change my variable names because it gets confusing, name it newlist, to make clear that you are not modifying in place\n",
    "# but that this is something else \n",
    "# \n",
    "mylist = [1, 2, 3]\n",
    "zero_list(mylist)\n",
    "print(mylist)"
   ]
  },
  {
   "cell_type": "markdown",
   "metadata": {},
   "source": [
    "- this alist is only local, be consistent with naming terminology\n",
    "- does not modify the list in place, because have just defined new variable in local scope but then dont return anything so it is just gone\n",
    "- anytime = sign and assignment, it just creates local variable, \n",
    "- when return statement: if function omdifeis in place, dont return anything, or if it prints, if it does some kind of change of global state, you dont need to have return statement, if your function promises to return something, then it should return something \n",
    "- "
   ]
  },
  {
   "cell_type": "code",
   "execution_count": 7,
   "metadata": {},
   "outputs": [
    {
     "data": {
      "text/plain": [
       "0"
      ]
     },
     "execution_count": 7,
     "metadata": {},
     "output_type": "execute_result"
    }
   ],
   "source": [
    "3*[0]\n",
    "3*0"
   ]
  },
  {
   "cell_type": "code",
   "execution_count": 14,
   "metadata": {
    "collapsed": true,
    "slideshow": {
     "slide_type": "fragment"
    }
   },
   "outputs": [
    {
     "name": "stdout",
     "output_type": "stream",
     "text": [
      "[0, 0, 0, 0, 0]\n"
     ]
    }
   ],
   "source": [
    "# Exercise 1: Rewrite the function definition and call above \n",
    "# to accomplish what the function intends to do.\n",
    "\n",
    "def zero_list(lis):\n",
    "    print(len(lis)*[0])\n",
    "    \n",
    "zero_list([1, 2, 3, 4, 5])\n"
   ]
  },
  {
   "cell_type": "markdown",
   "metadata": {
    "slideshow": {
     "slide_type": "slide"
    }
   },
   "source": [
    "## Using Docstrings (String Literals) to Specify Functions\n"
   ]
  },
  {
   "cell_type": "markdown",
   "metadata": {},
   "source": [
    "- start with function specification for yourself, what does it take, what does it return, for oyur code not to break, python would expect something to happpen after this, sometimes if no specification, common when outlining structure, pass, do nothing but dont break my syntax, for now just do nothing, can move on to define my other functions, \n",
    "- specifies what the function starts, improtant where it is and what it looks like, by tradition double qouotes, HAS TO BE INDENTED, THE FIRST THING THAT COMES AFTER THE DEF STATEMETN\n",
    "- hwne i call help(f) on my function, then the docstring is returned\n",
    "- if any code oyu should comment it, dont comment every single line of the code, there to help not to distract, dont use too many inline comments, as PEP 8, if they dont make the line too long and pretty short then fine, but generally harder to read, \n",
    "- explain the logic of what the code does, dont need to explain the code per se but rather what its function is\n",
    "- comments for users, docstrings for programmers\n",
    "- comment your code sparingly but informative and use docstrings, otherwise get penalised"
   ]
  },
  {
   "cell_type": "code",
   "execution_count": 4,
   "metadata": {
    "scrolled": true,
    "slideshow": {
     "slide_type": "-"
    }
   },
   "outputs": [
    {
     "name": "stdout",
     "output_type": "stream",
     "text": [
      "Help on function f in module __main__:\n",
      "\n",
      "f(x, y)\n",
      "    Demonstrates the importance of providing specification for functions.\n",
      "    Assumes x and y any type.\n",
      "    Returns nothing.\n",
      "\n"
     ]
    }
   ],
   "source": [
    "def f(x, y):\n",
    "    \"\"\"Demonstrates the importance of providing specification for functions.\n",
    "    Assumes x and y any type.\n",
    "    Returns nothing.\n",
    "    \"\"\"\n",
    "    pass\n",
    "\n",
    "help(f)"
   ]
  },
  {
   "cell_type": "markdown",
   "metadata": {
    "slideshow": {
     "slide_type": "fragment"
    }
   },
   "source": [
    "![Commenting](figs/commenting.jpg \"Commenting\")"
   ]
  },
  {
   "cell_type": "markdown",
   "metadata": {
    "slideshow": {
     "slide_type": "slide"
    }
   },
   "source": [
    "## Using Functions Instead of Copy-Pasting Code"
   ]
  },
  {
   "cell_type": "code",
   "execution_count": 5,
   "metadata": {
    "slideshow": {
     "slide_type": "-"
    }
   },
   "outputs": [
    {
     "name": "stdout",
     "output_type": "stream",
     "text": [
      "Alan Turing was a mathematician.\n",
      "Richard Feynman was a physicist.\n",
      "Marie Curie was a chemist.\n",
      "Charles Darwin was a biologist.\n",
      "Ada Lovelace was a mathematician.\n",
      "Werner Heisenberg was a physicist.\n"
     ]
    }
   ],
   "source": [
    "# Consider the following code:\n",
    "\n",
    "# Print the name and profession of famous dead scientists:\n",
    "print('Alan Turing was a mathematician.')\n",
    "print('Richard Feynman was a physicist.')\n",
    "print('Marie Curie was a chemist.')\n",
    "print('Charles Darwin was a biologist.')\n",
    "print('Ada Lovelace was a mathematician.')\n",
    "print('Werner Heisenberg was a physicist.')"
   ]
  },
  {
   "cell_type": "markdown",
   "metadata": {},
   "source": [
    "- what would be the data structure you use here, name as the key and profession as the value, use dictionary here. for each key value pair write the statement \n",
    "- or loop with function, depends on what level you abstract it. "
   ]
  },
  {
   "cell_type": "code",
   "execution_count": 18,
   "metadata": {
    "collapsed": true,
    "slideshow": {
     "slide_type": "-"
    }
   },
   "outputs": [
    {
     "name": "stdout",
     "output_type": "stream",
     "text": [
      "Angela Merkel was a chancellor.\n"
     ]
    }
   ],
   "source": [
    "# Exercise 2: Rewrite the code using a function and a suitable data structure.\n",
    "def name_profession(first, last, profession):\n",
    "    print(f\"{first} {last} was a {profession}.\")\n",
    "\n",
    "# if part of object, you can break by the comma\n",
    "# all this functoin does is print, does not need to return anything else\n",
    "scientists = {}\n",
    "\n",
    "def print_professions(profdic):\n",
    "    \"\"\"Takes a dictionary of {Name: Profession} and prints\n",
    "    'Name was a profession\"\"\"\n",
    "\n",
    "\n",
    "# with items you get key value pairs as a tuple\n",
    "# if you preface the string iwth an f then oyu can feed it in curly brackets\n",
    "# if modular function with a/an, name is capitalised, might nto work for titles, check whether next letter starts with vowel, then do an\n",
    "# this is more modular, dont even have to change the code, seperate the data from the function, can choose at what level you want to abstract \n",
    "# \n",
    "name_profession(\"Angela\", \"Merkel\", \"chancellor\")"
   ]
  },
  {
   "cell_type": "markdown",
   "metadata": {
    "slideshow": {
     "slide_type": "slide"
    }
   },
   "source": [
    "## Using Functions to Improve Legibility and Modularity"
   ]
  },
  {
   "cell_type": "code",
   "execution_count": 8,
   "metadata": {
    "slideshow": {
     "slide_type": "-"
    }
   },
   "outputs": [
    {
     "name": "stdout",
     "output_type": "stream",
     "text": [
      "8.860022573334675\n"
     ]
    }
   ],
   "source": [
    "# Consider the following code:\n",
    "\n",
    "# You are given two points in 2-D space\n",
    "x = (1, 1)\n",
    "y = (5, 4)\n",
    "\n",
    "# Calculate the area of the circle if one of the points is the circle center \n",
    "# and the other is on the perimeter and then calculate the side of the square \n",
    "# with the same area\n",
    "r_sq = (x[0] - y[0])**2 + (x[1] - y[1])**2\n",
    "area = 3.14*r_sq\n",
    "sq_side = area**0.5\n",
    "print(sq_side)\n",
    "\n",
    "\n",
    "\n"
   ]
  },
  {
   "cell_type": "code",
   "execution_count": 9,
   "metadata": {
    "collapsed": true,
    "slideshow": {
     "slide_type": "-"
    }
   },
   "outputs": [],
   "source": [
    "# Exercise 3: Rewrite the code above using functions \n",
    "# to make it easier to read.\n",
    "# might as well have a function instead of typing in the code every single time, dist very ocmmon function, at what level do you want to abstract\n",
    "# she would suggest to use more function than just one, so that and then call all the functions in one function \n",
    "\n",
    "# write 3 functions for each line of code, big functions that calls smaller functions \n",
    "# this is probably what we should for the last task in the problem set\n",
    "#  dist between two points very common, find area or side of square can have functions for all of these\n",
    "# for your assignment you can import, the power of one half is the square root, you can use module for srq root in the assignment\n",
    "# in assignment, you have to generalise the solution there, not for two dimensions this si our solution for this problem here, p1, p2 have, x and y not goot\n",
    "# names, [1] for y coordinate, in assignment for n dimensions generalisation\n",
    "# here we need return, will use value in the next line, can not just print, print is for us to see but not for the computer to see \n",
    "# result value, return value and then feed it to the next function \n",
    "\n",
    "# in the function abstracted, thus have to take the square root, thus**0.5\n",
    "# if descriptive function names, no need to comment your code \n",
    "\n",
    "# functions can even improve legibility vs code with no function above\n",
    "# function is more modular and more legibile\n",
    "# modularity is good, legibiltiy is good, then trade off with efficiency with unnecesary oeprations\n",
    "# but can now take the code and apply it to different problems \n",
    "# ideally generalisation, but if not then make clear then not\n",
    "\n",
    "# modularity: change the code according to diffferent \n",
    "# modular = break problem into blackboxes and can recombine them together, is about strcuturing a problem, \n",
    "# abstraction decomposition, the goal behind modularity, want to find problem, encapsulate them in a function so that then you can recombine them\n",
    "# build any new solutions, can give it different data, the more generalisable they are the more widely we can use them\n",
    "\n",
    "\n",
    "\n",
    "\n",
    "\n",
    "\n",
    "\n",
    "\n"
   ]
  },
  {
   "cell_type": "markdown",
   "metadata": {
    "slideshow": {
     "slide_type": "slide"
    }
   },
   "source": [
    "## Using Functions Inside List Comprehensions"
   ]
  },
  {
   "cell_type": "markdown",
   "metadata": {},
   "source": [
    "- functions come in handy here\n",
    "- "
   ]
  },
  {
   "cell_type": "code",
   "execution_count": 1,
   "metadata": {
    "slideshow": {
     "slide_type": "-"
    }
   },
   "outputs": [
    {
     "name": "stdout",
     "output_type": "stream",
     "text": [
      "[25, 16, 9, 4, 1, 0.0, 1.0, 1.4142135623730951, 1.7320508075688772, 2.0, 2.23606797749979]\n",
      "Help on function sq_or_sqrt in module __main__:\n",
      "\n",
      "sq_or_sqrt(x)\n",
      "    Assumes x is numeric. Returns the square of x if x is negative\n",
      "    and the square root of x if x is nonnegative.\n",
      "\n"
     ]
    }
   ],
   "source": [
    "def sq_or_sqrt(x):\n",
    "    \"\"\"Assumes x is numeric. Returns the square of x if x is negative\n",
    "    and the square root of x if x is nonnegative.\n",
    "    \"\"\"\n",
    "    if x < 0:\n",
    "        return x**2\n",
    "    else:\n",
    "        return x**0.5\n",
    "\n",
    "lst = [sq_or_sqrt(i) for i in range(-5, 6)] # allows me to call this function on any kind of data in list comprehension\n",
    "# if else different confusing, less intuitive syntax, more reading than when you abstract the task, you break up the attention\n",
    "# function sinside the comprehension, shorts the code and chunk it up in different ways, more readable\n",
    "print(lst)\n",
    "help(sq_or_sqrt)\n",
    "\n",
    "\n"
   ]
  },
  {
   "cell_type": "code",
   "execution_count": 12,
   "metadata": {
    "collapsed": true,
    "slideshow": {
     "slide_type": "-"
    }
   },
   "outputs": [
    {
     "name": "stdout",
     "output_type": "stream",
     "text": [
      "[None, None, 2, 178, None, 12, None, None, 12]\n"
     ]
    }
   ],
   "source": [
    "# Exercise 4: Using a function and a list comprehension, \n",
    "# create a new list that has the numbers from testlist \n",
    "# if they are positive and None otherwise\n",
    "\n",
    "testlist = [-1, 0, 2, 178, -17.2, 12, -2, -3, 12]\n",
    "def return_pos(lst):\n",
    "    lst = [i if i > 0 else None for i in lst]\n",
    "    return lst # The only way for Python not to return None is to return something else.\n",
    "    \n",
    "print(return_pos(testlist))\n",
    "\n",
    "# return because we want to do something with this value, some functions whne modifying in place we dont return anything, the taks is to take list and \n",
    "# change it then this list still exists, dont need to return anything, all if function does print then should not return anything\n",
    "# do i need a value that later i need to do someting with, eg save in the list ro do i just need the output \n",
    "# print vs return: print also outputs string representatio nof the objec,t this is for us to see but computer cannot read it\n",
    "# return gives an object, gives exact type of object oyu give it\n",
    "# return a list but technically what you print is a string that looks like list, print renders it on the scren\n",
    "# return gives obejct that oyu can save operatoe on, object is in moemory \n",
    "\n",
    "# be xplicit about it, should say htat it returns something, dont do things that are not necesssary, for discipline is good\n",
    "# if modiying in place, then dont reutrn anything, return anything, gets confusing \n",
    "# one method pop does boht it returns and modify lsit in place\n",
    "\n",
    "# if modfiy in place, dont return because it becomes confusing\n",
    "\n",
    "# dont print unnecessarily, rare when function would only print, even rare if function returns value and then prints\n",
    "# imagine i have to call this function often, then always print output that takes a lot of memory cand cloags up your screen\n",
    "# only when checking your work, functions tpyically, hae operationson values take the result and do something else with it\n",
    "# most functions return or modify in place, print is rare, print only for rendering purposes\n",
    "\n",
    "# if chang elist modifies in place, dont return anything\n",
    "# in function specificaiotn oyu say whether modify in place or return, should do what you promised it to do\n",
    "# be clar abotu what the function does\n",
    "# \n"
   ]
  },
  {
   "cell_type": "code",
   "execution_count": 16,
   "metadata": {
    "collapsed": true,
    "slideshow": {
     "slide_type": "-"
    }
   },
   "outputs": [
    {
     "data": {
      "text/plain": [
       "[None,\n",
       " -0.2,\n",
       " None,\n",
       " -0.5,\n",
       " -0.08333333333333333,\n",
       " -2.0,\n",
       " None,\n",
       " -4.0,\n",
       " None,\n",
       " None,\n",
       " 0.0,\n",
       " None,\n",
       " 0.0,\n",
       " 0.0,\n",
       " 0.0,\n",
       " None,\n",
       " 0.0,\n",
       " None,\n",
       " None,\n",
       " 0.4,\n",
       " None,\n",
       " 1.0,\n",
       " 0.16666666666666666,\n",
       " 4.0,\n",
       " None,\n",
       " 8.0,\n",
       " None,\n",
       " None,\n",
       " 35.6,\n",
       " None,\n",
       " 89.0,\n",
       " 14.833333333333334,\n",
       " 356.0,\n",
       " None,\n",
       " 712.0,\n",
       " None,\n",
       " None,\n",
       " -3.44,\n",
       " None,\n",
       " -8.6,\n",
       " -1.4333333333333333,\n",
       " -34.4,\n",
       " None,\n",
       " -68.8,\n",
       " None,\n",
       " None,\n",
       " 2.4,\n",
       " None,\n",
       " 6.0,\n",
       " 1.0,\n",
       " 24.0,\n",
       " None,\n",
       " 48.0,\n",
       " None,\n",
       " None,\n",
       " -0.4,\n",
       " None,\n",
       " -1.0,\n",
       " -0.16666666666666666,\n",
       " -4.0,\n",
       " None,\n",
       " -8.0,\n",
       " None,\n",
       " None,\n",
       " -0.6,\n",
       " None,\n",
       " -1.5,\n",
       " -0.25,\n",
       " -6.0,\n",
       " None,\n",
       " -12.0,\n",
       " None,\n",
       " None,\n",
       " 2.4,\n",
       " None,\n",
       " 6.0,\n",
       " 1.0,\n",
       " 24.0,\n",
       " None,\n",
       " 48.0,\n",
       " None]"
      ]
     },
     "execution_count": 16,
     "metadata": {},
     "output_type": "execute_result"
    }
   ],
   "source": [
    "# Exercise 5: Using a function and a list comprehension, create \n",
    "# a new list that includes the result from dividing each number \n",
    "# from testlist1 by the corresponding number in testlist2; \n",
    "# For the cases when the divisor is 0, the new list should include None\n",
    "\n",
    "testlist1 = [-1, 0, 2, 178, -17.2, 12, -2, -3, 12]\n",
    "testlist2 = [0, 5, 0, 2, 12, 0.5, 0, 0.25, 0]\n",
    "\n",
    "def div_lst(ls1, ls2):\n",
    "    ls3 = [None if j == 0 else i/j for i in ls1 for j in ls2] # What is wrong here?\n",
    "    return ls3 \n",
    "div_lst(testlist1, testlist2)"
   ]
  },
  {
   "cell_type": "markdown",
   "metadata": {
    "slideshow": {
     "slide_type": "slide"
    }
   },
   "source": [
    "## Using Functions For General Cases"
   ]
  },
  {
   "cell_type": "code",
   "execution_count": 7,
   "metadata": {
    "collapsed": true,
    "slideshow": {
     "slide_type": "-"
    }
   },
   "outputs": [],
   "source": [
    "# Exercise 6: Write a Python function that checks if a string \n",
    "# is a palindrome. A palindrome is a word or a phrase that reads \n",
    "# the same backward as forward. For example, redder, nurses run, dad...\n",
    "\n"
   ]
  }
 ],
 "metadata": {
  "celltoolbar": "Slideshow",
  "kernelspec": {
   "display_name": "Python 3 (ipykernel)",
   "language": "python",
   "name": "python3"
  },
  "language_info": {
   "codemirror_mode": {
    "name": "ipython",
    "version": 3
   },
   "file_extension": ".py",
   "mimetype": "text/x-python",
   "name": "python",
   "nbconvert_exporter": "python",
   "pygments_lexer": "ipython3",
   "version": "3.12.4"
  }
 },
 "nbformat": 4,
 "nbformat_minor": 2
}
