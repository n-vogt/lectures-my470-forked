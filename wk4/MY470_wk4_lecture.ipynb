{
 "cells": [
  {
   "cell_type": "markdown",
   "metadata": {
    "slideshow": {
     "slide_type": "slide"
    }
   },
   "source": [
    "### MY470 Computer Programming\n",
    "# ⚙️ Functions in Python\n",
    "### Week 4 Lecture"
   ]
  },
  {
   "cell_type": "markdown",
   "metadata": {},
   "source": [
    "- look at example solutions for most common mistakes, efficient code\n",
    "- recursion, wont be examined on that, solutions dont require recursion, anything that can be solved with recursion can be solved with iteration, but one of higher value abstract solutions, comes up in job interviews, "
   ]
  },
  {
   "cell_type": "markdown",
   "metadata": {
    "slideshow": {
     "slide_type": "slide"
    }
   },
   "source": [
    "## Overview\n",
    "\n",
    "* Decomposition and abstraction\n",
    "* Defining and calling functions\n",
    "* Variable scope\n",
    "* Modules and packages\n",
    "* Recursion\n"
   ]
  },
  {
   "cell_type": "markdown",
   "metadata": {
    "slideshow": {
     "slide_type": "slide"
    }
   },
   "source": [
    "## From Last Week: [Control Flow](https://www.youtube.com/watch?v=k0xgjUhEG3U)\n",
    "\n",
    "![Three categories of control flow](figs/control_flow.png \"Three categories of control flow\")\n"
   ]
  },
  {
   "cell_type": "markdown",
   "metadata": {},
   "source": [
    "- branching on the left\n",
    "- control flow in the middle\n",
    "- on the right functions, dont need to write code in the order, loop etc follow logical, different chunks of code in different locations in the file or outside teh file, pull on that depending on the task, can repackage code to solve different sets of problems"
   ]
  },
  {
   "cell_type": "markdown",
   "metadata": {
    "slideshow": {
     "slide_type": "slide"
    }
   },
   "source": [
    "## Functions\n",
    "\n",
    "\n",
    "* Built-in\n",
    "  * `len()`, `max()`, `range()`, `open()`, etc.\n",
    "* User-defined\n",
    "  * You\n",
    "  * Collaborators\n",
    "  * The open-source community\n",
    "  "
   ]
  },
  {
   "cell_type": "markdown",
   "metadata": {},
   "source": [
    "- loop counter\n",
    "- least objectionable activity, exit strategy \n",
    "\n",
    "- "
   ]
  },
  {
   "cell_type": "markdown",
   "metadata": {
    "slideshow": {
     "slide_type": "slide"
    }
   },
   "source": [
    "## Decomposition and Abstraction\n",
    "\n",
    "![Decomposition and abstraction](figs/decomposition_abstraction.png \"Decomposition and abstraction\")"
   ]
  },
  {
   "cell_type": "markdown",
   "metadata": {
    "slideshow": {
     "slide_type": "notes"
    }
   },
   "source": [
    "* Decomposition allows to break the program into self-contained parts – it creates structure\n",
    "* Abstraction allows to use code as if it is a black box – it hides detail\n",
    "\n",
    "- functions: solve compelx problems using two appraoches\n",
    "-decompositino: general problem solving strategy, how to do tis with functions, next week with classes, \n",
    "- decomposition: big problem, the idea is that you break it down into smaller self ocntained parts where they are much easier to tackle, one done, can treat each part as a black box, what oyu care about is what comes in and what comes out, solve each sepaeratly adn then recombine them to solve problem and recombine them to solve completly different problem\n",
    "- abstraction hides implementation details, multiple ways to solve different problems, how that fits into the whole structure, this is what we care about, so that teams can work on cmpelx probelm simultanteous, \n"
   ]
  },
  {
   "cell_type": "markdown",
   "metadata": {
    "slideshow": {
     "slide_type": "slide"
    }
   },
   "source": [
    "## Defining and Calling Functions\n",
    "\n",
    "### Defining a function\n",
    "\n",
    "```\n",
    "def *function_name*(*list of parameters*):\n",
    "    *body of function*\n",
    "```\n",
    "\n",
    "### Calling a function\n",
    "\n",
    "```\n",
    "*function_name*(*arguments*)\n",
    "```\n"
   ]
  },
  {
   "cell_type": "markdown",
   "metadata": {},
   "source": [
    "- function takes these parameters and in the ody of the function we define what to do with these parameters and what should be returned\n",
    "- name should be attached to the brackets, brackets is what distinguishes functions from variables\n",
    "- in the brackets different arguments: "
   ]
  },
  {
   "cell_type": "markdown",
   "metadata": {
    "slideshow": {
     "slide_type": "slide"
    }
   },
   "source": [
    "## When the Function is Used, the Parameters are Bound to the Arguments\n",
    "\n",
    "```\n",
    "def *function_name*(*list of parameters*):\n",
    "    *body of function*\n",
    "\n",
    "*function_name*(*arguments*)\n",
    "```\n"
   ]
  },
  {
   "cell_type": "markdown",
   "metadata": {},
   "source": [
    "- lowercase adn underscores, cannot start with a number for finding name for functions\n",
    "- tell user what function will do, restrictions on input and output, contract with the user, they might not even have access to the code of the function\n",
    "- return keyword: return determines what comes out of the functions, returns python object, type of object, if you return new type of object, you have to specify that \n",
    "    once we call return: the function exists"
   ]
  },
  {
   "cell_type": "code",
   "execution_count": 1,
   "metadata": {
    "slideshow": {
     "slide_type": "-"
    }
   },
   "outputs": [
    {
     "name": "stdout",
     "output_type": "stream",
     "text": [
      "4\n"
     ]
    }
   ],
   "source": [
    "def get_larger(x, y):\n",
    "    \"\"\"Assumes x and y are of numeric type.\n",
    "    Returns the larger of x and y.\n",
    "    \"\"\"\n",
    "    if x > y:\n",
    "        # The execution of a `return` statement terminates the function call\n",
    "        return x\n",
    "    else:\n",
    "        return y\n",
    "    \n",
    "m = get_larger(3, 4) # arguments of the function get bound to the parameters, 4 binds to y\n",
    "print(m)"
   ]
  },
  {
   "cell_type": "markdown",
   "metadata": {
    "slideshow": {
     "slide_type": "notes"
    }
   },
   "source": [
    "Note that `def` and `return` are reserved words in Python. "
   ]
  },
  {
   "cell_type": "markdown",
   "metadata": {
    "slideshow": {
     "slide_type": "slide"
    }
   },
   "source": [
    "## A Function Call Always Returns a Value\n",
    "\n",
    "* The execution of a `return` statement terminates the function call\n",
    "* The function call also terminates when there are no more statements to execute\n",
    "* If no expression follows `return` or there is no `return` statement, the function returns `None`       "
   ]
  },
  {
   "cell_type": "markdown",
   "metadata": {},
   "source": [
    "- rule: function always returns something, if not specified, then None\n",
    "- even if you dont have return statement, it will be None, if nothing else is specified\n",
    "- have not captured if x == y, thus it returns None, reach teh end of the code block since both if is false, thus we print None, have reached the end of the code block, "
   ]
  },
  {
   "cell_type": "code",
   "execution_count": 1,
   "metadata": {
    "slideshow": {
     "slide_type": "-"
    }
   },
   "outputs": [
    {
     "name": "stdout",
     "output_type": "stream",
     "text": [
      "5 6 None\n"
     ]
    },
    {
     "data": {
      "text/plain": [
       "NoneType"
      ]
     },
     "execution_count": 1,
     "metadata": {},
     "output_type": "execute_result"
    }
   ],
   "source": [
    "def get_larger(x, y):\n",
    "    if x > y:\n",
    "        return x\n",
    "    if y > x:\n",
    "        return y\n",
    "\n",
    "ex1 = get_larger(3, 5)\n",
    "ex2 = get_larger(6, 4)\n",
    "ex3 = get_larger(3, 3)\n",
    "\n",
    "print(ex1, ex2, ex3)\n",
    "type(get_larger(4,4)) # NoneType "
   ]
  },
  {
   "cell_type": "markdown",
   "metadata": {
    "slideshow": {
     "slide_type": "slide"
    }
   },
   "source": [
    "## Functions with Multiple Returned Values"
   ]
  },
  {
   "cell_type": "markdown",
   "metadata": {},
   "source": [
    "- disclaimer: to save space, not including function specifications here, there has to be function specification, in your work you should not exclude description, what kinds of inputs does it take and what is the output, how does it transform the variable, more of an abstract level!!! will emphasise this a lot for your assignment\n",
    "- if two arguments, what is returned looks like a tuple and it is a tuple, can say give me a tuple object with (), or can return it without, if you want to list, you can specify it return [2*a, 2*b], have to explain taht in the specification what is returned\n",
    "- any function just returns one thing, if multilple values returned, put them in object, what did she say here 13:30"
   ]
  },
  {
   "cell_type": "code",
   "execution_count": 12,
   "metadata": {
    "slideshow": {
     "slide_type": "-"
    }
   },
   "outputs": [
    {
     "name": "stdout",
     "output_type": "stream",
     "text": [
      "(10, 6)\n",
      "10\n",
      "6\n"
     ]
    }
   ],
   "source": [
    "def double_one(a):\n",
    "    return 2*a\n",
    "\n",
    "def double_two(a, b):\n",
    "    return 2*a, 2*b\n",
    "\n",
    "x = double_two(5, 3)\n",
    "print(x)\n",
    "\n",
    "# You can unpack the tuple in two separate variables\n",
    "x1, x2 = double_two(5, 3) # multiple assignment!\n",
    "print(x1)\n",
    "print(x2)"
   ]
  },
  {
   "cell_type": "markdown",
   "metadata": {
    "slideshow": {
     "slide_type": "slide"
    }
   },
   "source": [
    "## Functions: Exercise"
   ]
  },
  {
   "cell_type": "code",
   "execution_count": 4,
   "metadata": {
    "slideshow": {
     "slide_type": "-"
    }
   },
   "outputs": [
    {
     "name": "stdout",
     "output_type": "stream",
     "text": [
      "cod\n",
      "['war', 'nip', 'nap', 'lever', 'lap', 'keep', 'doc']\n"
     ]
    },
    {
     "data": {
      "text/plain": [
       "'cod'"
      ]
     },
     "execution_count": 4,
     "metadata": {},
     "output_type": "execute_result"
    }
   ],
   "source": [
    "# Write a function that reverses a string, e.g. \"now\" -> \"won\".\n",
    "# Then call the function to reverse each of the strings in the list.\n",
    "\n",
    "# will need a for loop, list comprehensions, put them in a list, reversing each element in a list \n",
    "\n",
    "to_reverse = ['doc', 'keep', 'lap', 'lever', 'nap', 'nip', 'war']\n",
    "\n",
    "def reversed(string):\n",
    "    print(string[::-1])\n",
    "reversed(\"doc\")\n",
    "\n",
    "def reversed_2(string):\n",
    "    return string[::-1]\n",
    "reversed_2(\"doc\")\n",
    "\n",
    "reversed(to_reverse) # this reverses the order of the words in the list but not the letters of the elements individually. \n",
    "# joiin is string method, takes string we call it on, in our case it is empty, bind spadce to seperator, given this space, join all of the elements of the list\n",
    "# and give me a string, this is a string method, can only call it on a string, even if it is a list of strings \n",
    "\"doc\"[::-1]"
   ]
  },
  {
   "cell_type": "code",
   "execution_count": 9,
   "metadata": {},
   "outputs": [
    {
     "name": "stdout",
     "output_type": "stream",
     "text": [
      "['c', 'o', 'd']\n",
      "['p', 'e', 'e', 'k']\n",
      "['p', 'a', 'l']\n",
      "['r', 'e', 'v', 'e', 'l']\n",
      "['p', 'a', 'n']\n",
      "['p', 'i', 'n']\n",
      "['r', 'a', 'w']\n",
      "['doc', 'keep', 'lap', 'lever', 'nap', 'nip', 'war']\n",
      "cod\n",
      "peek\n",
      "pal\n",
      "revel\n",
      "pan\n",
      "pin\n",
      "raw\n"
     ]
    }
   ],
   "source": [
    "def rev_list_string(stringlist):\n",
    "    for i in stringlist:\n",
    "        \"i\"[::-1]\n",
    "    print(stringlist) # do not understand why this is not working\n",
    "\n",
    "def reverse_list(lst):\n",
    "    for i in lst:\n",
    "        reversed(list((i)))\n",
    "    return lst\n",
    "\n",
    "print(reverse_list(to_reverse))\n",
    "\n",
    "# solutions\n",
    "def reverse_string(s): # must not clash with existing name\n",
    "    \"\"\" always start with function specfication, plan with what you are going to do \n",
    "    takes a string s and returns a new string with the characeters in s in reverse order , data type it takes, type it returns and what it does \n",
    "    \"\"\"\n",
    "    return s[::-1]\n",
    "\n",
    "for i in to_reverse:\n",
    "    print(reverse_string(i))\n",
    "\n",
    "# readability and legibility, user does not care how you solved it, what matters is, you need to know what \n",
    "# to feed and what you will get, dont need to care about how it works, that way we can build on people's works and build on them \n",
    "\n",
    "    #\n"
   ]
  },
  {
   "cell_type": "markdown",
   "metadata": {
    "slideshow": {
     "slide_type": "slide"
    }
   },
   "source": [
    "## Positional vs. Keyword Arguments"
   ]
  },
  {
   "cell_type": "markdown",
   "metadata": {},
   "source": [
    "- different ways you can give arguments\n",
    "- if you print what the function returns, you see that it is none \n",
    "- python by defaults when you give it as many parameters as it is, it assignes them in order\n",
    "- can explicitly use their names, (1,\n",
    "- cannot have keyword argument use it before positional, then python does not know are you giving them in order or not)\n",
    "- advantage of keyword is that you can provide them in any order"
   ]
  },
  {
   "cell_type": "code",
   "execution_count": 13,
   "metadata": {
    "slideshow": {
     "slide_type": "-"
    }
   },
   "outputs": [
    {
     "name": "stdout",
     "output_type": "stream",
     "text": [
      "3 2 1\n",
      "3 2 1\n",
      "3 2 1\n"
     ]
    }
   ],
   "source": [
    "def print_reverse(first, second, third): # it prints in reverse order \n",
    "    \"\"\" what it takes, what it does, that it prints but returns None??\"\"\"\n",
    "    print(third, second, first)\n",
    "    \n",
    "print_reverse(1, 2, 3)\n",
    "print_reverse(third=3, second=2, first=1)\n",
    "print_reverse(1, second=2, third=3)\n",
    "# print_reverse(first=1, 2, 3)  # Gives a syntax error -> Keyword arguments cannot come before positional arguments"
   ]
  },
  {
   "cell_type": "markdown",
   "metadata": {
    "slideshow": {
     "slide_type": "fragment"
    }
   },
   "source": [
    "### Keyword arguments cannot come before positional arguments!"
   ]
  },
  {
   "cell_type": "markdown",
   "metadata": {},
   "source": [
    "- go to PEP 8 FOR GUIDE ON HOW TO DO THAT, HOW TO WRITE DOC SPECIFICATIONS, eg google see Datacamp, we dont enforce that , up to you if you want to train it and pick one style, we wont be so detailed about it, but expect data typs of input and output and what teh functions does, these are not comments, this is user manual , what do you have to press to make ti run, have comments throughout, \n",
    "they are literals, tehy get evaluated, while commments are ignored, functions specifications for users, comments for coders\n",
    "- "
   ]
  },
  {
   "cell_type": "markdown",
   "metadata": {
    "slideshow": {
     "slide_type": "slide"
    }
   },
   "source": [
    "## Default Parameter Values\n",
    "\n",
    "* Default values allow to call a function with fewer arguments than specified\n",
    "* **Default arguments cannot come before non-default arguments!**\n",
    "\n",
    "- you do not need to specify the defaults, useful when using someone else's functions\n",
    "- requires the minimum to run, beyond that lots of defaults "
   ]
  },
  {
   "cell_type": "code",
   "execution_count": 20,
   "metadata": {
    "slideshow": {
     "slide_type": "-"
    }
   },
   "outputs": [
    {
     "name": "stdout",
     "output_type": "stream",
     "text": [
      "The quick brown fox jumps over the lazy dog.\n",
      "The quick brown fox jumps over the lazy dog.\n",
      "The quick brown fox jumps over the lazy dog\n",
      "This-is-a-test.\n"
     ]
    }
   ],
   "source": [
    "def pretty_print(lst, sep, fullstop=True, capitalize=True): # THOSE WITH DEFAULT VALUES ALWAYS HAVE TO COME AT THE END\n",
    "    toprint = sep.join(lst)\n",
    "    if fullstop: # dont need to explicitly say that it is True because it is default \n",
    "        toprint += '.'\n",
    "    if capitalize:\n",
    "        toprint = toprint.capitalize()\n",
    "    print(toprint)\n",
    "\n",
    "wordlst = ['the', 'quick', 'brown', 'fox', 'jumps', \n",
    "           'over', 'the', 'lazy', 'dog']  # an English pangram\n",
    "\n",
    "pretty_print(wordlst, ' ', True, True)\n",
    "pretty_print(wordlst, ' ') # these two are required, otherwise error\n",
    "pretty_print(wordlst, ' ', False) # or fullstop=False or pass it on positionally \n",
    "\n",
    "tst = [\"this\", \"is\", \"a\", \"test\"]\n",
    "pretty_print(tst, '-')\n"
   ]
  },
  {
   "cell_type": "markdown",
   "metadata": {
    "slideshow": {
     "slide_type": "slide"
    }
   },
   "source": [
    "## Functions with Variable Number of Arguments"
   ]
  },
  {
   "cell_type": "markdown",
   "metadata": {},
   "source": [
    "- asterisk before name, standard to have args as name, could be anything \n",
    "- nothing or any kind of arguments but have to feed something as argumetns "
   ]
  },
  {
   "cell_type": "code",
   "execution_count": 15,
   "metadata": {
    "slideshow": {
     "slide_type": "-"
    }
   },
   "outputs": [
    {
     "name": "stdout",
     "output_type": "stream",
     "text": [
      "[2]\n",
      "[2, 4, 6]\n",
      "[]\n"
     ]
    }
   ],
   "source": [
    "def double_many(*args):\n",
    "    return [2*i for i in args]\n",
    "# double numerics, if it works on strings, have to say exactly what happens, with numeric it doubles, with string it concatenates it \n",
    "# can call it on nothing as well, important that your code works for any number of arguments\n",
    "# might not have to use it anytime soon, *args\n",
    "# not feeding arguments as a list, \n",
    "# for list it uses multiplicatino oeprator on a list, might not be the behaviour you want\n",
    "# fit them as separate arguments ratehr than object, otherwise it will act on the object \n",
    "print(double_many(1))\n",
    "print(double_many(1, 2, 3))\n",
    "print(double_many())"
   ]
  },
  {
   "cell_type": "markdown",
   "metadata": {
    "slideshow": {
     "slide_type": "slide"
    }
   },
   "source": [
    "## A Function Defines a New Scope\n",
    "\n",
    "* Scope = name space"
   ]
  },
  {
   "cell_type": "markdown",
   "metadata": {},
   "source": [
    "- name scope: location in memorey of where you have defined your variables\n",
    "- key point: so far only using main name scoep, running this code in one file but iwth functions, they define lcoal name scope, thus any varaible we define with a function is different from varaible outside the function, cannot be called unless explicityl returned "
   ]
  },
  {
   "cell_type": "code",
   "execution_count": 21,
   "metadata": {
    "slideshow": {
     "slide_type": "-"
    }
   },
   "outputs": [
    {
     "name": "stdout",
     "output_type": "stream",
     "text": [
      "7\n",
      "1\n"
     ]
    }
   ],
   "source": [
    "def func(x, y):\n",
    "    x += 1\n",
    "    # x is a parameter, z is a local variable\n",
    "    z = x + y   # z, x, and y exist only in the scope of the definition of func\n",
    "    return z\n",
    "# if x = x + 1, in function, then have redefined that x in the argument, \n",
    "# what did she say at 14:05 \n",
    "\n",
    "x = 1\n",
    "res = func(x, 5)\n",
    "print(func(x, 5)) # Why does this give me 7?\n",
    "print(res)\n",
    "\n",
    "print(x)  # x has not changed \n",
    "#print(z)  # Returns an error\n"
   ]
  },
  {
   "cell_type": "markdown",
   "metadata": {},
   "source": [
    "if mutable object like list, i pass the reference ot it when passed, can mutate it in in place, if name = something, defining new object, "
   ]
  },
  {
   "cell_type": "markdown",
   "metadata": {
    "slideshow": {
     "slide_type": "fragment"
    }
   },
   "source": [
    "### This means you can reuse your favorite variable names in different functions!"
   ]
  },
  {
   "cell_type": "markdown",
   "metadata": {
    "slideshow": {
     "slide_type": "slide"
    }
   },
   "source": [
    "## The Global Scope"
   ]
  },
  {
   "cell_type": "markdown",
   "metadata": {},
   "source": [
    "- from inside the function there is way to access variable that is outside\n",
    "- by convention you use all caps for global variable names\n",
    "- so x = a, now has to get capitalised\n",
    "- what did she say here 14:09 \n",
    "- anything defined or changed inside is only local, global variable remains unchanged \n",
    "- from outside youc annot access waht is inside  afunction?? \n",
    "- top of the file, state all global variables, own section"
   ]
  },
  {
   "cell_type": "code",
   "execution_count": 17,
   "metadata": {
    "slideshow": {
     "slide_type": "-"
    }
   },
   "outputs": [
    {
     "name": "stdout",
     "output_type": "stream",
     "text": [
      "3\n"
     ]
    }
   ],
   "source": [
    "GLOBVAR = 3\n",
    "\n",
    "def print_global():\n",
    "    # Since GLOBVAR is not defined in the function, it is treated as global\n",
    "    print(GLOBVAR)  \n",
    "\n",
    "print_global()"
   ]
  },
  {
   "cell_type": "markdown",
   "metadata": {
    "slideshow": {
     "slide_type": "fragment"
    }
   },
   "source": [
    "### Use CAPITALS to name global variables!"
   ]
  },
  {
   "cell_type": "markdown",
   "metadata": {},
   "source": [
    "2 errors in parameters and arguments:\n",
    "- one in hte parameter: default values, they have to be at the end, can change the order of start and end, or give default to end, \n",
    "- using keyword argument before positional argumenet, 24 should be bound to the end, either call it end = 24 or remove the start if \n",
    "- if 24, 2=start, will bind 24 to start and then say I cannot bind two values to the same parameter"
   ]
  },
  {
   "cell_type": "markdown",
   "metadata": {
    "slideshow": {
     "slide_type": "slide"
    }
   },
   "source": [
    "## Function Arguments: Exercise\n",
    "\n",
    "Find the errors in the code below:\n",
    "\n",
    "```\n",
    "def find_char(astring, achar, start=0, end):\n",
    "    \"\"\"Find and return the index of achar in astring.\n",
    "    Return None if achar does not occur in astring.\n",
    "    \"\"\"\n",
    "    i = start\n",
    "    if end == None:\n",
    "        end = len(astring)\n",
    "\n",
    "    found = False\n",
    "    while i < end and not found:\n",
    "        if astring[i] == achar:\n",
    "            found = True\n",
    "        else:\n",
    "            i += 1\n",
    "            \n",
    "    if found:\n",
    "        return i\n",
    "    \n",
    "    return None\n",
    "\n",
    "\n",
    "mystring = \"What goes around comes around.\"\n",
    "\n",
    "print(find_char(mystring, 'e', start=2, 24))\n",
    "```"
   ]
  },
  {
   "cell_type": "markdown",
   "metadata": {
    "slideshow": {
     "slide_type": "slide"
    }
   },
   "source": [
    "## Modules\n",
    "\n",
    "* For large programs, store different parts in `.py` files\n",
    "* Get access using `import` statements"
   ]
  },
  {
   "cell_type": "markdown",
   "metadata": {},
   "source": [
    "- package multiple functions togetehr in a file adn then import the file\n",
    "- files are .py files, all code in python should be .py files\n",
    "- go to repository, there si file called module, \n",
    "- importing the whole module\n",
    "- if you dont psecify where to look for, if not there, will look in py libraries space, from module, get my function and feed it Hello\n",
    "- brings everythign that is is in module, have to use name of the module that it is from this name scope, have my main scope, in this case have second name scope which is the module name scope \n",
    "- * fi you have lots of imports, you are overriding, will be in the order of imports, if two modules have same function names, then better to use acronym, will be overridden\n",
    "- see what she said at 14:23\n",
    "- imports always on top of the file, tell them all what libraries they need, \n",
    "- certain libraries to import, dont use numpy in this class\n",
    "- more important for the final exam where we have a bit mroe freedom"
   ]
  },
  {
   "cell_type": "code",
   "execution_count": 22,
   "metadata": {
    "slideshow": {
     "slide_type": "-"
    }
   },
   "outputs": [
    {
     "name": "stdout",
     "output_type": "stream",
     "text": [
      "She said: \"Hello!\"\n"
     ]
    }
   ],
   "source": [
    "import module # as md\n",
    "# md.my_func(\"Hello there!\")\n",
    "module.my_func('Hello!')\n"
   ]
  },
  {
   "cell_type": "code",
   "execution_count": 19,
   "metadata": {
    "slideshow": {
     "slide_type": "fragment"
    }
   },
   "outputs": [
    {
     "name": "stdout",
     "output_type": "stream",
     "text": [
      "She said: \"Hello there!\"\n"
     ]
    }
   ],
   "source": [
    "import module as md\n",
    "\n",
    "md.my_func('Hello there!')\n"
   ]
  },
  {
   "cell_type": "code",
   "execution_count": 20,
   "metadata": {
    "slideshow": {
     "slide_type": "fragment"
    }
   },
   "outputs": [
    {
     "name": "stdout",
     "output_type": "stream",
     "text": [
      "She said: \"HELLO! DO YOU HEAR ME?\"\n"
     ]
    }
   ],
   "source": [
    "# You should be careful with this one: there will be a conflict if you\n",
    "# import a different module that also has a function called my_func()\n",
    "from module import *\n",
    "\n",
    "my_func('HELLO! DO YOU HEAR ME?')\n"
   ]
  },
  {
   "cell_type": "markdown",
   "metadata": {
    "slideshow": {
     "slide_type": "slide"
    }
   },
   "source": [
    "## Modules, Packages, and Libraries\n",
    "\n",
    "### Module \n",
    "The module is a simple Python file that contains collections of functions and global variables. \n",
    "\n",
    "### Package\n",
    "A collection of modules within a directory. \n",
    "\n",
    "### Library\n",
    "A library is an umbrella term that loosely means \"a bundle of code.\" These can have tens or even hundreds of individual modules that can provide a wide range of functionality."
   ]
  },
  {
   "cell_type": "markdown",
   "metadata": {
    "slideshow": {
     "slide_type": "slide"
    }
   },
   "source": [
    "## Useful Python Modules\n",
    "\n",
    "https://docs.python.org/3/library/\n",
    "\n",
    "* `re` – Regular expression operations\n",
    "* `datetime` – Basic date and time types\n",
    "* `math` – Mathematical functions\n",
    "* `random` – Generate pseudo-random numbers\n",
    "* `os.path` – Common pathname manipulations\n",
    "* `pickle` — Python object serialization\n",
    "* `csv` — CSV file reading and writing\n",
    "* `json` — JSON encoder and decoder\n",
    "* ..."
   ]
  },
  {
   "cell_type": "markdown",
   "metadata": {},
   "source": [
    "- dont need to install anything, have to import them thought, usually for very specific defined tasks \n",
    "- math used for assignment, cannot do with operators, "
   ]
  },
  {
   "cell_type": "markdown",
   "metadata": {
    "slideshow": {
     "slide_type": "slide"
    }
   },
   "source": [
    "## Useful Python Packages\n",
    "\n",
    "* `numpy` – Scientific computing with multi-dimensional arrays\n",
    "* `pandas` – Data anlysis with table-like structures (R, pretty much)\n",
    "* `statsmodels` – Statistical data analysis with linear models\n",
    "* `scikit-learn` – Data mining and machine learning\n",
    "* `networkx` – Network analysis\n",
    "* `matplotlib` – Plotting\n",
    "* ..."
   ]
  },
  {
   "cell_type": "markdown",
   "metadata": {},
   "source": [
    "- cover wider sets of problmes, will not use tehse in this class, teaching you how to write one of these, for ML might use some of them\n",
    "- matplotlib \n",
    "- for modules have to important them at the beginnign, even those that are already embedded"
   ]
  },
  {
   "cell_type": "markdown",
   "metadata": {
    "slideshow": {
     "slide_type": "slide"
    }
   },
   "source": [
    "## Using Modules and Packages in Python \n",
    "\n",
    "### How does a programmer write an essay?\n",
    "\n",
    "![Modules and packages in Python](figs/python_modules.png \"Modules and packages in Python\")\n"
   ]
  },
  {
   "cell_type": "markdown",
   "metadata": {},
   "source": [
    "import\n",
    "assignment for next week asks you to implement a common ML method where there are  abunch of libraries, can iportant adn call it, but this will not be counted\n",
    "- you create alogirhtim but normally you just reuse a developed alogrithm of someone else \n",
    "but for assignment we create algorithm\n",
    "- "
   ]
  },
  {
   "cell_type": "markdown",
   "metadata": {
    "slideshow": {
     "slide_type": "slide"
    }
   },
   "source": [
    "## Functions Calling Other Functions\n",
    "\n",
    "![Functions calling functions](figs/functions.png \"Functions calling functions\")\n"
   ]
  },
  {
   "cell_type": "markdown",
   "metadata": {
    "slideshow": {
     "slide_type": "slide"
    }
   },
   "source": [
    "## Functions Calling Themselves, A.K.A. Recursion\n",
    "\n",
    "**Recursion** is a problem-solving method where the solution to a problem depends on solutions to smaller instances of the same problem.\n",
    "\n"
   ]
  },
  {
   "cell_type": "markdown",
   "metadata": {},
   "source": [
    "- beyond Python and programming: solution of problem depends on solutions to smaller problems of same problem\n",
    "- can break big problem down into smaller sub problems \n",
    "- bisection search: \n",
    "- can always represent the sum of multiple numbers as the sums of the first two, take result sum the result iwth the next number\n",
    "- we begin with the base case, see video, first number +\n",
    "- list_sum function calling itself "
   ]
  },
  {
   "cell_type": "code",
   "execution_count": 21,
   "metadata": {
    "slideshow": {
     "slide_type": "-"
    }
   },
   "outputs": [
    {
     "name": "stdout",
     "output_type": "stream",
     "text": [
      "15\n"
     ]
    }
   ],
   "source": [
    "# Consider the sum of elements in a list\n",
    "\n",
    "lst = [1, 2, 3, 4, 5]\n",
    "# We want (1 + 2 + 3 + 4 + 5), which is equivalent to (1 + (2 + (3 + (4 + 5)))).\n",
    "# This suggests that we can reduce the problem to the problem of adding two numbers.\n",
    "\n",
    "def list_sum(lst):\n",
    "    \"\"\"Assumes lst is a sequence of numeric types.\n",
    "    Returns the sum of all elements in lst.\n",
    "    \"\"\"\n",
    "    if len(lst) == 1:\n",
    "        return lst[0]   # base case ~ just like in seminar three, if i only one integer long, then i[0] == i\n",
    "    else:\n",
    "        return lst[0] + list_sum(lst[1:])   # recursive case\n",
    "    \n",
    "print(list_sum(lst))\n"
   ]
  },
  {
   "cell_type": "markdown",
   "metadata": {
    "slideshow": {
     "slide_type": "slide"
    }
   },
   "source": [
    "## How Recursion Works"
   ]
  },
  {
   "cell_type": "code",
   "execution_count": 22,
   "metadata": {
    "collapsed": true,
    "slideshow": {
     "slide_type": "-"
    }
   },
   "outputs": [],
   "source": [
    "def list_sum(lst):\n",
    "    if len(lst) == 1:  \n",
    "        return lst[0]\n",
    "    else:\n",
    "        return lst[0] + list_sum(lst[1:]) "
   ]
  },
  {
   "cell_type": "markdown",
   "metadata": {
    "slideshow": {
     "slide_type": "-"
    }
   },
   "source": [
    "![Recursion](figs/recursion.png \"Recursion\")"
   ]
  },
  {
   "cell_type": "markdown",
   "metadata": {},
   "source": [
    "- keep making calls until we reach actual value = 5\n",
    "- the moment we get  avalue, we start evaluating, until we get the actual result "
   ]
  },
  {
   "cell_type": "markdown",
   "metadata": {
    "slideshow": {
     "slide_type": "slide"
    }
   },
   "source": [
    "## Writing Recursive Procedures\n",
    "\n",
    "1. Define the general case\n",
    "2. Define the base case\n",
    "3. Ensure the base case is reached after a finite number of recursive calls"
   ]
  },
  {
   "cell_type": "markdown",
   "metadata": {},
   "source": [
    "general case = sum of first element + result of the rest \n",
    "if no base case that ever gets reached, then infinute loop, at the bottom of this tree we reach an actual level where we can start going back up "
   ]
  },
  {
   "cell_type": "markdown",
   "metadata": {
    "slideshow": {
     "slide_type": "slide"
    }
   },
   "source": [
    "## Recursion Example: The Factorial Function `n!`*\n",
    "\n",
    "\\* The product of all positive integers less than or equal to n\n",
    "\n",
    "![Factorial for estimating permutations](figs/factorial_permutation.jpg \"Factorial for estimating permutations\")\n"
   ]
  },
  {
   "cell_type": "markdown",
   "metadata": {
    "slideshow": {
     "slide_type": "slide"
    }
   },
   "source": [
    "## Recursion Example: What Is `n!`?\n",
    "\n",
    "1. General case: `n! = n * (n-1)!`\n",
    "2. Base case: `1! = 1`\n",
    "3. Base case reached when `n==1`"
   ]
  },
  {
   "cell_type": "code",
   "execution_count": 23,
   "metadata": {
    "slideshow": {
     "slide_type": "-"
    }
   },
   "outputs": [
    {
     "name": "stdout",
     "output_type": "stream",
     "text": [
      "before 5\n",
      "before 4\n",
      "before 3\n",
      "before 2\n",
      "base case 1\n",
      "after 2 2\n",
      "after 3 6\n",
      "after 4 24\n",
      "after 5 120\n",
      "120\n"
     ]
    }
   ],
   "source": [
    "def factorial(n):\n",
    "    \"\"\"Assumes n is a positive integer.\n",
    "    Estimates n!.\n",
    "    \"\"\"\n",
    "    if n == 1:\n",
    "        print('base case', n)\n",
    "        answer = 1\n",
    "    else:\n",
    "        print('before', n)\n",
    "        answer = n * factorial(n-1)\n",
    "        print('after', n, answer)\n",
    "    return answer\n",
    "\n",
    "print(factorial(5))"
   ]
  },
  {
   "cell_type": "markdown",
   "metadata": {
    "slideshow": {
     "slide_type": "slide"
    }
   },
   "source": [
    "## From Last Week: Approximation with Bisection Search"
   ]
  },
  {
   "cell_type": "code",
   "execution_count": 24,
   "metadata": {
    "slideshow": {
     "slide_type": "-"
    }
   },
   "outputs": [
    {
     "name": "stdout",
     "output_type": "stream",
     "text": [
      "5.00030517578125\n"
     ]
    }
   ],
   "source": [
    "def bisec_search(x, epsilon):\n",
    "    \"\"\"Assumes x and epsilon are numeric.\n",
    "    Finds an approximation to the square root \n",
    "    of a number x using bisection search.\n",
    "    \"\"\"\n",
    "\n",
    "    # Define interval for search\n",
    "    low = 0\n",
    "    high = max(1, x)\n",
    "\n",
    "    # Start in the middle\n",
    "    guess = (low + high) / 2 \n",
    "\n",
    "    # Narrow down search interval until guess close enough\n",
    "    while abs(guess**2 - x) >= epsilon:\n",
    "        if guess**2 < x:\n",
    "            low = guess\n",
    "        else:\n",
    "            high = guess\n",
    "        guess = (low + high) / 2\n",
    "        \n",
    "    return guess\n",
    "\n",
    "print(bisec_search(25, 0.01))\n"
   ]
  },
  {
   "cell_type": "markdown",
   "metadata": {
    "slideshow": {
     "slide_type": "slide"
    }
   },
   "source": [
    "## Recursion Example: Approximation with Bisection Search\n",
    "\n",
    "1. General case: \n",
    "```\n",
    "guess = (low + high) / 2\n",
    "if guess**2 < x: low = guess\n",
    "else: high = guess\n",
    "```          \n",
    "2. Base case: `return guess`\n",
    "3. The base case is reached when `abs(guess**2 - x) < epsilon`"
   ]
  },
  {
   "cell_type": "markdown",
   "metadata": {},
   "source": [
    "might not always be desirable or easily obviouss, opaque, easy to get wrong, might not even recognise taht this is recursion, function being called and have to compare the names to understand that this is teh same function that calls itself \n"
   ]
  },
  {
   "cell_type": "code",
   "execution_count": 25,
   "metadata": {
    "slideshow": {
     "slide_type": "-"
    }
   },
   "outputs": [
    {
     "name": "stdout",
     "output_type": "stream",
     "text": [
      "5.00030517578125\n"
     ]
    }
   ],
   "source": [
    "def bisec_search_rec(low, high, x, epsilon):\n",
    "    \n",
    "    # Start in the middle of the interval\n",
    "    guess = (low + high) / 2\n",
    "    \n",
    "    if abs(guess**2 - x) < epsilon:\n",
    "        return guess\n",
    "    else:\n",
    "        if guess**2 < x:\n",
    "            return bisec_search_rec(guess, high, x, epsilon)\n",
    "        else:\n",
    "            return bisec_search_rec(low, guess, x, epsilon)\n",
    "\n",
    "print(bisec_search_rec(0, 25, 25, 0.01))\n"
   ]
  },
  {
   "cell_type": "markdown",
   "metadata": {
    "slideshow": {
     "slide_type": "slide"
    }
   },
   "source": [
    "## Recursion: Exercise\n",
    "\n",
    "Write a function `power(x, p)` that uses recursion to calculate the value of `x` to the power of `p`, or $x^p$."
   ]
  },
  {
   "cell_type": "code",
   "execution_count": null,
   "metadata": {
    "slideshow": {
     "slide_type": "-"
    }
   },
   "outputs": [],
   "source": []
  },
  {
   "cell_type": "markdown",
   "metadata": {
    "slideshow": {
     "slide_type": "slide"
    }
   },
   "source": [
    "## Recursion Example: The Fibonacci Numbers*\n",
    "\n",
    "\\* An integer sequence where every number after the first two is the sum of the two preceding ones: `0, 1, 1, 2, 3, 5, 8, 13, ...` (modern version)\n",
    "\n",
    "![Fibonacci numbers for rabbit multiplication](figs/fibonacci_rabbits.jpg \"Fibonacci numbers for rabbit multiplication\")\n"
   ]
  },
  {
   "cell_type": "markdown",
   "metadata": {},
   "source": [
    "Interview for programming, favourite questions\n",
    "- delayed multiplication\n",
    "- recursive algorithm "
   ]
  },
  {
   "cell_type": "markdown",
   "metadata": {
    "slideshow": {
     "slide_type": "slide"
    }
   },
   "source": [
    "## Recursion Example: What Is the n-th Fibonacci Number?\n",
    "\n",
    "1. General case: `fib(n) = fib(n - 1) + fib(n - 2)` \n",
    "\n",
    "2. Base case: `fib(0) = 0`, `fib(1) = 1`\n",
    "\n",
    "3. The base case is reached when `n == 0` or `n == 1`"
   ]
  },
  {
   "cell_type": "code",
   "execution_count": 26,
   "metadata": {
    "slideshow": {
     "slide_type": "-"
    }
   },
   "outputs": [
    {
     "name": "stdout",
     "output_type": "stream",
     "text": [
      "0\n",
      "1\n",
      "1\n",
      "2\n",
      "3\n",
      "5\n",
      "8\n",
      "13\n",
      "21\n",
      "34\n"
     ]
    }
   ],
   "source": [
    "def fib(n):\n",
    "    if n == 0:\n",
    "        return 0\n",
    "    elif n == 1:\n",
    "        return 1\n",
    "    else:\n",
    "        return fib(n - 1) + fib(n - 2)\n",
    "\n",
    "for i in range(10): \n",
    "    print(fib(i))"
   ]
  },
  {
   "cell_type": "markdown",
   "metadata": {
    "slideshow": {
     "slide_type": "slide"
    }
   },
   "source": [
    "## Recursion Could be Quite Inefficient\n",
    "\n",
    "Even if you can formulate a problem in recursive terms, it does not mean that recursion is the most efficient way to solve it."
   ]
  },
  {
   "cell_type": "markdown",
   "metadata": {},
   "source": [
    "- importing a time module\n",
    "- import functio nof time, confusing because same name, from module time, import function time, gives you the current time on my machine\n",
    "- recursion is much slower and this is even for smaller numbers, might take longer because at every step you increase the number by 1 you double the existing number of threats you have, every single call amkes two new threats, get binary tree at every call, you double the existing number of calls, thus exponential growth, just awful for memory for any kind of data \n",
    "\n",
    "- any recursive algorithm can always be solved using iteration: if recursive solution, then can always find iterative solution\n",
    "- recursion opaque to most programmers, can show off at interview, but use it more sparingly in your work"
   ]
  },
  {
   "cell_type": "code",
   "execution_count": 7,
   "metadata": {
    "slideshow": {
     "slide_type": "-"
    }
   },
   "outputs": [],
   "source": [
    "def fib_rec(n):\n",
    "    if n == 0:\n",
    "        return 0\n",
    "    elif n == 1:\n",
    "        return 1\n",
    "    else:\n",
    "        return fib_rec(n - 1) + fib_rec(n - 2)\n",
    "\n",
    "\n",
    "def fib_ite(n):    \n",
    "    first = 0\n",
    "    second = 1\n",
    "    for i in range(n):\n",
    "        old_first = first # remember what first was\n",
    "        first = second # shift the first forward\n",
    "        second = old_first + first # estimate the new second\n",
    "    return first"
   ]
  },
  {
   "cell_type": "markdown",
   "metadata": {
    "slideshow": {
     "slide_type": "slide"
    }
   },
   "source": [
    "## Comparing the Execution Time"
   ]
  },
  {
   "cell_type": "code",
   "execution_count": 4,
   "metadata": {
    "slideshow": {
     "slide_type": "-"
    }
   },
   "outputs": [
    {
     "name": "stdout",
     "output_type": "stream",
     "text": [
      "Recursion: 1.228182077407837 seconds\n",
      "Iteration: 4.8160552978515625e-05 seconds\n",
      "True\n"
     ]
    }
   ],
   "source": [
    "from time import time\n",
    "\n",
    "start_time = time()\n",
    "fib33_rec = fib_rec(33)\n",
    "print('Recursion:', (time() - start_time), 'seconds')\n",
    "\n",
    "start_time = time()\n",
    "fib33_ite = fib_ite(33)\n",
    "print('Iteration:', (time() - start_time), 'seconds')\n",
    "\n",
    "print(fib33_rec == fib33_ite) "
   ]
  },
  {
   "cell_type": "markdown",
   "metadata": {
    "slideshow": {
     "slide_type": "fragment"
    }
   },
   "source": [
    "An alternative way to do this is with the `timeit` module. By default, it runs the code snippet 1,000,000 times and then returns the execution time."
   ]
  },
  {
   "cell_type": "code",
   "execution_count": 15,
   "metadata": {
    "slideshow": {
     "slide_type": "-"
    }
   },
   "outputs": [
    {
     "name": "stdout",
     "output_type": "stream",
     "text": [
      "Recursion: 2.6662395560015284\n",
      "Iteration: 0.44653458399989177\n"
     ]
    }
   ],
   "source": [
    "from timeit import timeit\n",
    "\n",
    "print('Recursion:', timeit(\"fib_rec(6)\", setup=\"from __main__ import fib_rec\"))\n",
    "print('Iteration:', timeit(\"fib_ite(6)\", setup=\"from __main__ import fib_ite\"))"
   ]
  },
  {
   "cell_type": "markdown",
   "metadata": {
    "slideshow": {
     "slide_type": "slide"
    }
   },
   "source": [
    "## The Fibonacci Numbers: The Number of Recursive Calls Increases Exponentially with `n`\n",
    "\n",
    "![Fibonacci](figs/fibonacci.png \"Fibonacci\")"
   ]
  },
  {
   "cell_type": "markdown",
   "metadata": {
    "slideshow": {
     "slide_type": "-"
    }
   },
   "source": [
    "The calls form a binary tree because there are two recursive self-calls."
   ]
  },
  {
   "cell_type": "markdown",
   "metadata": {
    "slideshow": {
     "slide_type": "slide"
    }
   },
   "source": [
    "## Any Recursive Algorithm Can Be Transformed into an Iterative One! \n",
    "\n",
    "![Recursion and iteration](figs/recursion_iteration.jpg \"Recursion and iteration\")"
   ]
  },
  {
   "cell_type": "markdown",
   "metadata": {
    "slideshow": {
     "slide_type": "slide"
    }
   },
   "source": [
    "## Recursion and Efficiency: Exercise\n",
    "\n",
    "Place the functions `bisec_search()` and `bisec_search_rec()` we presented above in a module called `bisec`. Then use the `timeit()` function from the `timeit` module in the cell below to compare the performance of these two functions, calling them from the module."
   ]
  },
  {
   "cell_type": "markdown",
   "metadata": {},
   "source": [
    "practice tidying your code, put it in module, put them in module, new file in VS Code, save it in location from where your current file is saved"
   ]
  },
  {
   "cell_type": "code",
   "execution_count": null,
   "metadata": {
    "slideshow": {
     "slide_type": "-"
    }
   },
   "outputs": [],
   "source": []
  },
  {
   "cell_type": "markdown",
   "metadata": {
    "slideshow": {
     "slide_type": "slide"
    }
   },
   "source": [
    "## Functions\n",
    "\n",
    "Functions provide **abstraction** and **decomposition**:\n",
    "\n",
    "* Break large problems into smaller ones\n",
    "* Hide the gory implementation details\n",
    "* Present elementary building blocks that can be recombined to solve new problems\n",
    "* Improve code legibility\n",
    "* Enable collaboration\n"
   ]
  },
  {
   "cell_type": "markdown",
   "metadata": {},
   "source": [
    "- functions sometimes improve legibility, if good names espeically, allows imulatenously on different parts of the programme\n",
    "- next week another decomposition and abstraction using classses "
   ]
  },
  {
   "cell_type": "markdown",
   "metadata": {
    "slideshow": {
     "slide_type": "fragment"
    }
   },
   "source": [
    "-------\n",
    "\n",
    "* **Lab**: Writing and calling functions in Python; function specification\n",
    "* **Assessment**: PS2 released today, due 12:00 noon next Monday\n",
    "* **Next week**: Classes in Python"
   ]
  }
 ],
 "metadata": {
  "celltoolbar": "Slideshow",
  "kernelspec": {
   "display_name": "Python 3 (ipykernel)",
   "language": "python",
   "name": "python3"
  },
  "language_info": {
   "codemirror_mode": {
    "name": "ipython",
    "version": 3
   },
   "file_extension": ".py",
   "mimetype": "text/x-python",
   "name": "python",
   "nbconvert_exporter": "python",
   "pygments_lexer": "ipython3",
   "version": "3.12.4"
  }
 },
 "nbformat": 4,
 "nbformat_minor": 2
}
