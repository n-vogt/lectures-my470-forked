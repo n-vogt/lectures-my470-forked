{
 "cells": [
  {
   "cell_type": "markdown",
   "metadata": {
    "slideshow": {
     "slide_type": "slide"
    }
   },
   "source": [
    "### MY470 Computer Programming\n",
    "# Searching and Sorting Algorithms\n",
    "### Week 10 Lecture"
   ]
  },
  {
   "cell_type": "markdown",
   "metadata": {
    "slideshow": {
     "slide_type": "slide"
    }
   },
   "source": [
    "## Problem Set 5 takes place in class tomorrow!\n",
    "\n",
    "* Come to your class. Don't be late. \n",
    "* **7 questions, 25 min long**\n",
    "  * Give **Big-O for time complexity** and explain reasoning in 1-2 sentences.\n",
    "  * Last 2 questions also ask you to write a simple function (~3 lines of code each)\n",
    "* If you miss class and have not informed us **in advance** with a valid reason, we will mark your submission as **no attempt** and assign 0 to it."
   ]
  },
  {
   "cell_type": "markdown",
   "metadata": {
    "slideshow": {
     "slide_type": "slide"
    }
   },
   "source": [
    "## Overview\n",
    "\n",
    "We will practice thinking about algorithm design and complexity analysis:\n",
    "\n",
    "* Search algorithms\n",
    "    * Linear search\n",
    "    * Binary search\n",
    "* Sorting algorithms\n",
    "    * Bubble sort\n",
    "    * Selection sort\n",
    "    * Insertion sort\n",
    "    * Merge sort\n",
    "* Hashing"
   ]
  },
  {
   "cell_type": "markdown",
   "metadata": {},
   "source": [
    "- list is not hashable item? Can look up items in constant time. "
   ]
  },
  {
   "cell_type": "markdown",
   "metadata": {
    "slideshow": {
     "slide_type": "slide"
    }
   },
   "source": [
    "## Searching\n",
    "\n",
    "![Searching](figs/searching.jpg \"Searching\")\n",
    "\n",
    "* The goal is to find a specific item in a collection of items\n",
    "* The answer could be `True` or `False`, or alternatively, the precise location of the item\n",
    "* In Python, search with `in`"
   ]
  },
  {
   "cell_type": "markdown",
   "metadata": {},
   "source": [
    "- could get the index of element in the list, but what would be the method for this?\n",
    "- in to check whether element in the list"
   ]
  },
  {
   "cell_type": "code",
   "execution_count": 12,
   "metadata": {
    "slideshow": {
     "slide_type": "-"
    }
   },
   "outputs": [
    {
     "data": {
      "text/plain": [
       "True"
      ]
     },
     "execution_count": 12,
     "metadata": {},
     "output_type": "execute_result"
    }
   ],
   "source": [
    "4 in [1, 2, 3, 4, 5]"
   ]
  },
  {
   "cell_type": "markdown",
   "metadata": {
    "slideshow": {
     "slide_type": "slide"
    }
   },
   "source": [
    "## Linear/Sequential Search\n",
    "\n",
    "* Visit each item in the collection in order until you discover the item or until you run out of items"
   ]
  },
  {
   "cell_type": "code",
   "execution_count": 20,
   "metadata": {
    "collapsed": true,
    "slideshow": {
     "slide_type": "-"
    }
   },
   "outputs": [],
   "source": [
    "def linear_search(ls, e):\n",
    "    \"\"\"Assume ls is a list.\n",
    "    Return True if e is in ls, False otherwise.\n",
    "    \"\"\"\n",
    "    for i in range(len(ls)):\n",
    "        if ls[i]==e:\n",
    "            return True\n",
    "    return False\n"
   ]
  },
  {
   "cell_type": "markdown",
   "metadata": {},
   "source": [
    "- no other way but to visit every element in the list until we find it, iterating over each item\n",
    "- using indexing might not be the best option, VS gives us the location of where the element is instead of just true or false \n",
    "- time complexity: O(n) where n is the length of the list ls, hte longer our list is the more time we require to go through the entire list\n",
    "- space complexity: no new variables created, thus constant O(1)"
   ]
  },
  {
   "cell_type": "markdown",
   "metadata": {
    "slideshow": {
     "slide_type": "fragment"
    }
   },
   "source": [
    "### Exercise 1: What is the time and space complexity of linear search?"
   ]
  },
  {
   "cell_type": "markdown",
   "metadata": {
    "slideshow": {
     "slide_type": "slide"
    }
   },
   "source": [
    "## Binary Search\n",
    "\n",
    "*Example of divide and conquer strategy – break the problem into smaller pieces, solve the smaller pieces, and then reassemble to get the result*\n",
    "\n",
    "\n",
    "* Assume search space is sorted\n",
    "* Start from the middle\n",
    "    * If the item is the one we are searching for, we are done\n",
    "    * If the item is larger than the one we are searching for, eliminate the upper half and repeat the search in the lower half\n",
    "    * If the item is smaller than the one we are searching for, eliminate the lower half and repeat the search in the upper half\n"
   ]
  },
  {
   "cell_type": "markdown",
   "metadata": {},
   "source": [
    "-  we can do better than sequential serach under one condition: the data is sorted\n",
    "- we introduced binary search as bisection search\n",
    "- start form th emiddle, check that element, otherwise can assesss whether element is larger or smaller, if larger then ignore everything that is above = divide and conquer strategy\n",
    "- solve each smaller problem, reassemble -> naturally implemented as a recursive function"
   ]
  },
  {
   "cell_type": "markdown",
   "metadata": {
    "slideshow": {
     "slide_type": "slide"
    }
   },
   "source": [
    "## Binary Search"
   ]
  },
  {
   "cell_type": "code",
   "execution_count": 9,
   "metadata": {
    "collapsed": true,
    "slideshow": {
     "slide_type": "-"
    }
   },
   "outputs": [],
   "source": [
    "# binary_search() is called a \"wrapper function\" –\n",
    "# it hides the implementation details\n",
    "def binary_search(ls, e):\n",
    "    \"\"\"Assume ls is a list with its elements in ascending order.\n",
    "    Return True if e is in ls, False otherwise.\n",
    "    \"\"\"\n",
    "    \n",
    "    def b_search(ls, e, low, high):\n",
    "        # Decrement high - low\n",
    "        if high==low: # only one item left\n",
    "            return ls[low]==e\n",
    "        mid = (low + high)//2\n",
    "        \n",
    "        # Check if the item is at the midpoint\n",
    "        if ls[mid]==e:\n",
    "            return True\n",
    "        # If the item is smaller than the midpoint, search in the lower half \n",
    "        elif ls[mid] > e:\n",
    "            if low==mid: # no items left\n",
    "                return False\n",
    "            else:\n",
    "                return b_search(ls, e, low, mid - 1)\n",
    "        # If the item is larger than the midpoint, search in the higher half \n",
    "        else:\n",
    "            return b_search(ls, e, mid + 1, high)\n",
    "        \n",
    "    if len(ls)==0:\n",
    "        return False\n",
    "    else:\n",
    "        return b_search(ls, e, 0, len(ls) - 1)\n",
    "    "
   ]
  },
  {
   "cell_type": "markdown",
   "metadata": {},
   "source": [
    "- extra steps to account for not skipping any item\n",
    "- integer division\n",
    "- purpose it to not skip any item\n",
    "- looking for particuar value contianed in a list ,have to be careful with the index to ensure we dont miss anything\n",
    "- outere function = wrapper function\n",
    "    - hides the implementation detail\n",
    "    - the recursive function requires to be specified with an interval but the user should not care how it is implemented hides implementation details, that is the only purpose it serves\n",
    "    - why specifying argumetns for the helper function if not dependent on user input?\n",
    "- time complexity of binary search: log n: at every step halfing the range we are looking for, if we double the data, we only need one extra step, the steps at which we are reducing are larger than ... where n is the length of the list\n",
    "    - search does not depend on e unless E IS A STRING, when comparing string to another string or if another list, have to compare every element in this object, then it has a loop in it too\n",
    "    - without makign assumption that e is particular type, techncially have to also express it as a function of e, if it has its own sub elemetns, big O of n*e where n is lenght of list and e is lenght of element e in cases when e is some kind of sequence \n",
    "    - BECAUSE NO SPECIFICAOITN OF WHAT E IS, n * log n, log n attemps where we compare the length of e thus O(n*log n)\n",
    "    - NO AMBIGUITIES IN THE QUIZ\n",
    "    - converse: \n",
    "    - steps are changing, if large data, when halving much larger amount of data removed\n",
    "- space copmlexity: recursive function -> at the bottom of recursive tree how many threads you have opened up, until we get to the bottom we ahve log n \n",
    "threads, thus here space complexity is also log n, BE CAREFUL WITH SPACE COMPLEXITY FOR RECURSIVE FUNCTIONS"
   ]
  },
  {
   "cell_type": "markdown",
   "metadata": {
    "slideshow": {
     "slide_type": "fragment"
    }
   },
   "source": [
    "### Exercise 2: What is the time and space complexity of binary search?"
   ]
  },
  {
   "cell_type": "markdown",
   "metadata": {
    "slideshow": {
     "slide_type": "slide"
    }
   },
   "source": [
    "## When to Sort and Use Binary Search\n",
    "\n",
    "* Best if searching needs to be done many times\n",
    "* For small $n$, the additional cost of sorting is likely not worth it\n",
    "* For large $n$, sorting may be too expensive and ultimately, sequential search may be preferable\n"
   ]
  },
  {
   "cell_type": "markdown",
   "metadata": {},
   "source": [
    "binary search search or sort and then do linear search\n",
    "- if another searches, better way to do this with hashing\n",
    "- which one is better depends on application and data\n",
    "- linear search most of the time is good enoughh"
   ]
  },
  {
   "cell_type": "markdown",
   "metadata": {
    "slideshow": {
     "slide_type": "slide"
    }
   },
   "source": [
    "## Sorting\n",
    "\n",
    "![Sorting](figs/sorting.jpg \"Sorting\")\n",
    "\n",
    "* The goal is to place items from a collection in some kind of order\n",
    "* Sorting requires two operations:\n",
    "    * Compare values\n",
    "    * Exchange values if they are not in the correct order\n",
    "* The efficiency of a sorting algorithm depends on the total number of comparisons and exchanges\n"
   ]
  },
  {
   "cell_type": "markdown",
   "metadata": {},
   "source": [
    "- .sort: in place, without creating new list\n",
    "- sorted(): call it not just on lists but any kind of seq or string\n",
    "    - we get new object that is sorted, either list or other object type\n",
    "- they are in order of runtime efficiency"
   ]
  },
  {
   "cell_type": "code",
   "execution_count": 1,
   "metadata": {
    "slideshow": {
     "slide_type": "-"
    }
   },
   "outputs": [
    {
     "name": "stdout",
     "output_type": "stream",
     "text": [
      "[3, 5, 1, 2, 4] [1, 2, 3, 4, 5]\n",
      "[1, 2, 3, 4, 5]\n"
     ]
    }
   ],
   "source": [
    "ls = [3, 5, 1, 2, 4]\n",
    "ls_new = sorted(ls)\n",
    "print(ls, ls_new)\n",
    "\n",
    "ls.sort()\n",
    "print(ls)"
   ]
  },
  {
   "cell_type": "markdown",
   "metadata": {
    "slideshow": {
     "slide_type": "slide"
    }
   },
   "source": [
    "## Sorting Algorithms\n",
    "\n",
    "* Bubble sort\n",
    "* Selection sort\n",
    "* Insertion sort\n",
    "* Merge sort\n"
   ]
  },
  {
   "cell_type": "markdown",
   "metadata": {
    "slideshow": {
     "slide_type": "slide"
    }
   },
   "source": [
    "## Bubble Sort\n",
    "\n",
    "![Bubble sort](figs/bubble_sort.jpg \"Bubble sort\")\n",
    "\n",
    "1. Iterate over a list and compare the item at the current position with every item in the remaining sublist; swap the items if necessary to get the correct ordering\n",
    "2. Repeat until no swaps are done\n",
    "\n",
    "[Visualization](https://visualgo.net/bn/sorting)"
   ]
  },
  {
   "cell_type": "markdown",
   "metadata": {
    "slideshow": {
     "slide_type": "slide"
    }
   },
   "source": [
    "## Bubble Sort"
   ]
  },
  {
   "cell_type": "markdown",
   "metadata": {},
   "source": [
    "- start from beginning, push back the largest element, largest bubble moving through the data\n",
    "- visualgo.net/en/sorting\n",
    "- code\n",
    "    - starts from the beginning\n",
    "    - compare element where we are with the one that follows, if our current one is larger, then we swap them\n",
    "    - with one line we reassign two values\n",
    "    - reduce the area where we iterate by one every time, the one is already sorted, look at every thing than the last one\n",
    "- time complexity: \n",
    "    - two nested loops, both of them go over some part of the data\n",
    "    - quadratic O(n**2)\n",
    "    - inner one is shorter: keep on looking at shorter segmetn of the data\n",
    "    - n is the length of the list ls\n",
    "    - a lot of non final swaps: most of the shifting is temporary that we have to do again and again, too many unnecessary operations\n",
    "- space complexity:\n",
    "    - \n",
    "- bubble sort is very inefficient, still doable"
   ]
  },
  {
   "cell_type": "code",
   "execution_count": 20,
   "metadata": {
    "collapsed": true,
    "slideshow": {
     "slide_type": "-"
    }
   },
   "outputs": [],
   "source": [
    "def bubble_sort(ls):\n",
    "    \"\"\"Assume ls is a list of elements that can be compared using >.\n",
    "    Sort ls in ascending order.\n",
    "    \"\"\"\n",
    "    \n",
    "    # Start from the whole list, reducing towards the front\n",
    "    for passnum in range(len(ls) - 1, 0, -1):\n",
    "        # Consider each of the sublists\n",
    "        for i in range(passnum):\n",
    "            if ls[i] > ls[i + 1]:\n",
    "                # Swap, pushing the larger number to the back\n",
    "                ls[i], ls[i + 1] = ls[i + 1], ls[i]\n"
   ]
  },
  {
   "cell_type": "markdown",
   "metadata": {
    "slideshow": {
     "slide_type": "fragment"
    }
   },
   "source": [
    "### Exercise 3: What is the time and space complexity of bubble sort?\n",
    "\n",
    "[Hint](https://www.youtube.com/watch?v=koMpGeZpu4Q)"
   ]
  },
  {
   "cell_type": "markdown",
   "metadata": {
    "slideshow": {
     "slide_type": "slide"
    }
   },
   "source": [
    "## Selection Sort\n",
    "\n",
    "1. Iterate over a list and look for the largest/smallest item in the remaining sublist\n",
    "2. Swap the item in the current position with the identified item"
   ]
  },
  {
   "cell_type": "markdown",
   "metadata": {},
   "source": [
    "- iterate over list, look for largest/smallest element, just want to identify it, not swap it, then swap the element \n",
    "- fewer swaps, identify what to swap and then do a swap\n",
    "- visualisation\n",
    "- going through list many times but fewer swaps\n",
    "- code\n",
    "    - inner loop: \n",
    "    - look for the element htat is larger than we have currently recorded as the max position\n",
    "    - if we encounter anything that is larger, we change what we identify as the largest element\n",
    "    - move largest element at the end, then again dont have to look at all elements again\n",
    "- time complexity: n squared\n",
    "    - no diff, still nested loops, one gets shorter and shorter but\n",
    "    - grows on the order of n squared\n",
    "- more efficient because some of the operations are outside of inner loop, thus we only do them n times rather than n squared "
   ]
  },
  {
   "cell_type": "code",
   "execution_count": 1,
   "metadata": {
    "collapsed": true,
    "slideshow": {
     "slide_type": "fragment"
    }
   },
   "outputs": [],
   "source": [
    "def selection_sort(ls):\n",
    "    \"\"\"Assume ls is a list of elements that can be compared using >.\n",
    "    Sort ls in ascending order.\n",
    "    \"\"\"\n",
    "    \n",
    "    # Consider each position, starting from the back\n",
    "    for pos in range(len(ls) - 1, 0, -1):\n",
    "        max_pos = 0\n",
    "        # Find the largest item in the sublist until this position\n",
    "        for i in range(1, pos + 1):\n",
    "            if ls[i] > ls[max_pos]:\n",
    "                max_pos = i\n",
    "        \n",
    "        # Swap the item at this position with the largest item\n",
    "        ls[pos], ls[max_pos] = ls[max_pos], ls[pos]\n"
   ]
  },
  {
   "cell_type": "markdown",
   "metadata": {
    "slideshow": {
     "slide_type": "fragment"
    }
   },
   "source": [
    "### Exercise 4: What is the time complexity of selection sort?"
   ]
  },
  {
   "cell_type": "markdown",
   "metadata": {
    "slideshow": {
     "slide_type": "slide"
    }
   },
   "source": [
    "## Insertion Sort\n",
    "\n",
    "1. Iterate over a list starting from the beginning\n",
    "2. Insert each new item into the previous sublist in order, shifting the positions of larger items by 1\n",
    "\n",
    "In essence, the algorithm maintains a sorted sublist in the lower positions of the list as it progresses one item ahead"
   ]
  },
  {
   "cell_type": "markdown",
   "metadata": {},
   "source": [
    "- every element we encounter, go back and put it into its rightful slot in the section we have already covered, lways maintaining a sorted sublist at the beginning of oru collection of our list, anything new we encounter we jsut sort it\n",
    "- visualisation\n",
    "- shift everything in the sroted list until we find the place of new addition\n",
    "- most intuitive to her, the other ones rather untuitive\n",
    "- code:\n",
    "    - can always start from the end rather than beginning, vice versa\n",
    "    - starting form the beginning\n",
    "    - current value and its position\n",
    "    - while previous elemetn is larger than current value, we move shift this element current element move it to further grab current value and start looking backwars and anything that is larger we move it further, once we encounter that is smaller than current value, then we have position where we should assign our value\n",
    "- again two loops, still n squared ASK CHAT GPT WHY, on the order of the length of the list\n",
    "- performance: better often, better than selection sort, dont have swaps, no mutual assignment, often data we work with is partially sorted\n",
    "- merge sort is the one oyu will be using, using none of the one above\n",
    "- except for binary search, you will never have to write your own sorting algorithms\n",
    "    - sometimes optimisations for certain data, but in general just covering hwo you learn to evaluate solutions"
   ]
  },
  {
   "cell_type": "code",
   "execution_count": 25,
   "metadata": {
    "collapsed": true,
    "slideshow": {
     "slide_type": "fragment"
    }
   },
   "outputs": [],
   "source": [
    "def insertion_sort(ls):\n",
    "    \"\"\"Assume ls is a list of elements that can be compared using >.\n",
    "    Sort ls in ascending order.\n",
    "    \"\"\"\n",
    "    \n",
    "    for i in range(1, len(ls)):\n",
    "        currentvalue = ls[i]\n",
    "        pos = i\n",
    "\n",
    "        while pos > 0 and ls[pos - 1] > currentvalue:\n",
    "            ls[pos] = ls[pos - 1]\n",
    "            pos -= 1\n",
    "\n",
    "        ls[pos] = currentvalue\n"
   ]
  },
  {
   "cell_type": "markdown",
   "metadata": {
    "slideshow": {
     "slide_type": "fragment"
    }
   },
   "source": [
    "### Exercise 5: What is the time complexity of insertion sort?"
   ]
  },
  {
   "cell_type": "markdown",
   "metadata": {
    "slideshow": {
     "slide_type": "slide"
    }
   },
   "source": [
    "## Merge Sort\n",
    "\n",
    "*Example of divide and conquer strategy – break the problem into smaller pieces, solve the smaller pieces, and then reassemble to get the result*\n",
    "\n",
    "1. If the list has 0 or 1 elements, it is sorted\n",
    "2. If the list has more than 1 element, split the list in two and use merge sort on each\n",
    "3. Merge the results*\n",
    "\n",
    "\\* Merge by inspecting the first elements of the two lists and moving the smaller one to the end of the result list"
   ]
  },
  {
   "cell_type": "markdown",
   "metadata": {},
   "source": [
    "- you dont have to write it youself, difficult\n",
    "- in essence the algorithm that undelrines how implemented in python, this version is implemented in python\n",
    "- benchmarks better \n",
    "- recursive, divide and conquer strategy\n",
    "- visualisation\n",
    "- problem of sorting larger list is reduced by breaking the list down and then recombining them\n",
    "- recursive function\n",
    "    - more than one element\n",
    "    - split it int he middle and clal recursive on each sub list \n",
    "    because lsit is already sorted we dont have to compare anymore \n",
    "- this should be n log n? because that is the O for .sort and sorted(), this is what is implemented in python, they use merge sort\n",
    "- recursive tree, start from each leaf and reocmbine lsit together and order it, already sorted, recombiining is much easier, two sublists that are sorted, then start pickign by order from the two sub lists\n",
    "- time complexity: n log n\n",
    "    - //2 merge sort is called log n times. at every step splitting list in half, this is log n steps\n",
    "    - merge() is on the order of n, we have sequential loops, another loop here and there but all of these, they look at data we have and touch them but they are linear, touch elements multiple times within each sub list, touching them again ,but repeated loops rather than scaled loops adn they repeat log n times and thus n log n\n",
    "\n",
    "- you dont have to write this, cannot do better than sort(), dont have to write any of this ever\n",
    "- but possible you might get question about this for data science jobs ,interview, how much you have covered, good to have some basic understanding of this, go to visualisation and study a bit, get intuition, with recursion "
   ]
  },
  {
   "cell_type": "markdown",
   "metadata": {
    "slideshow": {
     "slide_type": "slide"
    }
   },
   "source": [
    "## Merge Sort"
   ]
  },
  {
   "cell_type": "code",
   "execution_count": 26,
   "metadata": {
    "collapsed": true,
    "slideshow": {
     "slide_type": "-"
    }
   },
   "outputs": [],
   "source": [
    "def merge_sort(ls):\n",
    "    \"\"\"Assume ls is a list. \n",
    "    Return a new sorted list with same elements as ls.\n",
    "    \"\"\"\n",
    "    \n",
    "    if len(ls) <= 1:\n",
    "        return ls[:]\n",
    "    else:\n",
    "        middle = len(ls)//2\n",
    "        left = merge_sort(ls[:middle])\n",
    "        right = merge_sort(ls[middle:])\n",
    "        return merge(left, right) # calling merge on the result, it recombines these sorted lists\n",
    "    \n",
    "    \n",
    "def merge(left, right):\n",
    "    \"\"\"Assume left and right are sorted lists.\n",
    "    Return a new sorted list containing the same elements as (left + right).\n",
    "    \"\"\"\n",
    "    \n",
    "    result = []\n",
    "    i, j = 0, 0 # keep track where we are on the right and on the left list, keep goign until one of the list depletes\n",
    "    # Inspect the first items of the two lists and append the smaller one to results\n",
    "    while i < len(left) and j < len(right):\n",
    "        if left[i] < right[j]:\n",
    "            result.append(left[i])\n",
    "            i += 1\n",
    "        else:\n",
    "            result.append(right[j])\n",
    "            j += 1\n",
    "    # Append any remaining items\n",
    "    while i < len(left):\n",
    "        result.append(left[i])\n",
    "        i += 1\n",
    "    while j < len(right):\n",
    "        result.append(right[j])\n",
    "        j += 1\n",
    "    return result\n"
   ]
  },
  {
   "cell_type": "markdown",
   "metadata": {
    "slideshow": {
     "slide_type": "fragment"
    }
   },
   "source": [
    "### The time and space complexity of merge sort\n",
    "* The time complexity of merge sort is $O(n \\log n)$. It takes $O(\\log n)$ splits and each of them requires a merge which is $O(n)$. In a merge, each item in the list will eventually be processed and placed on the sorted list, so it will take $n$ operations to get a list of size $n$\n",
    "* The space complexity is $O(n)$, as the algorithm copies the list"
   ]
  },
  {
   "cell_type": "markdown",
   "metadata": {
    "slideshow": {
     "slide_type": "slide"
    }
   },
   "source": [
    "## Hashing\n",
    "\n",
    "![Hashing](figs/hashing.jpg \"Hashing\")\n",
    "\n",
    "* A **hash table** is a collection of items that are stored in a way that makes them easy to find later\n",
    "* The goal is to design a hash table that allows us to search on the order of $O(1)$"
   ]
  },
  {
   "cell_type": "markdown",
   "metadata": {
    "slideshow": {
     "slide_type": "slide"
    }
   },
   "source": [
    "## Hash Table \n",
    "\n",
    "![Empty hash table](figs/hash_table_empty.png \"Empty hash table\")\n",
    "\n",
    "* This hash table has length 10 and is currently empty\n",
    "* Slots are named with integers starting at 0"
   ]
  },
  {
   "cell_type": "markdown",
   "metadata": {},
   "source": [
    "- need hash function that determines how to position those elements, that position is within the tabel\n",
    "- common: modulo\n",
    "    - any answer we get is within range of possible values\n",
    "    - remainder cannot be larger than the whole part\n",
    "- is 22 in my data, use hash function, see whether it is in slot 2?\n",
    "- look up time is O(1)\n",
    "    - regardless of how large your table is, always dividing osme numbers, some more operations depending on hash functions\n",
    "    - general constant look up time\n",
    "    - this is how lists and dict are imlemetned in python: , for dict and for sets that is hwo they are implemented, that is why we can look up, common pytho methods, looking up a key in a dict is, whether my key is in dict, this is constant look up time, the key is hashed, instead of searching sequential, gets the place where it should be in memory "
   ]
  },
  {
   "cell_type": "markdown",
   "metadata": {
    "slideshow": {
     "slide_type": "fragment"
    }
   },
   "source": [
    "* The **hash function** defines how you map an item to its rightful slot\n",
    "    * For example, consider **the remainder method**, `i % h`, where `h` is the size of the hash table\n",
    "        * We need to store `20`, `22`, `34`, `45`, `117`\n",
    "        * `20 % 10 = 0`\n",
    "        * `22 % 10 = 2`\n",
    "        * `34 % 10 = 4`\n",
    "        * `45 % 10 = 5`\n",
    "        * `117 % 10 = 7`\n",
    "    \n",
    "![Hash table with items](figs/hash_table_filled.png \"Hash table with items\")"
   ]
  },
  {
   "cell_type": "markdown",
   "metadata": {
    "slideshow": {
     "slide_type": "slide"
    }
   },
   "source": [
    "## Hash Table Collisions\n",
    "\n",
    "A **collision** occurs when more than one item maps to the same slot\n",
    "\n",
    "![Hash table with collision](figs/hash_table_collision.png \"Hash table with collision\")"
   ]
  },
  {
   "cell_type": "markdown",
   "metadata": {},
   "source": [
    "- come up with hash table that minimises the number of collisions, collisions increase look up time, have to use linera search within that slot to look whether the item is there\n",
    "- want to distribute data as much as possible, can avoid collissions by having large table but have blocked large memory, want nice unfiormely distributed, uniquely with not too many empty spots\n"
   ]
  },
  {
   "cell_type": "markdown",
   "metadata": {
    "slideshow": {
     "slide_type": "fragment"
    }
   },
   "source": [
    "The goal is to create a hash function that **minimizes the number of collisions, is easy to compute, and evenly distributes the items in the hash table**"
   ]
  },
  {
   "cell_type": "markdown",
   "metadata": {
    "slideshow": {
     "slide_type": "slide"
    }
   },
   "source": [
    "## Hash Functions\n",
    "\n",
    "* The **remainder method** \n",
    "    * Guarantees that the result is within the range of slot names\n",
    "    * Because of this, the modulo arithmetic is typically present in some form in all hash functions"
   ]
  },
  {
   "cell_type": "markdown",
   "metadata": {
    "slideshow": {
     "slide_type": "fragment"
    }
   },
   "source": [
    "* The **folding method** \n",
    "    * Divide the item into equal-size pieces and add them to get the hash value; then use `%`\n",
    "    * E.g. 04/12/2017 = 04 + 12 + 20 +17 = 53 % 10 = 3 (if table length is 10)"
   ]
  },
  {
   "cell_type": "markdown",
   "metadata": {
    "slideshow": {
     "slide_type": "fragment"
    }
   },
   "source": [
    "* The **mid-square method** \n",
    "    * Square the item and then extract some portion of the resulting digits to get the hash value; then use `%`\n",
    "    * E.g. 77 = 77^2 = 5929 = 92 % 10 = 2 (if table length is 10)"
   ]
  },
  {
   "cell_type": "markdown",
   "metadata": {},
   "source": [
    "- remainder method: almost always present in any hash function out there, guaranteees that any slot iwthin size of hash table\n",
    "- improvements on that \n",
    "- if data in date format, cannot divide it, have to transform it in some kind of way, for dates not all values are allowed, go beyond reasonable data we get ... what did she say here \n",
    "- folding method one way to do this \n",
    "- get as much variability without repeating values that is the goal \n",
    "- every character "
   ]
  },
  {
   "cell_type": "markdown",
   "metadata": {
    "slideshow": {
     "slide_type": "slide"
    }
   },
   "source": [
    "## Hash Functions for Strings \n",
    "\n",
    "* Map each character to an ordinal value and sum them to get the hash value; then use `%`\n",
    "* E.g. 'cat' = ord('c') + ord('a') + ord('t') = 99 + 97 + 116 = 312 % 10 = 2 (if table length is 10)"
   ]
  },
  {
   "cell_type": "markdown",
   "metadata": {},
   "source": [
    "- unique code has numeric part which is unique\n",
    "- ord() gives oyu the numeric part of any character\n",
    "- take numeric part for eachc h\n",
    "- anagrams, thus way too many collisions"
   ]
  },
  {
   "cell_type": "code",
   "execution_count": 1,
   "metadata": {
    "scrolled": true,
    "slideshow": {
     "slide_type": "-"
    }
   },
   "outputs": [
    {
     "name": "stdout",
     "output_type": "stream",
     "text": [
      "Help on built-in function ord in module builtins:\n",
      "\n",
      "ord(c, /)\n",
      "    Return the Unicode code point for a one-character string.\n",
      "\n",
      "99 97 116\n"
     ]
    },
    {
     "data": {
      "text/plain": [
       "2"
      ]
     },
     "execution_count": 1,
     "metadata": {},
     "output_type": "execute_result"
    }
   ],
   "source": [
    "help(ord)\n",
    "print(ord('c'), ord('a'), ord('t'))\n",
    "\n",
    "def hash(string, table_size):\n",
    "    summ = sum([ord(i) for i in string])\n",
    "    return summ % table_size\n",
    "\n",
    "hash('cat', 10)"
   ]
  },
  {
   "cell_type": "markdown",
   "metadata": {
    "slideshow": {
     "slide_type": "fragment"
    }
   },
   "source": [
    "* The problem is that anagrams will always map to the same slot\n",
    "* One way to fix this is to use the position of the character as a weight"
   ]
  },
  {
   "cell_type": "markdown",
   "metadata": {
    "slideshow": {
     "slide_type": "slide"
    }
   },
   "source": [
    "## Exercise 6: Hash Functions for Strings"
   ]
  },
  {
   "cell_type": "code",
   "execution_count": 1,
   "metadata": {
    "slideshow": {
     "slide_type": "-"
    }
   },
   "outputs": [
    {
     "name": "stdout",
     "output_type": "stream",
     "text": [
      "5 5\n"
     ]
    }
   ],
   "source": [
    "# Rewrite the hash function below to mutliply the ordinal value \n",
    "# for each character by the position of the character\n",
    "\n",
    "def hash(string, table_size):\n",
    "    summ = sum([ord(i) for i in string])\n",
    "    return summ % table_size\n",
    "\n",
    "print(hash('cloud', 10), hash('could', 10))"
   ]
  },
  {
   "cell_type": "markdown",
   "metadata": {
    "slideshow": {
     "slide_type": "slide"
    }
   },
   "source": [
    "## Resolving Collisions\n",
    " \n",
    "* Rehashing\n",
    "* Chaining\n"
   ]
  },
  {
   "cell_type": "markdown",
   "metadata": {},
   "source": [
    "- sometimes there will be collisions and there are ways to resolve that "
   ]
  },
  {
   "cell_type": "markdown",
   "metadata": {
    "slideshow": {
     "slide_type": "slide"
    }
   },
   "source": [
    "## Rehashing\n",
    "\n",
    "* If a collision occurs, place item into the next available empty slot (starting from the beginnning, if necessary)\n",
    "* When searching, continue **probing** until item is found or until you encounter an empty slot\n",
    "* `rehash(pos) = (pos + skip) % table_size`"
   ]
  },
  {
   "cell_type": "markdown",
   "metadata": {},
   "source": [
    "- instead of chaining, put it into the next available empty slot\n",
    "- will slightly incrase look up time because you have to do probing\n",
    "- once you encounter empty lsot when seaching, either oyu find it or empty spot that means the elemetn is not in the table\n",
    "- spread data as wide as possible but in systematic way so that youc an look for the elements mroe easily see what she said here\n",
    "- rehashing: do increase look p time but spread it out and not many slots "
   ]
  },
  {
   "cell_type": "markdown",
   "metadata": {
    "slideshow": {
     "slide_type": "fragment"
    }
   },
   "source": [
    "**Linear probing** (`skip = 1`)\n",
    "\n",
    "![Linear probing for collisions](figs/collision_linear_probing.png \"Linear probing for collisions\")"
   ]
  },
  {
   "cell_type": "markdown",
   "metadata": {
    "slideshow": {
     "slide_type": "fragment"
    }
   },
   "source": [
    "Other variants include **plus 3 probing** (`skip = 3`) and **quadratic probing** (`skip = 1, 4, 9, 16, ...`)\n",
    "        \n",
    "![Plus 3 probing for collisions](figs/collision_plus3_probing.png \"Plus 3 probing for collisions\")    \n"
   ]
  },
  {
   "cell_type": "markdown",
   "metadata": {
    "slideshow": {
     "slide_type": "slide"
    }
   },
   "source": [
    "## Chaining\n",
    "\n",
    "* If a collision occurs, still place item into the proper slot\n",
    "* When searching, use the hash function to generate the slot and then use a searching technique to find the item in the collection at that slot\n",
    "\n",
    "![Hash table with collision](figs/hash_table_collision.png \"Hash table with collision\")"
   ]
  },
  {
   "cell_type": "markdown",
   "metadata": {},
   "source": [
    "- here linear searching \n",
    "- both carry overhead\n",
    "- look up runtime depends on lambda:\n",
    "    - if much more data, there will be collisions, lambda bigger, more linear rather than constant look up time\n",
    "    - trade off between memory vs "
   ]
  },
  {
   "cell_type": "markdown",
   "metadata": {
    "collapsed": true,
    "slideshow": {
     "slide_type": "fragment"
    }
   },
   "source": [
    "* In theory, hashing provides $O(1)$ searching\n",
    "* In practice, due to collisions, the runtime depends on the **load factor**, or $\\lambda = \\frac{n}{h}$, where $n$ is the number of items and $h$ is the size of the hash table\n"
   ]
  },
  {
   "cell_type": "markdown",
   "metadata": {
    "slideshow": {
     "slide_type": "slide"
    }
   },
   "source": [
    "## Searching and Sorting Algorithms\n",
    "\n",
    "* The best sorting algorithm is $O(n \\log n)$\n",
    "* To search an ordered list, use binary search, which is $O(\\log n)$ \n",
    "* To search an unordered list, the best we can do is $O(n)$\n",
    "* In practice, sorting and binary search is not always faster than linear search\n",
    "* Use hash tables for O(1) searches"
   ]
  },
  {
   "cell_type": "markdown",
   "metadata": {},
   "source": [
    "- main goal of today: searching and sorting\n",
    "- binary search way more efficient than linear search if list is ordered, for most applications you dont have to worry about this\n",
    "- depends on how large data and how often you need to search, in practice ofte nnot worh the effort, linear serach might be good enough\n",
    "- if many searches shoudl opt for hash table, have to implement this yourself, no universal way to do this"
   ]
  },
  {
   "cell_type": "markdown",
   "metadata": {
    "slideshow": {
     "slide_type": "fragment"
    }
   },
   "source": [
    "-------\n",
    "\n",
    "* **Lab**: **Problem Set 5**, functional programming in Python\n",
    "* **Next week**: Basic tree and graph algorithms, course summary, guidance for final project"
   ]
  }
 ],
 "metadata": {
  "celltoolbar": "Slideshow",
  "kernelspec": {
   "display_name": "Python 3 (ipykernel)",
   "language": "python",
   "name": "python3"
  },
  "language_info": {
   "codemirror_mode": {
    "name": "ipython",
    "version": 3
   },
   "file_extension": ".py",
   "mimetype": "text/x-python",
   "name": "python",
   "nbconvert_exporter": "python",
   "pygments_lexer": "ipython3",
   "version": "3.12.4"
  }
 },
 "nbformat": 4,
 "nbformat_minor": 2
}
