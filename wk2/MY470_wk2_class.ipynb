{
 "cells": [
  {
   "cell_type": "markdown",
   "metadata": {
    "slideshow": {
     "slide_type": "slide"
    }
   },
   "source": [
    "## MY470 Computer Programming\n",
    "# Working with Strings and Lists in Python\n",
    "### Week 2 Lab"
   ]
  },
  {
   "cell_type": "markdown",
   "metadata": {
    "slideshow": {
     "slide_type": "slide"
    }
   },
   "source": [
    "## Variables\n",
    "\n",
    "Variables associate objects (values) with a name. Objects have types (belong to classes). Here are the rules for naming variables:\n",
    "* Variables must begin with a letter (a - z, A - Z) or underscore (_)\n",
    "* Variables can contain letters, underscore, and numbers\n",
    "\n",
    "Notes:\n",
    "- Names should be informative, dont start with underscores, but dont make them too long, use abbreviations\n",
    "- trade off beween short and readable, dont wnat too many underscores\n",
    "- if you want to define reserved words as variable, you will get an error. If you dont get an error, you are overriding something, be careful"
   ]
  },
  {
   "cell_type": "markdown",
   "metadata": {
    "slideshow": {
     "slide_type": "fragment"
    }
   },
   "source": [
    "* Watch out for reserved words and names of functions! They are highlighted differently in code to remind you of these."
   ]
  },
  {
   "cell_type": "code",
   "execution_count": 13,
   "metadata": {
    "slideshow": {
     "slide_type": "-"
    }
   },
   "outputs": [
    {
     "name": "stdout",
     "output_type": "stream",
     "text": [
      "[1, 2, 3, 4]\n",
      "[1, 2, 3, 4]\n"
     ]
    }
   ],
   "source": [
    "# List of reserved words in Python: and, as, assert, break, \n",
    "# class, continue, def, del, elif, else, except, exec, \n",
    "# finally, for, from, global, if, import, in, is, lambda, not, \n",
    "# or, pass, print, raise, return, try, while, with, yield\n",
    " \n",
    "# trial = 2\n",
    "# try = 3\n",
    "\n",
    "# Note that the error below explains what the error is, and where exactly it is located.\n",
    "\n",
    "ls = [1, 2]\n",
    "# example, function list()\n",
    "# ls vs list looks different, there is a function clalled list, if i execute \n",
    "# has redefined what this variable does list = [1, 2], then will get error if you want to use the list function then to create list out of tuple e.g. \n",
    "# list((1, 2)) list object is not callable, now have to restart the kernel, delete the code, \n",
    "\n",
    "ls = [1, 2, 3, 4]\n",
    "print(ls)\n",
    "list = [1, 2, 3, 4]\n",
    "print(list)\n",
    "# list((1, 5, 6)) # this creates an error because list object is not callable"
   ]
  },
  {
   "cell_type": "code",
   "execution_count": 23,
   "metadata": {
    "slideshow": {
     "slide_type": "fragment"
    }
   },
   "outputs": [
    {
     "name": "stdout",
     "output_type": "stream",
     "text": [
      "[1, 2, 3]\n"
     ]
    },
    {
     "ename": "TypeError",
     "evalue": "'list' object is not callable",
     "output_type": "error",
     "traceback": [
      "\u001b[1;31m---------------------------------------------------------------------------\u001b[0m",
      "\u001b[1;31mTypeError\u001b[0m                                 Traceback (most recent call last)",
      "\u001b[1;32m<ipython-input-23-e0cbabb1e82c>\u001b[0m in \u001b[0;36m<module>\u001b[1;34m\u001b[0m\n\u001b[0;32m      1\u001b[0m \u001b[1;31m#list = [1, 2, 3] # Note the color of \"list\" - Python recognizes this but you are redefining it!\u001b[0m\u001b[1;33m\u001b[0m\u001b[1;33m\u001b[0m\u001b[1;33m\u001b[0m\u001b[0m\n\u001b[0;32m      2\u001b[0m \u001b[0mprint\u001b[0m\u001b[1;33m(\u001b[0m\u001b[0mlist\u001b[0m\u001b[1;33m)\u001b[0m\u001b[1;33m\u001b[0m\u001b[1;33m\u001b[0m\u001b[0m\n\u001b[1;32m----> 3\u001b[1;33m \u001b[0mlist\u001b[0m\u001b[1;33m(\u001b[0m\u001b[1;33m(\u001b[0m\u001b[1;36m10\u001b[0m\u001b[1;33m,\u001b[0m \u001b[1;36m20\u001b[0m\u001b[1;33m,\u001b[0m \u001b[1;36m30\u001b[0m\u001b[1;33m)\u001b[0m\u001b[1;33m)\u001b[0m \u001b[1;31m# The in-built function will no longer work\u001b[0m\u001b[1;33m\u001b[0m\u001b[1;33m\u001b[0m\u001b[0m\n\u001b[0m",
      "\u001b[1;31mTypeError\u001b[0m: 'list' object is not callable"
     ]
    }
   ],
   "source": [
    "#list = [1, 2, 3] # Note the color of \"list\" - Python recognizes this but you are redefining it!\n",
    "#list((10, 20, 30)) # The in-built function will no longer work"
   ]
  },
  {
   "cell_type": "markdown",
   "metadata": {},
   "source": [
    "**If you catch such an error, delete/edit the code and restart the Kernel!** This will reload all built-in functions, so that you can use them as intended."
   ]
  },
  {
   "cell_type": "markdown",
   "metadata": {
    "slideshow": {
     "slide_type": "slide"
    }
   },
   "source": [
    "## [Style Guide for Python Code (PEP 8)](https://www.python.org/dev/peps/pep-0008/)\n",
    "\n",
    "Get familiar with the guide. We will not enforce it to the letter but expect compliance with most common-sense aspects (e.g., variable names, space around operators, line length, function documentation, ...).\n",
    "\n",
    "* 📖 Use **`UPPERCASE_WITH_UNDERSCORES`** for constants, like passwords or secret keys\n",
    "* 📖 Use **`lowercase_with_underscore`** for variable names, functions, and methods\n",
    "* 📖 Use **`UpperCamelCase`** for classes (coming in Week 5!) \n",
    "\n",
    "- **Read through this as much as you can, have not covered everything of this**\n",
    "- For variable names, use lowercase, start with lowercase, use underscores to seperate words \n",
    "    - **BUT**: Make your variables look like line 2, but this is already too long, use abbreviations, dont make names too long\n",
    "    - Use code we give you as examples\n",
    "- put space around equal signs vs R less strict about this\n",
    "- separate blocks e.g., for loading data, processing to make it more legible\n",
    "- Use comments for humans to read, explain in common words, do not have to narrate your code, explain the logic of what you are doing\n",
    "(for this week's assignment you only need 3 lines of code for solution, but later with algorithms it will be more)\n",
    "-  ==should not be more than 8 lines/characters, want to avoid scrolling, if issue with printing, dont make your lines too long==\n"
   ]
  },
  {
   "cell_type": "markdown",
   "metadata": {
    "slideshow": {
     "slide_type": "slide"
    }
   },
   "source": [
    "## Resources\n",
    "\n",
    "In addition to the Python resources online, you can query any object to get help on what methods are available"
   ]
  },
  {
   "cell_type": "code",
   "execution_count": 15,
   "metadata": {
    "slideshow": {
     "slide_type": "-"
    }
   },
   "outputs": [
    {
     "name": "stdout",
     "output_type": "stream",
     "text": [
      "Help on method_descriptor:\n",
      "\n",
      "popitem(self, /) unbound builtins.dict method\n",
      "    Remove and return a (key, value) pair as a 2-tuple.\n",
      "\n",
      "    Pairs are returned in LIFO (last-in, first-out) order.\n",
      "    Raises KeyError if the dict is empty.\n",
      "\n"
     ]
    }
   ],
   "source": [
    "dir(dict)\n",
    "help(dict.popitem)\n",
    "\n",
    "# contains anything you can do with dict, ignore for now any of these underscores, \n",
    "# if you want more information, can do help(dict.) get the methods for dict"
   ]
  },
  {
   "cell_type": "markdown",
   "metadata": {
    "slideshow": {
     "slide_type": "slide"
    }
   },
   "source": [
    "# Strings\n",
    "\n",
    "* Ordered sequences of characters ==> Can index strings\n",
    "* **Immutable** thus I cannot do mystring[4] = \"a\" that would replace what is already there\n",
    "\n",
    "- **Empty space is part of a string**\n",
    "- can use single or double quotation marks\n",
    "- Can call methods on strings, transform it\n",
    "- If you make changes, **you need to save it to a new object, otherwise it is gone**, can also overwrite our original variable to save space\n",
    "E.g.\n",
    "x = \"my string\"\n",
    "x.upper()\n",
    "x\n",
    "\n",
    "- a[::-1] -> reverses the entire string order\n",
    "- example[::-2] With the minus at the end, you start at the end, so the end is the beginning and vice versa\n",
    "- **Always check your results** \n",
    "- **always define small variable while still testing your code to test visually what is happening, count whether you have 10 elements**\n",
    "- Print function: For jupyter notebooks, only evaluates the last statement only, this is when you do not need the print function, if you want something above, you need the print function to prints this too\n",
    "    -diff between print(\"lödölagkj\") and lödölaghk if written on topc of each other"
   ]
  },
  {
   "cell_type": "code",
   "execution_count": 36,
   "metadata": {},
   "outputs": [
    {
     "data": {
      "text/plain": [
       "'ns'"
      ]
     },
     "execution_count": 36,
     "metadata": {},
     "output_type": "execute_result"
    }
   ],
   "source": [
    "a = \"my string\"\n",
    "a[::-1]\n",
    "a[-2::-4]\n",
    "\n"
   ]
  },
  {
   "cell_type": "code",
   "execution_count": 2,
   "metadata": {
    "slideshow": {
     "slide_type": "-"
    }
   },
   "outputs": [
    {
     "name": "stdout",
     "output_type": "stream",
     "text": [
      "My string\n",
      "s\n",
      " \n",
      "g\n",
      "My s\n",
      "y strin\n",
      "M tig\n",
      "git M\n"
     ]
    }
   ],
   "source": [
    "x = 'my string'\n",
    "\n",
    "# Capitalises the first character (chr) of the string\n",
    "x = x.capitalize()\n",
    "\n",
    "# prints the string\n",
    "print(x)\n",
    "\n",
    "# prints the chr at index 3\n",
    "print(x[3])\n",
    "print(x[2]) # EMPTY WHITE SPACE IS PART OF THE STRING, THUS HERE IT PRINTS ONLY WHITE SPACE\n",
    "\n",
    "# prints the last chr\n",
    "print(x[-1])\n",
    "\n",
    "# print a range \n",
    "# NOTE: not inclusive of the last index, 4 chrs because python starts at 0\n",
    "print(x[0:4])\n",
    "\n",
    "# Index one to the last index\n",
    "# Again, not inclusive\n",
    "print(x[1:-1])\n",
    "\n",
    "# EXTENDED SLICING \n",
    "# Get every other (2) item in the string.\n",
    "print(x[::2])\n",
    "\n",
    "# Reverse steps, every other chr\n",
    "print(x[::-2])\n",
    "\n",
    "\n",
    "\n"
   ]
  },
  {
   "cell_type": "code",
   "execution_count": 42,
   "metadata": {
    "slideshow": {
     "slide_type": "slide"
    }
   },
   "outputs": [
    {
     "name": "stdout",
     "output_type": "stream",
     "text": [
      "rr ee dd\n"
     ]
    }
   ],
   "source": [
    "# Exercise 1: Make three new strings from the first and last, \n",
    "# second and second to last, and third and third to last letters \n",
    "# in the string below. Print the three strings.\n",
    "\n",
    "p = 'redder'\n",
    "# print(p[:])\n",
    "# print(p[1:-1])\n",
    "# print(p[2:-2])\n",
    "\n",
    "p1 = p[0] + p[-1]\n",
    "p2 = p[1] + p[-2]\n",
    "p3 = p[2] + p[-3]\n",
    "print(p1, p2, p3)\n",
    "\n",
    "\n"
   ]
  },
  {
   "cell_type": "code",
   "execution_count": 12,
   "metadata": {
    "slideshow": {
     "slide_type": "-"
    }
   },
   "outputs": [
    {
     "name": "stdout",
     "output_type": "stream",
     "text": [
      "['I', ' ', 'c', 'a', 'n', 'c', 'e', 'l', 'l', 'e', 'd', ' ', 'm', 'y', ' ', 't', 'r', 'a', 'v', 'e', 'l', 'l', 'i', 'n', 'g', ' ', 'p', 'l', 'a', 'n', 's', '.']\n",
      "['I', ' ', 'c', 'a', 'n', 'c', 'e', 'l', 'l', 'e', 'd', ' ', 'm', 'y', ' ', 't', 'r', 'a', 'v', 'e', 'l', 'i', 'n', 'g', ' ', 'p', 'l', 'a', 'n', 's', '.']\n",
      "['I', ' ', 'c', 'a', 'n', 'c', 'e', 'l', 'e', 'd', ' ', 'm', 'y', ' ', 't', 'r', 'a', 'v', 'e', 'l', 'i', 'n', 'g', ' ', 'p', 'l', 'a', 'n', 's', '.']\n"
     ]
    },
    {
     "data": {
      "text/plain": [
       "'I canceled my traveling plans.'"
      ]
     },
     "execution_count": 12,
     "metadata": {},
     "output_type": "execute_result"
    }
   ],
   "source": [
    "# Exercise 2: Make a new string that is the same as string1 but \n",
    "# with the 8th and 22nd characters missing.\n",
    "\n",
    "# SPACE COUNTS AS A CHARACTER IN A STRING\n",
    "# Want the first \"l\" in \"cancelled\" and the second \"l\" in \"travelling\" to be missing\n",
    "\n",
    "# SPACE COUNTS AS A CHARACTER\n",
    "# first l should be mising\n",
    "# second l in travellling should be missing\n",
    "string1 = 'I cancelled my travelling plans.'\n",
    "string1[:7] + string1[8:21] + string1[22:] # This is the efficient solution\n",
    "\n",
    "# Inefficient solution because four iterations, but if something is too compressed, then this is also not good\n",
    "ls = list(string1)\n",
    "print(ls)\n",
    "ls.pop(21) # this now also amends the index number of all other characters once 21 is removed, have re-index the second one, shifted to another position\n",
    "print(ls)\n",
    "ls.pop(7)\n",
    "print(ls)\n",
    "''.join(ls) # VS ' '.join(ls) here there is much more space between the individual characters\n",
    "# have not yet entirely understood when you start with white space and when with the name of the variable itself \n",
    "# when do you start with an empty string\n",
    "\n",
    "# Now you can see that essentially we are asking you to change \n",
    "# from British English to American English. \n",
    "# If you knew that, you could have done it another way:\n",
    "new = string1.replace('travelling', 'traveling').replace('cancelled', 'canceled')\n",
    "print(new)"
   ]
  },
  {
   "cell_type": "markdown",
   "metadata": {
    "slideshow": {
     "slide_type": "slide"
    }
   },
   "source": [
    "## String Methods\n",
    "\n",
    "* `S.upper()`\n",
    "* `S.lower()`\n",
    "* `S.capitalize()`\n",
    "* `S.find(S1)`\n",
    "* `S.replace(S1, S2)`\n",
    "* `S.strip(S1)`\n",
    "* `S.split(S1)`\n",
    "* `S.join(L)`\n",
    "\n",
    "- lstrip, rstrip and strip\n",
    "- better to break them down\n",
    "- to save changes, save it as a new variable, but if you have to keep doing this, e.g. if applying these methods over and over\n",
    "  write multiple lines for better legibiltiy and override the previous definition of the variable with your additions"
   ]
  },
  {
   "cell_type": "markdown",
   "metadata": {
    "slideshow": {
     "slide_type": "slide"
    }
   },
   "source": [
    "## Methods Can Be \"Stringed\"\n",
    "\n",
    "`sls = s.strip().replace('  ', ' ').upper().split()`\n",
    "\n",
    "**However, be aware that this may reduce the clarity of your code.**\n",
    "**3 operations of this kind max, and then new line with variable redefined or overwritten.**\n",
    "\n",
    "📖 It is largely a question of code legibility. \n",
    "\n",
    "\n",
    "⚡️ Except when you are working with large data — it is then also a question of memory."
   ]
  },
  {
   "cell_type": "code",
   "execution_count": 22,
   "metadata": {
    "scrolled": true,
    "slideshow": {
     "slide_type": "slide"
    }
   },
   "outputs": [
    {
     "data": {
      "text/plain": [
       "'This is a very badly formatted string - I would like to make it cleaner.'"
      ]
     },
     "execution_count": 22,
     "metadata": {},
     "output_type": "execute_result"
    }
   ],
   "source": [
    "# Exercise 3: Remove the trailing white space in the string below, \n",
    "# replace all double spaces with single space, and format to a sentence \n",
    "# with proper punctuation. Print the resulting string.\n",
    "\n",
    "string1 = '  this  is a very badly.  formatted string -  I would  like to make it cleaner\\n'\n",
    "#''.join(string1)\n",
    "string1.strip().capitalize().replace(\" i \", \"I \").replace(\"  \", \" \").replace(\".\",\"\") + \".\" # my solution, but better to split this up into two lines?\n",
    "\n",
    "#print(list(string1))\n",
    "#''.join(string1).strip().capitalize().replace(\".\", \"\").replace(\"  \", \" \").upper() + \".\"\n",
    "\n",
    "# Answer: This exercise asks you to practice string methods\n",
    "new = string1.strip().replace('  ', ' ').capitalize().replace('.', '') + '.'\n",
    "print(new)\n",
    "# Hmm, it looks like capitalize() makes everything in the sentence \n",
    "# lower case, which is bad for the pronoun 'I'\n",
    "# We will need to fix this.\n",
    "# Make sure you have the spaces around \"i\", as we will otherwise replace all i's \n",
    "new = new.replace(' i ', ' I ') \n",
    "print(new)\n"
   ]
  },
  {
   "cell_type": "code",
   "execution_count": 11,
   "metadata": {
    "slideshow": {
     "slide_type": "slide"
    }
   },
   "outputs": [
    {
     "name": "stdout",
     "output_type": "stream",
     "text": [
      "['apple', ' orange', ' pear', ' cherry']\n"
     ]
    }
   ],
   "source": [
    "# Exercise 4: Convert the string below to a list\n",
    "\n",
    "s = \"['apple', 'orange', 'pear', 'cherry']\"\n",
    "# print(s)\n",
    "# print(type(s)) # s is a string\n",
    "# ls = s.replace(\"'\", \"\")#.lstrip(\"[\").rstrip(\"]\").split(\", \")\n",
    "# # type(s) but we still get type str?\n",
    "# # why does splitting by the comma add those brackets on both sides that we had just gotten rid of in the earlier step?\n",
    "# print(ls)\n",
    "# type(ls) # but it is still telling me that it is a string and not a list?\n",
    "\n",
    "\n",
    "# to python this is string, to parse it into a list, how do I use the methods that python offers to make this into object into a list \n",
    "# format it into a string that you can easily split into a list, split on ,, first string would be apple, want to remove, get list of four elements, each of which is a string\n",
    "# clean it up, replace aposthrophes, before split, i want to stript it, want to l and r strip\n",
    "# replace goes through every character of the string and look for this element, once it finds something it stops, strip more efficient\n",
    "#replace replaces everything while strip only looks at the ends, r and l only at right and left hand side \n",
    "# join is the one yo call on string but the string you call it is on is the connector, join the list i am giving oyu , everythign else you metnion object and then you perform operations\n",
    "# join method only for the string, \n",
    "\n",
    "\n",
    "# HER SOLUTION\n",
    "# ls_solution = s.lstrip('[') # why are the \" at the beginning and end gone even though we have not yet removed them?\n",
    "# print(ls_solution)\n",
    "\n",
    "ls_solution=s.lstrip(\"[\").rstrip(\"]\").replace(\"'\", \"\").split(\",\")\n",
    "print(ls_solution)\n",
    "\n",
    "\n",
    "\n",
    "\n",
    "\n"
   ]
  },
  {
   "cell_type": "code",
   "execution_count": 20,
   "metadata": {
    "slideshow": {
     "slide_type": "-"
    }
   },
   "outputs": [
    {
     "name": "stdout",
     "output_type": "stream",
     "text": [
      "desserts reward\n",
      "desserts\n"
     ]
    }
   ],
   "source": [
    "# Exercise 5: Reverse the strings below.\n",
    "\n",
    "s1 = 'stressed'\n",
    "s2 = 'drawer'\n",
    "semordnilap1 = 'stressed'\n",
    "semordnilap2 = 'drawer'\n",
    "\n",
    "# Another solution is to use the extended slicing we covered in class\n",
    "# The solution is simpler and more efficient\n",
    "print(semordnilap1[::-1], semordnilap2[::-1])\n",
    "# if you want to save it, define it as a variable \n",
    "stressed_reversed = s1[::-1]\n",
    "drawer_reversed = s2[::-1]\n",
    "\n",
    "\n",
    "# Her solution\n",
    "''.join(list(reversed(s1)))\n",
    "\n",
    "# Answer: Unfortunately, strings don't have a reverse() method. \n",
    "\n",
    "# One solution is to create a list from the string, reverse the list and then join\n",
    "# new1 = ''.join(reversed(list(semordnilap1)))\n",
    "# new2 = ''.join(reversed(list(semordnilap2)))\n",
    "# print(new1, new2)\n",
    "\n",
    "new1 = ''.join(reversed(list(semordnilap1)))\n",
    "print(new1)"
   ]
  },
  {
   "cell_type": "markdown",
   "metadata": {
    "slideshow": {
     "slide_type": "slide"
    }
   },
   "source": [
    "# Lists\n",
    "\n",
    "* Ordered sequence of values\n",
    "* Mutable"
   ]
  },
  {
   "cell_type": "code",
   "execution_count": 48,
   "metadata": {
    "slideshow": {
     "slide_type": "-"
    }
   },
   "outputs": [
    {
     "name": "stdout",
     "output_type": "stream",
     "text": [
      "[1, 2, 3, 4, 5]\n"
     ]
    }
   ],
   "source": [
    "mylist = [1, 2, 3, 4]\n",
    "mylist.append(5)\n",
    "print(mylist)"
   ]
  },
  {
   "cell_type": "markdown",
   "metadata": {
    "slideshow": {
     "slide_type": "slide"
    }
   },
   "source": [
    "## List Methods\n",
    "\n",
    "* `L.append(e)`\n",
    "* `L.extend(L1)`\n",
    "* `L.insert(i, e)`\n",
    "* `L.remove(e)`\n",
    "* `L.pop(i)`\n",
    "* `L.sort()`\n",
    "* `L.reverse()`"
   ]
  },
  {
   "cell_type": "code",
   "execution_count": 53,
   "metadata": {
    "slideshow": {
     "slide_type": "slide"
    }
   },
   "outputs": [
    {
     "name": "stdout",
     "output_type": "stream",
     "text": [
      "['*', '*', '*', '*', '*', '*', '*', '*', '*', '*']\n"
     ]
    },
    {
     "data": {
      "text/plain": [
       "['x', 'x', 'x', 'x', 'x', 'x', 'x', 'x', 'x', 'x']"
      ]
     },
     "execution_count": 53,
     "metadata": {},
     "output_type": "execute_result"
    }
   ],
   "source": [
    "# Exercise 6: Use a list operation to create a list of ten elements, \n",
    "# each of which is '*'\n",
    "# use [] ot concatenate the list, surround ith\n",
    "print(list(10 * '*')) # my solution\n",
    "10 * ['x'] # solution in seminar, but why are we here not getting the clsed brackets 10 times?\n",
    "\n",
    "# Exercise 6: Use a list operation to create a list of ten elements, \n",
    "# each of which is '*'\n",
    "\n",
    "# Answer: Multiply a list with one '*' by 10\n",
    "print(10*['*'])\n"
   ]
  },
  {
   "cell_type": "code",
   "execution_count": 65,
   "metadata": {
    "slideshow": {
     "slide_type": "-"
    }
   },
   "outputs": [
    {
     "name": "stdout",
     "output_type": "stream",
     "text": [
      "['dogs', 'cows', 'rabbits', 'cats'] eat {'meat', 'grass'}\n"
     ]
    }
   ],
   "source": [
    "# Exercise 7: Assign each of the three elements in the list below \n",
    "# to three variables a, b, c\n",
    "ls = [['dogs', 'cows', 'rabbits', 'cats'], 'eat', {'meat', 'grass'}]\n",
    "a, b, c = ls[0], ls[1], ls[2]\n",
    "print(a, b, c)\n",
    "# seminar solution a, b, c = ls\n",
    "\n",
    "# Exercise 7: Assign each of the three elements in the list below \n",
    "# to three variables a, b, c\n",
    "ls = [['dogs', 'cows', 'rabbits', 'cats'], 'eat', {'meat', 'grass'}]\n",
    "\n",
    "# Answer: You can do multiple assignment in Python. \n",
    "# This is a useful way to unpack tuples and lists.\n",
    "a, b, c = ls\n",
    "print(a)\n",
    "print(b)\n",
    "print(c)\n"
   ]
  },
  {
   "cell_type": "code",
   "execution_count": 25,
   "metadata": {
    "slideshow": {
     "slide_type": "-"
    }
   },
   "outputs": [
    {
     "name": "stdout",
     "output_type": "stream",
     "text": [
      "[0, 0, 0, [1, 2, 3]]\n",
      "[1, 2, 3]\n"
     ]
    },
    {
     "data": {
      "text/plain": [
       "[0, 0, 0, [1, 2, 3, 100]]"
      ]
     },
     "execution_count": 25,
     "metadata": {},
     "output_type": "execute_result"
    }
   ],
   "source": [
    "# Exercise 8: Replace the last element in ls1 with ls2\n",
    "ls1 = [0, 0, 0, 1]\n",
    "ls2 = [1, 2, 3]\n",
    "\n",
    "ls1[3] = ls2 # my solution\n",
    "print(ls1)\n",
    "print(ls2)\n",
    "\n",
    "# Be aware of aliasing\n",
    "ls2.append(100)\n",
    "ls2\n",
    "ls1\n",
    "\n",
    "# ls.replace(1, ls2) does not work \n",
    "\n",
    "\n",
    "# want to open the repository, not hte file, all th electures, can open each individually, \n",
    "# command shift dot, shows you the hiiden files, lectures repository is git repository, these are hidden, keep version tracking, if you want o use the github capabilities, \n",
    "# have to open the whole repoistory\n",
    "# file open file, \n",
    "# can also jsut work on file but have to open repository if you want to commit and push\n",
    "# have to open the entire repository "
   ]
  },
  {
   "cell_type": "code",
   "execution_count": 37,
   "metadata": {
    "slideshow": {
     "slide_type": "slide"
    }
   },
   "outputs": [
    {
     "name": "stdout",
     "output_type": "stream",
     "text": [
      "[0, 1, 2, 3, 4, 5, 6, 7, 9]\n"
     ]
    }
   ],
   "source": [
    "# Exercise 9: Create a new list that contains only unique elements from list x\n",
    "\n",
    "x = [1, 5, 4, 5, 6, 2, 3, 2, 9, 9, 9, 0, 2, 5, 7]\n",
    "x = list(set(x)) # my solution\n",
    "# print(x)\n",
    "\n",
    "# Answer: Create a set from the list and then convert to list again. \n",
    "# Can sort, if necessary.\n",
    "unique_ls = list(set(x))\n",
    "unique_ls.sort()\n",
    "# print(unique_ls)\n",
    "\n",
    "test_ls = list(set(x))\n",
    "test_ls.sort()\n",
    "print(unique_ls)\n",
    "\n"
   ]
  },
  {
   "cell_type": "code",
   "execution_count": 21,
   "metadata": {
    "slideshow": {
     "slide_type": "-"
    }
   },
   "outputs": [],
   "source": [
    "# Exercise 10: Print the elements that occur both in list a and list b\n",
    "\n",
    "a = ['red', 'orange', 'brown', 'blue', 'purple', 'green']\n",
    "b = ['blue', 'cyan', 'green', 'pink', 'red', 'yellow']\n",
    "\n",
    "# Answer: Use sets and their intersection\n",
    "print(set(a) & set(b))"
   ]
  },
  {
   "cell_type": "code",
   "execution_count": 92,
   "metadata": {
    "slideshow": {
     "slide_type": "-"
    }
   },
   "outputs": [
    {
     "name": "stdout",
     "output_type": "stream",
     "text": [
      "0.1 6\n",
      "6\n",
      "0.1\n"
     ]
    }
   ],
   "source": [
    "# Exercise 11: Print the second smallest and the second largest numbers \n",
    "# in this list of unique numbers\n",
    "\n",
    "x = [2, 5, 0.7, 0.2, 0.1, 6, 7, 3, 1, 0, 0.3]\n",
    "x.sort()\n",
    "second_smallest, second_largest = x[1], x[-2]\n",
    "print(second_smallest, second_largest)\n",
    "\n",
    "print(second_largest),\n",
    "print(second_smallest)\n",
    "\n",
    "# Answer: This one requires some ingenuity. One solution is to identify \n",
    "# the min() and max() in the list, remove them and then do it again. \n",
    "# This would work because the numbers don't repeat.\n",
    "newx = x[:]\n",
    "newx.remove(max(x))\n",
    "newx.remove(min(x))\n",
    "print(min(newx), max(newx))\n",
    "\n",
    "# Another option is to sort the list and return the second and \n",
    "# last to second elements. Again, this would work here only because \n",
    "# there is not more than one instance of the same number in the list.\n",
    "x.sort()\n",
    "print(x[1], x[-2])\n",
    "\n",
    "# Which solution is preferable will depend on the data because sorting\n",
    "# could be computationally expensive for large lists. We will learn\n",
    "# about this in Week 10.\n"
   ]
  },
  {
   "cell_type": "code",
   "execution_count": 63,
   "metadata": {
    "slideshow": {
     "slide_type": "-"
    }
   },
   "outputs": [
    {
     "name": "stdout",
     "output_type": "stream",
     "text": [
      "[1, 2, 3, 4, 5, 'a', 'b', 'c', 'd']\n",
      "[1, 2, 3, 4, 5, 'a', 'b', 'c', 'd']\n",
      "\n",
      "[1, 2, 3, 4, 5, 'a', 'a', 'b', 'c', 'd']\n",
      "Modifying c has changed a: a = [1, 2, 3, 4, 5, 'a', 'a', 'b', 'c', 'd']\n",
      "[1, 2, 3, 4, 5, 'a', 'a', 'b', 'c', 'd', 7]\n",
      "And modifying a changes c: c = [1, 2, 3, 4, 5, 'a', 'a', 'b', 'c', 'd', 7]\n",
      "\n",
      "[1, 2, 3, 4, 5, 'a', 'b', 'c', 'd']\n",
      "Modify a but not c: a = [1, 2, 3, 4, 5, [3, 3]] , c = [1, 2, 3, 4, 5, 'a', 'b', 'c', 'd']\n"
     ]
    }
   ],
   "source": [
    "# Exercise 12: Create a new list c that contains the elements of \n",
    "# list a and b. Watch out for aliasing - you need to avoid it here.\n",
    "\n",
    "a = [1, 2, 3, 4, 5]\n",
    "b = ['a', 'b', 'c', 'd']\n",
    "c = a + b # my solution, but how woudl aliasing be relevant here?\n",
    "print(c) \n",
    "\n",
    "# Check for aliasing - no issue\n",
    "a.append(\"a\")\n",
    "print(c)\n",
    "\n",
    "print() # need some space between prints for legibility\n",
    "\n",
    "# Another way is to use the extend() method but then you need to \n",
    "# account for aliasing\n",
    "# Here is the wrong way to do it\n",
    "c = a\n",
    "c.extend(b)\n",
    "print(c)\n",
    "# Here is why it is wrong: \n",
    "print(\"Modifying c has changed a: a =\", a)\n",
    "a.append(7)\n",
    "print(a)\n",
    "print(\"And modifying a changes c: c =\", c)\n",
    "\n",
    "print() # space for legibility \n",
    "\n",
    "# Here is the right way: \n",
    "a = [1, 2, 3, 4, 5]\n",
    "b = ['a', 'b', 'c', 'd']\n",
    "c = a[:]\n",
    "c.extend(b)\n",
    "print(c)\n",
    "# Cloned, not aliased\n",
    "a.append([3, 3])\n",
    "#print(\"Modify a but not c: a =\" a \", c =\" c)\n",
    "print('Modify a but not c: a =', a, ', c =', c)\n",
    "\n",
    "\n"
   ]
  },
  {
   "cell_type": "markdown",
   "metadata": {
    "slideshow": {
     "slide_type": "slide"
    }
   },
   "source": [
    "## Problem Set 0 (Formative)\n",
    "\n",
    "* Practice string and list manipulations\n",
    "* Practice working with data\n",
    "  * Data is available in the `data` repository and you should use relative paths to access it\n",
    "    * If you do not have access to the `data` repository, you need to fill out the Moodle survey so that we can add you to the organization. Once we add you, you need to accept our invitation and then you will be able to access the data.\n",
    "  * Do not copy the data in your repository!"
   ]
  }
 ],
 "metadata": {
  "celltoolbar": "Slideshow",
  "kernelspec": {
   "display_name": "Python 3 (ipykernel)",
   "language": "python",
   "name": "python3"
  },
  "language_info": {
   "codemirror_mode": {
    "name": "ipython",
    "version": 3
   },
   "file_extension": ".py",
   "mimetype": "text/x-python",
   "name": "python",
   "nbconvert_exporter": "python",
   "pygments_lexer": "ipython3",
   "version": "3.12.4"
  }
 },
 "nbformat": 4,
 "nbformat_minor": 2
}
